{
 "cells": [
  {
   "cell_type": "code",
   "execution_count": 2,
   "metadata": {},
   "outputs": [],
   "source": [
    "import pandas as pd\n",
    "import my_utils as mu\n",
    "import json\n",
    "import logging\n",
    "import requests as req\n",
    "import time"
   ]
  },
  {
   "cell_type": "code",
   "execution_count": 8,
   "metadata": {},
   "outputs": [],
   "source": [
    "def rawdataLoader(datas: str):\n",
    "    return json.loads(datas.replace(\"'\", '\"').replace('True', '1').replace('False', '0'))"
   ]
  },
  {
   "cell_type": "code",
   "execution_count": 7,
   "metadata": {},
   "outputs": [],
   "source": [
    "with open('D:\\\\dragontail-13.8.1\\\\13.8.1\\\\data\\\\ko_KR\\\\item.json', 'rt', encoding='utf8') as f:\n",
    "    items = json.loads(f.read())"
   ]
  },
  {
   "cell_type": "code",
   "execution_count": null,
   "metadata": {},
   "outputs": [],
   "source": [
    "items['data']['3340']"
   ]
  },
  {
   "attachments": {},
   "cell_type": "markdown",
   "metadata": {},
   "source": [
    "### eventExtractor() 수정 사항"
   ]
  },
  {
   "cell_type": "code",
   "execution_count": null,
   "metadata": {},
   "outputs": [],
   "source": [
    "public = [\n",
    "    'OBJECTIVE_BOUNTY_PRESTART',\n",
    "    'GAME_END',\n",
    "    'PAUSE_END'\n",
    "]\n",
    "private = [\n",
    "    ('CHAMPION_KILL', 'killerId', int),\n",
    "    ('BUILDING_KILL', 'killerId', int),\n",
    "    ('TURRET_PLATE_DESTROYED', 'killerId', int),\n",
    "    ('ELITE_MONSTER_KILL', 'killerId', int),\n",
    "    ('CHAMPION_SPECIAL_KILL', 'killerId', int),\n",
    "    ('WARD_KILL', 'killerId', int),\n",
    "    ('WARD_PLACED', 'creatorId', int)\n",
    "]\n",
    "adder = [\n",
    "    ('CHAMPION_ASSIST', 'assistingParticipantIds', list),\n",
    "    ('CHAMPION_DEATH', 'victimId', int)\n",
    "]"
   ]
  }
 ],
 "metadata": {
  "kernelspec": {
   "display_name": "base",
   "language": "python",
   "name": "python3"
  },
  "language_info": {
   "codemirror_mode": {
    "name": "ipython",
    "version": 3
   },
   "file_extension": ".py",
   "mimetype": "text/x-python",
   "name": "python",
   "nbconvert_exporter": "python",
   "pygments_lexer": "ipython3",
   "version": "3.10.9"
  },
  "orig_nbformat": 4
 },
 "nbformat": 4,
 "nbformat_minor": 2
}
