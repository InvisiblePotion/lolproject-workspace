{
 "cells": [
  {
   "cell_type": "code",
   "execution_count": 1,
   "metadata": {},
   "outputs": [],
   "source": [
    "import pandas as pd\n",
    "import my_utils as mu\n",
    "import json"
   ]
  },
  {
   "cell_type": "code",
   "execution_count": 2,
   "metadata": {},
   "outputs": [],
   "source": [
    "missing_item = mu.getMatchDataAndTimelineByMatchId('KR_6486524488', '')"
   ]
  },
  {
   "cell_type": "code",
   "execution_count": 3,
   "metadata": {},
   "outputs": [],
   "source": [
    "missing_item = {'matches': missing_item[0], 'timeline': missing_item[1]}"
   ]
  },
  {
   "cell_type": "code",
   "execution_count": 6,
   "metadata": {},
   "outputs": [
    {
     "data": {
      "text/plain": [
       "['CHAMPION_SPECIAL_KILL',\n",
       " 'PAUSE_END',\n",
       " 'SKILL_LEVEL_UP',\n",
       " 'WARD_KILL',\n",
       " 'ELITE_MONSTER_KILL',\n",
       " 'OBJECTIVE_BOUNTY_PRESTART',\n",
       " 'GAME_END',\n",
       " 'ITEM_DESTROYED',\n",
       " 'TURRET_PLATE_DESTROYED',\n",
       " 'CHAMPION_KILL',\n",
       " 'ITEM_PURCHASED',\n",
       " 'BUILDING_KILL',\n",
       " 'WARD_PLACED',\n",
       " 'LEVEL_UP',\n",
       " 'ITEM_UNDO',\n",
       " 'ITEM_SOLD']"
      ]
     },
     "execution_count": 6,
     "metadata": {},
     "output_type": "execute_result"
    }
   ],
   "source": [
    "mu.getEventList(missing_item['timeline'])"
   ]
  },
  {
   "cell_type": "code",
   "execution_count": 7,
   "metadata": {},
   "outputs": [],
   "source": [
    "destroyed_items = [a['itemId'] for a in mu.eventExtractor(missing_item, 'ITEM_DESTROYED')]"
   ]
  },
  {
   "attachments": {},
   "cell_type": "markdown",
   "metadata": {},
   "source": [
    "### getHoldingItems() 작성중..."
   ]
  },
  {
   "attachments": {},
   "cell_type": "markdown",
   "metadata": {},
   "source": [
    "#### 'ITEM_DESTROYED' 반영 필요"
   ]
  },
  {
   "cell_type": "code",
   "execution_count": 15,
   "metadata": {},
   "outputs": [
    {
     "data": {
      "text/plain": [
       "True"
      ]
     },
     "execution_count": 15,
     "metadata": {},
     "output_type": "execute_result"
    }
   ],
   "source": [
    "tmp = 10\n",
    "0 <= tmp <= 20"
   ]
  },
  {
   "cell_type": "code",
   "execution_count": 17,
   "metadata": {},
   "outputs": [],
   "source": [
    "def getHoldingItems(raw_data_series: pd.Series, part_number: int, start_time: int=0, end_time: int=60000):\n",
    "    \n",
    "\t# 아이템 구매, 판매, 되돌리기 이벤트를 종합\n",
    "\terrs = \\\n",
    "\t\t[{'timestamp':purchased['timestamp'], 'type':purchased['type'], 'itemId':purchased['itemId']}\\\n",
    "\t\tfor purchased in list(filter(lambda x: start_time <= x['timestamp'] <= end_time, mu.eventExtractor(raw_data_series, 'ITEM_PURCHASED', part_number)))] + \\\n",
    "\t\t[{'timestamp':sold['timestamp'], 'type':sold['type'], 'itemId':sold['itemId']}\\\n",
    "\t\tfor sold in list(filter(lambda x: start_time <= x['timestamp'] <= end_time, mu.eventExtractor(raw_data_series, 'ITEM_SOLD', part_number)))] + \\\n",
    "\t\t[{'timestamp':undo['timestamp'], 'type':undo['type'], 'beforeId':undo['beforeId'], 'afterId':undo['afterId']}\\\n",
    "\t\tfor undo in list(filter(lambda x: start_time <= x['timestamp'] <= end_time, mu.eventExtractor(raw_data_series, 'ITEM_UNDO', part_number)))]\n",
    "\n",
    "\t# timestamp로 이벤트를 시간 순 정렬\n",
    "\terrs.sort(key=lambda x: x['timestamp'])\n",
    "\n",
    "\t# 되돌리기 이벤트와 되돌려진 이벤트 제거\n",
    "\tevt_list = []\n",
    "\tfor evt in errs:\n",
    "\t\ttry:\n",
    "\t\t\tif evt['type'] == 'ITEM_PURCHASED': evt_list.append(evt)\n",
    "\t\t\telif evt['type'] == 'ITEM_SOLD': evt_list.append(evt)\n",
    "\t\t\telse: evt_list.pop() # UNDO 이벤트 발생시 최근 이벤트 제거\n",
    "\t\texcept IndexError as e:\n",
    "\t\t\tpass ### UNDO가 가장 먼저 나오는 케이스에 대한 예외 처리 및 로깅 기능 적용 예정\n",
    "\t\texcept Exception as e:\n",
    "\t\t\tpass ### 이외의 예측하지 못한 예외에 대한 로깅 기능 적용 예정\n",
    "\n",
    "\t# 정제된 이벤트 리스트로 시작 아이템을 추적하여 리턴\n",
    "\tstart_items = []\n",
    "\tfor evt in evt_list:\n",
    "\t\ttry:\n",
    "\t\t\tif evt['type'] == 'ITEM_PURCHASED': start_items.append(evt['itemId'])\n",
    "\t\t\telse: start_items.remove(evt['itemId'])\n",
    "\t\texcept ValueError as e:\n",
    "\t\t\tpass ### 구매하지 않은 아이템이 판매되는 경우에 대한 예외 처리 및 로깅 기능 적용 예정\n",
    "\t\texcept Exception as e:\n",
    "\t\t\tpass ### 이외의 예측하지 못한 예외에 대한 로깅 기능 적용 예정\n",
    "\treturn start_items"
   ]
  },
  {
   "cell_type": "code",
   "execution_count": 10,
   "metadata": {},
   "outputs": [],
   "source": [
    "part = 2\n",
    "until = 600000\n",
    "errs = \\\n",
    "    [{'timestamp':purchased['timestamp'], 'type':purchased['type'], 'itemId':purchased['itemId']}\\\n",
    "    for purchased in list(filter(lambda x: x['timestamp'] <= until, mu.eventExtractor(missing_item, 'ITEM_PURCHASED', part)))] + \\\n",
    "    [{'timestamp':sold['timestamp'], 'type':sold['type'], 'itemId':sold['itemId']}\\\n",
    "    for sold in list(filter(lambda x: x['timestamp'] <= until, mu.eventExtractor(missing_item, 'ITEM_SOLD', part)))] + \\\n",
    "    [{'timestamp':undo['timestamp'], 'type':undo['type'], 'beforeId':undo['beforeId'], 'afterId':undo['afterId']}\\\n",
    "    for undo in list(filter(lambda x: x['timestamp'] <= until, mu.eventExtractor(missing_item, 'ITEM_UNDO', part)))] + \\\n",
    "    [{'timestamp':destroyed['timestamp'], 'type':destroyed['type'], 'itemId':destroyed['itemId']}\\\n",
    "    for destroyed in list(filter(lambda x: x['timestamp'] <= until, mu.eventExtractor(missing_item, 'ITEM_DESTROYED', part)))]\n",
    "errs.sort(key=lambda x: x['timestamp'])"
   ]
  },
  {
   "cell_type": "code",
   "execution_count": 11,
   "metadata": {},
   "outputs": [
    {
     "data": {
      "text/plain": [
       "[{'timestamp': 14054, 'type': 'ITEM_PURCHASED', 'itemId': 1103},\n",
       " {'timestamp': 14492, 'type': 'ITEM_PURCHASED', 'itemId': 3340},\n",
       " {'timestamp': 14726, 'type': 'ITEM_PURCHASED', 'itemId': 2003},\n",
       " {'timestamp': 54583, 'type': 'ITEM_PURCHASED', 'itemId': 3364},\n",
       " {'timestamp': 54583, 'type': 'ITEM_DESTROYED', 'itemId': 3340},\n",
       " {'timestamp': 176212, 'type': 'ITEM_DESTROYED', 'itemId': 2003},\n",
       " {'timestamp': 243463, 'type': 'ITEM_PURCHASED', 'itemId': 3158},\n",
       " {'timestamp': 249741, 'type': 'ITEM_PURCHASED', 'itemId': 2055},\n",
       " {'timestamp': 249774, 'type': 'ITEM_PURCHASED', 'itemId': 2055},\n",
       " {'timestamp': 318166, 'type': 'ITEM_PURCHASED', 'itemId': 1028},\n",
       " {'timestamp': 370366, 'type': 'ITEM_DESTROYED', 'itemId': 2055},\n",
       " {'timestamp': 401494, 'type': 'ITEM_DESTROYED', 'itemId': 2055},\n",
       " {'timestamp': 414627, 'type': 'ITEM_PURCHASED', 'itemId': 3067},\n",
       " {'timestamp': 414627, 'type': 'ITEM_DESTROYED', 'itemId': 1028},\n",
       " {'timestamp': 422474, 'type': 'ITEM_PURCHASED', 'itemId': 2055},\n",
       " {'timestamp': 456814, 'type': 'ITEM_DESTROYED', 'itemId': 2055}]"
      ]
     },
     "execution_count": 11,
     "metadata": {},
     "output_type": "execute_result"
    }
   ],
   "source": [
    "errs"
   ]
  },
  {
   "cell_type": "code",
   "execution_count": 19,
   "metadata": {},
   "outputs": [
    {
     "data": {
      "text/plain": [
       "[1054, 3340, 2031]"
      ]
     },
     "execution_count": 19,
     "metadata": {},
     "output_type": "execute_result"
    }
   ],
   "source": [
    "getHoldingItems(missing_item, 1)"
   ]
  },
  {
   "attachments": {},
   "cell_type": "markdown",
   "metadata": {},
   "source": [
    "### eventExtractor() 수정 사항"
   ]
  },
  {
   "cell_type": "code",
   "execution_count": null,
   "metadata": {},
   "outputs": [],
   "source": [
    "public = [\n",
    "    'OBJECTIVE_BOUNTY_PRESTART',\n",
    "    'GAME_END',\n",
    "    'PAUSE_END'\n",
    "]\n",
    "private = [\n",
    "    ('CHAMPION_KILL', 'killerId', int),\n",
    "    ('BUILDING_KILL', 'killerId', int),\n",
    "    ('TURRET_PLATE_DESTROYED', 'killerId', int),\n",
    "    ('ELITE_MONSTER_KILL', 'killerId', int),\n",
    "    ('CHAMPION_SPECIAL_KILL', 'killerId', int),\n",
    "    ('WARD_KILL', 'killerId', int),\n",
    "    ('WARD_PLACED', 'creatorId', int)\n",
    "]\n",
    "adder = [\n",
    "    ('CHAMPION_ASSIST', 'assistingParticipantIds', list),\n",
    "    ('CHAMPION_DEATH', 'victimId', int)\n",
    "]"
   ]
  }
 ],
 "metadata": {
  "kernelspec": {
   "display_name": "base",
   "language": "python",
   "name": "python3"
  },
  "language_info": {
   "codemirror_mode": {
    "name": "ipython",
    "version": 3
   },
   "file_extension": ".py",
   "mimetype": "text/x-python",
   "name": "python",
   "nbconvert_exporter": "python",
   "pygments_lexer": "ipython3",
   "version": "3.10.9"
  },
  "orig_nbformat": 4
 },
 "nbformat": 4,
 "nbformat_minor": 2
}
