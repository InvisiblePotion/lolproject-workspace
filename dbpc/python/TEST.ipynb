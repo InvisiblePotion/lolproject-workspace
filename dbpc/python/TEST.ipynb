{
 "cells": [
  {
   "cell_type": "code",
   "execution_count": 1,
   "metadata": {},
   "outputs": [],
   "source": [
    "import pandas as pd\n",
    "import my_utils as mu\n",
    "import json\n",
    "import logging\n",
    "import requests as req\n",
    "import time"
   ]
  },
  {
   "cell_type": "code",
   "execution_count": 8,
   "metadata": {},
   "outputs": [],
   "source": [
    "def rawdataLoader(datas: str):\n",
    "    return json.loads(datas.replace(\"'\", '\"').replace('True', '1').replace('False', '0'))"
   ]
  },
  {
   "attachments": {},
   "cell_type": "markdown",
   "metadata": {},
   "source": [
    "### eventExtractor() 수정 사항"
   ]
  },
  {
   "cell_type": "code",
   "execution_count": null,
   "metadata": {},
   "outputs": [],
   "source": [
    "public = [\n",
    "    'OBJECTIVE_BOUNTY_PRESTART',\n",
    "    'GAME_END',\n",
    "    'PAUSE_END'\n",
    "]\n",
    "private = [\n",
    "    ('CHAMPION_KILL', 'killerId', int),\n",
    "    ('BUILDING_KILL', 'killerId', int),\n",
    "    ('TURRET_PLATE_DESTROYED', 'killerId', int),\n",
    "    ('ELITE_MONSTER_KILL', 'killerId', int),\n",
    "    ('CHAMPION_SPECIAL_KILL', 'killerId', int),\n",
    "    ('WARD_KILL', 'killerId', int),\n",
    "    ('WARD_PLACED', 'creatorId', int)\n",
    "]\n",
    "adder = [\n",
    "    ('CHAMPION_ASSIST', 'assistingParticipantIds', list),\n",
    "    ('CHAMPION_DEATH', 'victimId', int)\n",
    "]"
   ]
  }
 ],
 "metadata": {
  "kernelspec": {
   "display_name": "base",
   "language": "python",
   "name": "python3"
  },
  "language_info": {
   "codemirror_mode": {
    "name": "ipython",
    "version": 3
   },
   "file_extension": ".py",
   "mimetype": "text/x-python",
   "name": "python",
   "nbconvert_exporter": "python",
   "pygments_lexer": "ipython3",
   "version": "3.9.13"
  },
  "orig_nbformat": 4
 },
 "nbformat": 4,
 "nbformat_minor": 2
}
