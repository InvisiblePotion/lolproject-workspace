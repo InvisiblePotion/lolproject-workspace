{
 "cells": [
  {
   "cell_type": "code",
   "execution_count": 1,
   "metadata": {},
   "outputs": [],
   "source": [
    "import requests as req\n",
    "import pandas as pd\n",
    "import json\n",
    "import my_utils as mu\n",
    "from tqdm import tqdm\n",
    "from PIL import Image\n",
    "from io import BytesIO"
   ]
  },
  {
   "cell_type": "code",
   "execution_count": null,
   "metadata": {},
   "outputs": [],
   "source": [
    "# with open('D:\\\\7_LOL Project\\\\dragontail-13.8.1\\\\13.8.1\\\\data\\\\ko_KR\\\\item.json', 'rt', encoding='utf8') as f:\n",
    "#     items = json.loads(f.read())"
   ]
  },
  {
   "cell_type": "code",
   "execution_count": 2,
   "metadata": {},
   "outputs": [],
   "source": [
    "with open('F:\\\\code\\\\LOL_Project\\\\dragontail-13.10.1\\\\13.10.1\\data\\\\ko_KR\\\\item.json', 'rt', encoding='utf8') as f:\n",
    "    items = json.loads(f.read())"
   ]
  },
  {
   "cell_type": "code",
   "execution_count": 2,
   "metadata": {},
   "outputs": [],
   "source": [
    "def rawdataLoader(datas: str):\n",
    "    return json.loads(datas.replace(\"'\", '\"'))"
   ]
  },
  {
   "cell_type": "code",
   "execution_count": 4,
   "metadata": {},
   "outputs": [],
   "source": [
    "def itemId2Name(item_id: int):\n",
    "    return items['data'][str(item_id)]['name']"
   ]
  },
  {
   "cell_type": "code",
   "execution_count": 11,
   "metadata": {},
   "outputs": [],
   "source": [
    "def itemName2Id(item_name: str):\n",
    "    for idx in items['data'].keys():\n",
    "        if items['data'][idx]['name'] == item_name: return idx"
   ]
  },
  {
   "cell_type": "code",
   "execution_count": 5,
   "metadata": {},
   "outputs": [],
   "source": [
    "def imageOpener(img_bytes: bytes):\n",
    "    return Image.open(BytesIO(img_bytes))"
   ]
  },
  {
   "cell_type": "code",
   "execution_count": 3,
   "metadata": {},
   "outputs": [],
   "source": [
    "with open('F:\\\\code\\\\LOL_Project\\\\lolproject-workspace\\\\Personlol_Project\\\\src\\\\main\\\\webapp\\\\resources\\\\dd\\\\img\\\\rune\\\\perk\\\\Scorch.png', 'rb') as f:\n",
    "    image_data = f.read()"
   ]
  },
  {
   "cell_type": "code",
   "execution_count": 18,
   "metadata": {},
   "outputs": [
    {
     "data": {
      "image/png": "[encoded data removed]",
      "text/plain": [
       "<PIL.Image.Image image mode=L size=64x64>"
      ]
     },
     "execution_count": 18,
     "metadata": {},
     "output_type": "execute_result"
    }
   ],
   "source": [
    "imageOpener(image_data).convert('L')"
   ]
  },
  {
   "cell_type": "code",
   "execution_count": 3,
   "metadata": {},
   "outputs": [],
   "source": [
    "def parseRawdata(rawdata: pd.DataFrame, parse_to: int, use_tqdm: bool=False) -> pd.DataFrame:\n",
    "    \"\"\"\n",
    "    `parse_to`: 파싱 대상 컬럼의 시작 인덱스\\n\n",
    "    `use_tqdm`: tqdm 출력의 사용 여부\n",
    "    \"\"\"\n",
    "    matches = {a:[] for a in rawdata.columns[parse_to:]}\n",
    "\n",
    "    if use_tqdm: parse_data = tqdm(rawdata.iloc)\n",
    "    else: parse_data = rawdata.iloc\n",
    "\n",
    "    for rec in parse_data:\n",
    "        for col in [a for a in rawdata.columns][parse_to:]:\n",
    "            matches[col].append(rawdataLoader(rec[col]))\n",
    "    for col in [a for a in rawdata.columns][parse_to:]:\n",
    "        rawdata[col] = matches[col]\n",
    "    return rawdata"
   ]
  },
  {
   "cell_type": "code",
   "execution_count": 4,
   "metadata": {},
   "outputs": [
    {
     "name": "stdout",
     "output_type": "stream",
     "text": [
      "oracle open!\n",
      "oracle close!\n"
     ]
    }
   ],
   "source": [
    "get_cols = [\n",
    "    'game_id', 'participant_number', 'participant_name', 'champion_id', 'lane',\n",
    "    'game', 'champion', 'spell', 'skill', 'skilltree', 'rune', 'item', 'kda', 'gold', 'cs', 'damage', 'vision']\n",
    "\n",
    "get_cols = json.dumps(get_cols).replace('[', '').replace(']', '').replace('\"', '')\n",
    "\n",
    "game_id = 'KR_6496153706'\n",
    "rawdata_sample = mu.oracle_totalExecute(f\"SELECT {get_cols} FROM RAWDATA WHERE game_id = '{game_id}'\")"
   ]
  },
  {
   "cell_type": "code",
   "execution_count": 35,
   "metadata": {},
   "outputs": [],
   "source": [
    "sample2 = parseRawdata(mu.oracle_totalExecute(\"SELECT * FROM RAWDATA WHERE ROWNUM <= 1\", debug_print=False), 10)"
   ]
  },
  {
   "cell_type": "code",
   "execution_count": 39,
   "metadata": {},
   "outputs": [
    {
     "data": {
      "text/plain": [
       "Index(['VERSION', 'GAME_CREATE_TIME', 'GAME_DURATION', 'GAME_ID',\n",
       "       'PARTICIPANT_NUMBER', 'PARTICIPANT_NAME', 'CHAMPION_ID', 'LANE',\n",
       "       'PARTICIPANT_PUUID', 'API_KEY', 'GAME', 'SUMMONER', 'CHAMPION', 'SPELL',\n",
       "       'SKILL', 'SKILLTREE', 'RUNE', 'ITEM', 'STARTITEM', 'ITEMTREE', 'KDA',\n",
       "       'GOLD', 'CS', 'TURRET', 'DAMAGE', 'VISION'],\n",
       "      dtype='object')"
      ]
     },
     "execution_count": 39,
     "metadata": {},
     "output_type": "execute_result"
    }
   ],
   "source": [
    "sample2.keys()"
   ]
  },
  {
   "cell_type": "code",
   "execution_count": null,
   "metadata": {},
   "outputs": [],
   "source": [
    "sample2['GAME'][0]"
   ]
  },
  {
   "attachments": {},
   "cell_type": "markdown",
   "metadata": {},
   "source": [
    "#### 소환사 전적 페이지 작성용 임시 참고 자료"
   ]
  },
  {
   "cell_type": "code",
   "execution_count": 5,
   "metadata": {},
   "outputs": [],
   "source": [
    "sample = parseRawdata(rawdata_sample, 5)"
   ]
  },
  {
   "cell_type": "code",
   "execution_count": 12,
   "metadata": {},
   "outputs": [
    {
     "data": {
      "text/plain": [
       "Index(['GAME_ID', 'PARTICIPANT_NUMBER', 'PARTICIPANT_NAME', 'CHAMPION_ID',\n",
       "       'LANE', 'GAME', 'CHAMPION', 'SPELL', 'SKILL', 'SKILLTREE', 'RUNE',\n",
       "       'ITEM', 'KDA', 'GOLD', 'CS', 'DAMAGE', 'VISION'],\n",
       "      dtype='object')"
      ]
     },
     "execution_count": 12,
     "metadata": {},
     "output_type": "execute_result"
    }
   ],
   "source": [
    "sample.keys()"
   ]
  },
  {
   "cell_type": "code",
   "execution_count": 27,
   "metadata": {},
   "outputs": [
    {
     "data": {
      "text/plain": [
       "{'championId': 126,\n",
       " 'championName': 'Jayce',\n",
       " 'champLevel': 15,\n",
       " 'lane': 'TOP',\n",
       " 'individualPosition': 'TOP',\n",
       " 'teamPosition': 'TOP',\n",
       " 'teamId': 100,\n",
       " 'win': '0'}"
      ]
     },
     "execution_count": 27,
     "metadata": {},
     "output_type": "execute_result"
    }
   ],
   "source": [
    "sample['CHAMPION'][0]"
   ]
  }
 ],
 "metadata": {
  "kernelspec": {
   "display_name": "base",
   "language": "python",
   "name": "python3"
  },
  "language_info": {
   "codemirror_mode": {
    "name": "ipython",
    "version": 3
   },
   "file_extension": ".py",
   "mimetype": "text/x-python",
   "name": "python",
   "nbconvert_exporter": "python",
   "pygments_lexer": "ipython3",
   "version": "3.9.13"
  },
  "orig_nbformat": 4
 },
 "nbformat": 4,
 "nbformat_minor": 2
}
