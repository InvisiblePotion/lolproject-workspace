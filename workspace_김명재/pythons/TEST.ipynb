{
 "cells": [
  {
   "cell_type": "code",
   "execution_count": 1,
   "metadata": {},
   "outputs": [],
   "source": [
    "import requests as req\n",
    "import pandas as pd\n",
    "import json\n",
    "import my_utils as mu"
   ]
  },
  {
   "cell_type": "code",
   "execution_count": 3,
   "metadata": {},
   "outputs": [],
   "source": [
    "with open('D:\\\\7_LOL Project\\\\dragontail-13.8.1\\\\13.8.1\\\\data\\\\ko_KR\\\\item.json', 'rt', encoding='utf8') as f:\n",
    "    items = json.loads(f.read())"
   ]
  },
  {
   "cell_type": "code",
   "execution_count": 12,
   "metadata": {},
   "outputs": [],
   "source": [
    "def rawdataLoader(datas: str):\n",
    "    return json.loads(datas.replace(\"'\", '\"').replace('True', '1').replace('False', '0'))"
   ]
  },
  {
   "cell_type": "code",
   "execution_count": 18,
   "metadata": {},
   "outputs": [],
   "source": [
    "def itemId2Name(item_id: int):\n",
    "    return items['data'][str(item_id)]['name']"
   ]
  },
  {
   "cell_type": "code",
   "execution_count": 24,
   "metadata": {},
   "outputs": [
    {
     "name": "stdout",
     "output_type": "stream",
     "text": [
      "get SummonerName.....\n"
     ]
    },
    {
     "name": "stderr",
     "output_type": "stream",
     "text": [
      "100%|██████████| 1/1 [00:00<00:00,  2.57it/s]\n"
     ]
    },
    {
     "name": "stdout",
     "output_type": "stream",
     "text": [
      "total player:  1\n",
      "get puuid......\n"
     ]
    },
    {
     "name": "stderr",
     "output_type": "stream",
     "text": [
      "100%|██████████| 1/1 [00:00<00:00,  3.72it/s]\n"
     ]
    },
    {
     "name": "stdout",
     "output_type": "stream",
     "text": [
      "passed player:  0\n",
      "get match_id...\n"
     ]
    },
    {
     "name": "stderr",
     "output_type": "stream",
     "text": [
      "100%|██████████| 1/1 [00:00<00:00,  2.74it/s]\n"
     ]
    },
    {
     "name": "stdout",
     "output_type": "stream",
     "text": [
      "get matches & timeline.....\n"
     ]
    },
    {
     "name": "stderr",
     "output_type": "stream",
     "text": [
      "100%|██████████| 1/1 [00:00<00:00,  1.18it/s]"
     ]
    },
    {
     "name": "stdout",
     "output_type": "stream",
     "text": [
      "complete!\n"
     ]
    },
    {
     "name": "stderr",
     "output_type": "stream",
     "text": [
      "\n"
     ]
    }
   ],
   "source": [
    "sample = mu.getSampleData('platinum', 4, 1, 'RGAPI-baa753a4-a532-4640-9886-d8f05d8f2b39')"
   ]
  },
  {
   "cell_type": "code",
   "execution_count": 2,
   "metadata": {},
   "outputs": [],
   "source": [
    "missing_game = mu.getMatchDataAndTimelineByMatchId('KR_6483779610', 'RGAPI-baa753a4-a532-4640-9886-d8f05d8f2b39')\n",
    "missing_game = {'matches':missing_game[0], 'timeline':missing_game[1]}"
   ]
  },
  {
   "cell_type": "code",
   "execution_count": 7,
   "metadata": {},
   "outputs": [
    {
     "data": {
      "text/plain": [
       "{'12AssistStreakCount': 0,\n",
       " 'abilityUses': 4,\n",
       " 'acesBefore15Minutes': 0,\n",
       " 'alliedJungleMonsterKills': 0,\n",
       " 'baronTakedowns': 0,\n",
       " 'blastConeOppositeOpponentCount': 0,\n",
       " 'bountyGold': 0,\n",
       " 'buffsStolen': 0,\n",
       " 'completeSupportQuestInTime': 0,\n",
       " 'controlWardsPlaced': 0,\n",
       " 'damagePerMinute': 0,\n",
       " 'damageTakenOnTeamPercentage': 0.30048549951153647,\n",
       " 'dancedWithRiftHerald': 0,\n",
       " 'deathsByEnemyChamps': 0,\n",
       " 'dodgeSkillShotsSmallWindow': 0,\n",
       " 'doubleAces': 0,\n",
       " 'dragonTakedowns': 0,\n",
       " 'effectiveHealAndShielding': 0,\n",
       " 'elderDragonKillsWithOpposingSoul': 0,\n",
       " 'elderDragonMultikills': 0,\n",
       " 'enemyChampionImmobilizations': 0,\n",
       " 'enemyJungleMonsterKills': 0,\n",
       " 'epicMonsterKillsNearEnemyJungler': 0,\n",
       " 'epicMonsterKillsWithin30SecondsOfSpawn': 0,\n",
       " 'epicMonsterSteals': 0,\n",
       " 'epicMonsterStolenWithoutSmite': 0,\n",
       " 'firstTurretKilled': 0,\n",
       " 'flawlessAces': 0,\n",
       " 'fullTeamTakedown': 0,\n",
       " 'gameLength': 111.5452291852307,\n",
       " 'getTakedownsInAllLanesEarlyJungleAsLaner': 0,\n",
       " 'goldPerMinute': 271.35897294057276,\n",
       " 'hadOpenNexus': 0,\n",
       " 'immobilizeAndKillWithAlly': 0,\n",
       " 'initialBuffCount': 0,\n",
       " 'initialCrabCount': 0,\n",
       " 'jungleCsBefore10Minutes': 0,\n",
       " 'junglerTakedownsNearDamagedEpicMonster': 0,\n",
       " 'kTurretsDestroyedBeforePlatesFall': 0,\n",
       " 'kda': 0,\n",
       " 'killAfterHiddenWithAlly': 0,\n",
       " 'killedChampTookFullTeamDamageSurvived': 0,\n",
       " 'killingSprees': 0,\n",
       " 'killsNearEnemyTurret': 0,\n",
       " 'killsOnOtherLanesEarlyJungleAsLaner': 0,\n",
       " 'killsOnRecentlyHealedByAramPack': 0,\n",
       " 'killsUnderOwnTurret': 0,\n",
       " 'killsWithHelpFromEpicMonster': 0,\n",
       " 'knockEnemyIntoTeamAndKill': 0,\n",
       " 'landSkillShotsEarlyGame': 0,\n",
       " 'laneMinionsFirst10Minutes': 0,\n",
       " 'legendaryCount': 0,\n",
       " 'lostAnInhibitor': 0,\n",
       " 'maxKillDeficit': 0,\n",
       " 'mejaisFullStackInTime': 0,\n",
       " 'moreEnemyJungleThanOpponent': 0,\n",
       " 'multiKillOneSpell': 0,\n",
       " 'multiTurretRiftHeraldCount': 0,\n",
       " 'multikills': 0,\n",
       " 'multikillsAfterAggressiveFlash': 0,\n",
       " 'outerTurretExecutesBefore10Minutes': 0,\n",
       " 'outnumberedKills': 0,\n",
       " 'outnumberedNexusKill': 0,\n",
       " 'perfectDragonSoulsTaken': 0,\n",
       " 'perfectGame': 1,\n",
       " 'pickKillWithAlly': 0,\n",
       " 'poroExplosions': 0,\n",
       " 'quickCleanse': 0,\n",
       " 'quickFirstTurret': 0,\n",
       " 'quickSoloKills': 0,\n",
       " 'riftHeraldTakedowns': 0,\n",
       " 'saveAllyFromDeath': 0,\n",
       " 'scuttleCrabKills': 0,\n",
       " 'skillshotsDodged': 0,\n",
       " 'skillshotsHit': 0,\n",
       " 'snowballsHit': 0,\n",
       " 'soloBaronKills': 0,\n",
       " 'soloKills': 0,\n",
       " 'stealthWardsPlaced': 0,\n",
       " 'survivedSingleDigitHpCount': 0,\n",
       " 'survivedThreeImmobilizesInFight': 0,\n",
       " 'takedownOnFirstTurret': 0,\n",
       " 'takedowns': 0,\n",
       " 'takedownsAfterGainingLevelAdvantage': 0,\n",
       " 'takedownsBeforeJungleMinionSpawn': 0,\n",
       " 'takedownsFirstXMinutes': 0,\n",
       " 'takedownsInAlcove': 0,\n",
       " 'takedownsInEnemyFountain': 0,\n",
       " 'teamBaronKills': 0,\n",
       " 'teamDamagePercentage': 0,\n",
       " 'teamElderDragonKills': 0,\n",
       " 'teamRiftHeraldKills': 0,\n",
       " 'threeWardsOneSweeperCount': 0,\n",
       " 'tookLargeDamageSurvived': 0,\n",
       " 'turretPlatesTaken': 0,\n",
       " 'turretTakedowns': 0,\n",
       " 'turretsTakenWithRiftHerald': 0,\n",
       " 'twentyMinionsIn3SecondsCount': 0,\n",
       " 'unseenRecalls': 0,\n",
       " 'visionScorePerMinute': 0,\n",
       " 'wardTakedowns': 0,\n",
       " 'wardTakedownsBefore20M': 0,\n",
       " 'wardsGuarded': 0}"
      ]
     },
     "execution_count": 7,
     "metadata": {},
     "output_type": "execute_result"
    }
   ],
   "source": [
    "missing_game['matches']['info']['participants'][0]['challenges']['kill']"
   ]
  }
 ],
 "metadata": {
  "kernelspec": {
   "display_name": "base",
   "language": "python",
   "name": "python3"
  },
  "language_info": {
   "codemirror_mode": {
    "name": "ipython",
    "version": 3
   },
   "file_extension": ".py",
   "mimetype": "text/x-python",
   "name": "python",
   "nbconvert_exporter": "python",
   "pygments_lexer": "ipython3",
   "version": "3.9.13"
  },
  "orig_nbformat": 4
 },
 "nbformat": 4,
 "nbformat_minor": 2
}
