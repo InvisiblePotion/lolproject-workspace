{
 "cells": [
  {
   "cell_type": "code",
   "execution_count": 3,
   "metadata": {},
   "outputs": [],
   "source": [
    "import os\n",
    "import my_utils as mu"
   ]
  },
  {
   "cell_type": "code",
   "execution_count": 4,
   "metadata": {},
   "outputs": [],
   "source": [
    "champ_data = mu.oracle_totalExecute('SELECT CHAMP_ID, CHAMP_KEY FROM CHAMPDATA ORDER BY CHAMP_KEY', debug_print=False)"
   ]
  },
  {
   "cell_type": "code",
   "execution_count": 20,
   "metadata": {},
   "outputs": [],
   "source": [
    "icon_path = 'D:\\\\7_LOL Project\\\\lolproject-workspace\\\\Personlol_Project\\\\src\\\\main\\\\webapp\\\\resources\\\\dd\\\\img\\\\champion\\\\icon\\\\'"
   ]
  },
  {
   "cell_type": "code",
   "execution_count": 29,
   "metadata": {},
   "outputs": [],
   "source": [
    "icon_list = os.listdir(icon_path)"
   ]
  },
  {
   "cell_type": "code",
   "execution_count": 42,
   "metadata": {},
   "outputs": [],
   "source": [
    "for icon in icon_list:\n",
    "    os.rename(icon_path+icon, champ_data[champ_data['CHAMP_KEY']==icon[:-4]]['CHAMP_ID'].values[0].__str__()+'.png')"
   ]
  }
 ],
 "metadata": {
  "kernelspec": {
   "display_name": "base",
   "language": "python",
   "name": "python3"
  },
  "language_info": {
   "codemirror_mode": {
    "name": "ipython",
    "version": 3
   },
   "file_extension": ".py",
   "mimetype": "text/x-python",
   "name": "python",
   "nbconvert_exporter": "python",
   "pygments_lexer": "ipython3",
   "version": "3.9.13"
  },
  "orig_nbformat": 4
 },
 "nbformat": 4,
 "nbformat_minor": 2
}
