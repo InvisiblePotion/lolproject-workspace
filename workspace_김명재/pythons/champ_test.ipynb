{
 "cells": [
  {
   "cell_type": "code",
   "execution_count": 47,
   "metadata": {},
   "outputs": [],
   "source": [
    "import pandas as pd\n",
    "import requests as req\n",
    "import my_utils as mu\n",
    "from tqdm import tqdm\n",
    "from PIL import Image\n",
    "from io import BytesIO\n",
    "from oracle_test import OracleTools"
   ]
  },
  {
   "cell_type": "code",
   "execution_count": 2,
   "metadata": {},
   "outputs": [],
   "source": [
    "champ = req.get('http://ddragon.leagueoflegends.com/cdn/13.8.1/data/ko_KR/champion.json').json()"
   ]
  },
  {
   "cell_type": "code",
   "execution_count": 4,
   "metadata": {},
   "outputs": [],
   "source": [
    "oracle = OracleTools('lol_data', '1234', 1521)"
   ]
  },
  {
   "cell_type": "code",
   "execution_count": null,
   "metadata": {},
   "outputs": [],
   "source": [
    "챔프 = oracle.test(\"SELECT EN_NAME FROM CHAMPNAME WHERE KR_NAME ='오른'\")[0][0]\n",
    "champ['data'][챔프]"
   ]
  },
  {
   "cell_type": "code",
   "execution_count": 48,
   "metadata": {},
   "outputs": [],
   "source": [
    "def imageOpener(img_bytes: bytes):\n",
    "    return Image.open(BytesIO(img_bytes))"
   ]
  },
  {
   "cell_type": "code",
   "execution_count": 24,
   "metadata": {},
   "outputs": [
    {
     "data": {
      "image/png": "[encoded data removed]",
      "text/plain": [
       "<PIL.PngImagePlugin.PngImageFile image mode=RGB size=64x64>"
      ]
     },
     "execution_count": 24,
     "metadata": {},
     "output_type": "execute_result"
    }
   ],
   "source": [
    "imageOpener(req.get('http://ddragon.leagueoflegends.com/cdn/13.8.1/img/spell/AatroxQ.png').content)"
   ]
  },
  {
   "cell_type": "code",
   "execution_count": 75,
   "metadata": {},
   "outputs": [],
   "source": [
    "champ_image_rev = pd.read_csv('/7_LOL Project/lolproject-workspace/workspace_이주찬/230421_Get_All_Champion_image_revision.csv').sort_values('championId', ignore_index=True).drop('Unnamed: 0', axis=1)"
   ]
  },
  {
   "cell_type": "code",
   "execution_count": 76,
   "metadata": {},
   "outputs": [],
   "source": [
    "cols = [champ_image_rev.columns[0]]+[a for a in champ_image_rev.columns[3:8]]\n",
    "champ_images = champ_image_rev[cols].rename({a:a.upper() for a in cols}, axis=1)"
   ]
  },
  {
   "cell_type": "code",
   "execution_count": 71,
   "metadata": {},
   "outputs": [],
   "source": [
    "# champ_images['SKIN_0'] = champ_images['SKIN_0'].apply(lambda x: x.split(',')[1][2:-2])"
   ]
  },
  {
   "cell_type": "code",
   "execution_count": 77,
   "metadata": {},
   "outputs": [],
   "source": [
    "champ_images['PASSIVE'] = champ_images['PASSIVE'].apply(lambda x: 'https://ddragon.leagueoflegends.com/cdn/13.8.1/img/passive/'+x)"
   ]
  },
  {
   "cell_type": "code",
   "execution_count": 78,
   "metadata": {},
   "outputs": [],
   "source": [
    "champ_images[champ_images.columns[2:6]] = champ_images[champ_images.columns[2:6]].apply(lambda x: 'https://ddragon.leagueoflegends.com/cdn/13.8.1/img/spell/'+x)"
   ]
  },
  {
   "cell_type": "code",
   "execution_count": 99,
   "metadata": {},
   "outputs": [
    {
     "data": {
      "text/plain": [
       "Index(['CHAMPIONID', 'PASSIVE', 'SPELL_Q', 'SPELL_W', 'SPELL_E', 'SPELL_R'], dtype='object')"
      ]
     },
     "execution_count": 99,
     "metadata": {},
     "output_type": "execute_result"
    }
   ],
   "source": [
    "champ_images.columns"
   ]
  },
  {
   "cell_type": "code",
   "execution_count": 97,
   "metadata": {},
   "outputs": [
    {
     "name": "stderr",
     "output_type": "stream",
     "text": [
      "163it [05:21,  1.97s/it]\n"
     ]
    }
   ],
   "source": [
    "err = []\n",
    "for i, col in tqdm(enumerate(champ_images.iloc)):\n",
    "    for skill in col[2:6]:\n",
    "        if (now:=req.get(skill)).status_code != 200:\n",
    "            err.append((i, col['CHAMPIONID']))"
   ]
  }
 ],
 "metadata": {
  "kernelspec": {
   "display_name": "base",
   "language": "python",
   "name": "python3"
  },
  "language_info": {
   "codemirror_mode": {
    "name": "ipython",
    "version": 3
   },
   "file_extension": ".py",
   "mimetype": "text/x-python",
   "name": "python",
   "nbconvert_exporter": "python",
   "pygments_lexer": "ipython3",
   "version": "3.9.13"
  },
  "orig_nbformat": 4
 },
 "nbformat": 4,
 "nbformat_minor": 2
}
