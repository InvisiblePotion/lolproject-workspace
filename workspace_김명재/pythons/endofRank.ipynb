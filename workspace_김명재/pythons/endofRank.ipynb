{
 "cells": [
  {
   "cell_type": "code",
   "execution_count": 10,
   "metadata": {},
   "outputs": [],
   "source": [
    "import requests as req\n",
    "from my_utils import apiSleep\n",
    "import json"
   ]
  },
  {
   "cell_type": "code",
   "execution_count": 5,
   "metadata": {},
   "outputs": [],
   "source": [
    "def endOfRankPlayer(rank: str, tier: int, riot_api_key: str):\n",
    "    rank = rank.upper()\n",
    "    tier_list = ['I','II','III','IV']\n",
    "    cycle = 1\n",
    "    total = 0\n",
    "    rest = 0\n",
    "    while True:\n",
    "        get = req.get(f'https://kr.api.riotgames.com/lol/league/v4/entries/RANKED_SOLO_5x5/{rank}/{tier_list[tier-1]}?page={cycle}&api_key={riot_api_key}').json()\n",
    "        if get.__class__ != list().__class__:\n",
    "            rest += 1\n",
    "            print(f'[ Rate limit exceeded ] >> currunt_rank: \"{rank} {tier_list[tier-1]}\", rest time: {rest}')\n",
    "            apiSleep()\n",
    "            continue\n",
    "        if (l:=len(get)) != 0:\n",
    "            total += l\n",
    "            cycle += 1\n",
    "        else:\n",
    "            break\n",
    "    # print(rank, ' ', tier_list[tier-1])\n",
    "    # print('total player: ', total)\n",
    "    # print('last page: ', cycle-1)\n",
    "    return {'totalPlayer': total, 'lastPage': cycle-1}"
   ]
  },
  {
   "cell_type": "code",
   "execution_count": 8,
   "metadata": {},
   "outputs": [
    {
     "name": "stdout",
     "output_type": "stream",
     "text": [
      "[ Rate limit exceeded ] >> currunt_rank: \"IRON IV\", rest time: 1\n",
      "sleep until request limit recovery...\n"
     ]
    },
    {
     "name": "stderr",
     "output_type": "stream",
     "text": [
      "100%|██████████| 120/120 [02:01<00:00,  1.01s/it]\n"
     ]
    },
    {
     "name": "stdout",
     "output_type": "stream",
     "text": [
      "iron 4: complete!\n",
      "[ Rate limit exceeded ] >> currunt_rank: \"IRON III\", rest time: 1\n",
      "sleep until request limit recovery...\n"
     ]
    },
    {
     "name": "stderr",
     "output_type": "stream",
     "text": [
      "100%|██████████| 120/120 [02:00<00:00,  1.01s/it]\n"
     ]
    },
    {
     "name": "stdout",
     "output_type": "stream",
     "text": [
      "iron 3: complete!\n",
      "[ Rate limit exceeded ] >> currunt_rank: \"IRON II\", rest time: 1\n",
      "sleep until request limit recovery...\n"
     ]
    },
    {
     "name": "stderr",
     "output_type": "stream",
     "text": [
      "100%|██████████| 120/120 [02:02<00:00,  1.02s/it]\n"
     ]
    },
    {
     "name": "stdout",
     "output_type": "stream",
     "text": [
      "[ Rate limit exceeded ] >> currunt_rank: \"IRON II\", rest time: 2\n",
      "sleep until request limit recovery...\n"
     ]
    },
    {
     "name": "stderr",
     "output_type": "stream",
     "text": [
      "100%|██████████| 120/120 [02:00<00:00,  1.01s/it]\n"
     ]
    },
    {
     "name": "stdout",
     "output_type": "stream",
     "text": [
      "[ Rate limit exceeded ] >> currunt_rank: \"IRON II\", rest time: 3\n",
      "sleep until request limit recovery...\n"
     ]
    },
    {
     "name": "stderr",
     "output_type": "stream",
     "text": [
      "100%|██████████| 120/120 [02:00<00:00,  1.01s/it]\n"
     ]
    },
    {
     "name": "stdout",
     "output_type": "stream",
     "text": [
      "iron 2: complete!\n",
      "[ Rate limit exceeded ] >> currunt_rank: \"IRON I\", rest time: 1\n",
      "sleep until request limit recovery...\n"
     ]
    },
    {
     "name": "stderr",
     "output_type": "stream",
     "text": [
      "100%|██████████| 120/120 [02:00<00:00,  1.01s/it]\n"
     ]
    },
    {
     "name": "stdout",
     "output_type": "stream",
     "text": [
      "[ Rate limit exceeded ] >> currunt_rank: \"IRON I\", rest time: 2\n",
      "sleep until request limit recovery...\n"
     ]
    },
    {
     "name": "stderr",
     "output_type": "stream",
     "text": [
      "100%|██████████| 120/120 [02:00<00:00,  1.01s/it]\n"
     ]
    },
    {
     "name": "stdout",
     "output_type": "stream",
     "text": [
      "[ Rate limit exceeded ] >> currunt_rank: \"IRON I\", rest time: 3\n",
      "sleep until request limit recovery...\n"
     ]
    },
    {
     "name": "stderr",
     "output_type": "stream",
     "text": [
      "100%|██████████| 120/120 [02:00<00:00,  1.01s/it]\n"
     ]
    },
    {
     "name": "stdout",
     "output_type": "stream",
     "text": [
      "iron 1: complete!\n",
      "[ Rate limit exceeded ] >> currunt_rank: \"BRONZE IV\", rest time: 1\n",
      "sleep until request limit recovery...\n"
     ]
    },
    {
     "name": "stderr",
     "output_type": "stream",
     "text": [
      "100%|██████████| 120/120 [02:00<00:00,  1.01s/it]\n"
     ]
    },
    {
     "name": "stdout",
     "output_type": "stream",
     "text": [
      "[ Rate limit exceeded ] >> currunt_rank: \"BRONZE IV\", rest time: 2\n",
      "sleep until request limit recovery...\n"
     ]
    },
    {
     "name": "stderr",
     "output_type": "stream",
     "text": [
      "100%|██████████| 120/120 [02:00<00:00,  1.01s/it]\n"
     ]
    },
    {
     "name": "stdout",
     "output_type": "stream",
     "text": [
      "[ Rate limit exceeded ] >> currunt_rank: \"BRONZE IV\", rest time: 3\n",
      "sleep until request limit recovery...\n"
     ]
    },
    {
     "name": "stderr",
     "output_type": "stream",
     "text": [
      "100%|██████████| 120/120 [02:00<00:00,  1.01s/it]\n"
     ]
    },
    {
     "name": "stdout",
     "output_type": "stream",
     "text": [
      "[ Rate limit exceeded ] >> currunt_rank: \"BRONZE IV\", rest time: 4\n",
      "sleep until request limit recovery...\n"
     ]
    },
    {
     "name": "stderr",
     "output_type": "stream",
     "text": [
      "100%|██████████| 120/120 [02:00<00:00,  1.01s/it]\n"
     ]
    },
    {
     "name": "stdout",
     "output_type": "stream",
     "text": [
      "[ Rate limit exceeded ] >> currunt_rank: \"BRONZE IV\", rest time: 5\n",
      "sleep until request limit recovery...\n"
     ]
    },
    {
     "name": "stderr",
     "output_type": "stream",
     "text": [
      "100%|██████████| 120/120 [02:00<00:00,  1.01s/it]\n"
     ]
    },
    {
     "name": "stdout",
     "output_type": "stream",
     "text": [
      "[ Rate limit exceeded ] >> currunt_rank: \"BRONZE IV\", rest time: 6\n",
      "sleep until request limit recovery...\n"
     ]
    },
    {
     "name": "stderr",
     "output_type": "stream",
     "text": [
      "100%|██████████| 120/120 [02:00<00:00,  1.01s/it]\n"
     ]
    },
    {
     "name": "stdout",
     "output_type": "stream",
     "text": [
      "[ Rate limit exceeded ] >> currunt_rank: \"BRONZE IV\", rest time: 7\n",
      "sleep until request limit recovery...\n"
     ]
    },
    {
     "name": "stderr",
     "output_type": "stream",
     "text": [
      "100%|██████████| 120/120 [02:00<00:00,  1.01s/it]\n"
     ]
    },
    {
     "name": "stdout",
     "output_type": "stream",
     "text": [
      "[ Rate limit exceeded ] >> currunt_rank: \"BRONZE IV\", rest time: 8\n",
      "sleep until request limit recovery...\n"
     ]
    },
    {
     "name": "stderr",
     "output_type": "stream",
     "text": [
      "100%|██████████| 120/120 [02:00<00:00,  1.01s/it]\n"
     ]
    },
    {
     "name": "stdout",
     "output_type": "stream",
     "text": [
      "bronze 4: complete!\n",
      "[ Rate limit exceeded ] >> currunt_rank: \"BRONZE III\", rest time: 1\n",
      "sleep until request limit recovery...\n"
     ]
    },
    {
     "name": "stderr",
     "output_type": "stream",
     "text": [
      "100%|██████████| 120/120 [02:00<00:00,  1.01s/it]\n"
     ]
    },
    {
     "name": "stdout",
     "output_type": "stream",
     "text": [
      "[ Rate limit exceeded ] >> currunt_rank: \"BRONZE III\", rest time: 2\n",
      "sleep until request limit recovery...\n"
     ]
    },
    {
     "name": "stderr",
     "output_type": "stream",
     "text": [
      "100%|██████████| 120/120 [02:00<00:00,  1.01s/it]\n"
     ]
    },
    {
     "name": "stdout",
     "output_type": "stream",
     "text": [
      "[ Rate limit exceeded ] >> currunt_rank: \"BRONZE III\", rest time: 3\n",
      "sleep until request limit recovery...\n"
     ]
    },
    {
     "name": "stderr",
     "output_type": "stream",
     "text": [
      "100%|██████████| 120/120 [02:00<00:00,  1.01s/it]\n"
     ]
    },
    {
     "name": "stdout",
     "output_type": "stream",
     "text": [
      "[ Rate limit exceeded ] >> currunt_rank: \"BRONZE III\", rest time: 4\n",
      "sleep until request limit recovery...\n"
     ]
    },
    {
     "name": "stderr",
     "output_type": "stream",
     "text": [
      "100%|██████████| 120/120 [02:00<00:00,  1.01s/it]\n"
     ]
    },
    {
     "name": "stdout",
     "output_type": "stream",
     "text": [
      "[ Rate limit exceeded ] >> currunt_rank: \"BRONZE III\", rest time: 5\n",
      "sleep until request limit recovery...\n"
     ]
    },
    {
     "name": "stderr",
     "output_type": "stream",
     "text": [
      "100%|██████████| 120/120 [02:00<00:00,  1.01s/it]\n"
     ]
    },
    {
     "name": "stdout",
     "output_type": "stream",
     "text": [
      "[ Rate limit exceeded ] >> currunt_rank: \"BRONZE III\", rest time: 6\n",
      "sleep until request limit recovery...\n"
     ]
    },
    {
     "name": "stderr",
     "output_type": "stream",
     "text": [
      "100%|██████████| 120/120 [02:00<00:00,  1.01s/it]\n"
     ]
    },
    {
     "name": "stdout",
     "output_type": "stream",
     "text": [
      "[ Rate limit exceeded ] >> currunt_rank: \"BRONZE III\", rest time: 7\n",
      "sleep until request limit recovery...\n"
     ]
    },
    {
     "name": "stderr",
     "output_type": "stream",
     "text": [
      "100%|██████████| 120/120 [02:00<00:00,  1.01s/it]\n"
     ]
    },
    {
     "name": "stdout",
     "output_type": "stream",
     "text": [
      "[ Rate limit exceeded ] >> currunt_rank: \"BRONZE III\", rest time: 8\n",
      "sleep until request limit recovery...\n"
     ]
    },
    {
     "name": "stderr",
     "output_type": "stream",
     "text": [
      "100%|██████████| 120/120 [02:00<00:00,  1.01s/it]\n"
     ]
    },
    {
     "name": "stdout",
     "output_type": "stream",
     "text": [
      "bronze 3: complete!\n",
      "[ Rate limit exceeded ] >> currunt_rank: \"BRONZE II\", rest time: 1\n",
      "sleep until request limit recovery...\n"
     ]
    },
    {
     "name": "stderr",
     "output_type": "stream",
     "text": [
      "100%|██████████| 120/120 [02:00<00:00,  1.01s/it]\n"
     ]
    },
    {
     "name": "stdout",
     "output_type": "stream",
     "text": [
      "[ Rate limit exceeded ] >> currunt_rank: \"BRONZE II\", rest time: 2\n",
      "sleep until request limit recovery...\n"
     ]
    },
    {
     "name": "stderr",
     "output_type": "stream",
     "text": [
      "100%|██████████| 120/120 [02:00<00:00,  1.01s/it]\n"
     ]
    },
    {
     "name": "stdout",
     "output_type": "stream",
     "text": [
      "[ Rate limit exceeded ] >> currunt_rank: \"BRONZE II\", rest time: 3\n",
      "sleep until request limit recovery...\n"
     ]
    },
    {
     "name": "stderr",
     "output_type": "stream",
     "text": [
      "100%|██████████| 120/120 [02:00<00:00,  1.01s/it]\n"
     ]
    },
    {
     "name": "stdout",
     "output_type": "stream",
     "text": [
      "[ Rate limit exceeded ] >> currunt_rank: \"BRONZE II\", rest time: 4\n",
      "sleep until request limit recovery...\n"
     ]
    },
    {
     "name": "stderr",
     "output_type": "stream",
     "text": [
      "100%|██████████| 120/120 [02:00<00:00,  1.01s/it]\n"
     ]
    },
    {
     "name": "stdout",
     "output_type": "stream",
     "text": [
      "[ Rate limit exceeded ] >> currunt_rank: \"BRONZE II\", rest time: 5\n",
      "sleep until request limit recovery...\n"
     ]
    },
    {
     "name": "stderr",
     "output_type": "stream",
     "text": [
      "100%|██████████| 120/120 [02:00<00:00,  1.01s/it]\n"
     ]
    },
    {
     "name": "stdout",
     "output_type": "stream",
     "text": [
      "[ Rate limit exceeded ] >> currunt_rank: \"BRONZE II\", rest time: 6\n",
      "sleep until request limit recovery...\n"
     ]
    },
    {
     "name": "stderr",
     "output_type": "stream",
     "text": [
      "100%|██████████| 120/120 [02:00<00:00,  1.01s/it]\n"
     ]
    },
    {
     "name": "stdout",
     "output_type": "stream",
     "text": [
      "[ Rate limit exceeded ] >> currunt_rank: \"BRONZE II\", rest time: 7\n",
      "sleep until request limit recovery...\n"
     ]
    },
    {
     "name": "stderr",
     "output_type": "stream",
     "text": [
      "100%|██████████| 120/120 [02:00<00:00,  1.01s/it]\n"
     ]
    },
    {
     "name": "stdout",
     "output_type": "stream",
     "text": [
      "[ Rate limit exceeded ] >> currunt_rank: \"BRONZE II\", rest time: 8\n",
      "sleep until request limit recovery...\n"
     ]
    },
    {
     "name": "stderr",
     "output_type": "stream",
     "text": [
      "100%|██████████| 120/120 [02:00<00:00,  1.01s/it]\n"
     ]
    },
    {
     "name": "stdout",
     "output_type": "stream",
     "text": [
      "[ Rate limit exceeded ] >> currunt_rank: \"BRONZE II\", rest time: 9\n",
      "sleep until request limit recovery...\n"
     ]
    },
    {
     "name": "stderr",
     "output_type": "stream",
     "text": [
      "100%|██████████| 120/120 [02:00<00:00,  1.01s/it]\n"
     ]
    },
    {
     "name": "stdout",
     "output_type": "stream",
     "text": [
      "bronze 2: complete!\n",
      "[ Rate limit exceeded ] >> currunt_rank: \"BRONZE I\", rest time: 1\n",
      "sleep until request limit recovery...\n"
     ]
    },
    {
     "name": "stderr",
     "output_type": "stream",
     "text": [
      "100%|██████████| 120/120 [02:00<00:00,  1.01s/it]\n"
     ]
    },
    {
     "name": "stdout",
     "output_type": "stream",
     "text": [
      "[ Rate limit exceeded ] >> currunt_rank: \"BRONZE I\", rest time: 2\n",
      "sleep until request limit recovery...\n"
     ]
    },
    {
     "name": "stderr",
     "output_type": "stream",
     "text": [
      "100%|██████████| 120/120 [02:00<00:00,  1.01s/it]\n"
     ]
    },
    {
     "name": "stdout",
     "output_type": "stream",
     "text": [
      "[ Rate limit exceeded ] >> currunt_rank: \"BRONZE I\", rest time: 3\n",
      "sleep until request limit recovery...\n"
     ]
    },
    {
     "name": "stderr",
     "output_type": "stream",
     "text": [
      "100%|██████████| 120/120 [02:00<00:00,  1.01s/it]\n"
     ]
    },
    {
     "name": "stdout",
     "output_type": "stream",
     "text": [
      "[ Rate limit exceeded ] >> currunt_rank: \"BRONZE I\", rest time: 4\n",
      "sleep until request limit recovery...\n"
     ]
    },
    {
     "name": "stderr",
     "output_type": "stream",
     "text": [
      "100%|██████████| 120/120 [02:00<00:00,  1.01s/it]\n"
     ]
    },
    {
     "name": "stdout",
     "output_type": "stream",
     "text": [
      "[ Rate limit exceeded ] >> currunt_rank: \"BRONZE I\", rest time: 5\n",
      "sleep until request limit recovery...\n"
     ]
    },
    {
     "name": "stderr",
     "output_type": "stream",
     "text": [
      "100%|██████████| 120/120 [02:00<00:00,  1.01s/it]\n"
     ]
    },
    {
     "name": "stdout",
     "output_type": "stream",
     "text": [
      "[ Rate limit exceeded ] >> currunt_rank: \"BRONZE I\", rest time: 6\n",
      "sleep until request limit recovery...\n"
     ]
    },
    {
     "name": "stderr",
     "output_type": "stream",
     "text": [
      "100%|██████████| 120/120 [02:00<00:00,  1.01s/it]\n"
     ]
    },
    {
     "name": "stdout",
     "output_type": "stream",
     "text": [
      "[ Rate limit exceeded ] >> currunt_rank: \"BRONZE I\", rest time: 7\n",
      "sleep until request limit recovery...\n"
     ]
    },
    {
     "name": "stderr",
     "output_type": "stream",
     "text": [
      "100%|██████████| 120/120 [02:00<00:00,  1.01s/it]\n"
     ]
    },
    {
     "name": "stdout",
     "output_type": "stream",
     "text": [
      "[ Rate limit exceeded ] >> currunt_rank: \"BRONZE I\", rest time: 8\n",
      "sleep until request limit recovery...\n"
     ]
    },
    {
     "name": "stderr",
     "output_type": "stream",
     "text": [
      "100%|██████████| 120/120 [02:00<00:00,  1.01s/it]\n"
     ]
    },
    {
     "name": "stdout",
     "output_type": "stream",
     "text": [
      "[ Rate limit exceeded ] >> currunt_rank: \"BRONZE I\", rest time: 9\n",
      "sleep until request limit recovery...\n"
     ]
    },
    {
     "name": "stderr",
     "output_type": "stream",
     "text": [
      "100%|██████████| 120/120 [02:00<00:00,  1.01s/it]\n"
     ]
    },
    {
     "name": "stdout",
     "output_type": "stream",
     "text": [
      "bronze 1: complete!\n",
      "[ Rate limit exceeded ] >> currunt_rank: \"SILVER IV\", rest time: 1\n",
      "sleep until request limit recovery...\n"
     ]
    },
    {
     "name": "stderr",
     "output_type": "stream",
     "text": [
      "100%|██████████| 120/120 [02:00<00:00,  1.01s/it]\n"
     ]
    },
    {
     "name": "stdout",
     "output_type": "stream",
     "text": [
      "[ Rate limit exceeded ] >> currunt_rank: \"SILVER IV\", rest time: 2\n",
      "sleep until request limit recovery...\n"
     ]
    },
    {
     "name": "stderr",
     "output_type": "stream",
     "text": [
      "100%|██████████| 120/120 [02:00<00:00,  1.01s/it]\n"
     ]
    },
    {
     "name": "stdout",
     "output_type": "stream",
     "text": [
      "[ Rate limit exceeded ] >> currunt_rank: \"SILVER IV\", rest time: 3\n",
      "sleep until request limit recovery...\n"
     ]
    },
    {
     "name": "stderr",
     "output_type": "stream",
     "text": [
      "100%|██████████| 120/120 [02:00<00:00,  1.01s/it]\n"
     ]
    },
    {
     "name": "stdout",
     "output_type": "stream",
     "text": [
      "[ Rate limit exceeded ] >> currunt_rank: \"SILVER IV\", rest time: 4\n",
      "sleep until request limit recovery...\n"
     ]
    },
    {
     "name": "stderr",
     "output_type": "stream",
     "text": [
      "100%|██████████| 120/120 [02:00<00:00,  1.01s/it]\n"
     ]
    },
    {
     "name": "stdout",
     "output_type": "stream",
     "text": [
      "[ Rate limit exceeded ] >> currunt_rank: \"SILVER IV\", rest time: 5\n",
      "sleep until request limit recovery...\n"
     ]
    },
    {
     "name": "stderr",
     "output_type": "stream",
     "text": [
      "100%|██████████| 120/120 [02:00<00:00,  1.01s/it]\n"
     ]
    },
    {
     "name": "stdout",
     "output_type": "stream",
     "text": [
      "[ Rate limit exceeded ] >> currunt_rank: \"SILVER IV\", rest time: 6\n",
      "sleep until request limit recovery...\n"
     ]
    },
    {
     "name": "stderr",
     "output_type": "stream",
     "text": [
      "100%|██████████| 120/120 [02:00<00:00,  1.01s/it]\n"
     ]
    },
    {
     "name": "stdout",
     "output_type": "stream",
     "text": [
      "[ Rate limit exceeded ] >> currunt_rank: \"SILVER IV\", rest time: 7\n",
      "sleep until request limit recovery...\n"
     ]
    },
    {
     "name": "stderr",
     "output_type": "stream",
     "text": [
      "100%|██████████| 120/120 [02:01<00:00,  1.01s/it]\n"
     ]
    },
    {
     "name": "stdout",
     "output_type": "stream",
     "text": [
      "[ Rate limit exceeded ] >> currunt_rank: \"SILVER IV\", rest time: 8\n",
      "sleep until request limit recovery...\n"
     ]
    },
    {
     "name": "stderr",
     "output_type": "stream",
     "text": [
      "100%|██████████| 120/120 [02:00<00:00,  1.01s/it]\n"
     ]
    },
    {
     "name": "stdout",
     "output_type": "stream",
     "text": [
      "[ Rate limit exceeded ] >> currunt_rank: \"SILVER IV\", rest time: 9\n",
      "sleep until request limit recovery...\n"
     ]
    },
    {
     "name": "stderr",
     "output_type": "stream",
     "text": [
      "100%|██████████| 120/120 [02:00<00:00,  1.01s/it]\n"
     ]
    },
    {
     "name": "stdout",
     "output_type": "stream",
     "text": [
      "[ Rate limit exceeded ] >> currunt_rank: \"SILVER IV\", rest time: 10\n",
      "sleep until request limit recovery...\n"
     ]
    },
    {
     "name": "stderr",
     "output_type": "stream",
     "text": [
      "100%|██████████| 120/120 [02:00<00:00,  1.01s/it]\n"
     ]
    },
    {
     "name": "stdout",
     "output_type": "stream",
     "text": [
      "[ Rate limit exceeded ] >> currunt_rank: \"SILVER IV\", rest time: 11\n",
      "sleep until request limit recovery...\n"
     ]
    },
    {
     "name": "stderr",
     "output_type": "stream",
     "text": [
      "100%|██████████| 120/120 [02:00<00:00,  1.01s/it]\n"
     ]
    },
    {
     "name": "stdout",
     "output_type": "stream",
     "text": [
      "[ Rate limit exceeded ] >> currunt_rank: \"SILVER IV\", rest time: 12\n",
      "sleep until request limit recovery...\n"
     ]
    },
    {
     "name": "stderr",
     "output_type": "stream",
     "text": [
      "100%|██████████| 120/120 [02:01<00:00,  1.01s/it]\n"
     ]
    },
    {
     "name": "stdout",
     "output_type": "stream",
     "text": [
      "[ Rate limit exceeded ] >> currunt_rank: \"SILVER IV\", rest time: 13\n",
      "sleep until request limit recovery...\n"
     ]
    },
    {
     "name": "stderr",
     "output_type": "stream",
     "text": [
      "100%|██████████| 120/120 [02:01<00:00,  1.01s/it]\n"
     ]
    },
    {
     "name": "stdout",
     "output_type": "stream",
     "text": [
      "silver 4: complete!\n",
      "[ Rate limit exceeded ] >> currunt_rank: \"SILVER III\", rest time: 1\n",
      "sleep until request limit recovery...\n"
     ]
    },
    {
     "name": "stderr",
     "output_type": "stream",
     "text": [
      "100%|██████████| 120/120 [02:01<00:00,  1.01s/it]\n"
     ]
    },
    {
     "name": "stdout",
     "output_type": "stream",
     "text": [
      "[ Rate limit exceeded ] >> currunt_rank: \"SILVER III\", rest time: 2\n",
      "sleep until request limit recovery...\n"
     ]
    },
    {
     "name": "stderr",
     "output_type": "stream",
     "text": [
      "100%|██████████| 120/120 [02:01<00:00,  1.01s/it]\n"
     ]
    },
    {
     "name": "stdout",
     "output_type": "stream",
     "text": [
      "[ Rate limit exceeded ] >> currunt_rank: \"SILVER III\", rest time: 3\n",
      "sleep until request limit recovery...\n"
     ]
    },
    {
     "name": "stderr",
     "output_type": "stream",
     "text": [
      "100%|██████████| 120/120 [02:01<00:00,  1.01s/it]\n"
     ]
    },
    {
     "name": "stdout",
     "output_type": "stream",
     "text": [
      "[ Rate limit exceeded ] >> currunt_rank: \"SILVER III\", rest time: 4\n",
      "sleep until request limit recovery...\n"
     ]
    },
    {
     "name": "stderr",
     "output_type": "stream",
     "text": [
      "100%|██████████| 120/120 [02:01<00:00,  1.01s/it]\n"
     ]
    },
    {
     "name": "stdout",
     "output_type": "stream",
     "text": [
      "[ Rate limit exceeded ] >> currunt_rank: \"SILVER III\", rest time: 5\n",
      "sleep until request limit recovery...\n"
     ]
    },
    {
     "name": "stderr",
     "output_type": "stream",
     "text": [
      "100%|██████████| 120/120 [02:00<00:00,  1.01s/it]\n"
     ]
    },
    {
     "name": "stdout",
     "output_type": "stream",
     "text": [
      "[ Rate limit exceeded ] >> currunt_rank: \"SILVER III\", rest time: 6\n",
      "sleep until request limit recovery...\n"
     ]
    },
    {
     "name": "stderr",
     "output_type": "stream",
     "text": [
      "100%|██████████| 120/120 [02:01<00:00,  1.01s/it]\n"
     ]
    },
    {
     "name": "stdout",
     "output_type": "stream",
     "text": [
      "[ Rate limit exceeded ] >> currunt_rank: \"SILVER III\", rest time: 7\n",
      "sleep until request limit recovery...\n"
     ]
    },
    {
     "name": "stderr",
     "output_type": "stream",
     "text": [
      "100%|██████████| 120/120 [02:01<00:00,  1.01s/it]\n"
     ]
    },
    {
     "name": "stdout",
     "output_type": "stream",
     "text": [
      "[ Rate limit exceeded ] >> currunt_rank: \"SILVER III\", rest time: 8\n",
      "sleep until request limit recovery...\n"
     ]
    },
    {
     "name": "stderr",
     "output_type": "stream",
     "text": [
      "100%|██████████| 120/120 [02:00<00:00,  1.01s/it]\n"
     ]
    },
    {
     "name": "stdout",
     "output_type": "stream",
     "text": [
      "[ Rate limit exceeded ] >> currunt_rank: \"SILVER III\", rest time: 9\n",
      "sleep until request limit recovery...\n"
     ]
    },
    {
     "name": "stderr",
     "output_type": "stream",
     "text": [
      "100%|██████████| 120/120 [02:01<00:00,  1.01s/it]\n"
     ]
    },
    {
     "name": "stdout",
     "output_type": "stream",
     "text": [
      "[ Rate limit exceeded ] >> currunt_rank: \"SILVER III\", rest time: 10\n",
      "sleep until request limit recovery...\n"
     ]
    },
    {
     "name": "stderr",
     "output_type": "stream",
     "text": [
      "100%|██████████| 120/120 [02:01<00:00,  1.01s/it]\n"
     ]
    },
    {
     "name": "stdout",
     "output_type": "stream",
     "text": [
      "silver 3: complete!\n",
      "[ Rate limit exceeded ] >> currunt_rank: \"SILVER II\", rest time: 1\n",
      "sleep until request limit recovery...\n"
     ]
    },
    {
     "name": "stderr",
     "output_type": "stream",
     "text": [
      "100%|██████████| 120/120 [02:01<00:00,  1.01s/it]\n"
     ]
    },
    {
     "name": "stdout",
     "output_type": "stream",
     "text": [
      "[ Rate limit exceeded ] >> currunt_rank: \"SILVER II\", rest time: 2\n",
      "sleep until request limit recovery...\n"
     ]
    },
    {
     "name": "stderr",
     "output_type": "stream",
     "text": [
      "100%|██████████| 120/120 [02:01<00:00,  1.01s/it]\n"
     ]
    },
    {
     "name": "stdout",
     "output_type": "stream",
     "text": [
      "[ Rate limit exceeded ] >> currunt_rank: \"SILVER II\", rest time: 3\n",
      "sleep until request limit recovery...\n"
     ]
    },
    {
     "name": "stderr",
     "output_type": "stream",
     "text": [
      "100%|██████████| 120/120 [02:01<00:00,  1.01s/it]\n"
     ]
    },
    {
     "name": "stdout",
     "output_type": "stream",
     "text": [
      "[ Rate limit exceeded ] >> currunt_rank: \"SILVER II\", rest time: 4\n",
      "sleep until request limit recovery...\n"
     ]
    },
    {
     "name": "stderr",
     "output_type": "stream",
     "text": [
      "100%|██████████| 120/120 [02:01<00:00,  1.01s/it]\n"
     ]
    },
    {
     "name": "stdout",
     "output_type": "stream",
     "text": [
      "[ Rate limit exceeded ] >> currunt_rank: \"SILVER II\", rest time: 5\n",
      "sleep until request limit recovery...\n"
     ]
    },
    {
     "name": "stderr",
     "output_type": "stream",
     "text": [
      "100%|██████████| 120/120 [02:01<00:00,  1.01s/it]\n"
     ]
    },
    {
     "name": "stdout",
     "output_type": "stream",
     "text": [
      "[ Rate limit exceeded ] >> currunt_rank: \"SILVER II\", rest time: 6\n",
      "sleep until request limit recovery...\n"
     ]
    },
    {
     "name": "stderr",
     "output_type": "stream",
     "text": [
      "100%|██████████| 120/120 [02:01<00:00,  1.01s/it]\n"
     ]
    },
    {
     "name": "stdout",
     "output_type": "stream",
     "text": [
      "[ Rate limit exceeded ] >> currunt_rank: \"SILVER II\", rest time: 7\n",
      "sleep until request limit recovery...\n"
     ]
    },
    {
     "name": "stderr",
     "output_type": "stream",
     "text": [
      "100%|██████████| 120/120 [02:01<00:00,  1.01s/it]\n"
     ]
    },
    {
     "name": "stdout",
     "output_type": "stream",
     "text": [
      "[ Rate limit exceeded ] >> currunt_rank: \"SILVER II\", rest time: 8\n",
      "sleep until request limit recovery...\n"
     ]
    },
    {
     "name": "stderr",
     "output_type": "stream",
     "text": [
      "100%|██████████| 120/120 [02:01<00:00,  1.01s/it]\n"
     ]
    },
    {
     "name": "stdout",
     "output_type": "stream",
     "text": [
      "[ Rate limit exceeded ] >> currunt_rank: \"SILVER II\", rest time: 9\n",
      "sleep until request limit recovery...\n"
     ]
    },
    {
     "name": "stderr",
     "output_type": "stream",
     "text": [
      "100%|██████████| 120/120 [02:01<00:00,  1.01s/it]\n"
     ]
    },
    {
     "name": "stdout",
     "output_type": "stream",
     "text": [
      "[ Rate limit exceeded ] >> currunt_rank: \"SILVER II\", rest time: 10\n",
      "sleep until request limit recovery...\n"
     ]
    },
    {
     "name": "stderr",
     "output_type": "stream",
     "text": [
      "100%|██████████| 120/120 [02:00<00:00,  1.01s/it]\n"
     ]
    },
    {
     "name": "stdout",
     "output_type": "stream",
     "text": [
      "[ Rate limit exceeded ] >> currunt_rank: \"SILVER II\", rest time: 11\n",
      "sleep until request limit recovery...\n"
     ]
    },
    {
     "name": "stderr",
     "output_type": "stream",
     "text": [
      "100%|██████████| 120/120 [02:01<00:00,  1.01s/it]\n"
     ]
    },
    {
     "name": "stdout",
     "output_type": "stream",
     "text": [
      "[ Rate limit exceeded ] >> currunt_rank: \"SILVER II\", rest time: 12\n",
      "sleep until request limit recovery...\n"
     ]
    },
    {
     "name": "stderr",
     "output_type": "stream",
     "text": [
      "100%|██████████| 120/120 [02:01<00:00,  1.01s/it]\n"
     ]
    },
    {
     "name": "stdout",
     "output_type": "stream",
     "text": [
      "silver 2: complete!\n",
      "[ Rate limit exceeded ] >> currunt_rank: \"SILVER I\", rest time: 1\n",
      "sleep until request limit recovery...\n"
     ]
    },
    {
     "name": "stderr",
     "output_type": "stream",
     "text": [
      "100%|██████████| 120/120 [02:01<00:00,  1.01s/it]\n"
     ]
    },
    {
     "name": "stdout",
     "output_type": "stream",
     "text": [
      "[ Rate limit exceeded ] >> currunt_rank: \"SILVER I\", rest time: 2\n",
      "sleep until request limit recovery...\n"
     ]
    },
    {
     "name": "stderr",
     "output_type": "stream",
     "text": [
      "100%|██████████| 120/120 [02:01<00:00,  1.01s/it]\n"
     ]
    },
    {
     "name": "stdout",
     "output_type": "stream",
     "text": [
      "[ Rate limit exceeded ] >> currunt_rank: \"SILVER I\", rest time: 3\n",
      "sleep until request limit recovery...\n"
     ]
    },
    {
     "name": "stderr",
     "output_type": "stream",
     "text": [
      "100%|██████████| 120/120 [02:01<00:00,  1.01s/it]\n"
     ]
    },
    {
     "name": "stdout",
     "output_type": "stream",
     "text": [
      "[ Rate limit exceeded ] >> currunt_rank: \"SILVER I\", rest time: 4\n",
      "sleep until request limit recovery...\n"
     ]
    },
    {
     "name": "stderr",
     "output_type": "stream",
     "text": [
      "100%|██████████| 120/120 [02:00<00:00,  1.01s/it]\n"
     ]
    },
    {
     "name": "stdout",
     "output_type": "stream",
     "text": [
      "[ Rate limit exceeded ] >> currunt_rank: \"SILVER I\", rest time: 5\n",
      "sleep until request limit recovery...\n"
     ]
    },
    {
     "name": "stderr",
     "output_type": "stream",
     "text": [
      "100%|██████████| 120/120 [02:00<00:00,  1.01s/it]\n"
     ]
    },
    {
     "name": "stdout",
     "output_type": "stream",
     "text": [
      "[ Rate limit exceeded ] >> currunt_rank: \"SILVER I\", rest time: 6\n",
      "sleep until request limit recovery...\n"
     ]
    },
    {
     "name": "stderr",
     "output_type": "stream",
     "text": [
      "100%|██████████| 120/120 [02:00<00:00,  1.01s/it]\n"
     ]
    },
    {
     "name": "stdout",
     "output_type": "stream",
     "text": [
      "[ Rate limit exceeded ] >> currunt_rank: \"SILVER I\", rest time: 7\n",
      "sleep until request limit recovery...\n"
     ]
    },
    {
     "name": "stderr",
     "output_type": "stream",
     "text": [
      "100%|██████████| 120/120 [02:00<00:00,  1.01s/it]\n"
     ]
    },
    {
     "name": "stdout",
     "output_type": "stream",
     "text": [
      "[ Rate limit exceeded ] >> currunt_rank: \"SILVER I\", rest time: 8\n",
      "sleep until request limit recovery...\n"
     ]
    },
    {
     "name": "stderr",
     "output_type": "stream",
     "text": [
      "100%|██████████| 120/120 [02:00<00:00,  1.01s/it]\n"
     ]
    },
    {
     "name": "stdout",
     "output_type": "stream",
     "text": [
      "[ Rate limit exceeded ] >> currunt_rank: \"SILVER I\", rest time: 9\n",
      "sleep until request limit recovery...\n"
     ]
    },
    {
     "name": "stderr",
     "output_type": "stream",
     "text": [
      "100%|██████████| 120/120 [02:00<00:00,  1.01s/it]\n"
     ]
    },
    {
     "name": "stdout",
     "output_type": "stream",
     "text": [
      "silver 1: complete!\n",
      "[ Rate limit exceeded ] >> currunt_rank: \"GOLD IV\", rest time: 1\n",
      "sleep until request limit recovery...\n"
     ]
    },
    {
     "name": "stderr",
     "output_type": "stream",
     "text": [
      "100%|██████████| 120/120 [02:00<00:00,  1.01s/it]\n"
     ]
    },
    {
     "name": "stdout",
     "output_type": "stream",
     "text": [
      "[ Rate limit exceeded ] >> currunt_rank: \"GOLD IV\", rest time: 2\n",
      "sleep until request limit recovery...\n"
     ]
    },
    {
     "name": "stderr",
     "output_type": "stream",
     "text": [
      "100%|██████████| 120/120 [02:00<00:00,  1.01s/it]\n"
     ]
    },
    {
     "name": "stdout",
     "output_type": "stream",
     "text": [
      "[ Rate limit exceeded ] >> currunt_rank: \"GOLD IV\", rest time: 3\n",
      "sleep until request limit recovery...\n"
     ]
    },
    {
     "name": "stderr",
     "output_type": "stream",
     "text": [
      "100%|██████████| 120/120 [02:00<00:00,  1.01s/it]\n"
     ]
    },
    {
     "name": "stdout",
     "output_type": "stream",
     "text": [
      "[ Rate limit exceeded ] >> currunt_rank: \"GOLD IV\", rest time: 4\n",
      "sleep until request limit recovery...\n"
     ]
    },
    {
     "name": "stderr",
     "output_type": "stream",
     "text": [
      "100%|██████████| 120/120 [02:00<00:00,  1.01s/it]\n"
     ]
    },
    {
     "name": "stdout",
     "output_type": "stream",
     "text": [
      "[ Rate limit exceeded ] >> currunt_rank: \"GOLD IV\", rest time: 5\n",
      "sleep until request limit recovery...\n"
     ]
    },
    {
     "name": "stderr",
     "output_type": "stream",
     "text": [
      "100%|██████████| 120/120 [02:00<00:00,  1.01s/it]\n"
     ]
    },
    {
     "name": "stdout",
     "output_type": "stream",
     "text": [
      "[ Rate limit exceeded ] >> currunt_rank: \"GOLD IV\", rest time: 6\n",
      "sleep until request limit recovery...\n"
     ]
    },
    {
     "name": "stderr",
     "output_type": "stream",
     "text": [
      "100%|██████████| 120/120 [02:00<00:00,  1.01s/it]\n"
     ]
    },
    {
     "name": "stdout",
     "output_type": "stream",
     "text": [
      "[ Rate limit exceeded ] >> currunt_rank: \"GOLD IV\", rest time: 7\n",
      "sleep until request limit recovery...\n"
     ]
    },
    {
     "name": "stderr",
     "output_type": "stream",
     "text": [
      "100%|██████████| 120/120 [02:00<00:00,  1.01s/it]\n"
     ]
    },
    {
     "name": "stdout",
     "output_type": "stream",
     "text": [
      "[ Rate limit exceeded ] >> currunt_rank: \"GOLD IV\", rest time: 8\n",
      "sleep until request limit recovery...\n"
     ]
    },
    {
     "name": "stderr",
     "output_type": "stream",
     "text": [
      "100%|██████████| 120/120 [02:00<00:00,  1.01s/it]\n"
     ]
    },
    {
     "name": "stdout",
     "output_type": "stream",
     "text": [
      "[ Rate limit exceeded ] >> currunt_rank: \"GOLD IV\", rest time: 9\n",
      "sleep until request limit recovery...\n"
     ]
    },
    {
     "name": "stderr",
     "output_type": "stream",
     "text": [
      "100%|██████████| 120/120 [02:00<00:00,  1.01s/it]\n"
     ]
    },
    {
     "name": "stdout",
     "output_type": "stream",
     "text": [
      "[ Rate limit exceeded ] >> currunt_rank: \"GOLD IV\", rest time: 10\n",
      "sleep until request limit recovery...\n"
     ]
    },
    {
     "name": "stderr",
     "output_type": "stream",
     "text": [
      "100%|██████████| 120/120 [02:00<00:00,  1.01s/it]\n"
     ]
    },
    {
     "name": "stdout",
     "output_type": "stream",
     "text": [
      "[ Rate limit exceeded ] >> currunt_rank: \"GOLD IV\", rest time: 11\n",
      "sleep until request limit recovery...\n"
     ]
    },
    {
     "name": "stderr",
     "output_type": "stream",
     "text": [
      "100%|██████████| 120/120 [02:00<00:00,  1.01s/it]\n"
     ]
    },
    {
     "name": "stdout",
     "output_type": "stream",
     "text": [
      "[ Rate limit exceeded ] >> currunt_rank: \"GOLD IV\", rest time: 12\n",
      "sleep until request limit recovery...\n"
     ]
    },
    {
     "name": "stderr",
     "output_type": "stream",
     "text": [
      "100%|██████████| 120/120 [02:00<00:00,  1.01s/it]\n"
     ]
    },
    {
     "name": "stdout",
     "output_type": "stream",
     "text": [
      "[ Rate limit exceeded ] >> currunt_rank: \"GOLD IV\", rest time: 13\n",
      "sleep until request limit recovery...\n"
     ]
    },
    {
     "name": "stderr",
     "output_type": "stream",
     "text": [
      "100%|██████████| 120/120 [02:00<00:00,  1.01s/it]\n"
     ]
    },
    {
     "name": "stdout",
     "output_type": "stream",
     "text": [
      "[ Rate limit exceeded ] >> currunt_rank: \"GOLD IV\", rest time: 14\n",
      "sleep until request limit recovery...\n"
     ]
    },
    {
     "name": "stderr",
     "output_type": "stream",
     "text": [
      "100%|██████████| 120/120 [02:00<00:00,  1.01s/it]\n"
     ]
    },
    {
     "name": "stdout",
     "output_type": "stream",
     "text": [
      "[ Rate limit exceeded ] >> currunt_rank: \"GOLD IV\", rest time: 15\n",
      "sleep until request limit recovery...\n"
     ]
    },
    {
     "name": "stderr",
     "output_type": "stream",
     "text": [
      "100%|██████████| 120/120 [02:00<00:00,  1.01s/it]\n"
     ]
    },
    {
     "name": "stdout",
     "output_type": "stream",
     "text": [
      "gold 4: complete!\n",
      "[ Rate limit exceeded ] >> currunt_rank: \"GOLD III\", rest time: 1\n",
      "sleep until request limit recovery...\n"
     ]
    },
    {
     "name": "stderr",
     "output_type": "stream",
     "text": [
      "100%|██████████| 120/120 [02:00<00:00,  1.01s/it]\n"
     ]
    },
    {
     "name": "stdout",
     "output_type": "stream",
     "text": [
      "[ Rate limit exceeded ] >> currunt_rank: \"GOLD III\", rest time: 2\n",
      "sleep until request limit recovery...\n"
     ]
    },
    {
     "name": "stderr",
     "output_type": "stream",
     "text": [
      "100%|██████████| 120/120 [02:00<00:00,  1.01s/it]\n"
     ]
    },
    {
     "name": "stdout",
     "output_type": "stream",
     "text": [
      "[ Rate limit exceeded ] >> currunt_rank: \"GOLD III\", rest time: 3\n",
      "sleep until request limit recovery...\n"
     ]
    },
    {
     "name": "stderr",
     "output_type": "stream",
     "text": [
      "100%|██████████| 120/120 [02:00<00:00,  1.01s/it]\n"
     ]
    },
    {
     "name": "stdout",
     "output_type": "stream",
     "text": [
      "[ Rate limit exceeded ] >> currunt_rank: \"GOLD III\", rest time: 4\n",
      "sleep until request limit recovery...\n"
     ]
    },
    {
     "name": "stderr",
     "output_type": "stream",
     "text": [
      "100%|██████████| 120/120 [02:00<00:00,  1.01s/it]\n"
     ]
    },
    {
     "name": "stdout",
     "output_type": "stream",
     "text": [
      "[ Rate limit exceeded ] >> currunt_rank: \"GOLD III\", rest time: 5\n",
      "sleep until request limit recovery...\n"
     ]
    },
    {
     "name": "stderr",
     "output_type": "stream",
     "text": [
      "100%|██████████| 120/120 [02:00<00:00,  1.01s/it]\n"
     ]
    },
    {
     "name": "stdout",
     "output_type": "stream",
     "text": [
      "[ Rate limit exceeded ] >> currunt_rank: \"GOLD III\", rest time: 6\n",
      "sleep until request limit recovery...\n"
     ]
    },
    {
     "name": "stderr",
     "output_type": "stream",
     "text": [
      "100%|██████████| 120/120 [02:00<00:00,  1.01s/it]\n"
     ]
    },
    {
     "name": "stdout",
     "output_type": "stream",
     "text": [
      "[ Rate limit exceeded ] >> currunt_rank: \"GOLD III\", rest time: 7\n",
      "sleep until request limit recovery...\n"
     ]
    },
    {
     "name": "stderr",
     "output_type": "stream",
     "text": [
      "100%|██████████| 120/120 [02:00<00:00,  1.01s/it]\n"
     ]
    },
    {
     "name": "stdout",
     "output_type": "stream",
     "text": [
      "[ Rate limit exceeded ] >> currunt_rank: \"GOLD III\", rest time: 8\n",
      "sleep until request limit recovery...\n"
     ]
    },
    {
     "name": "stderr",
     "output_type": "stream",
     "text": [
      "100%|██████████| 120/120 [02:00<00:00,  1.01s/it]\n"
     ]
    },
    {
     "name": "stdout",
     "output_type": "stream",
     "text": [
      "[ Rate limit exceeded ] >> currunt_rank: \"GOLD III\", rest time: 9\n",
      "sleep until request limit recovery...\n"
     ]
    },
    {
     "name": "stderr",
     "output_type": "stream",
     "text": [
      "100%|██████████| 120/120 [02:00<00:00,  1.01s/it]\n"
     ]
    },
    {
     "name": "stdout",
     "output_type": "stream",
     "text": [
      "gold 3: complete!\n",
      "[ Rate limit exceeded ] >> currunt_rank: \"GOLD II\", rest time: 1\n",
      "sleep until request limit recovery...\n"
     ]
    },
    {
     "name": "stderr",
     "output_type": "stream",
     "text": [
      "100%|██████████| 120/120 [02:00<00:00,  1.01s/it]\n"
     ]
    },
    {
     "name": "stdout",
     "output_type": "stream",
     "text": [
      "[ Rate limit exceeded ] >> currunt_rank: \"GOLD II\", rest time: 2\n",
      "sleep until request limit recovery...\n"
     ]
    },
    {
     "name": "stderr",
     "output_type": "stream",
     "text": [
      "100%|██████████| 120/120 [02:00<00:00,  1.01s/it]\n"
     ]
    },
    {
     "name": "stdout",
     "output_type": "stream",
     "text": [
      "[ Rate limit exceeded ] >> currunt_rank: \"GOLD II\", rest time: 3\n",
      "sleep until request limit recovery...\n"
     ]
    },
    {
     "name": "stderr",
     "output_type": "stream",
     "text": [
      "100%|██████████| 120/120 [02:00<00:00,  1.01s/it]\n"
     ]
    },
    {
     "name": "stdout",
     "output_type": "stream",
     "text": [
      "[ Rate limit exceeded ] >> currunt_rank: \"GOLD II\", rest time: 4\n",
      "sleep until request limit recovery...\n"
     ]
    },
    {
     "name": "stderr",
     "output_type": "stream",
     "text": [
      "100%|██████████| 120/120 [02:00<00:00,  1.01s/it]\n"
     ]
    },
    {
     "name": "stdout",
     "output_type": "stream",
     "text": [
      "[ Rate limit exceeded ] >> currunt_rank: \"GOLD II\", rest time: 5\n",
      "sleep until request limit recovery...\n"
     ]
    },
    {
     "name": "stderr",
     "output_type": "stream",
     "text": [
      "100%|██████████| 120/120 [02:00<00:00,  1.01s/it]\n"
     ]
    },
    {
     "name": "stdout",
     "output_type": "stream",
     "text": [
      "[ Rate limit exceeded ] >> currunt_rank: \"GOLD II\", rest time: 6\n",
      "sleep until request limit recovery...\n"
     ]
    },
    {
     "name": "stderr",
     "output_type": "stream",
     "text": [
      "100%|██████████| 120/120 [02:00<00:00,  1.01s/it]\n"
     ]
    },
    {
     "name": "stdout",
     "output_type": "stream",
     "text": [
      "[ Rate limit exceeded ] >> currunt_rank: \"GOLD II\", rest time: 7\n",
      "sleep until request limit recovery...\n"
     ]
    },
    {
     "name": "stderr",
     "output_type": "stream",
     "text": [
      "100%|██████████| 120/120 [02:00<00:00,  1.01s/it]\n"
     ]
    },
    {
     "name": "stdout",
     "output_type": "stream",
     "text": [
      "[ Rate limit exceeded ] >> currunt_rank: \"GOLD II\", rest time: 8\n",
      "sleep until request limit recovery...\n"
     ]
    },
    {
     "name": "stderr",
     "output_type": "stream",
     "text": [
      "100%|██████████| 120/120 [02:00<00:00,  1.01s/it]\n"
     ]
    },
    {
     "name": "stdout",
     "output_type": "stream",
     "text": [
      "gold 2: complete!\n",
      "[ Rate limit exceeded ] >> currunt_rank: \"GOLD I\", rest time: 1\n",
      "sleep until request limit recovery...\n"
     ]
    },
    {
     "name": "stderr",
     "output_type": "stream",
     "text": [
      "100%|██████████| 120/120 [02:00<00:00,  1.01s/it]\n"
     ]
    },
    {
     "name": "stdout",
     "output_type": "stream",
     "text": [
      "[ Rate limit exceeded ] >> currunt_rank: \"GOLD I\", rest time: 2\n",
      "sleep until request limit recovery...\n"
     ]
    },
    {
     "name": "stderr",
     "output_type": "stream",
     "text": [
      "100%|██████████| 120/120 [02:00<00:00,  1.01s/it]\n"
     ]
    },
    {
     "name": "stdout",
     "output_type": "stream",
     "text": [
      "[ Rate limit exceeded ] >> currunt_rank: \"GOLD I\", rest time: 3\n",
      "sleep until request limit recovery...\n"
     ]
    },
    {
     "name": "stderr",
     "output_type": "stream",
     "text": [
      "100%|██████████| 120/120 [02:00<00:00,  1.01s/it]\n"
     ]
    },
    {
     "name": "stdout",
     "output_type": "stream",
     "text": [
      "[ Rate limit exceeded ] >> currunt_rank: \"GOLD I\", rest time: 4\n",
      "sleep until request limit recovery...\n"
     ]
    },
    {
     "name": "stderr",
     "output_type": "stream",
     "text": [
      "100%|██████████| 120/120 [02:00<00:00,  1.01s/it]\n"
     ]
    },
    {
     "name": "stdout",
     "output_type": "stream",
     "text": [
      "[ Rate limit exceeded ] >> currunt_rank: \"GOLD I\", rest time: 5\n",
      "sleep until request limit recovery...\n"
     ]
    },
    {
     "name": "stderr",
     "output_type": "stream",
     "text": [
      "100%|██████████| 120/120 [02:00<00:00,  1.01s/it]\n"
     ]
    },
    {
     "name": "stdout",
     "output_type": "stream",
     "text": [
      "gold 1: complete!\n",
      "[ Rate limit exceeded ] >> currunt_rank: \"PLATINUM IV\", rest time: 1\n",
      "sleep until request limit recovery...\n"
     ]
    },
    {
     "name": "stderr",
     "output_type": "stream",
     "text": [
      "100%|██████████| 120/120 [02:00<00:00,  1.01s/it]\n"
     ]
    },
    {
     "name": "stdout",
     "output_type": "stream",
     "text": [
      "[ Rate limit exceeded ] >> currunt_rank: \"PLATINUM IV\", rest time: 2\n",
      "sleep until request limit recovery...\n"
     ]
    },
    {
     "name": "stderr",
     "output_type": "stream",
     "text": [
      "100%|██████████| 120/120 [02:00<00:00,  1.01s/it]\n"
     ]
    },
    {
     "name": "stdout",
     "output_type": "stream",
     "text": [
      "[ Rate limit exceeded ] >> currunt_rank: \"PLATINUM IV\", rest time: 3\n",
      "sleep until request limit recovery...\n"
     ]
    },
    {
     "name": "stderr",
     "output_type": "stream",
     "text": [
      "100%|██████████| 120/120 [02:00<00:00,  1.01s/it]\n"
     ]
    },
    {
     "name": "stdout",
     "output_type": "stream",
     "text": [
      "[ Rate limit exceeded ] >> currunt_rank: \"PLATINUM IV\", rest time: 4\n",
      "sleep until request limit recovery...\n"
     ]
    },
    {
     "name": "stderr",
     "output_type": "stream",
     "text": [
      "100%|██████████| 120/120 [02:00<00:00,  1.01s/it]\n"
     ]
    },
    {
     "name": "stdout",
     "output_type": "stream",
     "text": [
      "[ Rate limit exceeded ] >> currunt_rank: \"PLATINUM IV\", rest time: 5\n",
      "sleep until request limit recovery...\n"
     ]
    },
    {
     "name": "stderr",
     "output_type": "stream",
     "text": [
      "100%|██████████| 120/120 [02:00<00:00,  1.01s/it]\n"
     ]
    },
    {
     "name": "stdout",
     "output_type": "stream",
     "text": [
      "[ Rate limit exceeded ] >> currunt_rank: \"PLATINUM IV\", rest time: 6\n",
      "sleep until request limit recovery...\n"
     ]
    },
    {
     "name": "stderr",
     "output_type": "stream",
     "text": [
      "100%|██████████| 120/120 [02:00<00:00,  1.01s/it]\n"
     ]
    },
    {
     "name": "stdout",
     "output_type": "stream",
     "text": [
      "[ Rate limit exceeded ] >> currunt_rank: \"PLATINUM IV\", rest time: 7\n",
      "sleep until request limit recovery...\n"
     ]
    },
    {
     "name": "stderr",
     "output_type": "stream",
     "text": [
      "100%|██████████| 120/120 [02:00<00:00,  1.01s/it]\n"
     ]
    },
    {
     "name": "stdout",
     "output_type": "stream",
     "text": [
      "[ Rate limit exceeded ] >> currunt_rank: \"PLATINUM IV\", rest time: 8\n",
      "sleep until request limit recovery...\n"
     ]
    },
    {
     "name": "stderr",
     "output_type": "stream",
     "text": [
      "100%|██████████| 120/120 [02:00<00:00,  1.01s/it]\n"
     ]
    },
    {
     "name": "stdout",
     "output_type": "stream",
     "text": [
      "platinum 4: complete!\n",
      "[ Rate limit exceeded ] >> currunt_rank: \"PLATINUM III\", rest time: 1\n",
      "sleep until request limit recovery...\n"
     ]
    },
    {
     "name": "stderr",
     "output_type": "stream",
     "text": [
      "100%|██████████| 120/120 [02:00<00:00,  1.01s/it]\n"
     ]
    },
    {
     "name": "stdout",
     "output_type": "stream",
     "text": [
      "[ Rate limit exceeded ] >> currunt_rank: \"PLATINUM III\", rest time: 2\n",
      "sleep until request limit recovery...\n"
     ]
    },
    {
     "name": "stderr",
     "output_type": "stream",
     "text": [
      "100%|██████████| 120/120 [02:00<00:00,  1.01s/it]\n"
     ]
    },
    {
     "name": "stdout",
     "output_type": "stream",
     "text": [
      "[ Rate limit exceeded ] >> currunt_rank: \"PLATINUM III\", rest time: 3\n",
      "sleep until request limit recovery...\n"
     ]
    },
    {
     "name": "stderr",
     "output_type": "stream",
     "text": [
      "100%|██████████| 120/120 [02:00<00:00,  1.01s/it]\n"
     ]
    },
    {
     "name": "stdout",
     "output_type": "stream",
     "text": [
      "[ Rate limit exceeded ] >> currunt_rank: \"PLATINUM III\", rest time: 4\n",
      "sleep until request limit recovery...\n"
     ]
    },
    {
     "name": "stderr",
     "output_type": "stream",
     "text": [
      "100%|██████████| 120/120 [02:00<00:00,  1.01s/it]\n"
     ]
    },
    {
     "name": "stdout",
     "output_type": "stream",
     "text": [
      "platinum 3: complete!\n",
      "[ Rate limit exceeded ] >> currunt_rank: \"PLATINUM II\", rest time: 1\n",
      "sleep until request limit recovery...\n"
     ]
    },
    {
     "name": "stderr",
     "output_type": "stream",
     "text": [
      "100%|██████████| 120/120 [02:00<00:00,  1.01s/it]\n"
     ]
    },
    {
     "name": "stdout",
     "output_type": "stream",
     "text": [
      "[ Rate limit exceeded ] >> currunt_rank: \"PLATINUM II\", rest time: 2\n",
      "sleep until request limit recovery...\n"
     ]
    },
    {
     "name": "stderr",
     "output_type": "stream",
     "text": [
      "100%|██████████| 120/120 [02:00<00:00,  1.01s/it]\n"
     ]
    },
    {
     "name": "stdout",
     "output_type": "stream",
     "text": [
      "platinum 2: complete!\n",
      "[ Rate limit exceeded ] >> currunt_rank: \"PLATINUM I\", rest time: 1\n",
      "sleep until request limit recovery...\n"
     ]
    },
    {
     "name": "stderr",
     "output_type": "stream",
     "text": [
      "100%|██████████| 120/120 [02:00<00:00,  1.01s/it]\n"
     ]
    },
    {
     "name": "stdout",
     "output_type": "stream",
     "text": [
      "[ Rate limit exceeded ] >> currunt_rank: \"PLATINUM I\", rest time: 2\n",
      "sleep until request limit recovery...\n"
     ]
    },
    {
     "name": "stderr",
     "output_type": "stream",
     "text": [
      "100%|██████████| 120/120 [02:00<00:00,  1.01s/it]\n"
     ]
    },
    {
     "name": "stdout",
     "output_type": "stream",
     "text": [
      "platinum 1: complete!\n",
      "[ Rate limit exceeded ] >> currunt_rank: \"DIAMOND IV\", rest time: 1\n",
      "sleep until request limit recovery...\n"
     ]
    },
    {
     "name": "stderr",
     "output_type": "stream",
     "text": [
      "100%|██████████| 120/120 [02:00<00:00,  1.01s/it]\n"
     ]
    },
    {
     "name": "stdout",
     "output_type": "stream",
     "text": [
      "[ Rate limit exceeded ] >> currunt_rank: \"DIAMOND IV\", rest time: 2\n",
      "sleep until request limit recovery...\n"
     ]
    },
    {
     "name": "stderr",
     "output_type": "stream",
     "text": [
      "100%|██████████| 120/120 [02:00<00:00,  1.01s/it]\n"
     ]
    },
    {
     "name": "stdout",
     "output_type": "stream",
     "text": [
      "diamond 4: complete!\n",
      "[ Rate limit exceeded ] >> currunt_rank: \"DIAMOND III\", rest time: 1\n",
      "sleep until request limit recovery...\n"
     ]
    },
    {
     "name": "stderr",
     "output_type": "stream",
     "text": [
      "100%|██████████| 120/120 [02:00<00:00,  1.01s/it]\n"
     ]
    },
    {
     "name": "stdout",
     "output_type": "stream",
     "text": [
      "diamond 3: complete!\n",
      "diamond 2: complete!\n",
      "[ Rate limit exceeded ] >> currunt_rank: \"DIAMOND I\", rest time: 1\n",
      "sleep until request limit recovery...\n"
     ]
    },
    {
     "name": "stderr",
     "output_type": "stream",
     "text": [
      "100%|██████████| 120/120 [02:00<00:00,  1.01s/it]\n"
     ]
    },
    {
     "name": "stdout",
     "output_type": "stream",
     "text": [
      "diamond 1: complete!\n"
     ]
    }
   ],
   "source": [
    "riot_api = ''\n",
    "ranks = [\n",
    "    ('iron', 4), ('iron', 3), ('iron', 2), ('iron', 1), \n",
    "    ('bronze', 4), ('bronze', 3), ('bronze', 2), ('bronze', 1), \n",
    "    ('silver', 4), ('silver', 3), ('silver', 2), ('silver', 1), \n",
    "    ('gold', 4), ('gold', 3), ('gold', 2), ('gold', 1), \n",
    "    ('platinum', 4), ('platinum', 3), ('platinum', 2), ('platinum', 1), \n",
    "    ('diamond', 4), ('diamond', 3), ('diamond', 2), ('diamond', 1)\n",
    "]\n",
    "all_rank_tier = {}\n",
    "for rank, tier in ranks:\n",
    "    all_rank_tier[f'{rank}{tier}'] = endOfRankPlayer(rank, tier, riot_api)\n",
    "    print(f'{rank} {tier}: complete!')"
   ]
  },
  {
   "cell_type": "code",
   "execution_count": 9,
   "metadata": {},
   "outputs": [
    {
     "data": {
      "text/plain": [
       "{'iron4': {'totalPlayer': 10001, 'lastPage': 49},\n",
       " 'iron3': {'totalPlayer': 22262, 'lastPage': 109},\n",
       " 'iron2': {'totalPlayer': 49129, 'lastPage': 240},\n",
       " 'iron1': {'totalPlayer': 78967, 'lastPage': 386},\n",
       " 'bronze4': {'totalPlayer': 164733, 'lastPage': 804},\n",
       " 'bronze3': {'totalPlayer': 154715, 'lastPage': 755},\n",
       " 'bronze2': {'totalPlayer': 177882, 'lastPage': 868},\n",
       " 'bronze1': {'totalPlayer': 174770, 'lastPage': 853},\n",
       " 'silver4': {'totalPlayer': 263993, 'lastPage': 1288},\n",
       " 'silver3': {'totalPlayer': 211259, 'lastPage': 1031},\n",
       " 'silver2': {'totalPlayer': 220954, 'lastPage': 1078},\n",
       " 'silver1': {'totalPlayer': 195925, 'lastPage': 956},\n",
       " 'gold4': {'totalPlayer': 309974, 'lastPage': 1513},\n",
       " 'gold3': {'totalPlayer': 173904, 'lastPage': 849},\n",
       " 'gold2': {'totalPlayer': 149137, 'lastPage': 728},\n",
       " 'gold1': {'totalPlayer': 114962, 'lastPage': 561},\n",
       " 'platinum4': {'totalPlayer': 161601, 'lastPage': 789},\n",
       " 'platinum3': {'totalPlayer': 71378, 'lastPage': 349},\n",
       " 'platinum2': {'totalPlayer': 49209, 'lastPage': 241},\n",
       " 'platinum1': {'totalPlayer': 45843, 'lastPage': 224},\n",
       " 'diamond4': {'totalPlayer': 33487, 'lastPage': 164},\n",
       " 'diamond3': {'totalPlayer': 15998, 'lastPage': 79},\n",
       " 'diamond2': {'totalPlayer': 13421, 'lastPage': 66},\n",
       " 'diamond1': {'totalPlayer': 12655, 'lastPage': 62}}"
      ]
     },
     "execution_count": 9,
     "metadata": {},
     "output_type": "execute_result"
    }
   ],
   "source": [
    "all_rank_tier"
   ]
  },
  {
   "cell_type": "code",
   "execution_count": 11,
   "metadata": {},
   "outputs": [],
   "source": [
    "with open('../json/totalRankPlayer.json', 'w') as f:\n",
    "    f.write(json.dumps(all_rank_tier))"
   ]
  }
 ],
 "metadata": {
  "kernelspec": {
   "display_name": "base",
   "language": "python",
   "name": "python3"
  },
  "language_info": {
   "codemirror_mode": {
    "name": "ipython",
    "version": 3
   },
   "file_extension": ".py",
   "mimetype": "text/x-python",
   "name": "python",
   "nbconvert_exporter": "python",
   "pygments_lexer": "ipython3",
   "version": "3.9.13"
  },
  "orig_nbformat": 4
 },
 "nbformat": 4,
 "nbformat_minor": 2
}
