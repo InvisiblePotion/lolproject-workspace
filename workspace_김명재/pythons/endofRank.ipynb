{
 "cells": [
  {
   "cell_type": "code",
   "execution_count": 19,
   "metadata": {},
   "outputs": [],
   "source": [
    "import requests as req\n",
    "from my_utils import apiSleep"
   ]
  },
  {
   "cell_type": "code",
   "execution_count": 55,
   "metadata": {},
   "outputs": [],
   "source": [
    "def endOfRankPlayer(rank: str, tier: int, riot_api_key: str):\n",
    "    rank = rank.upper()\n",
    "    tier_list = ['I','II','III','IV']\n",
    "    cycle = 1\n",
    "    total = 0\n",
    "    rest = 0\n",
    "    while True:\n",
    "        get = req.get(f'https://kr.api.riotgames.com/lol/league/v4/entries/RANKED_SOLO_5x5/{rank}/{tier_list[tier-1]}?page={cycle}&api_key={riot_api_key}').json()\n",
    "        if get.__class__ != list().__class__:\n",
    "            rest += 1\n",
    "            print(f'[ Rate limit exceeded ] >> currunt_rank: \"{rank} {tier_list[tier-1]}\", rest time: {rest}')\n",
    "            apiSleep()\n",
    "            continue\n",
    "        if (l:=len(get)) != 0:\n",
    "            total += l\n",
    "            cycle += 1\n",
    "        else:\n",
    "            break\n",
    "    # print(rank, ' ', tier_list[tier-1])\n",
    "    # print('total player: ', total)\n",
    "    # print('last page: ', cycle-1)\n",
    "    return {'totalPlayer': total, 'lastPage': cycle-1}"
   ]
  },
  {
   "cell_type": "code",
   "execution_count": 56,
   "metadata": {},
   "outputs": [
    {
     "name": "stdout",
     "output_type": "stream",
     "text": [
      "iron 4: complete!\n",
      "[ Rate limit exceeded ] >> currunt_rank: \"IRON III\", rest time: 1\n",
      "sleep until request limit recovery...\n"
     ]
    },
    {
     "name": "stderr",
     "output_type": "stream",
     "text": [
      "100%|██████████| 120/120 [02:01<00:00,  1.01s/it]\n"
     ]
    },
    {
     "name": "stdout",
     "output_type": "stream",
     "text": [
      "iron 3: complete!\n",
      "[ Rate limit exceeded ] >> currunt_rank: \"IRON II\", rest time: 1\n",
      "sleep until request limit recovery...\n"
     ]
    },
    {
     "name": "stderr",
     "output_type": "stream",
     "text": [
      "100%|██████████| 120/120 [02:01<00:00,  1.01s/it]\n"
     ]
    },
    {
     "name": "stdout",
     "output_type": "stream",
     "text": [
      "[ Rate limit exceeded ] >> currunt_rank: \"IRON II\", rest time: 2\n",
      "sleep until request limit recovery...\n"
     ]
    },
    {
     "name": "stderr",
     "output_type": "stream",
     "text": [
      "100%|██████████| 120/120 [02:00<00:00,  1.01s/it]\n"
     ]
    },
    {
     "name": "stdout",
     "output_type": "stream",
     "text": [
      "[ Rate limit exceeded ] >> currunt_rank: \"IRON II\", rest time: 3\n",
      "sleep until request limit recovery...\n"
     ]
    },
    {
     "name": "stderr",
     "output_type": "stream",
     "text": [
      "100%|██████████| 120/120 [02:01<00:00,  1.01s/it]\n"
     ]
    },
    {
     "name": "stdout",
     "output_type": "stream",
     "text": [
      "iron 2: complete!\n",
      "[ Rate limit exceeded ] >> currunt_rank: \"IRON I\", rest time: 1\n",
      "sleep until request limit recovery...\n"
     ]
    },
    {
     "name": "stderr",
     "output_type": "stream",
     "text": [
      "100%|██████████| 120/120 [02:01<00:00,  1.01s/it]\n"
     ]
    },
    {
     "name": "stdout",
     "output_type": "stream",
     "text": [
      "[ Rate limit exceeded ] >> currunt_rank: \"IRON I\", rest time: 2\n",
      "sleep until request limit recovery...\n"
     ]
    },
    {
     "name": "stderr",
     "output_type": "stream",
     "text": [
      "100%|██████████| 120/120 [02:00<00:00,  1.01s/it]\n"
     ]
    },
    {
     "name": "stdout",
     "output_type": "stream",
     "text": [
      "[ Rate limit exceeded ] >> currunt_rank: \"IRON I\", rest time: 3\n",
      "sleep until request limit recovery...\n"
     ]
    },
    {
     "name": "stderr",
     "output_type": "stream",
     "text": [
      "100%|██████████| 120/120 [02:00<00:00,  1.01s/it]\n"
     ]
    },
    {
     "name": "stdout",
     "output_type": "stream",
     "text": [
      "iron 1: complete!\n",
      "[ Rate limit exceeded ] >> currunt_rank: \"BRONZE IV\", rest time: 1\n",
      "sleep until request limit recovery...\n"
     ]
    },
    {
     "name": "stderr",
     "output_type": "stream",
     "text": [
      "  3%|▎         | 4/120 [00:05<02:25,  1.26s/it]\n"
     ]
    },
    {
     "ename": "KeyboardInterrupt",
     "evalue": "",
     "output_type": "error",
     "traceback": [
      "\u001b[1;31m---------------------------------------------------------------------------\u001b[0m",
      "\u001b[1;31mKeyboardInterrupt\u001b[0m                         Traceback (most recent call last)",
      "\u001b[1;32m~\\AppData\\Local\\Temp\\ipykernel_22372\\3965956558.py\u001b[0m in \u001b[0;36m<module>\u001b[1;34m\u001b[0m\n\u001b[0;32m     10\u001b[0m \u001b[0mall_rank_tier\u001b[0m \u001b[1;33m=\u001b[0m \u001b[1;33m{\u001b[0m\u001b[1;33m}\u001b[0m\u001b[1;33m\u001b[0m\u001b[1;33m\u001b[0m\u001b[0m\n\u001b[0;32m     11\u001b[0m \u001b[1;32mfor\u001b[0m \u001b[0mrank\u001b[0m\u001b[1;33m,\u001b[0m \u001b[0mtier\u001b[0m \u001b[1;32min\u001b[0m \u001b[0mranks\u001b[0m\u001b[1;33m:\u001b[0m\u001b[1;33m\u001b[0m\u001b[1;33m\u001b[0m\u001b[0m\n\u001b[1;32m---> 12\u001b[1;33m     \u001b[0mall_rank_tier\u001b[0m\u001b[1;33m[\u001b[0m\u001b[1;34mf'{rank}{tier}'\u001b[0m\u001b[1;33m]\u001b[0m \u001b[1;33m=\u001b[0m \u001b[0mendOfRankPlayer\u001b[0m\u001b[1;33m(\u001b[0m\u001b[0mrank\u001b[0m\u001b[1;33m,\u001b[0m \u001b[0mtier\u001b[0m\u001b[1;33m,\u001b[0m \u001b[0mriot_api\u001b[0m\u001b[1;33m)\u001b[0m\u001b[1;33m\u001b[0m\u001b[1;33m\u001b[0m\u001b[0m\n\u001b[0m\u001b[0;32m     13\u001b[0m     \u001b[0mprint\u001b[0m\u001b[1;33m(\u001b[0m\u001b[1;34mf'{rank} {tier}: complete!'\u001b[0m\u001b[1;33m)\u001b[0m\u001b[1;33m\u001b[0m\u001b[1;33m\u001b[0m\u001b[0m\n",
      "\u001b[1;32m~\\AppData\\Local\\Temp\\ipykernel_22372\\2288640111.py\u001b[0m in \u001b[0;36mendOfRankPlayer\u001b[1;34m(rank, tier, riot_api_key)\u001b[0m\n\u001b[0;32m     10\u001b[0m             \u001b[0mrest\u001b[0m \u001b[1;33m+=\u001b[0m \u001b[1;36m1\u001b[0m\u001b[1;33m\u001b[0m\u001b[1;33m\u001b[0m\u001b[0m\n\u001b[0;32m     11\u001b[0m             \u001b[0mprint\u001b[0m\u001b[1;33m(\u001b[0m\u001b[1;34mf'[ Rate limit exceeded ] >> currunt_rank: \"{rank} {tier_list[tier-1]}\", rest time: {rest}'\u001b[0m\u001b[1;33m)\u001b[0m\u001b[1;33m\u001b[0m\u001b[1;33m\u001b[0m\u001b[0m\n\u001b[1;32m---> 12\u001b[1;33m             \u001b[0mapiSleep\u001b[0m\u001b[1;33m(\u001b[0m\u001b[1;33m)\u001b[0m\u001b[1;33m\u001b[0m\u001b[1;33m\u001b[0m\u001b[0m\n\u001b[0m\u001b[0;32m     13\u001b[0m             \u001b[1;32mcontinue\u001b[0m\u001b[1;33m\u001b[0m\u001b[1;33m\u001b[0m\u001b[0m\n\u001b[0;32m     14\u001b[0m         \u001b[1;32mif\u001b[0m \u001b[1;33m(\u001b[0m\u001b[0ml\u001b[0m\u001b[1;33m:=\u001b[0m\u001b[0mlen\u001b[0m\u001b[1;33m(\u001b[0m\u001b[0mget\u001b[0m\u001b[1;33m)\u001b[0m\u001b[1;33m)\u001b[0m \u001b[1;33m!=\u001b[0m \u001b[1;36m0\u001b[0m\u001b[1;33m:\u001b[0m\u001b[1;33m\u001b[0m\u001b[1;33m\u001b[0m\u001b[0m\n",
      "\u001b[1;32md:\\7_LOL Project\\lolproject-workspace\\workspace_김명재\\pythons\\my_utils.py\u001b[0m in \u001b[0;36mapiSleep\u001b[1;34m(slp_time)\u001b[0m\n\u001b[0;32m    241\u001b[0m     \u001b[0mprint\u001b[0m\u001b[1;33m(\u001b[0m\u001b[1;34m'sleep until request limit recovery...'\u001b[0m\u001b[1;33m)\u001b[0m\u001b[1;33m\u001b[0m\u001b[1;33m\u001b[0m\u001b[0m\n\u001b[0;32m    242\u001b[0m     \u001b[1;32mfor\u001b[0m \u001b[0mslp\u001b[0m \u001b[1;32min\u001b[0m \u001b[0mtqdm\u001b[0m\u001b[1;33m(\u001b[0m\u001b[0mrange\u001b[0m\u001b[1;33m(\u001b[0m\u001b[0mslp_time\u001b[0m\u001b[1;33m)\u001b[0m\u001b[1;33m)\u001b[0m\u001b[1;33m:\u001b[0m\u001b[1;33m\u001b[0m\u001b[1;33m\u001b[0m\u001b[0m\n\u001b[1;32m--> 243\u001b[1;33m         \u001b[0mtime\u001b[0m\u001b[1;33m.\u001b[0m\u001b[0msleep\u001b[0m\u001b[1;33m(\u001b[0m\u001b[1;36m1\u001b[0m\u001b[1;33m)\u001b[0m\u001b[1;33m\u001b[0m\u001b[1;33m\u001b[0m\u001b[0m\n\u001b[0m\u001b[0;32m    244\u001b[0m \u001b[1;33m\u001b[0m\u001b[0m\n\u001b[0;32m    245\u001b[0m \u001b[1;33m\u001b[0m\u001b[0m\n",
      "\u001b[1;31mKeyboardInterrupt\u001b[0m: "
     ]
    }
   ],
   "source": [
    "riot_api = 'RGAPI-fe94e255-1524-49a6-8d33-34c07bbc97a0'\n",
    "ranks = [\n",
    "    ('iron', 4), ('iron', 3), ('iron', 2), ('iron', 1), \n",
    "    ('bronze', 4), ('bronze', 3), ('bronze', 2), ('bronze', 1), \n",
    "    ('silver', 4), ('silver', 3), ('silver', 2), ('silver', 1), \n",
    "    ('gold', 4), ('gold', 3), ('gold', 2), ('gold', 1), \n",
    "    ('platinum', 4), ('platinum', 3), ('platinum', 2), ('platinum', 1), \n",
    "    ('diamond', 4), ('diamond', 3), ('diamond', 2), ('diamond', 1)\n",
    "]\n",
    "all_rank_tier = {}\n",
    "for rank, tier in ranks:\n",
    "    all_rank_tier[f'{rank}{tier}'] = endOfRankPlayer(rank, tier, riot_api)\n",
    "    print(f'{rank} {tier}: complete!')"
   ]
  },
  {
   "cell_type": "code",
   "execution_count": 57,
   "metadata": {},
   "outputs": [
    {
     "data": {
      "text/plain": [
       "{'iron4': {'totalPlayer': 9896, 'lastPage': 49},\n",
       " 'iron3': {'totalPlayer': 22194, 'lastPage': 109},\n",
       " 'iron2': {'totalPlayer': 49094, 'lastPage': 240},\n",
       " 'iron1': {'totalPlayer': 79014, 'lastPage': 386}}"
      ]
     },
     "execution_count": 57,
     "metadata": {},
     "output_type": "execute_result"
    }
   ],
   "source": [
    "all_rank_tier"
   ]
  }
 ],
 "metadata": {
  "kernelspec": {
   "display_name": "base",
   "language": "python",
   "name": "python3"
  },
  "language_info": {
   "codemirror_mode": {
    "name": "ipython",
    "version": 3
   },
   "file_extension": ".py",
   "mimetype": "text/x-python",
   "name": "python",
   "nbconvert_exporter": "python",
   "pygments_lexer": "ipython3",
   "version": "3.9.13"
  },
  "orig_nbformat": 4
 },
 "nbformat": 4,
 "nbformat_minor": 2
}
