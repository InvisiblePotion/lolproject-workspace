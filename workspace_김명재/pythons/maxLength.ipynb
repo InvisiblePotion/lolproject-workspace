{
 "cells": [
  {
   "cell_type": "code",
   "execution_count": 1,
   "metadata": {},
   "outputs": [],
   "source": [
    "import requests as req\n",
    "import pandas as pd\n",
    "import json\n",
    "from PIL import Image\n",
    "from io import BytesIO\n",
    "import random\n",
    "from tqdm import tqdm\n",
    "from oracle_test import OracleTools\n",
    "import my_utils as mu\n",
    "import time"
   ]
  },
  {
   "cell_type": "code",
   "execution_count": 6,
   "metadata": {},
   "outputs": [],
   "source": [
    "rank = req.get('https://kr.api.riotgames.com/lol/league/v4/entries/RANKED_SOLO_5x5/PLATINUM/I?page=1&api_key=RGAPI-d06daf2c-8240-491b-8ebf-fe7eaf37cb22').json()"
   ]
  },
  {
   "cell_type": "code",
   "execution_count": 20,
   "metadata": {},
   "outputs": [],
   "source": [
    "rank = rank[:10]"
   ]
  },
  {
   "cell_type": "code",
   "execution_count": 11,
   "metadata": {},
   "outputs": [],
   "source": [
    "rank_keys = ['tier', 'rank', 'wins', 'losses', 'veteran', 'inactive', 'freshBlood', 'hotStreak']"
   ]
  },
  {
   "cell_type": "code",
   "execution_count": 30,
   "metadata": {},
   "outputs": [],
   "source": [
    "y = [{k:v[k] for k in rank_keys} for v in rank]"
   ]
  },
  {
   "cell_type": "code",
   "execution_count": 33,
   "metadata": {},
   "outputs": [
    {
     "data": {
      "text/plain": [
       "{'tier': 'PLATINUM',\n",
       " 'rank': 'I',\n",
       " 'wins': 65,\n",
       " 'losses': 86,\n",
       " 'veteran': True,\n",
       " 'inactive': False,\n",
       " 'freshBlood': False,\n",
       " 'hotStreak': False}"
      ]
     },
     "execution_count": 33,
     "metadata": {},
     "output_type": "execute_result"
    }
   ],
   "source": [
    "y[0]"
   ]
  },
  {
   "cell_type": "code",
   "execution_count": null,
   "metadata": {},
   "outputs": [],
   "source": [
    "pd.DataFrame(y, columns=['tiers', 'rank', 'wins', 'losses', 'veteran', 'inactive', 'freshBlood', 'hotStreak'])"
   ]
  },
  {
   "cell_type": "code",
   "execution_count": 34,
   "metadata": {},
   "outputs": [],
   "source": [
    "z = {k:rank[0][k] for k in rank_keys}"
   ]
  },
  {
   "cell_type": "code",
   "execution_count": 35,
   "metadata": {},
   "outputs": [
    {
     "data": {
      "text/plain": [
       "{'tier': 'PLATINUM',\n",
       " 'rank': 'I',\n",
       " 'wins': 65,\n",
       " 'losses': 86,\n",
       " 'veteran': True,\n",
       " 'inactive': False,\n",
       " 'freshBlood': False,\n",
       " 'hotStreak': False}"
      ]
     },
     "execution_count": 35,
     "metadata": {},
     "output_type": "execute_result"
    }
   ],
   "source": [
    "z"
   ]
  },
  {
   "cell_type": "code",
   "execution_count": 65,
   "metadata": {},
   "outputs": [
    {
     "data": {
      "text/plain": [
       "False"
      ]
     },
     "execution_count": 65,
     "metadata": {},
     "output_type": "execute_result"
    }
   ],
   "source": [
    "q = {'y':1, 'n':3}\n",
    "True in [a is True for a in q.values()]"
   ]
  },
  {
   "cell_type": "code",
   "execution_count": 50,
   "metadata": {},
   "outputs": [
    {
     "data": {
      "text/plain": [
       "[2, 1]"
      ]
     },
     "execution_count": 50,
     "metadata": {},
     "output_type": "execute_result"
    }
   ],
   "source": [
    "[a for a in q.values()]"
   ]
  },
  {
   "cell_type": "code",
   "execution_count": null,
   "metadata": {},
   "outputs": [],
   "source": [
    "r = 0\n",
    "for i in tqdm(range(3), desc='1차 (t:0)'):\n",
    "    time.sleep(1)\n",
    "    for j in tqdm(range(3), desc='\\t2차 (t:1)'):\n",
    "        time.sleep(1)\n",
    "        for k in tqdm(range(3), desc='\\t\\t3차 (t:2)'):\n",
    "            time.sleep(1)\n",
    "            r += 1"
   ]
  },
  {
   "cell_type": "code",
   "execution_count": 97,
   "metadata": {},
   "outputs": [
    {
     "data": {
      "text/plain": [
       "[1, 2, 3, 4]"
      ]
     },
     "execution_count": 97,
     "metadata": {},
     "output_type": "execute_result"
    }
   ],
   "source": [
    "a = {'q':1, 'w':2}\n",
    "b = {'e':3, 'r':4}\n",
    "list(a.values()) + list(b.values())"
   ]
  },
  {
   "cell_type": "code",
   "execution_count": 104,
   "metadata": {},
   "outputs": [
    {
     "name": "stdout",
     "output_type": "stream",
     "text": [
      "0\n",
      "2\n",
      "3\n",
      "4\n",
      "5\n",
      "6\n",
      "7\n",
      "8\n",
      "9\n"
     ]
    }
   ],
   "source": [
    "def asdf(i: int):\n",
    "    if i == 1: return False\n",
    "    else: return i\n",
    "for i in range(10):\n",
    "    if (a := asdf(i)) is False: continue\n",
    "    print(a)"
   ]
  },
  {
   "cell_type": "code",
   "execution_count": 109,
   "metadata": {},
   "outputs": [
    {
     "name": "stdout",
     "output_type": "stream",
     "text": [
      "[]\n"
     ]
    }
   ],
   "source": [
    "def qwer(q: int):\n",
    "    if q == 4: return []\n",
    "    else: return q\n",
    "if (a := qwer(4)) is False: pass\n",
    "print(a)"
   ]
  },
  {
   "cell_type": "code",
   "execution_count": 115,
   "metadata": {},
   "outputs": [
    {
     "name": "stdout",
     "output_type": "stream",
     "text": [
      "asdf\n",
      "qwer\n"
     ]
    }
   ],
   "source": [
    "print(\n",
    "    \"\"\"asdf\n",
    "qwer\"\"\")"
   ]
  },
  {
   "cell_type": "code",
   "execution_count": 178,
   "metadata": {},
   "outputs": [],
   "source": [
    "rank_data = req.get('https://kr.api.riotgames.com/lol/league/v4/entries/RANKED_SOLO_5x5/DIAMOND/I?page=1&api_key=RGAPI-6f47a848-338c-4c2a-a42a-6bfc194dfda5').json()"
   ]
  },
  {
   "cell_type": "code",
   "execution_count": null,
   "metadata": {},
   "outputs": [],
   "source": [
    "rank_data\n",
    "# test_data = rank_data[:10]"
   ]
  },
  {
   "cell_type": "code",
   "execution_count": 160,
   "metadata": {},
   "outputs": [],
   "source": [
    "rank_data_keys = ['tier', 'wins', 'losses', 'veteran', 'inactive', 'freshBlood', 'hotStreak']"
   ]
  },
  {
   "cell_type": "code",
   "execution_count": 201,
   "metadata": {},
   "outputs": [],
   "source": [
    "test_data = [[v[i] for i in rank_data_keys] for v in rank_data]"
   ]
  },
  {
   "cell_type": "code",
   "execution_count": 202,
   "metadata": {},
   "outputs": [
    {
     "data": {
      "text/plain": [
       "[['DIAMOND', 185, 164, False, False, False, False],\n",
       " ['DIAMOND', 110, 87, False, False, False, False],\n",
       " ['DIAMOND', 66, 72, False, False, False, True],\n",
       " ['DIAMOND', 167, 137, False, False, True, False],\n",
       " ['DIAMOND', 104, 81, False, False, False, False],\n",
       " ['DIAMOND', 146, 123, False, False, True, False],\n",
       " ['DIAMOND', 172, 161, False, False, False, True],\n",
       " ['DIAMOND', 100, 88, False, False, False, True],\n",
       " ['DIAMOND', 37, 33, False, False, False, False],\n",
       " ['DIAMOND', 12, 7, False, False, False, True],\n",
       " ['DIAMOND', 68, 64, False, False, False, True],\n",
       " ['DIAMOND', 54, 36, False, False, False, False],\n",
       " ['DIAMOND', 35, 27, False, False, False, False],\n",
       " ['DIAMOND', 82, 81, False, False, False, False],\n",
       " ['DIAMOND', 165, 148, False, False, True, False],\n",
       " ['DIAMOND', 106, 104, False, False, False, True],\n",
       " ['DIAMOND', 112, 108, False, False, False, False],\n",
       " ['DIAMOND', 96, 56, False, False, False, False],\n",
       " ['DIAMOND', 66, 56, False, False, False, False],\n",
       " ['DIAMOND', 89, 62, False, False, True, False],\n",
       " ['DIAMOND', 106, 100, False, False, False, False],\n",
       " ['DIAMOND', 222, 225, False, False, False, False],\n",
       " ['DIAMOND', 223, 216, False, False, False, False],\n",
       " ['DIAMOND', 111, 111, False, False, False, False],\n",
       " ['DIAMOND', 243, 267, False, False, False, True],\n",
       " ['DIAMOND', 182, 193, False, False, False, False],\n",
       " ['DIAMOND', 125, 126, False, False, False, False],\n",
       " ['DIAMOND', 289, 266, False, False, True, False],\n",
       " ['DIAMOND', 51, 25, False, False, False, False],\n",
       " ['DIAMOND', 53, 34, False, False, False, False],\n",
       " ['DIAMOND', 314, 281, False, False, True, False],\n",
       " ['DIAMOND', 90, 77, False, False, False, False],\n",
       " ['DIAMOND', 56, 40, False, False, False, True],\n",
       " ['DIAMOND', 85, 79, False, False, False, False],\n",
       " ['DIAMOND', 216, 122, False, False, False, True],\n",
       " ['DIAMOND', 239, 221, False, False, False, False],\n",
       " ['DIAMOND', 216, 189, False, False, True, False],\n",
       " ['DIAMOND', 202, 205, False, False, False, False],\n",
       " ['DIAMOND', 139, 115, False, False, False, False],\n",
       " ['DIAMOND', 64, 51, False, False, False, False],\n",
       " ['DIAMOND', 390, 384, False, False, False, True],\n",
       " ['DIAMOND', 149, 139, True, False, False, False],\n",
       " ['DIAMOND', 226, 221, False, False, True, False],\n",
       " ['DIAMOND', 156, 131, False, False, False, False],\n",
       " ['DIAMOND', 139, 113, False, False, True, False],\n",
       " ['DIAMOND', 132, 118, True, False, False, False],\n",
       " ['DIAMOND', 93, 86, False, False, False, False],\n",
       " ['DIAMOND', 76, 78, False, False, False, False],\n",
       " ['DIAMOND', 124, 117, False, False, False, False],\n",
       " ['DIAMOND', 159, 136, False, False, True, False],\n",
       " ['DIAMOND', 36, 14, False, False, False, False],\n",
       " ['DIAMOND', 476, 439, False, False, False, False],\n",
       " ['DIAMOND', 87, 72, False, False, False, False],\n",
       " ['DIAMOND', 114, 96, False, False, False, False],\n",
       " ['DIAMOND', 264, 265, False, False, False, False],\n",
       " ['DIAMOND', 228, 228, False, False, True, False],\n",
       " ['DIAMOND', 88, 92, False, False, False, False],\n",
       " ['DIAMOND', 47, 34, False, False, False, False],\n",
       " ['DIAMOND', 55, 60, False, False, False, False],\n",
       " ['DIAMOND', 105, 83, False, False, False, False],\n",
       " ['DIAMOND', 69, 67, False, False, False, False],\n",
       " ['DIAMOND', 285, 283, False, False, False, False],\n",
       " ['DIAMOND', 75, 57, False, False, True, False],\n",
       " ['DIAMOND', 329, 309, False, False, False, False],\n",
       " ['DIAMOND', 173, 149, False, False, False, False],\n",
       " ['DIAMOND', 319, 330, False, False, False, False],\n",
       " ['DIAMOND', 82, 60, False, False, False, False],\n",
       " ['DIAMOND', 172, 185, False, False, False, False],\n",
       " ['DIAMOND', 182, 191, False, False, False, False],\n",
       " ['DIAMOND', 164, 149, False, False, False, False],\n",
       " ['DIAMOND', 249, 223, False, False, False, False],\n",
       " ['DIAMOND', 97, 80, False, False, False, False],\n",
       " ['DIAMOND', 214, 204, False, False, True, False],\n",
       " ['DIAMOND', 62, 35, False, False, False, False],\n",
       " ['DIAMOND', 87, 52, False, False, False, False],\n",
       " ['DIAMOND', 368, 375, False, False, False, True],\n",
       " ['DIAMOND', 77, 63, False, False, False, False],\n",
       " ['DIAMOND', 39, 37, False, False, False, False],\n",
       " ['DIAMOND', 179, 179, False, False, False, False],\n",
       " ['DIAMOND', 65, 36, False, False, False, False],\n",
       " ['DIAMOND', 137, 130, False, False, False, False],\n",
       " ['DIAMOND', 141, 124, False, False, True, True],\n",
       " ['DIAMOND', 102, 96, False, False, False, False],\n",
       " ['DIAMOND', 117, 108, False, False, False, True],\n",
       " ['DIAMOND', 76, 59, False, False, False, False],\n",
       " ['DIAMOND', 108, 110, False, False, True, False],\n",
       " ['DIAMOND', 387, 334, True, False, False, False],\n",
       " ['DIAMOND', 99, 81, False, False, False, False],\n",
       " ['DIAMOND', 71, 45, False, False, False, False],\n",
       " ['DIAMOND', 72, 45, False, False, False, True],\n",
       " ['DIAMOND', 78, 76, False, False, False, False],\n",
       " ['DIAMOND', 95, 96, False, False, False, False],\n",
       " ['DIAMOND', 54, 49, False, False, False, True],\n",
       " ['DIAMOND', 236, 234, False, False, True, True],\n",
       " ['DIAMOND', 114, 101, False, False, False, False],\n",
       " ['DIAMOND', 173, 151, False, False, True, False],\n",
       " ['DIAMOND', 50, 43, False, False, False, False],\n",
       " ['DIAMOND', 9, 7, False, False, False, False],\n",
       " ['DIAMOND', 77, 85, False, False, False, False],\n",
       " ['DIAMOND', 76, 73, False, False, False, False],\n",
       " ['DIAMOND', 308, 305, False, False, False, False],\n",
       " ['DIAMOND', 63, 57, False, False, False, False],\n",
       " ['DIAMOND', 88, 95, False, False, False, False],\n",
       " ['DIAMOND', 269, 255, False, False, False, True],\n",
       " ['DIAMOND', 297, 307, False, False, True, False],\n",
       " ['DIAMOND', 106, 78, False, False, False, False],\n",
       " ['DIAMOND', 101, 77, False, False, False, False],\n",
       " ['DIAMOND', 85, 55, False, False, False, False],\n",
       " ['DIAMOND', 19, 20, False, False, True, False],\n",
       " ['DIAMOND', 69, 54, False, False, False, False],\n",
       " ['DIAMOND', 49, 41, False, False, False, True],\n",
       " ['DIAMOND', 30, 21, False, False, False, False],\n",
       " ['DIAMOND', 152, 160, False, False, False, False],\n",
       " ['DIAMOND', 78, 70, False, False, True, False],\n",
       " ['DIAMOND', 14, 4, False, False, True, True],\n",
       " ['DIAMOND', 26, 20, False, False, False, False],\n",
       " ['DIAMOND', 72, 40, False, False, False, False],\n",
       " ['DIAMOND', 61, 56, False, False, False, False],\n",
       " ['DIAMOND', 163, 165, False, False, False, False],\n",
       " ['DIAMOND', 139, 102, False, False, False, False],\n",
       " ['DIAMOND', 80, 56, False, False, True, False],\n",
       " ['DIAMOND', 128, 102, False, False, False, False],\n",
       " ['DIAMOND', 23, 14, False, False, False, False],\n",
       " ['DIAMOND', 147, 134, True, False, False, False],\n",
       " ['DIAMOND', 182, 155, False, False, False, False],\n",
       " ['DIAMOND', 104, 101, False, False, False, False],\n",
       " ['DIAMOND', 185, 157, False, False, False, False],\n",
       " ['DIAMOND', 185, 154, False, False, False, False],\n",
       " ['DIAMOND', 405, 403, False, False, True, False],\n",
       " ['DIAMOND', 125, 81, False, False, False, True],\n",
       " ['DIAMOND', 21, 13, False, False, False, False],\n",
       " ['DIAMOND', 349, 346, False, False, False, False],\n",
       " ['DIAMOND', 43, 36, False, False, False, False],\n",
       " ['DIAMOND', 26, 21, False, False, False, False],\n",
       " ['DIAMOND', 129, 126, False, False, False, False],\n",
       " ['DIAMOND', 102, 73, False, False, False, True],\n",
       " ['DIAMOND', 305, 299, False, False, False, True],\n",
       " ['DIAMOND', 197, 174, False, False, False, False],\n",
       " ['DIAMOND', 70, 65, False, False, False, True],\n",
       " ['DIAMOND', 99, 85, False, False, False, False],\n",
       " ['DIAMOND', 74, 73, False, False, False, False],\n",
       " ['DIAMOND', 89, 84, False, False, False, False],\n",
       " ['DIAMOND', 93, 76, False, False, False, True],\n",
       " ['DIAMOND', 277, 245, False, False, False, False],\n",
       " ['DIAMOND', 202, 190, False, False, False, False],\n",
       " ['DIAMOND', 70, 48, False, False, False, True],\n",
       " ['DIAMOND', 60, 38, False, False, False, False],\n",
       " ['DIAMOND', 39, 40, False, False, False, False],\n",
       " ['DIAMOND', 237, 196, False, False, False, False],\n",
       " ['DIAMOND', 124, 131, False, False, False, False],\n",
       " ['DIAMOND', 113, 105, False, False, False, False],\n",
       " ['DIAMOND', 101, 96, False, False, True, False],\n",
       " ['DIAMOND', 92, 58, False, False, True, False],\n",
       " ['DIAMOND', 43, 34, False, False, False, True],\n",
       " ['DIAMOND', 99, 101, False, False, False, False],\n",
       " ['DIAMOND', 185, 147, False, False, False, True],\n",
       " ['DIAMOND', 111, 82, False, False, False, False],\n",
       " ['DIAMOND', 329, 338, False, False, False, True],\n",
       " ['DIAMOND', 54, 57, False, False, False, False],\n",
       " ['DIAMOND', 72, 66, False, False, False, False],\n",
       " ['DIAMOND', 78, 74, False, False, False, False],\n",
       " ['DIAMOND', 76, 59, False, False, False, False],\n",
       " ['DIAMOND', 149, 142, False, False, False, False],\n",
       " ['DIAMOND', 35, 24, False, False, False, False],\n",
       " ['DIAMOND', 37, 40, False, False, False, True],\n",
       " ['DIAMOND', 43, 35, False, False, False, False],\n",
       " ['DIAMOND', 92, 105, False, False, False, False],\n",
       " ['DIAMOND', 98, 76, False, False, True, False],\n",
       " ['DIAMOND', 173, 161, False, False, False, False],\n",
       " ['DIAMOND', 33, 23, False, False, False, True],\n",
       " ['DIAMOND', 76, 69, False, False, False, False],\n",
       " ['DIAMOND', 53, 41, False, False, False, True],\n",
       " ['DIAMOND', 78, 65, False, False, False, False],\n",
       " ['DIAMOND', 66, 58, False, False, False, False],\n",
       " ['DIAMOND', 150, 140, False, False, False, False],\n",
       " ['DIAMOND', 97, 62, False, False, False, False],\n",
       " ['DIAMOND', 112, 95, False, False, False, False],\n",
       " ['DIAMOND', 96, 67, False, False, False, False],\n",
       " ['DIAMOND', 205, 199, False, False, False, False],\n",
       " ['DIAMOND', 21, 13, False, False, False, False],\n",
       " ['DIAMOND', 171, 150, False, False, False, True],\n",
       " ['DIAMOND', 45, 28, False, False, False, False],\n",
       " ['DIAMOND', 55, 27, False, False, False, False],\n",
       " ['DIAMOND', 218, 203, False, False, False, False],\n",
       " ['DIAMOND', 89, 69, False, False, False, True],\n",
       " ['DIAMOND', 231, 208, False, False, False, False],\n",
       " ['DIAMOND', 100, 88, False, False, False, False],\n",
       " ['DIAMOND', 162, 138, False, False, True, False],\n",
       " ['DIAMOND', 185, 165, False, False, False, False],\n",
       " ['DIAMOND', 42, 47, False, False, False, False],\n",
       " ['DIAMOND', 96, 95, False, False, False, False],\n",
       " ['DIAMOND', 32, 25, False, False, False, True],\n",
       " ['DIAMOND', 30, 14, False, False, False, True],\n",
       " ['DIAMOND', 265, 218, False, False, True, False],\n",
       " ['DIAMOND', 29, 22, False, False, False, False],\n",
       " ['DIAMOND', 58, 44, False, False, False, False],\n",
       " ['DIAMOND', 62, 44, False, False, False, True],\n",
       " ['DIAMOND', 142, 153, False, False, False, False],\n",
       " ['DIAMOND', 68, 71, False, False, False, True],\n",
       " ['DIAMOND', 153, 123, False, False, False, False],\n",
       " ['DIAMOND', 22, 21, False, False, False, False],\n",
       " ['DIAMOND', 320, 321, False, False, True, False],\n",
       " ['DIAMOND', 347, 329, False, False, True, False],\n",
       " ['DIAMOND', 79, 56, False, False, False, False],\n",
       " ['DIAMOND', 91, 72, False, False, False, False]]"
      ]
     },
     "execution_count": 202,
     "metadata": {},
     "output_type": "execute_result"
    }
   ],
   "source": [
    "test_data"
   ]
  },
  {
   "cell_type": "code",
   "execution_count": 203,
   "metadata": {},
   "outputs": [],
   "source": [
    "for i, v in enumerate(test_data):\n",
    "    for ii, vv in enumerate(rank_data_keys[3:], 3):\n",
    "        if v[ii]: v[ii] = 1\n",
    "        else: v[ii] = 0"
   ]
  },
  {
   "cell_type": "code",
   "execution_count": 205,
   "metadata": {},
   "outputs": [
    {
     "data": {
      "text/plain": [
       "[['DIAMOND', 185, 164, 0, 0, 0, 0],\n",
       " ['DIAMOND', 110, 87, 0, 0, 0, 0],\n",
       " ['DIAMOND', 66, 72, 0, 0, 0, 1],\n",
       " ['DIAMOND', 167, 137, 0, 0, 1, 0],\n",
       " ['DIAMOND', 104, 81, 0, 0, 0, 0],\n",
       " ['DIAMOND', 146, 123, 0, 0, 1, 0],\n",
       " ['DIAMOND', 172, 161, 0, 0, 0, 1],\n",
       " ['DIAMOND', 100, 88, 0, 0, 0, 1],\n",
       " ['DIAMOND', 37, 33, 0, 0, 0, 0],\n",
       " ['DIAMOND', 12, 7, 0, 0, 0, 1],\n",
       " ['DIAMOND', 68, 64, 0, 0, 0, 1],\n",
       " ['DIAMOND', 54, 36, 0, 0, 0, 0],\n",
       " ['DIAMOND', 35, 27, 0, 0, 0, 0],\n",
       " ['DIAMOND', 82, 81, 0, 0, 0, 0],\n",
       " ['DIAMOND', 165, 148, 0, 0, 1, 0],\n",
       " ['DIAMOND', 106, 104, 0, 0, 0, 1],\n",
       " ['DIAMOND', 112, 108, 0, 0, 0, 0],\n",
       " ['DIAMOND', 96, 56, 0, 0, 0, 0],\n",
       " ['DIAMOND', 66, 56, 0, 0, 0, 0],\n",
       " ['DIAMOND', 89, 62, 0, 0, 1, 0],\n",
       " ['DIAMOND', 106, 100, 0, 0, 0, 0],\n",
       " ['DIAMOND', 222, 225, 0, 0, 0, 0],\n",
       " ['DIAMOND', 223, 216, 0, 0, 0, 0],\n",
       " ['DIAMOND', 111, 111, 0, 0, 0, 0],\n",
       " ['DIAMOND', 243, 267, 0, 0, 0, 1],\n",
       " ['DIAMOND', 182, 193, 0, 0, 0, 0],\n",
       " ['DIAMOND', 125, 126, 0, 0, 0, 0],\n",
       " ['DIAMOND', 289, 266, 0, 0, 1, 0],\n",
       " ['DIAMOND', 51, 25, 0, 0, 0, 0],\n",
       " ['DIAMOND', 53, 34, 0, 0, 0, 0],\n",
       " ['DIAMOND', 314, 281, 0, 0, 1, 0],\n",
       " ['DIAMOND', 90, 77, 0, 0, 0, 0],\n",
       " ['DIAMOND', 56, 40, 0, 0, 0, 1],\n",
       " ['DIAMOND', 85, 79, 0, 0, 0, 0],\n",
       " ['DIAMOND', 216, 122, 0, 0, 0, 1],\n",
       " ['DIAMOND', 239, 221, 0, 0, 0, 0],\n",
       " ['DIAMOND', 216, 189, 0, 0, 1, 0],\n",
       " ['DIAMOND', 202, 205, 0, 0, 0, 0],\n",
       " ['DIAMOND', 139, 115, 0, 0, 0, 0],\n",
       " ['DIAMOND', 64, 51, 0, 0, 0, 0],\n",
       " ['DIAMOND', 390, 384, 0, 0, 0, 1],\n",
       " ['DIAMOND', 149, 139, 1, 0, 0, 0],\n",
       " ['DIAMOND', 226, 221, 0, 0, 1, 0],\n",
       " ['DIAMOND', 156, 131, 0, 0, 0, 0],\n",
       " ['DIAMOND', 139, 113, 0, 0, 1, 0],\n",
       " ['DIAMOND', 132, 118, 1, 0, 0, 0],\n",
       " ['DIAMOND', 93, 86, 0, 0, 0, 0],\n",
       " ['DIAMOND', 76, 78, 0, 0, 0, 0],\n",
       " ['DIAMOND', 124, 117, 0, 0, 0, 0],\n",
       " ['DIAMOND', 159, 136, 0, 0, 1, 0],\n",
       " ['DIAMOND', 36, 14, 0, 0, 0, 0],\n",
       " ['DIAMOND', 476, 439, 0, 0, 0, 0],\n",
       " ['DIAMOND', 87, 72, 0, 0, 0, 0],\n",
       " ['DIAMOND', 114, 96, 0, 0, 0, 0],\n",
       " ['DIAMOND', 264, 265, 0, 0, 0, 0],\n",
       " ['DIAMOND', 228, 228, 0, 0, 1, 0],\n",
       " ['DIAMOND', 88, 92, 0, 0, 0, 0],\n",
       " ['DIAMOND', 47, 34, 0, 0, 0, 0],\n",
       " ['DIAMOND', 55, 60, 0, 0, 0, 0],\n",
       " ['DIAMOND', 105, 83, 0, 0, 0, 0],\n",
       " ['DIAMOND', 69, 67, 0, 0, 0, 0],\n",
       " ['DIAMOND', 285, 283, 0, 0, 0, 0],\n",
       " ['DIAMOND', 75, 57, 0, 0, 1, 0],\n",
       " ['DIAMOND', 329, 309, 0, 0, 0, 0],\n",
       " ['DIAMOND', 173, 149, 0, 0, 0, 0],\n",
       " ['DIAMOND', 319, 330, 0, 0, 0, 0],\n",
       " ['DIAMOND', 82, 60, 0, 0, 0, 0],\n",
       " ['DIAMOND', 172, 185, 0, 0, 0, 0],\n",
       " ['DIAMOND', 182, 191, 0, 0, 0, 0],\n",
       " ['DIAMOND', 164, 149, 0, 0, 0, 0],\n",
       " ['DIAMOND', 249, 223, 0, 0, 0, 0],\n",
       " ['DIAMOND', 97, 80, 0, 0, 0, 0],\n",
       " ['DIAMOND', 214, 204, 0, 0, 1, 0],\n",
       " ['DIAMOND', 62, 35, 0, 0, 0, 0],\n",
       " ['DIAMOND', 87, 52, 0, 0, 0, 0],\n",
       " ['DIAMOND', 368, 375, 0, 0, 0, 1],\n",
       " ['DIAMOND', 77, 63, 0, 0, 0, 0],\n",
       " ['DIAMOND', 39, 37, 0, 0, 0, 0],\n",
       " ['DIAMOND', 179, 179, 0, 0, 0, 0],\n",
       " ['DIAMOND', 65, 36, 0, 0, 0, 0],\n",
       " ['DIAMOND', 137, 130, 0, 0, 0, 0],\n",
       " ['DIAMOND', 141, 124, 0, 0, 1, 1],\n",
       " ['DIAMOND', 102, 96, 0, 0, 0, 0],\n",
       " ['DIAMOND', 117, 108, 0, 0, 0, 1],\n",
       " ['DIAMOND', 76, 59, 0, 0, 0, 0],\n",
       " ['DIAMOND', 108, 110, 0, 0, 1, 0],\n",
       " ['DIAMOND', 387, 334, 1, 0, 0, 0],\n",
       " ['DIAMOND', 99, 81, 0, 0, 0, 0],\n",
       " ['DIAMOND', 71, 45, 0, 0, 0, 0],\n",
       " ['DIAMOND', 72, 45, 0, 0, 0, 1],\n",
       " ['DIAMOND', 78, 76, 0, 0, 0, 0],\n",
       " ['DIAMOND', 95, 96, 0, 0, 0, 0],\n",
       " ['DIAMOND', 54, 49, 0, 0, 0, 1],\n",
       " ['DIAMOND', 236, 234, 0, 0, 1, 1],\n",
       " ['DIAMOND', 114, 101, 0, 0, 0, 0],\n",
       " ['DIAMOND', 173, 151, 0, 0, 1, 0],\n",
       " ['DIAMOND', 50, 43, 0, 0, 0, 0],\n",
       " ['DIAMOND', 9, 7, 0, 0, 0, 0],\n",
       " ['DIAMOND', 77, 85, 0, 0, 0, 0],\n",
       " ['DIAMOND', 76, 73, 0, 0, 0, 0],\n",
       " ['DIAMOND', 308, 305, 0, 0, 0, 0],\n",
       " ['DIAMOND', 63, 57, 0, 0, 0, 0],\n",
       " ['DIAMOND', 88, 95, 0, 0, 0, 0],\n",
       " ['DIAMOND', 269, 255, 0, 0, 0, 1],\n",
       " ['DIAMOND', 297, 307, 0, 0, 1, 0],\n",
       " ['DIAMOND', 106, 78, 0, 0, 0, 0],\n",
       " ['DIAMOND', 101, 77, 0, 0, 0, 0],\n",
       " ['DIAMOND', 85, 55, 0, 0, 0, 0],\n",
       " ['DIAMOND', 19, 20, 0, 0, 1, 0],\n",
       " ['DIAMOND', 69, 54, 0, 0, 0, 0],\n",
       " ['DIAMOND', 49, 41, 0, 0, 0, 1],\n",
       " ['DIAMOND', 30, 21, 0, 0, 0, 0],\n",
       " ['DIAMOND', 152, 160, 0, 0, 0, 0],\n",
       " ['DIAMOND', 78, 70, 0, 0, 1, 0],\n",
       " ['DIAMOND', 14, 4, 0, 0, 1, 1],\n",
       " ['DIAMOND', 26, 20, 0, 0, 0, 0],\n",
       " ['DIAMOND', 72, 40, 0, 0, 0, 0],\n",
       " ['DIAMOND', 61, 56, 0, 0, 0, 0],\n",
       " ['DIAMOND', 163, 165, 0, 0, 0, 0],\n",
       " ['DIAMOND', 139, 102, 0, 0, 0, 0],\n",
       " ['DIAMOND', 80, 56, 0, 0, 1, 0],\n",
       " ['DIAMOND', 128, 102, 0, 0, 0, 0],\n",
       " ['DIAMOND', 23, 14, 0, 0, 0, 0],\n",
       " ['DIAMOND', 147, 134, 1, 0, 0, 0],\n",
       " ['DIAMOND', 182, 155, 0, 0, 0, 0],\n",
       " ['DIAMOND', 104, 101, 0, 0, 0, 0],\n",
       " ['DIAMOND', 185, 157, 0, 0, 0, 0],\n",
       " ['DIAMOND', 185, 154, 0, 0, 0, 0],\n",
       " ['DIAMOND', 405, 403, 0, 0, 1, 0],\n",
       " ['DIAMOND', 125, 81, 0, 0, 0, 1],\n",
       " ['DIAMOND', 21, 13, 0, 0, 0, 0],\n",
       " ['DIAMOND', 349, 346, 0, 0, 0, 0],\n",
       " ['DIAMOND', 43, 36, 0, 0, 0, 0],\n",
       " ['DIAMOND', 26, 21, 0, 0, 0, 0],\n",
       " ['DIAMOND', 129, 126, 0, 0, 0, 0],\n",
       " ['DIAMOND', 102, 73, 0, 0, 0, 1],\n",
       " ['DIAMOND', 305, 299, 0, 0, 0, 1],\n",
       " ['DIAMOND', 197, 174, 0, 0, 0, 0],\n",
       " ['DIAMOND', 70, 65, 0, 0, 0, 1],\n",
       " ['DIAMOND', 99, 85, 0, 0, 0, 0],\n",
       " ['DIAMOND', 74, 73, 0, 0, 0, 0],\n",
       " ['DIAMOND', 89, 84, 0, 0, 0, 0],\n",
       " ['DIAMOND', 93, 76, 0, 0, 0, 1],\n",
       " ['DIAMOND', 277, 245, 0, 0, 0, 0],\n",
       " ['DIAMOND', 202, 190, 0, 0, 0, 0],\n",
       " ['DIAMOND', 70, 48, 0, 0, 0, 1],\n",
       " ['DIAMOND', 60, 38, 0, 0, 0, 0],\n",
       " ['DIAMOND', 39, 40, 0, 0, 0, 0],\n",
       " ['DIAMOND', 237, 196, 0, 0, 0, 0],\n",
       " ['DIAMOND', 124, 131, 0, 0, 0, 0],\n",
       " ['DIAMOND', 113, 105, 0, 0, 0, 0],\n",
       " ['DIAMOND', 101, 96, 0, 0, 1, 0],\n",
       " ['DIAMOND', 92, 58, 0, 0, 1, 0],\n",
       " ['DIAMOND', 43, 34, 0, 0, 0, 1],\n",
       " ['DIAMOND', 99, 101, 0, 0, 0, 0],\n",
       " ['DIAMOND', 185, 147, 0, 0, 0, 1],\n",
       " ['DIAMOND', 111, 82, 0, 0, 0, 0],\n",
       " ['DIAMOND', 329, 338, 0, 0, 0, 1],\n",
       " ['DIAMOND', 54, 57, 0, 0, 0, 0],\n",
       " ['DIAMOND', 72, 66, 0, 0, 0, 0],\n",
       " ['DIAMOND', 78, 74, 0, 0, 0, 0],\n",
       " ['DIAMOND', 76, 59, 0, 0, 0, 0],\n",
       " ['DIAMOND', 149, 142, 0, 0, 0, 0],\n",
       " ['DIAMOND', 35, 24, 0, 0, 0, 0],\n",
       " ['DIAMOND', 37, 40, 0, 0, 0, 1],\n",
       " ['DIAMOND', 43, 35, 0, 0, 0, 0],\n",
       " ['DIAMOND', 92, 105, 0, 0, 0, 0],\n",
       " ['DIAMOND', 98, 76, 0, 0, 1, 0],\n",
       " ['DIAMOND', 173, 161, 0, 0, 0, 0],\n",
       " ['DIAMOND', 33, 23, 0, 0, 0, 1],\n",
       " ['DIAMOND', 76, 69, 0, 0, 0, 0],\n",
       " ['DIAMOND', 53, 41, 0, 0, 0, 1],\n",
       " ['DIAMOND', 78, 65, 0, 0, 0, 0],\n",
       " ['DIAMOND', 66, 58, 0, 0, 0, 0],\n",
       " ['DIAMOND', 150, 140, 0, 0, 0, 0],\n",
       " ['DIAMOND', 97, 62, 0, 0, 0, 0],\n",
       " ['DIAMOND', 112, 95, 0, 0, 0, 0],\n",
       " ['DIAMOND', 96, 67, 0, 0, 0, 0],\n",
       " ['DIAMOND', 205, 199, 0, 0, 0, 0],\n",
       " ['DIAMOND', 21, 13, 0, 0, 0, 0],\n",
       " ['DIAMOND', 171, 150, 0, 0, 0, 1],\n",
       " ['DIAMOND', 45, 28, 0, 0, 0, 0],\n",
       " ['DIAMOND', 55, 27, 0, 0, 0, 0],\n",
       " ['DIAMOND', 218, 203, 0, 0, 0, 0],\n",
       " ['DIAMOND', 89, 69, 0, 0, 0, 1],\n",
       " ['DIAMOND', 231, 208, 0, 0, 0, 0],\n",
       " ['DIAMOND', 100, 88, 0, 0, 0, 0],\n",
       " ['DIAMOND', 162, 138, 0, 0, 1, 0],\n",
       " ['DIAMOND', 185, 165, 0, 0, 0, 0],\n",
       " ['DIAMOND', 42, 47, 0, 0, 0, 0],\n",
       " ['DIAMOND', 96, 95, 0, 0, 0, 0],\n",
       " ['DIAMOND', 32, 25, 0, 0, 0, 1],\n",
       " ['DIAMOND', 30, 14, 0, 0, 0, 1],\n",
       " ['DIAMOND', 265, 218, 0, 0, 1, 0],\n",
       " ['DIAMOND', 29, 22, 0, 0, 0, 0],\n",
       " ['DIAMOND', 58, 44, 0, 0, 0, 0],\n",
       " ['DIAMOND', 62, 44, 0, 0, 0, 1],\n",
       " ['DIAMOND', 142, 153, 0, 0, 0, 0],\n",
       " ['DIAMOND', 68, 71, 0, 0, 0, 1],\n",
       " ['DIAMOND', 153, 123, 0, 0, 0, 0],\n",
       " ['DIAMOND', 22, 21, 0, 0, 0, 0],\n",
       " ['DIAMOND', 320, 321, 0, 0, 1, 0],\n",
       " ['DIAMOND', 347, 329, 0, 0, 1, 0],\n",
       " ['DIAMOND', 79, 56, 0, 0, 0, 0],\n",
       " ['DIAMOND', 91, 72, 0, 0, 0, 0]]"
      ]
     },
     "execution_count": 205,
     "metadata": {},
     "output_type": "execute_result"
    }
   ],
   "source": [
    "test_data"
   ]
  },
  {
   "cell_type": "code",
   "execution_count": 175,
   "metadata": {},
   "outputs": [],
   "source": [
    "update_data = [{k:1 if each[k]==True else 0 for k in rank_data_keys[-4:]} for each in test_data]\n",
    "for idx, val in enumerate(test_data): val.update(update_data[idx])"
   ]
  },
  {
   "cell_type": "code",
   "execution_count": 176,
   "metadata": {},
   "outputs": [
    {
     "data": {
      "text/plain": [
       "{'leagueId': '4f441aeb-37ee-4c49-ab04-4f9cb7492525',\n",
       " 'queueType': 'RANKED_SOLO_5x5',\n",
       " 'tier': 'DIAMOND',\n",
       " 'rank': 'I',\n",
       " 'summonerId': 'nW-BIO7hAJhFMhGc2vhOr-pu-YVPXD9-5erdmfeIPw3lF7Wm',\n",
       " 'summonerName': '유바시리',\n",
       " 'leaguePoints': 45,\n",
       " 'wins': 185,\n",
       " 'losses': 164,\n",
       " 'veteran': 0,\n",
       " 'inactive': 0,\n",
       " 'freshBlood': 0,\n",
       " 'hotStreak': 0}"
      ]
     },
     "execution_count": 176,
     "metadata": {},
     "output_type": "execute_result"
    }
   ],
   "source": [
    "test_data[0]"
   ]
  },
  {
   "cell_type": "code",
   "execution_count": 2,
   "metadata": {},
   "outputs": [
    {
     "name": "stdout",
     "output_type": "stream",
     "text": [
      "oracle open!\n",
      "oracle close!\n"
     ]
    },
    {
     "data": {
      "text/html": [
       "<div>\n",
       "<style scoped>\n",
       "    .dataframe tbody tr th:only-of-type {\n",
       "        vertical-align: middle;\n",
       "    }\n",
       "\n",
       "    .dataframe tbody tr th {\n",
       "        vertical-align: top;\n",
       "    }\n",
       "\n",
       "    .dataframe thead th {\n",
       "        text-align: right;\n",
       "    }\n",
       "</style>\n",
       "<table border=\"1\" class=\"dataframe\">\n",
       "  <thead>\n",
       "    <tr style=\"text-align: right;\">\n",
       "      <th></th>\n",
       "      <th>COUNT(GAME_ID)</th>\n",
       "    </tr>\n",
       "  </thead>\n",
       "  <tbody>\n",
       "    <tr>\n",
       "      <th>0</th>\n",
       "      <td>0</td>\n",
       "    </tr>\n",
       "  </tbody>\n",
       "</table>\n",
       "</div>"
      ],
      "text/plain": [
       "   COUNT(GAME_ID)\n",
       "0               0"
      ]
     },
     "execution_count": 2,
     "metadata": {},
     "output_type": "execute_result"
    }
   ],
   "source": [
    "mu.oracle_totalExecute('SELECT COUNT(game_id) FROM RAWDATA WHERE game_id = \\'KR_1234\\'')"
   ]
  }
 ],
 "metadata": {
  "kernelspec": {
   "display_name": "base",
   "language": "python",
   "name": "python3"
  },
  "language_info": {
   "codemirror_mode": {
    "name": "ipython",
    "version": 3
   },
   "file_extension": ".py",
   "mimetype": "text/x-python",
   "name": "python",
   "nbconvert_exporter": "python",
   "pygments_lexer": "ipython3",
   "version": "3.9.13"
  },
  "orig_nbformat": 4
 },
 "nbformat": 4,
 "nbformat_minor": 2
}
