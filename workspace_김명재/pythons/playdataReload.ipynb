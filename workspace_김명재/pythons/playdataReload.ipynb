{
 "cells": [
  {
   "cell_type": "code",
   "execution_count": 1,
   "metadata": {},
   "outputs": [],
   "source": [
    "import my_utils as mu\n",
    "import pandas as pd\n",
    "import json\n",
    "import requests\n",
    "import time\n",
    "from tqdm import tqdm"
   ]
  },
  {
   "cell_type": "code",
   "execution_count": 2,
   "metadata": {},
   "outputs": [],
   "source": [
    "def checkApiResult(url: str, riot_api_key: str):\n",
    "    \"\"\"\n",
    "    `request.get()`의 결과에 따라서 API Key를 교체하거나 에러 메시지를 출력하고\n",
    "    에러인 경우 `False`를 리턴하여 `if`가 걸린 부분의 `continue` 트리거를 작동시키는 `autoInsert()` 전용 내부 함수\n",
    "    \"\"\"\n",
    "    while True:\n",
    "        try:\n",
    "            result = requests.get(url+riot_api_key)\n",
    "\n",
    "            # 리턴이 정상인 경우 json 형태로 리턴\n",
    "            if result.status_code == 200:\n",
    "                return result.json()\n",
    "            \n",
    "            # 리미트 초과인 경우 10초 휴식 후 재시도\n",
    "            elif result.status_code == 429:\n",
    "                mu.apiSleep(10, True)\n",
    "                continue\n",
    "\n",
    "            # 만료 되었거나 불량인 API key 사용시 API key 관련 에러문 출력\n",
    "            elif result.status_code == 403:\n",
    "                raise mu.InvaildApiKey(result)\n",
    "            \n",
    "            # 리턴의 상태 코드가 200, 429, 403이 아닌 경우 예외로 간주하고 API 관련 에러문 출력 출력\n",
    "            else:\n",
    "                raise mu.BadApiResult(result)\n",
    "                \n",
    "        except requests.exceptions.ConnectionError as e:\n",
    "            time.sleep(5)\n",
    "\n",
    "        # 위에서 발생된 모든 예외를 캐치하여 API 관련 에러 카운트를 1 올리고 False를 리턴(continue 트리거 작동)\n",
    "        except Exception as e:\n",
    "            print(f\"{type(e).__name__}:\\n{e}\")\n",
    "            return False"
   ]
  },
  {
   "cell_type": "code",
   "execution_count": 3,
   "metadata": {},
   "outputs": [],
   "source": [
    "def reloadInsert(summoner_name: str, riot_api_key: str, debug: bool=False):\n",
    "\n",
    "    # Summoner 테이블의 컬럼 리스트\n",
    "    summoner_table_cols = [\n",
    "        'summoner_id',\n",
    "        'summoner_puuid',\n",
    "        'api_key',\n",
    "        'summoner_name',\n",
    "        'summoner_level',\n",
    "        'summoner_profile',\n",
    "        'summoner_tier',\n",
    "        'summoner_wins',\n",
    "        'summoner_losses',\n",
    "        'summoner_veteran',\n",
    "        'summoner_inactive',\n",
    "        'summoner_freshblood',\n",
    "        'summoner_hotstreak']\n",
    "\n",
    "    # Summoner 테이블의 일반 정보 키 리스트\n",
    "    normal_data_keys = ['id', 'puuid', 'name', 'summonerLevel', 'profileIconId']\n",
    "\n",
    "    # Summoner 테이블의 랭크 관련 정보 키 리스트\n",
    "    rank_data_keys = ['tier', 'wins', 'losses', 'veteran', 'inactive', 'freshBlood', 'hotStreak']\n",
    "\n",
    "    # 소환사 이름으로 최근 20게임의 매치 id를 획득\n",
    "    if (puuid := checkApiResult(f\"https://kr.api.riotgames.com/lol/summoner/v4/summoners/by-name/{summoner_name}?api_key=\", riot_api_key) is False):\n",
    "        return puuid\n",
    "    if (match_id_list := checkApiResult(f\"https://asia.api.riotgames.com/lol/match/v5/matches/by-puuid/{puuid}/ids?start=0&count=20&type=ranked&api_key=\", riot_api_key) is False):\n",
    "        return match_id_list\n",
    "\n",
    "    for match_id in match_id_list:\n",
    "\n",
    "        # RawData 테이블에 현재 match_id가 이미 존재한다면 (# 리스트에서 제거 후) continue\n",
    "        if 0 != mu.oracle_totalExecute(f\"SELECT COUNT(game_id) FROM RAWDATA WHERE game_id = '{match_id}'\", use_pandas=False, debug_print=False)[0][0]:\n",
    "            # match_id_list.remove(match_id)\n",
    "            continue\n",
    "        \n",
    "        # 현재 matchId의 matches와 timeline을 획득\n",
    "        match_raw = {\n",
    "            'matches': checkApiResult(f\"https://asia.api.riotgames.com/lol/match/v5/matches/{match_id}?api_key=\", riot_api_key),\n",
    "            'timeline': checkApiResult(f\"https://asia.api.riotgames.com/lol/match/v5/matches/{match_id}/timeline?api_key=\", riot_api_key)}\n",
    "        if True in [v is False for v in match_raw.values()]:\n",
    "            return match_raw\n",
    "            # logging.error({\"time\": time.strftime('%Y-%m-%d %H:%M:%S'), \"errorType\": \"apiMatchData\", \"apiKey\": riot_api_key, \"dataType\": \"matchId\", \"data\": match_id})\n",
    "            # continue\n",
    "\n",
    "        # RawData 테이블 형태로 가공하여 저장\n",
    "        filterd_match_raw = mu.RawdataFirstFilter(pd.DataFrame([match_raw]), riot_api_key)\n",
    "\n",
    "        # 가공된 데이터가 비정상일 경우 continue\n",
    "        if filterd_match_raw.__class__ is not list:\n",
    "            return filterd_match_raw\n",
    "            # logging.error({\"time\": time.strftime('%Y-%m-%d %H:%M:%S'), \"errorType\": \"missingGameData\", \"apiKey\": riot_api_key, \"dataType\": \"dict\",\n",
    "            #                 \"data\": {\"error\": str(f\"{filterd_match_raw.__class__.__name__}: {filterd_match_raw}\"), \"matchId\": match_id}})\n",
    "            # continue\n",
    "\n",
    "        # 현재 게임에 참가중인 모든 플레이어의 puuid 추출후 중복을 방지하기 위해 현재 유저만 제거\n",
    "        match_puuid_list = match_raw['matches']['metadata']['participants']\n",
    "        match_puuid_list.remove(puuid)\n",
    "\n",
    "        # 현재 게임의 소환사 데이터 저장용 리스트\n",
    "        match_part_summoner_data_list = []\n",
    "\n",
    "        # 현재 게임에서 9명의 puuid로 Summoner 테이블에 필요한 정보를 추출 및 삽입\n",
    "        print(f\"\\t\\t'{match_id}': 게임 참여자의 유저 정보 추출 및 삽입......\")\n",
    "        for part_puuid in match_puuid_list:\n",
    "\n",
    "            # puuid로 소환사 정보 획득\n",
    "            if (part_summoner_detail := checkApiResult(f\"https://kr.api.riotgames.com/lol/summoner/v4/summoners/by-puuid/{part_puuid}?api_key=\", riot_api_key)) is False:\n",
    "                return part_summoner_detail\n",
    "                # logging.error({\"time\": time.strftime('%Y-%m-%d %H:%M:%S'), \"errorType\": \"apiSummonerData\", \"apiKey\": riot_api_key, \"dataType\": \"puuId\", \"data\": part_puuid})\n",
    "                # continue\n",
    "            part_summoner_normal_data = [part_summoner_detail[i] for i in normal_data_keys]\n",
    "            part_summoner_normal_data.insert(2, riot_api_key)\n",
    "            \n",
    "            # summonerId로 랭크 관련 정보 획득\n",
    "            if (part_rank_detail := checkApiResult(f\"https://kr.api.riotgames.com/lol/league/v4/entries/by-summoner/{part_summoner_normal_data[0]}?api_key=\", riot_api_key)) is False:\n",
    "                return part_rank_detail\n",
    "                # logging.error({\"time\": time.strftime('%Y-%m-%d %H:%M:%S'), \"errorType\": \"apiSummonerRankData\", \"apiKey\": riot_api_key, \"dataType\": \"summonerId\", \"data\": part_summoner_normal_data[0]})\n",
    "                # continue\n",
    "            \n",
    "            # 이 유저가 솔랭에서 언랭 혹은 배치이면서 다른 랭크 데이터가 전혀 없다면 디폴트로 삽입\n",
    "            if part_rank_detail == []:\n",
    "                part_summoner_rank_data = ['DEFAULT' for i in rank_data_keys]\n",
    "\n",
    "            # 이 유저가 솔랭에서 언랭 혹은 배치이면서 다른 랭크 데이터가 있다면 필요한 랭크 데이터가 없기 때문에 디폴트로 삽입\n",
    "            elif not True in (is_solo_rank_list := [a['queueType'] == 'RANKED_SOLO_5x5' for a in part_rank_detail]):\n",
    "                part_summoner_rank_data = ['DEFAULT' for i in rank_data_keys]\n",
    "\n",
    "            # summonerId의 정상 여부 확인 후 솔랭 데이터만 찾기\n",
    "            else:\n",
    "                part_solo_rank_detail = part_rank_detail[is_solo_rank_list.index(True)]\n",
    "                part_summoner_rank_data = [part_solo_rank_detail[i] for i in rank_data_keys]\n",
    "\n",
    "            # 랭크 관련 정보의 bool 값을 0,1로 변환\n",
    "            for idx in range(3, 7):\n",
    "                if part_summoner_rank_data[idx]: part_summoner_rank_data[idx] = 1\n",
    "                else: part_summoner_rank_data[idx] = 0\n",
    "\n",
    "            # 9명의 정보를 현재 게임의 소환사 정보 리스트에 추가\n",
    "            match_part_summoner_data_list.append(part_summoner_normal_data + part_summoner_rank_data)\n",
    "        \n",
    "        # 현재 게임의 게임 데이터와 유저 데이터 전부 확인 후 삽입\n",
    "        if not debug: mu.insertDataFrameIntoTable(pd.DataFrame(filterd_match_raw), 'RAWDATA', debug_print=False)\n",
    "\n",
    "        if not debug: mu.insertDataFrameIntoTable(pd.DataFrame(match_part_summoner_data_list, columns=summoner_table_cols), 'SUMMONER', debug_print=False)"
   ]
  },
  {
   "cell_type": "code",
   "execution_count": 14,
   "metadata": {},
   "outputs": [
    {
     "data": {
      "text/plain": [
       "10"
      ]
     },
     "execution_count": 14,
     "metadata": {},
     "output_type": "execute_result"
    }
   ],
   "source": [
    "mu.oracle_totalExecute(f\"SELECT COUNT(game_id) FROM RAWDATA WHERE game_id = 'KR_6502628728'\", use_pandas=False, debug_print=False)[0][0]"
   ]
  },
  {
   "cell_type": "code",
   "execution_count": 5,
   "metadata": {},
   "outputs": [],
   "source": [
    "reloadInsert('기본적으로못함', '이세인1')"
   ]
  },
  {
   "cell_type": "code",
   "execution_count": 15,
   "metadata": {},
   "outputs": [
    {
     "name": "stdout",
     "output_type": "stream",
     "text": [
      "oracle open!\n",
      "oracle close!\n"
     ]
    }
   ],
   "source": [
    "sql = f\"\"\"\n",
    "    SELECT *\n",
    "    FROM (\n",
    "        SELECT GAME_ID\n",
    "        FROM RAWDATA\n",
    "        WHERE PARTICIPANT_NAME = '기본적으로못함'\n",
    "        ORDER BY GAME_ID DESC)\n",
    "    WHERE ROWNUM <= 20\n",
    "\"\"\"\n",
    "game_ids = mu.oracle_totalExecute(sql)"
   ]
  },
  {
   "cell_type": "code",
   "execution_count": 17,
   "metadata": {},
   "outputs": [
    {
     "data": {
      "text/html": [
       "<div>\n",
       "<style scoped>\n",
       "    .dataframe tbody tr th:only-of-type {\n",
       "        vertical-align: middle;\n",
       "    }\n",
       "\n",
       "    .dataframe tbody tr th {\n",
       "        vertical-align: top;\n",
       "    }\n",
       "\n",
       "    .dataframe thead th {\n",
       "        text-align: right;\n",
       "    }\n",
       "</style>\n",
       "<table border=\"1\" class=\"dataframe\">\n",
       "  <thead>\n",
       "    <tr style=\"text-align: right;\">\n",
       "      <th></th>\n",
       "      <th>GAME_ID</th>\n",
       "    </tr>\n",
       "  </thead>\n",
       "  <tbody>\n",
       "    <tr>\n",
       "      <th>0</th>\n",
       "      <td>KR_6484431751</td>\n",
       "    </tr>\n",
       "    <tr>\n",
       "      <th>1</th>\n",
       "      <td>KR_6484396115</td>\n",
       "    </tr>\n",
       "  </tbody>\n",
       "</table>\n",
       "</div>"
      ],
      "text/plain": [
       "         GAME_ID\n",
       "0  KR_6484431751\n",
       "1  KR_6484396115"
      ]
     },
     "execution_count": 17,
     "metadata": {},
     "output_type": "execute_result"
    }
   ],
   "source": [
    "game_ids"
   ]
  }
 ],
 "metadata": {
  "kernelspec": {
   "display_name": "base",
   "language": "python",
   "name": "python3"
  },
  "language_info": {
   "codemirror_mode": {
    "name": "ipython",
    "version": 3
   },
   "file_extension": ".py",
   "mimetype": "text/x-python",
   "name": "python",
   "nbconvert_exporter": "python",
   "pygments_lexer": "ipython3",
   "version": "3.9.13"
  },
  "orig_nbformat": 4
 },
 "nbformat": 4,
 "nbformat_minor": 2
}
