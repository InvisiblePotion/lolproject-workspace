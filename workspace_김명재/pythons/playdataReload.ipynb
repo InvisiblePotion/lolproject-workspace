{
 "cells": [
  {
   "cell_type": "code",
   "execution_count": 1,
   "metadata": {},
   "outputs": [],
   "source": [
    "import my_utils as mu\n",
    "import pandas as pd\n",
    "import json\n",
    "import requests\n",
    "import time\n",
    "from tqdm import tqdm"
   ]
  },
  {
   "cell_type": "code",
   "execution_count": 2,
   "metadata": {},
   "outputs": [],
   "source": [
    "def updateSummonerData(summoner_name: str, api_key: str) -> None:\n",
    "    \"\"\"\n",
    "    ### 예외 처리 필요!\n",
    "    소환사 이름으로 Summoner 테이블의 데이터를 갱신하는 함수\n",
    "    \"\"\"\n",
    "\n",
    "    # Summoner 테이블 컬럼 정보\n",
    "    summoner_cols = [\n",
    "        'summoner_id','summoner_puuid','api_key','summoner_name','summoner_level','summoner_profile',\n",
    "        'summoner_tier','summoner_wins','summoner_losses','summoner_veteran','summoner_inactive','summoner_freshblood','summoner_hotstreak']\n",
    "\n",
    "    # API에서 소환사 정보 획득\n",
    "    response_summoner = requests.get(f\"https://kr.api.riotgames.com/lol/summoner/v4/summoners/by-name/{summoner_name}?api_key={api_key}\").json()\n",
    "\n",
    "    # Summoner 테이블에 필요한 소환사 데이터를 추출\n",
    "    summoner_data = [\n",
    "        response_summoner['id'],\n",
    "        response_summoner['puuid'],\n",
    "        api_key,\n",
    "        summoner_name,\n",
    "        response_summoner['summonerLevel'],\n",
    "        response_summoner['profileIconId']]\n",
    "\n",
    "    # API에서 소환사 랭크 정보 획득\n",
    "    response_rank = requests.get(f\"https://kr.api.riotgames.com/lol/league/v4/entries/by-summoner/{summoner_data[0]}?api_key={api_key}\").json()\n",
    "\n",
    "    # Summoner 테이블에 필요한 소환사 랭크 데이터를 추출\n",
    "    rank_data = None\n",
    "    for rank in response_rank:\n",
    "        if rank['queueType'] != 'RANKED_SOLO_5x5': continue\n",
    "        rank_data = [\n",
    "            rank['tier'],\n",
    "            rank['wins'],\n",
    "            rank['losses'],\n",
    "            rank['veteran'].__int__(),\n",
    "            rank['inactive'].__int__(),\n",
    "            rank['freshBlood'].__int__(),\n",
    "            rank['hotStreak'].__int__()]\n",
    "    # 해당 소환사가 솔랭 관련 랭크 데이터가 없다면 DEFALUT로 저장\n",
    "    if rank_data is None: rank_data = ['DEFAULT' for col in summoner_cols[6:]]\n",
    "\n",
    "    # Summoner 테이블에 입력\n",
    "    summoner_result = summoner_data + rank_data\n",
    "\n",
    "    mu.insertDataFrameIntoTable(pd.DataFrame([summoner_result], columns=summoner_cols), 'SUMMONER', debug_print=False)"
   ]
  },
  {
   "cell_type": "code",
   "execution_count": 3,
   "metadata": {},
   "outputs": [],
   "source": [
    "def reloadPlayRecord(summoner_name: str, api_key: str) -> None:\n",
    "    \"\"\"\n",
    "    ### 예외 처리 필요!\n",
    "    전적 갱신 버튼에 대응할 함수.\\n\n",
    "    해당 소환사의 최근 20게임에 대한 데이터를 불러온다.\\n\n",
    "    (단, 성능상의 문제로 이 함수로 불러온 게임의 다른 소환사는 Summoner 테이블의 입력되지 않으니 주의)\n",
    "    \"\"\"\n",
    "\n",
    "    # 소환사 이름으로 Summoner 테이블 갱신\n",
    "    updateSummonerData(summoner_name, api_key)\n",
    "\n",
    "    # API에서 소환사의 최근 20게임의 game_id 획득\n",
    "    match_ids = mu.getMatchIdsByPuuid(mu.getPuuidBySummonerName(summoner_name, api_key), api_key, 20)\n",
    "\n",
    "    # 20게임의 게임 정보를 DB에 입력\n",
    "    insert_count = len(match_ids)\n",
    "    for mid in tqdm(match_ids, desc=f\"'{summoner_name}': 전적 갱신 중\"):\n",
    "\n",
    "        # RawData 테이블에 이미 해당 game_id가 있다면 continue\n",
    "        if mu.oracle_totalExecute(f\"SELECT * FROM RAWDATA WHERE GAME_ID = '{mid}'\", debug_print=False)['VERSION'].tolist() != []:\n",
    "            insert_count -= 1\n",
    "            continue\n",
    "\n",
    "        # API로 매치 데이터 불러오기\n",
    "        matches, timeline = mu.getMatchDataAndTimelineByMatchId(mid, api_key)\n",
    "\n",
    "        # RawData 테이블에 맞춰 매치 데이터 필터링\n",
    "        filtered_rawdata = mu.RawdataFirstFilter(pd.DataFrame({'matches': [matches], 'timeline': [timeline]}), api_key)\n",
    "\n",
    "        # RawData 테이블에 입력\n",
    "        mu.db_open()\n",
    "        for data in filtered_rawdata:\n",
    "            val = [a for a in data.values()]\n",
    "            sql = f\"\"\"\n",
    "            INSERT INTO RAWDATA VALUES(\n",
    "                '{val[0]}',{val[1]},{val[2]},'{val[3]}',{val[4]},'{val[5]}',{val[6]},'{val[7]}','{val[8]}',\n",
    "                '{val[9]}','{val[10]}','{val[11]}','{val[12]}','{val[13]}','{val[14]}','{val[15]}','{val[16]}',\n",
    "                '{val[17]}','{val[18]}','{val[19]}','{val[20]}','{val[21]}','{val[22]}','{val[23]}','{val[24]}','{val[25]}')\n",
    "            \"\"\"\n",
    "            mu.oracle_execute(sql, debug_print=False)\n",
    "        mu.oracle_close()\n",
    "\n",
    "        # summoner_recent_game 테이블에 입력\n",
    "        mu.oracle_totalExecute(f\"INSERT INTO SUMMONER_RECENT_GAME VALUES ('{summoner_name}', '{mid}')\", debug_print=False)\n",
    "        \n",
    "    print(f\"입력된 게임 수: {insert_count}\")"
   ]
  },
  {
   "cell_type": "code",
   "execution_count": 122,
   "metadata": {},
   "outputs": [
    {
     "name": "stderr",
     "output_type": "stream",
     "text": [
      "'모태탑솔': 전적 갱신 중: 100%|██████████| 20/20 [00:29<00:00,  1.49s/it]"
     ]
    },
    {
     "name": "stdout",
     "output_type": "stream",
     "text": [
      "입력된 게임 수: 19\n"
     ]
    },
    {
     "name": "stderr",
     "output_type": "stream",
     "text": [
      "\n"
     ]
    }
   ],
   "source": [
    "reloadPlayRecord('우에샤마', '문정환1')"
   ]
  },
  {
   "attachments": {},
   "cell_type": "markdown",
   "metadata": {},
   "source": [
    "### 19 게임 INSERT 기준 속도 비교"
   ]
  },
  {
   "attachments": {},
   "cell_type": "markdown",
   "metadata": {},
   "source": [
    "##### insertDataFrameIntoTable() 사용 시 약 36초 (1.72s/it)"
   ]
  },
  {
   "attachments": {},
   "cell_type": "markdown",
   "metadata": {},
   "source": [
    "##### oracle_totalExecute() 사용 시 약 48초 (2.4s/it)"
   ]
  },
  {
   "attachments": {},
   "cell_type": "markdown",
   "metadata": {},
   "source": [
    "##### oracle_execute() 사용 시 약 31초 (1.49s/it)"
   ]
  },
  {
   "attachments": {},
   "cell_type": "markdown",
   "metadata": {},
   "source": [
    "### 좌우로 공백문자가 들어가는 기현상"
   ]
  },
  {
   "cell_type": "code",
   "execution_count": 69,
   "metadata": {},
   "outputs": [
    {
     "name": "stdout",
     "output_type": "stream",
     "text": [
      "oracle open!\n",
      "oracle close!\n"
     ]
    },
    {
     "data": {
      "text/html": [
       "<div>\n",
       "<style scoped>\n",
       "    .dataframe tbody tr th:only-of-type {\n",
       "        vertical-align: middle;\n",
       "    }\n",
       "\n",
       "    .dataframe tbody tr th {\n",
       "        vertical-align: top;\n",
       "    }\n",
       "\n",
       "    .dataframe thead th {\n",
       "        text-align: right;\n",
       "    }\n",
       "</style>\n",
       "<table border=\"1\" class=\"dataframe\">\n",
       "  <thead>\n",
       "    <tr style=\"text-align: right;\">\n",
       "      <th></th>\n",
       "      <th>GAME_ID</th>\n",
       "    </tr>\n",
       "  </thead>\n",
       "  <tbody>\n",
       "  </tbody>\n",
       "</table>\n",
       "</div>"
      ],
      "text/plain": [
       "Empty DataFrame\n",
       "Columns: [GAME_ID]\n",
       "Index: []"
      ]
     },
     "execution_count": 69,
     "metadata": {},
     "output_type": "execute_result"
    }
   ],
   "source": [
    "mu.oracle_totalExecute(f\"SELECT GAME_ID FROM RAWDATA WHERE PARTICIPANT_NAME = '사슴구름'\")"
   ]
  },
  {
   "cell_type": "code",
   "execution_count": 74,
   "metadata": {},
   "outputs": [
    {
     "name": "stdout",
     "output_type": "stream",
     "text": [
      "oracle open!\n",
      "oracle close!\n"
     ]
    },
    {
     "data": {
      "text/html": [
       "<div>\n",
       "<style scoped>\n",
       "    .dataframe tbody tr th:only-of-type {\n",
       "        vertical-align: middle;\n",
       "    }\n",
       "\n",
       "    .dataframe tbody tr th {\n",
       "        vertical-align: top;\n",
       "    }\n",
       "\n",
       "    .dataframe thead th {\n",
       "        text-align: right;\n",
       "    }\n",
       "</style>\n",
       "<table border=\"1\" class=\"dataframe\">\n",
       "  <thead>\n",
       "    <tr style=\"text-align: right;\">\n",
       "      <th></th>\n",
       "      <th>PARTICIPANT_NAME</th>\n",
       "    </tr>\n",
       "  </thead>\n",
       "  <tbody>\n",
       "    <tr>\n",
       "      <th>0</th>\n",
       "      <td>Kail</td>\n",
       "    </tr>\n",
       "    <tr>\n",
       "      <th>1</th>\n",
       "      <td>전판 조이</td>\n",
       "    </tr>\n",
       "    <tr>\n",
       "      <th>2</th>\n",
       "      <td>Dex</td>\n",
       "    </tr>\n",
       "    <tr>\n",
       "      <th>3</th>\n",
       "      <td>Felsen</td>\n",
       "    </tr>\n",
       "    <tr>\n",
       "      <th>4</th>\n",
       "      <td>거인용병</td>\n",
       "    </tr>\n",
       "    <tr>\n",
       "      <th>5</th>\n",
       "      <td>괜찮은 척 웃을게</td>\n",
       "    </tr>\n",
       "    <tr>\n",
       "      <th>6</th>\n",
       "      <td>사슴구름</td>\n",
       "    </tr>\n",
       "    <tr>\n",
       "      <th>7</th>\n",
       "      <td>IE BOLTANG</td>\n",
       "    </tr>\n",
       "    <tr>\n",
       "      <th>8</th>\n",
       "      <td>초l동희</td>\n",
       "    </tr>\n",
       "    <tr>\n",
       "      <th>9</th>\n",
       "      <td>공사럭스</td>\n",
       "    </tr>\n",
       "  </tbody>\n",
       "</table>\n",
       "</div>"
      ],
      "text/plain": [
       "  PARTICIPANT_NAME\n",
       "0             Kail\n",
       "1            전판 조이\n",
       "2              Dex\n",
       "3           Felsen\n",
       "4             거인용병\n",
       "5        괜찮은 척 웃을게\n",
       "6         사슴구름    \n",
       "7       IE BOLTANG\n",
       "8             초l동희\n",
       "9             공사럭스"
      ]
     },
     "execution_count": 74,
     "metadata": {},
     "output_type": "execute_result"
    }
   ],
   "source": [
    "whatis = mu.oracle_totalExecute(f\"SELECT PARTICIPANT_NAME FROM RAWDATA WHERE GAME_ID = 'KR_6483755095'\")\n",
    "whatis"
   ]
  },
  {
   "cell_type": "code",
   "execution_count": 75,
   "metadata": {},
   "outputs": [
    {
     "data": {
      "text/plain": [
       "0            Kail\n",
       "1           전판 조이\n",
       "2             Dex\n",
       "3          Felsen\n",
       "4            거인용병\n",
       "5       괜찮은 척 웃을게\n",
       "6        사슴구름    \n",
       "7      IE BOLTANG\n",
       "8            초l동희\n",
       "9            공사럭스\n",
       "Name: PARTICIPANT_NAME, dtype: object"
      ]
     },
     "execution_count": 75,
     "metadata": {},
     "output_type": "execute_result"
    }
   ],
   "source": [
    "whatis['PARTICIPANT_NAME']"
   ]
  },
  {
   "cell_type": "code",
   "execution_count": 76,
   "metadata": {},
   "outputs": [
    {
     "name": "stdout",
     "output_type": "stream",
     "text": [
      "oracle open!\n",
      "oracle close!\n"
     ]
    },
    {
     "data": {
      "text/html": [
       "<div>\n",
       "<style scoped>\n",
       "    .dataframe tbody tr th:only-of-type {\n",
       "        vertical-align: middle;\n",
       "    }\n",
       "\n",
       "    .dataframe tbody tr th {\n",
       "        vertical-align: top;\n",
       "    }\n",
       "\n",
       "    .dataframe thead th {\n",
       "        text-align: right;\n",
       "    }\n",
       "</style>\n",
       "<table border=\"1\" class=\"dataframe\">\n",
       "  <thead>\n",
       "    <tr style=\"text-align: right;\">\n",
       "      <th></th>\n",
       "      <th>GAME_ID</th>\n",
       "    </tr>\n",
       "  </thead>\n",
       "  <tbody>\n",
       "    <tr>\n",
       "      <th>0</th>\n",
       "      <td>KR_6377463110</td>\n",
       "    </tr>\n",
       "    <tr>\n",
       "      <th>1</th>\n",
       "      <td>KR_6490738056</td>\n",
       "    </tr>\n",
       "    <tr>\n",
       "      <th>2</th>\n",
       "      <td>KR_6477426972</td>\n",
       "    </tr>\n",
       "    <tr>\n",
       "      <th>3</th>\n",
       "      <td>KR_6452279412</td>\n",
       "    </tr>\n",
       "    <tr>\n",
       "      <th>4</th>\n",
       "      <td>KR_6452362405</td>\n",
       "    </tr>\n",
       "    <tr>\n",
       "      <th>5</th>\n",
       "      <td>KR_6483885684</td>\n",
       "    </tr>\n",
       "    <tr>\n",
       "      <th>6</th>\n",
       "      <td>KR_6483755095</td>\n",
       "    </tr>\n",
       "    <tr>\n",
       "      <th>7</th>\n",
       "      <td>KR_6484021038</td>\n",
       "    </tr>\n",
       "    <tr>\n",
       "      <th>8</th>\n",
       "      <td>KR_6452516372</td>\n",
       "    </tr>\n",
       "    <tr>\n",
       "      <th>9</th>\n",
       "      <td>KR_6452439208</td>\n",
       "    </tr>\n",
       "    <tr>\n",
       "      <th>10</th>\n",
       "      <td>KR_6452617436</td>\n",
       "    </tr>\n",
       "    <tr>\n",
       "      <th>11</th>\n",
       "      <td>KR_6498687917</td>\n",
       "    </tr>\n",
       "  </tbody>\n",
       "</table>\n",
       "</div>"
      ],
      "text/plain": [
       "          GAME_ID\n",
       "0   KR_6377463110\n",
       "1   KR_6490738056\n",
       "2   KR_6477426972\n",
       "3   KR_6452279412\n",
       "4   KR_6452362405\n",
       "5   KR_6483885684\n",
       "6   KR_6483755095\n",
       "7   KR_6484021038\n",
       "8   KR_6452516372\n",
       "9   KR_6452439208\n",
       "10  KR_6452617436\n",
       "11  KR_6498687917"
      ]
     },
     "execution_count": 76,
     "metadata": {},
     "output_type": "execute_result"
    }
   ],
   "source": [
    "mu.oracle_totalExecute(f\"SELECT GAME_ID FROM RAWDATA WHERE PARTICIPANT_NAME = '    사슴구름    '\")"
   ]
  },
  {
   "attachments": {},
   "cell_type": "markdown",
   "metadata": {},
   "source": [
    "### UPDATE 문으로 TRIM() 적용 후"
   ]
  },
  {
   "cell_type": "code",
   "execution_count": 3,
   "metadata": {},
   "outputs": [
    {
     "name": "stdout",
     "output_type": "stream",
     "text": [
      "oracle open!\n",
      "oracle close!\n"
     ]
    },
    {
     "data": {
      "text/html": [
       "<div>\n",
       "<style scoped>\n",
       "    .dataframe tbody tr th:only-of-type {\n",
       "        vertical-align: middle;\n",
       "    }\n",
       "\n",
       "    .dataframe tbody tr th {\n",
       "        vertical-align: top;\n",
       "    }\n",
       "\n",
       "    .dataframe thead th {\n",
       "        text-align: right;\n",
       "    }\n",
       "</style>\n",
       "<table border=\"1\" class=\"dataframe\">\n",
       "  <thead>\n",
       "    <tr style=\"text-align: right;\">\n",
       "      <th></th>\n",
       "      <th>GAME_ID</th>\n",
       "    </tr>\n",
       "  </thead>\n",
       "  <tbody>\n",
       "    <tr>\n",
       "      <th>0</th>\n",
       "      <td>KR_6377463110</td>\n",
       "    </tr>\n",
       "    <tr>\n",
       "      <th>1</th>\n",
       "      <td>KR_6490738056</td>\n",
       "    </tr>\n",
       "    <tr>\n",
       "      <th>2</th>\n",
       "      <td>KR_6477426972</td>\n",
       "    </tr>\n",
       "    <tr>\n",
       "      <th>3</th>\n",
       "      <td>KR_6452279412</td>\n",
       "    </tr>\n",
       "    <tr>\n",
       "      <th>4</th>\n",
       "      <td>KR_6452362405</td>\n",
       "    </tr>\n",
       "    <tr>\n",
       "      <th>5</th>\n",
       "      <td>KR_6483885684</td>\n",
       "    </tr>\n",
       "    <tr>\n",
       "      <th>6</th>\n",
       "      <td>KR_6483755095</td>\n",
       "    </tr>\n",
       "    <tr>\n",
       "      <th>7</th>\n",
       "      <td>KR_6484021038</td>\n",
       "    </tr>\n",
       "    <tr>\n",
       "      <th>8</th>\n",
       "      <td>KR_6452516372</td>\n",
       "    </tr>\n",
       "    <tr>\n",
       "      <th>9</th>\n",
       "      <td>KR_6452439208</td>\n",
       "    </tr>\n",
       "    <tr>\n",
       "      <th>10</th>\n",
       "      <td>KR_6452617436</td>\n",
       "    </tr>\n",
       "    <tr>\n",
       "      <th>11</th>\n",
       "      <td>KR_6498687917</td>\n",
       "    </tr>\n",
       "  </tbody>\n",
       "</table>\n",
       "</div>"
      ],
      "text/plain": [
       "          GAME_ID\n",
       "0   KR_6377463110\n",
       "1   KR_6490738056\n",
       "2   KR_6477426972\n",
       "3   KR_6452279412\n",
       "4   KR_6452362405\n",
       "5   KR_6483885684\n",
       "6   KR_6483755095\n",
       "7   KR_6484021038\n",
       "8   KR_6452516372\n",
       "9   KR_6452439208\n",
       "10  KR_6452617436\n",
       "11  KR_6498687917"
      ]
     },
     "execution_count": 3,
     "metadata": {},
     "output_type": "execute_result"
    }
   ],
   "source": [
    "mu.oracle_totalExecute(f\"SELECT GAME_ID FROM RAWDATA WHERE PARTICIPANT_NAME = '사슴구름'\")"
   ]
  }
 ],
 "metadata": {
  "kernelspec": {
   "display_name": "base",
   "language": "python",
   "name": "python3"
  },
  "language_info": {
   "codemirror_mode": {
    "name": "ipython",
    "version": 3
   },
   "file_extension": ".py",
   "mimetype": "text/x-python",
   "name": "python",
   "nbconvert_exporter": "python",
   "pygments_lexer": "ipython3",
   "version": "3.9.13"
  },
  "orig_nbformat": 4
 },
 "nbformat": 4,
 "nbformat_minor": 2
}
