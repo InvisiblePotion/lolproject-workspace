{
 "cells": [
  {
   "cell_type": "code",
   "execution_count": 37,
   "metadata": {},
   "outputs": [],
   "source": [
    "import my_utils as mu\n",
    "import pandas as pd\n",
    "import json\n",
    "from tqdm import tqdm"
   ]
  },
  {
   "attachments": {},
   "cell_type": "markdown",
   "metadata": {},
   "source": [
    "SELECT *\n",
    "FROM (\n",
    "    SELECT GAME_ID\n",
    "    FROM RAWDATA\n",
    "    WHERE PARTICIPANT_PUUID = (\n",
    "        SELECT SUMMONER_PUUID\n",
    "        FROM SUMMONER\n",
    "        WHERE SUMMONER_NAME = '작은팽도리')\n",
    "    ORDER BY GAME_ID DESC)\n",
    "WHERE ROWNUM <= 20;\n",
    "\n",
    "SELECT *\n",
    "FROM RAWDATA\n",
    "WHERE GAME_ID IN('KR_6488217131', 'KR_6488164039', 'KR_6488122352')\n",
    "ORDER BY GAME_ID DESC;"
   ]
  },
  {
   "attachments": {},
   "cell_type": "markdown",
   "metadata": {},
   "source": [
    "요약: 게임 종료 시간, 승리 여부, 게임 총 시간, 사용 챔피언, 챔피언 레벨, 사용 스펠, 사용 룬 타입, 킬, 데스, 어시스트, kda, 아이템, 최다 연속킬, 킬 관여율, 제어 와드 설치 수, 총 cs, 분당 cs, 참여 소환사 이름 1~10번\n",
    "(랭크 티어는 랭크 정보가 없어서 제거)\n",
    "\n",
    "상세: 사용 챔피언, 챔피언 레벨, 사용 스펠, 사용 룬 타입, 소환사 이름, 킬, 데스, 어시스트, kda, 가한 피해량, 받은 피해량, 제어 와드 설치 수, 와드 설치 수, 와드 제거 수, 총 cs, 분당 cs, 아이템"
   ]
  },
  {
   "cell_type": "code",
   "execution_count": 58,
   "metadata": {},
   "outputs": [
    {
     "name": "stdout",
     "output_type": "stream",
     "text": [
      "oracle open!\n",
      "oracle close!\n"
     ]
    },
    {
     "data": {
      "text/html": [
       "<div>\n",
       "<style scoped>\n",
       "    .dataframe tbody tr th:only-of-type {\n",
       "        vertical-align: middle;\n",
       "    }\n",
       "\n",
       "    .dataframe tbody tr th {\n",
       "        vertical-align: top;\n",
       "    }\n",
       "\n",
       "    .dataframe thead th {\n",
       "        text-align: right;\n",
       "    }\n",
       "</style>\n",
       "<table border=\"1\" class=\"dataframe\">\n",
       "  <thead>\n",
       "    <tr style=\"text-align: right;\">\n",
       "      <th></th>\n",
       "      <th>COUNT(*)</th>\n",
       "    </tr>\n",
       "  </thead>\n",
       "  <tbody>\n",
       "    <tr>\n",
       "      <th>0</th>\n",
       "      <td>183828</td>\n",
       "    </tr>\n",
       "  </tbody>\n",
       "</table>\n",
       "</div>"
      ],
      "text/plain": [
       "   COUNT(*)\n",
       "0    183828"
      ]
     },
     "execution_count": 58,
     "metadata": {},
     "output_type": "execute_result"
    }
   ],
   "source": [
    "mu.oracle_totalExecute('SELECT COUNT(*) FROM SUMMONER')"
   ]
  },
  {
   "cell_type": "code",
   "execution_count": 38,
   "metadata": {},
   "outputs": [],
   "source": [
    "def rawdataLoader(datas: str):\n",
    "    return json.loads(datas.replace(\"'\", '\"').replace('True', '1').replace('False', '0'))\n",
    "\n",
    "\n",
    "def parseRawdata(rawdata: pd.DataFrame, parse_to: int, use_tqdm: bool=False) -> pd.DataFrame:\n",
    "    \"\"\"\n",
    "    `parse_to`: 파싱 대상 컬럼의 시작 인덱스\\n\n",
    "    `use_tqdm`: tqdm 출력의 사용 여부\n",
    "    \"\"\"\n",
    "    matches = {a:[] for a in rawdata.columns[parse_to:]}\n",
    "\n",
    "    if use_tqdm: parse_data = tqdm(rawdata.iloc)\n",
    "    else: parse_data = rawdata.iloc\n",
    "\n",
    "    for rec in parse_data:\n",
    "        for col in [a for a in rawdata.columns][parse_to:]:\n",
    "            matches[col].append(rawdataLoader(rec[col]))\n",
    "    for col in [a for a in rawdata.columns][parse_to:]:\n",
    "        rawdata[col] = matches[col]\n",
    "    return rawdata"
   ]
  },
  {
   "cell_type": "code",
   "execution_count": 51,
   "metadata": {},
   "outputs": [
    {
     "name": "stdout",
     "output_type": "stream",
     "text": [
      "oracle open!\n",
      "oracle close!\n"
     ]
    }
   ],
   "source": [
    "sql = f\"\"\"\n",
    "    SELECT *\n",
    "    FROM (\n",
    "        SELECT GAME_ID\n",
    "        FROM RAWDATA\n",
    "        WHERE PARTICIPANT_PUUID = (\n",
    "            SELECT SUMMONER_PUUID\n",
    "            FROM SUMMONER\n",
    "            WHERE SUMMONER_NAME = '기본적으로못함')\n",
    "        ORDER BY GAME_ID DESC)\n",
    "    WHERE ROWNUM <= 20\n",
    "\"\"\"\n",
    "game_ids = mu.oracle_totalExecute(sql)"
   ]
  },
  {
   "cell_type": "code",
   "execution_count": 52,
   "metadata": {},
   "outputs": [
    {
     "data": {
      "text/html": [
       "<div>\n",
       "<style scoped>\n",
       "    .dataframe tbody tr th:only-of-type {\n",
       "        vertical-align: middle;\n",
       "    }\n",
       "\n",
       "    .dataframe tbody tr th {\n",
       "        vertical-align: top;\n",
       "    }\n",
       "\n",
       "    .dataframe thead th {\n",
       "        text-align: right;\n",
       "    }\n",
       "</style>\n",
       "<table border=\"1\" class=\"dataframe\">\n",
       "  <thead>\n",
       "    <tr style=\"text-align: right;\">\n",
       "      <th></th>\n",
       "      <th>GAME_ID</th>\n",
       "    </tr>\n",
       "  </thead>\n",
       "  <tbody>\n",
       "    <tr>\n",
       "      <th>0</th>\n",
       "      <td>KR_6484431751</td>\n",
       "    </tr>\n",
       "    <tr>\n",
       "      <th>1</th>\n",
       "      <td>KR_6484396115</td>\n",
       "    </tr>\n",
       "  </tbody>\n",
       "</table>\n",
       "</div>"
      ],
      "text/plain": [
       "         GAME_ID\n",
       "0  KR_6484431751\n",
       "1  KR_6484396115"
      ]
     },
     "execution_count": 52,
     "metadata": {},
     "output_type": "execute_result"
    }
   ],
   "source": [
    "game_ids"
   ]
  },
  {
   "cell_type": "code",
   "execution_count": 53,
   "metadata": {},
   "outputs": [
    {
     "data": {
      "text/plain": [
       "\"'KR_6484431751', 'KR_6484396115'\""
      ]
     },
     "execution_count": 53,
     "metadata": {},
     "output_type": "execute_result"
    }
   ],
   "source": [
    "game_ids['GAME_ID'].tolist().__str__()[1:-1]"
   ]
  },
  {
   "cell_type": "code",
   "execution_count": 56,
   "metadata": {},
   "outputs": [
    {
     "name": "stdout",
     "output_type": "stream",
     "text": [
      "oracle open!\n",
      "oracle close!\n"
     ]
    }
   ],
   "source": [
    "sql = f\"\"\"\n",
    "    SELECT ROWNUM NUM, r.*\n",
    "    FROM RAWDATA r\n",
    "    WHERE GAME_ID IN({game_ids['GAME_ID'].tolist().__str__()[1:-1]})\n",
    "    ORDER BY GAME_ID DESC, PARTICIPANT_NUMBER\n",
    "\"\"\"\n",
    "game_datas = parseRawdata(mu.oracle_totalExecute(sql), 10)"
   ]
  },
  {
   "cell_type": "code",
   "execution_count": null,
   "metadata": {},
   "outputs": [],
   "source": [
    "game_datas"
   ]
  }
 ],
 "metadata": {
  "kernelspec": {
   "display_name": "base",
   "language": "python",
   "name": "python3"
  },
  "language_info": {
   "codemirror_mode": {
    "name": "ipython",
    "version": 3
   },
   "file_extension": ".py",
   "mimetype": "text/x-python",
   "name": "python",
   "nbconvert_exporter": "python",
   "pygments_lexer": "ipython3",
   "version": "3.9.13"
  },
  "orig_nbformat": 4
 },
 "nbformat": 4,
 "nbformat_minor": 2
}
