{
 "cells": [
  {
   "cell_type": "code",
   "execution_count": 38,
   "metadata": {},
   "outputs": [],
   "source": [
    "import pandas as pd\n",
    "import requests as req\n",
    "import my_utils as mu\n",
    "from tqdm import tqdm\n",
    "from PIL import Image\n",
    "from io import BytesIO\n",
    "from oracle_test import OracleTools\n",
    "import json\n",
    "import os"
   ]
  },
  {
   "cell_type": "code",
   "execution_count": 11,
   "metadata": {},
   "outputs": [
    {
     "name": "stdout",
     "output_type": "stream",
     "text": [
      "get SummonerName.....\n"
     ]
    },
    {
     "name": "stderr",
     "output_type": "stream",
     "text": [
      "100%|██████████| 1/1 [00:00<00:00,  2.72it/s]\n"
     ]
    },
    {
     "name": "stdout",
     "output_type": "stream",
     "text": [
      "total player:  1\n",
      "get puuid......\n"
     ]
    },
    {
     "name": "stderr",
     "output_type": "stream",
     "text": [
      "100%|██████████| 1/1 [00:00<00:00,  3.55it/s]\n"
     ]
    },
    {
     "name": "stdout",
     "output_type": "stream",
     "text": [
      "passed player:  0\n",
      "get match_id...\n"
     ]
    },
    {
     "name": "stderr",
     "output_type": "stream",
     "text": [
      "100%|██████████| 1/1 [00:00<00:00,  2.99it/s]\n"
     ]
    },
    {
     "name": "stdout",
     "output_type": "stream",
     "text": [
      "get matches & timeline.....\n"
     ]
    },
    {
     "name": "stderr",
     "output_type": "stream",
     "text": [
      "100%|██████████| 1/1 [00:00<00:00,  1.27it/s]"
     ]
    },
    {
     "name": "stdout",
     "output_type": "stream",
     "text": [
      "complete!\n"
     ]
    },
    {
     "name": "stderr",
     "output_type": "stream",
     "text": [
      "\n"
     ]
    }
   ],
   "source": [
    "sample = mu.getSampleData('gold',1,1,'')"
   ]
  },
  {
   "cell_type": "code",
   "execution_count": 12,
   "metadata": {},
   "outputs": [],
   "source": [
    "one_game = []\n",
    "for i in range(10):\n",
    "    m = sample.iloc[0]['matches']['info']\n",
    "    p = m['participants'][i]\n",
    "    c = p['challenges']\n",
    "    t = sample.iloc[0]['timeline']['info']\n",
    "    f = t['frames']\n",
    "\n",
    "    result = {\n",
    "        'gameId': m['gameId'],\n",
    "        'participant': p['participantId'],\n",
    "        'matches': {\n",
    "            'game': {\n",
    "                'gameCreation': m['gameCreation'],\n",
    "                'gameStartTimestamp': m['gameStartTimestamp'],\n",
    "                'gameEndTimestamp': m['gameEndTimestamp'],\n",
    "                'gameDuration': m['gameDuration'],\n",
    "                'gameVersion': m['gameVersion'],\n",
    "                'queueId': m['queueId'],\n",
    "                'bans': m['teams'][0]['bans'] + m['teams'][1]['bans']\n",
    "            },\n",
    "            'summoner': {\n",
    "                'summonerName': p['summonerName'],\n",
    "                'summonerLevel': p['summonerLevel'],\n",
    "                'summonerId': p['summonerId'],\n",
    "                'puuid': p['puuid']\n",
    "            },\n",
    "            'champion': {\n",
    "                'championId': p['championId'],\n",
    "                'championName': p['championName'],\n",
    "                'champLevel': p['champLevel'],\n",
    "                'lane': p['lane'],\n",
    "                'individualPosition': p['individualPosition'],\n",
    "                'teamPosition': p['teamPosition'],\n",
    "                'teamId': p['teamId'],\n",
    "                'win': p['win']\n",
    "            },\n",
    "            'spell': {\n",
    "                'summoner1Id': p['summoner1Id'],\n",
    "                'summoner2Id': p['summoner2Id']\n",
    "            },\n",
    "            'rune': {\n",
    "                'runePrimaryStyle': p['perks']['styles'][0]['style'],\n",
    "                'runeCorePerk': p['perks']['styles'][0]['selections'][0]['perk'],\n",
    "                'runePrimaryPerk1': p['perks']['styles'][0]['selections'][1]['perk'],\n",
    "                'runePrimaryPerk2': p['perks']['styles'][0]['selections'][2]['perk'],\n",
    "                'runePrimaryPerk3': p['perks']['styles'][0]['selections'][3]['perk'],\n",
    "                'runeSubStyle': p['perks']['styles'][1]['style'],\n",
    "                'runeSubPerk1': p['perks']['styles'][1]['selections'][0]['perk'],\n",
    "                'runeSubPerk2': p['perks']['styles'][1]['selections'][1]['perk'],\n",
    "                'runeShardOffense': p['perks']['statPerks']['offense'],\n",
    "                'runeShardFlex': p['perks']['statPerks']['flex'],\n",
    "                'runeShardDefense': p['perks']['statPerks']['defense']\n",
    "            },\n",
    "            'item': {\n",
    "                'item0': p['item0'],\n",
    "                'item1': p['item1'],\n",
    "                'item2': p['item2'],\n",
    "                'item3': p['item3'],\n",
    "                'item4': p['item4'],\n",
    "                'item5': p['item5'],\n",
    "                'item6': p['item6']\n",
    "            },\n",
    "            'kda': {\n",
    "                'kills': p['kills'],\n",
    "                'deaths': p['deaths'],\n",
    "                'assists': p['assists'],\n",
    "                'kda': c['kda'],\n",
    "                'killParticipation': c['killParticipation']\n",
    "            },\n",
    "            'gold': {\n",
    "                'bountyLevel': p['bountyLevel'],\n",
    "                'bountyGold': c['bountyGold'],\n",
    "                'goldEarned': p['goldEarned'],\n",
    "                'goldPerMinute': c['goldPerMinute']\n",
    "            },\n",
    "            'turret': {\n",
    "                'turretTakedowns': c['turretTakedowns'],\n",
    "                'turretPlatesTaken': c['turretPlatesTaken']\n",
    "            },\n",
    "            'damage': {\n",
    "                'teamDamagePercentage': c['teamDamagePercentage'],\n",
    "                'totalDamageDealtToChampions': p['totalDamageDealtToChampions'],\n",
    "                'physicalDamageDealtToChampions': p['physicalDamageDealtToChampions'],\n",
    "                'magicDamageDealtToChampions': p['magicDamageDealtToChampions'],\n",
    "                'trueDamageDealtToChampions': p['trueDamageDealtToChampions'],\n",
    "                'damageDealtToBuildings': p['damageDealtToBuildings'],\n",
    "                'damageDealtToObjectives': p['damageDealtToObjectives'],\n",
    "                'totalDamageTaken': p['totalDamageTaken'],\n",
    "                'physicalDamageTaken': p['physicalDamageTaken'],\n",
    "                'magicDamageTaken': p['magicDamageTaken'],\n",
    "                'trueDamageTaken': p['trueDamageTaken'],\n",
    "                'totalHeal': p['totalHeal'],\n",
    "                'totalHealsOnTeammates': p['totalHealsOnTeammates']\n",
    "            },\n",
    "            'vision': {\n",
    "                'visionScore': p['visionScore'],\n",
    "                'wardsPlaced': p['wardsPlaced'],\n",
    "                'controlWardsPlaced': c['controlWardsPlaced'],\n",
    "                'wardsKilled': p['wardsKilled']\n",
    "            },\n",
    "            'etc': {\n",
    "                'spell1Casts': p['spell1Casts'],\n",
    "                'spell2Casts': p['spell2Casts'],\n",
    "                'spell3Casts': p['spell3Casts'],\n",
    "                'spell4Casts': p['spell4Casts'],\n",
    "                'firstBloodKill': p['firstBloodKill'],\n",
    "                'largestKillingSpree': p['largestKillingSpree'],\n",
    "                'largestMultiKill': p['largestMultiKill'],\n",
    "                'earlyLaningPhaseGoldExpAdvantage': c['earlyLaningPhaseGoldExpAdvantage']\n",
    "            }\n",
    "        },\n",
    "        'timeline': {\n",
    "            '제조 필요!': '어떤 정보를 넣을지 의논 필요'\n",
    "        }\n",
    "    }\n",
    "    one_game.append(result)"
   ]
  },
  {
   "cell_type": "code",
   "execution_count": 34,
   "metadata": {},
   "outputs": [
    {
     "data": {
      "text/html": [
       "<div>\n",
       "<style scoped>\n",
       "    .dataframe tbody tr th:only-of-type {\n",
       "        vertical-align: middle;\n",
       "    }\n",
       "\n",
       "    .dataframe tbody tr th {\n",
       "        vertical-align: top;\n",
       "    }\n",
       "\n",
       "    .dataframe thead th {\n",
       "        text-align: right;\n",
       "    }\n",
       "</style>\n",
       "<table border=\"1\" class=\"dataframe\">\n",
       "  <thead>\n",
       "    <tr style=\"text-align: right;\">\n",
       "      <th></th>\n",
       "      <th>gameId</th>\n",
       "      <th>participant</th>\n",
       "      <th>matches</th>\n",
       "      <th>timeline</th>\n",
       "    </tr>\n",
       "  </thead>\n",
       "  <tbody>\n",
       "    <tr>\n",
       "      <th>0</th>\n",
       "      <td>6436724130</td>\n",
       "      <td>1</td>\n",
       "      <td>{'game': {'gameCreation': 1680619441487, 'game...</td>\n",
       "      <td>{'제조 필요!': '어떤 정보를 넣을지 의논 필요'}</td>\n",
       "    </tr>\n",
       "    <tr>\n",
       "      <th>1</th>\n",
       "      <td>6436724130</td>\n",
       "      <td>2</td>\n",
       "      <td>{'game': {'gameCreation': 1680619441487, 'game...</td>\n",
       "      <td>{'제조 필요!': '어떤 정보를 넣을지 의논 필요'}</td>\n",
       "    </tr>\n",
       "    <tr>\n",
       "      <th>2</th>\n",
       "      <td>6436724130</td>\n",
       "      <td>3</td>\n",
       "      <td>{'game': {'gameCreation': 1680619441487, 'game...</td>\n",
       "      <td>{'제조 필요!': '어떤 정보를 넣을지 의논 필요'}</td>\n",
       "    </tr>\n",
       "    <tr>\n",
       "      <th>3</th>\n",
       "      <td>6436724130</td>\n",
       "      <td>4</td>\n",
       "      <td>{'game': {'gameCreation': 1680619441487, 'game...</td>\n",
       "      <td>{'제조 필요!': '어떤 정보를 넣을지 의논 필요'}</td>\n",
       "    </tr>\n",
       "    <tr>\n",
       "      <th>4</th>\n",
       "      <td>6436724130</td>\n",
       "      <td>5</td>\n",
       "      <td>{'game': {'gameCreation': 1680619441487, 'game...</td>\n",
       "      <td>{'제조 필요!': '어떤 정보를 넣을지 의논 필요'}</td>\n",
       "    </tr>\n",
       "    <tr>\n",
       "      <th>5</th>\n",
       "      <td>6436724130</td>\n",
       "      <td>6</td>\n",
       "      <td>{'game': {'gameCreation': 1680619441487, 'game...</td>\n",
       "      <td>{'제조 필요!': '어떤 정보를 넣을지 의논 필요'}</td>\n",
       "    </tr>\n",
       "    <tr>\n",
       "      <th>6</th>\n",
       "      <td>6436724130</td>\n",
       "      <td>7</td>\n",
       "      <td>{'game': {'gameCreation': 1680619441487, 'game...</td>\n",
       "      <td>{'제조 필요!': '어떤 정보를 넣을지 의논 필요'}</td>\n",
       "    </tr>\n",
       "    <tr>\n",
       "      <th>7</th>\n",
       "      <td>6436724130</td>\n",
       "      <td>8</td>\n",
       "      <td>{'game': {'gameCreation': 1680619441487, 'game...</td>\n",
       "      <td>{'제조 필요!': '어떤 정보를 넣을지 의논 필요'}</td>\n",
       "    </tr>\n",
       "    <tr>\n",
       "      <th>8</th>\n",
       "      <td>6436724130</td>\n",
       "      <td>9</td>\n",
       "      <td>{'game': {'gameCreation': 1680619441487, 'game...</td>\n",
       "      <td>{'제조 필요!': '어떤 정보를 넣을지 의논 필요'}</td>\n",
       "    </tr>\n",
       "    <tr>\n",
       "      <th>9</th>\n",
       "      <td>6436724130</td>\n",
       "      <td>10</td>\n",
       "      <td>{'game': {'gameCreation': 1680619441487, 'game...</td>\n",
       "      <td>{'제조 필요!': '어떤 정보를 넣을지 의논 필요'}</td>\n",
       "    </tr>\n",
       "  </tbody>\n",
       "</table>\n",
       "</div>"
      ],
      "text/plain": [
       "       gameId  participant                                            matches  \\\n",
       "0  6436724130            1  {'game': {'gameCreation': 1680619441487, 'game...   \n",
       "1  6436724130            2  {'game': {'gameCreation': 1680619441487, 'game...   \n",
       "2  6436724130            3  {'game': {'gameCreation': 1680619441487, 'game...   \n",
       "3  6436724130            4  {'game': {'gameCreation': 1680619441487, 'game...   \n",
       "4  6436724130            5  {'game': {'gameCreation': 1680619441487, 'game...   \n",
       "5  6436724130            6  {'game': {'gameCreation': 1680619441487, 'game...   \n",
       "6  6436724130            7  {'game': {'gameCreation': 1680619441487, 'game...   \n",
       "7  6436724130            8  {'game': {'gameCreation': 1680619441487, 'game...   \n",
       "8  6436724130            9  {'game': {'gameCreation': 1680619441487, 'game...   \n",
       "9  6436724130           10  {'game': {'gameCreation': 1680619441487, 'game...   \n",
       "\n",
       "                         timeline  \n",
       "0  {'제조 필요!': '어떤 정보를 넣을지 의논 필요'}  \n",
       "1  {'제조 필요!': '어떤 정보를 넣을지 의논 필요'}  \n",
       "2  {'제조 필요!': '어떤 정보를 넣을지 의논 필요'}  \n",
       "3  {'제조 필요!': '어떤 정보를 넣을지 의논 필요'}  \n",
       "4  {'제조 필요!': '어떤 정보를 넣을지 의논 필요'}  \n",
       "5  {'제조 필요!': '어떤 정보를 넣을지 의논 필요'}  \n",
       "6  {'제조 필요!': '어떤 정보를 넣을지 의논 필요'}  \n",
       "7  {'제조 필요!': '어떤 정보를 넣을지 의논 필요'}  \n",
       "8  {'제조 필요!': '어떤 정보를 넣을지 의논 필요'}  \n",
       "9  {'제조 필요!': '어떤 정보를 넣을지 의논 필요'}  "
      ]
     },
     "execution_count": 34,
     "metadata": {},
     "output_type": "execute_result"
    }
   ],
   "source": [
    "pd.DataFrame(one_game)"
   ]
  },
  {
   "cell_type": "code",
   "execution_count": 41,
   "metadata": {},
   "outputs": [],
   "source": [
    "# with open('../json/rawDataExample.json', 'w') as f:\n",
    "#     f.write(json.dumps(one_game))"
   ]
  }
 ],
 "metadata": {
  "kernelspec": {
   "display_name": "base",
   "language": "python",
   "name": "python3"
  },
  "language_info": {
   "codemirror_mode": {
    "name": "ipython",
    "version": 3
   },
   "file_extension": ".py",
   "mimetype": "text/x-python",
   "name": "python",
   "nbconvert_exporter": "python",
   "pygments_lexer": "ipython3",
   "version": "3.9.13"
  },
  "orig_nbformat": 4
 },
 "nbformat": 4,
 "nbformat_minor": 2
}
