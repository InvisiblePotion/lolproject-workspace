{
 "cells": [
  {
   "cell_type": "code",
   "execution_count": 23,
   "metadata": {},
   "outputs": [],
   "source": [
    "import my_utils as mu\n",
    "import pandas as pd\n",
    "import json"
   ]
  },
  {
   "cell_type": "code",
   "execution_count": 4,
   "metadata": {},
   "outputs": [
    {
     "name": "stdout",
     "output_type": "stream",
     "text": [
      "oracle open!\n",
      "oracle close!\n"
     ]
    },
    {
     "data": {
      "text/html": [
       "<div>\n",
       "<style scoped>\n",
       "    .dataframe tbody tr th:only-of-type {\n",
       "        vertical-align: middle;\n",
       "    }\n",
       "\n",
       "    .dataframe tbody tr th {\n",
       "        vertical-align: top;\n",
       "    }\n",
       "\n",
       "    .dataframe thead th {\n",
       "        text-align: right;\n",
       "    }\n",
       "</style>\n",
       "<table border=\"1\" class=\"dataframe\">\n",
       "  <thead>\n",
       "    <tr style=\"text-align: right;\">\n",
       "      <th></th>\n",
       "      <th>COUNT(*)</th>\n",
       "    </tr>\n",
       "  </thead>\n",
       "  <tbody>\n",
       "    <tr>\n",
       "      <th>0</th>\n",
       "      <td>363520</td>\n",
       "    </tr>\n",
       "  </tbody>\n",
       "</table>\n",
       "</div>"
      ],
      "text/plain": [
       "   COUNT(*)\n",
       "0    363520"
      ]
     },
     "execution_count": 4,
     "metadata": {},
     "output_type": "execute_result"
    }
   ],
   "source": [
    "mu.oracle_totalExecute('SELECT COUNT(*) FROM RAWDATA')"
   ]
  },
  {
   "cell_type": "code",
   "execution_count": 3,
   "metadata": {},
   "outputs": [
    {
     "name": "stdout",
     "output_type": "stream",
     "text": [
      "RawData 테이블의 결성 확인. 삭제를 진행합니다.\n",
      "대상 game_id: ['KR_6373818275', 'KR_6495670157']\n"
     ]
    },
    {
     "name": "stderr",
     "output_type": "stream",
     "text": [
      "부적절한 매치 데이터 삭제 중...: 100%|██████████| 2/2 [00:00<00:00,  8.43it/s]\n"
     ]
    }
   ],
   "source": [
    "mu.rawdataIntegrityKeeper()"
   ]
  },
  {
   "cell_type": "code",
   "execution_count": 5,
   "metadata": {},
   "outputs": [
    {
     "name": "stdout",
     "output_type": "stream",
     "text": [
      "oracle open!\n",
      "oracle close!\n"
     ]
    }
   ],
   "source": [
    "rawdata = mu.oracle_totalExecute('SELECT * FROM RAWDATA')"
   ]
  },
  {
   "cell_type": "code",
   "execution_count": 7,
   "metadata": {},
   "outputs": [],
   "source": [
    "rawdata_dict = rawdata.to_dict()"
   ]
  },
  {
   "cell_type": "code",
   "execution_count": 8,
   "metadata": {},
   "outputs": [],
   "source": [
    "rawdata_cols = [a for a in rawdata_dict.keys()]"
   ]
  },
  {
   "cell_type": "code",
   "execution_count": 11,
   "metadata": {},
   "outputs": [],
   "source": [
    "rawdata_cols.insert(5, 'PARTICIPANT_NAME')"
   ]
  },
  {
   "cell_type": "code",
   "execution_count": 13,
   "metadata": {},
   "outputs": [],
   "source": [
    "newdata_dict = {a:{} for a in rawdata_cols}"
   ]
  },
  {
   "cell_type": "code",
   "execution_count": 17,
   "metadata": {},
   "outputs": [
    {
     "data": {
      "text/plain": [
       "'PARTICIPANT_NAME'"
      ]
     },
     "execution_count": 17,
     "metadata": {},
     "output_type": "execute_result"
    }
   ],
   "source": [
    "rawdata_cols[5]"
   ]
  },
  {
   "cell_type": "code",
   "execution_count": 25,
   "metadata": {},
   "outputs": [
    {
     "data": {
      "text/plain": [
       "'쿨감폿'"
      ]
     },
     "execution_count": 25,
     "metadata": {},
     "output_type": "execute_result"
    }
   ],
   "source": [
    "json.loads(rawdata_dict['SUMMONER'][0])['summonerName']"
   ]
  },
  {
   "cell_type": "code",
   "execution_count": 16,
   "metadata": {},
   "outputs": [],
   "source": [
    "# for idx in range(len(rawdata_dict['VERSION'])):\n",
    "#     for col in rawdata_cols:\n",
    "#         if col not in rawdata_cols[9:]:\n",
    "#             newdata_dict[col][idx] = rawdata_dict[col][idx]\n",
    "#         elif col == 'CHAMPION' or col == 'KDA':\n",
    "#             newdata_dict[col][idx] = rawdata_dict[col][idx].replace(\"'\",'\"').replace('True','1').replace('False','0')\n",
    "#         else:\n",
    "#             newdata_dict[col][idx] = rawdata_dict[col][idx].replace(\"'\",'\"')"
   ]
  },
  {
   "cell_type": "code",
   "execution_count": 26,
   "metadata": {},
   "outputs": [],
   "source": [
    "for idx in range(len(rawdata_dict['VERSION'])):\n",
    "    for i, col in enumerate(rawdata_cols):\n",
    "        if i == 5: newdata_dict[col][idx] = json.loads(rawdata_dict['SUMMONER'][idx])['summonerName']\n",
    "        else: newdata_dict[col][idx] = rawdata_dict[col][idx]"
   ]
  },
  {
   "cell_type": "code",
   "execution_count": 32,
   "metadata": {},
   "outputs": [
    {
     "name": "stdout",
     "output_type": "stream",
     "text": [
      ">>> 테이블의 컬럼 정보 검색 중...\n",
      ">>> 테이블의 Primary Key 정보 검색 중...\n",
      ">>> 테이블에 데이터 삽입 중...\n"
     ]
    },
    {
     "name": "stderr",
     "output_type": "stream",
     "text": [
      " 37%|███▋      | 136083/363540 [45:46<1:15:55, 49.93it/s]"
     ]
    }
   ],
   "source": [
    "mu.insertDataFrameIntoTable(pd.DataFrame(newdata_dict), 'RAWDATA_C')"
   ]
  },
  {
   "cell_type": "code",
   "execution_count": null,
   "metadata": {},
   "outputs": [],
   "source": [
    "mu.oracle_totalExecute('DROP TABLE RAWDATA CASCADE CONSTRAINTS')\n",
    "mu.oracle_totalExecute(\"\"\"\n",
    "    CREATE TABLE RawData\n",
    "    (\n",
    "    version            VARCHAR(30)   NOT NULL,\n",
    "    game_create_time   NUMBER(16)    NOT NULL,\n",
    "    game_duration      NUMBER(10)    NOT NULL,\n",
    "    game_id            VARCHAR(16)   NOT NULL,\n",
    "    participant_number NUMBER(2)     NOT NULL,\n",
    "    participant_name   NVARCHAR2(20) NOT NULL,\n",
    "    champion_id        NUMBER(3)     NOT NULL,\n",
    "    lane               VARCHAR(7)    NOT NULL,\n",
    "    participant_puuid  VARCHAR(100)  NOT NULL,\n",
    "    api_key            VARCHAR(50)   NOT NULL,\n",
    "    game               VARCHAR(600)  NOT NULL,\n",
    "    summoner           VARCHAR(300)  NOT NULL,\n",
    "    champion           VARCHAR(250)  NOT NULL,\n",
    "    spell              VARCHAR(50)   NOT NULL,\n",
    "    skill              VARCHAR(100)  NOT NULL,\n",
    "    skillTree          VARCHAR(70)   NOT NULL,\n",
    "    rune               VARCHAR(300)  NOT NULL,\n",
    "    item               VARCHAR(150)  NOT NULL,\n",
    "    startItem          VARCHAR(50)   NOT NULL,\n",
    "    itemTree           VARCHAR(30)   NOT NULL,\n",
    "    kda                VARCHAR(200)  NOT NULL,\n",
    "    gold               VARCHAR(120)  NOT NULL,\n",
    "    cs                 VARCHAR(70)   NOT NULL,\n",
    "    turret             VARCHAR(60)   NOT NULL,\n",
    "    damage             VARCHAR(500)  NOT NULL,\n",
    "    vision             VARCHAR(100)  NOT NULL,\n",
    "    CONSTRAINT PK_RawData PRIMARY KEY (version, game_id, participant_number))\"\"\")\n",
    "mu.oracle_totalExecute(\"\"\"\n",
    "ALTER TABLE RawData\n",
    "  ADD CONSTRAINT FK_ApiKey_TO_RawData\n",
    "    FOREIGN KEY (api_key)\n",
    "    REFERENCES ApiKey (api_key)\"\"\")"
   ]
  },
  {
   "cell_type": "code",
   "execution_count": null,
   "metadata": {},
   "outputs": [],
   "source": [
    "mu.insertDataFrameIntoTable(pd.DataFrame(newdata_dict), 'RAWDATA')"
   ]
  }
 ],
 "metadata": {
  "kernelspec": {
   "display_name": "base",
   "language": "python",
   "name": "python3"
  },
  "language_info": {
   "codemirror_mode": {
    "name": "ipython",
    "version": 3
   },
   "file_extension": ".py",
   "mimetype": "text/x-python",
   "name": "python",
   "nbconvert_exporter": "python",
   "pygments_lexer": "ipython3",
   "version": "3.9.13"
  },
  "orig_nbformat": 4
 },
 "nbformat": 4,
 "nbformat_minor": 2
}
