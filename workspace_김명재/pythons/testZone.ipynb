{
 "cells": [
  {
   "cell_type": "code",
   "execution_count": 1,
   "metadata": {},
   "outputs": [],
   "source": [
    "import requests as req\n",
    "import pandas as pd\n",
    "import json\n",
    "from PIL import Image\n",
    "from io import BytesIO\n",
    "import random\n",
    "from tqdm import tqdm\n",
    "from oracle_test import OracleTools\n",
    "import my_utils as mu\n",
    "import time\n",
    "import multiprocessing as mp"
   ]
  },
  {
   "cell_type": "code",
   "execution_count": 95,
   "metadata": {},
   "outputs": [],
   "source": [
    "### ERROR가 아닌 타입의 로그가 있는 경우 제대로 분리해내지 못하는 상태임. << 수정 필요\n",
    "def openLogAsJsonList(path: str, log_level: str='ERROR'):\n",
    "    log_level = log_level.upper()\n",
    "    tmp = open(path, 'rt', encoding='UTF8').read()\n",
    "    tmp = tmp.replace('\\n', '')\n",
    "    tmp = tmp.split(f\"{log_level}:root:\")\n",
    "    tmp.remove('')\n",
    "    tmp = list(filter(lambda x: x[0] == '{', tmp))\n",
    "    return [json.loads(a.replace('\\'', '\"')) for a in tmp]"
   ]
  },
  {
   "cell_type": "code",
   "execution_count": 7,
   "metadata": {},
   "outputs": [
    {
     "name": "stdout",
     "output_type": "stream",
     "text": [
      "get SummonerName.....\n"
     ]
    },
    {
     "name": "stderr",
     "output_type": "stream",
     "text": [
      "100%|██████████| 1/1 [00:00<00:00,  3.04it/s]\n"
     ]
    },
    {
     "name": "stdout",
     "output_type": "stream",
     "text": [
      "total player:  1\n",
      "get puuid......\n"
     ]
    },
    {
     "name": "stderr",
     "output_type": "stream",
     "text": [
      "100%|██████████| 1/1 [00:00<00:00,  3.52it/s]\n"
     ]
    },
    {
     "name": "stdout",
     "output_type": "stream",
     "text": [
      "passed player:  0\n",
      "get match_id...\n"
     ]
    },
    {
     "name": "stderr",
     "output_type": "stream",
     "text": [
      "100%|██████████| 1/1 [00:00<00:00,  3.60it/s]\n"
     ]
    },
    {
     "name": "stdout",
     "output_type": "stream",
     "text": [
      "get matches & timeline.....\n"
     ]
    },
    {
     "name": "stderr",
     "output_type": "stream",
     "text": [
      "100%|██████████| 1/1 [00:00<00:00,  1.29it/s]"
     ]
    },
    {
     "name": "stdout",
     "output_type": "stream",
     "text": [
      "complete!\n"
     ]
    },
    {
     "name": "stderr",
     "output_type": "stream",
     "text": [
      "\n"
     ]
    }
   ],
   "source": [
    "sample = mu.getSampleData('gold', 1, 1, 'RGAPI-5db2eccc-c2fd-4161-82cc-ed33eb124784')\n",
    "mat = sample.iloc[0]['matches']['info']\n",
    "tim = sample.iloc[0]['timeline']['info']"
   ]
  },
  {
   "cell_type": "code",
   "execution_count": 84,
   "metadata": {},
   "outputs": [
    {
     "name": "stdout",
     "output_type": "stream",
     "text": [
      "oracle open!\n",
      "oracle close!\n"
     ]
    }
   ],
   "source": [
    "rawdatas = mu.oracle_totalExecute('SELECT * FROM RAWDATA')"
   ]
  },
  {
   "cell_type": "code",
   "execution_count": 229,
   "metadata": {},
   "outputs": [],
   "source": [
    "rawdatas.sort_values(['GAME_ID', 'PARTICIPANT_NUMBER'], ascending=[False, True], ignore_index=True, inplace=True)"
   ]
  },
  {
   "cell_type": "code",
   "execution_count": 133,
   "metadata": {},
   "outputs": [],
   "source": [
    "sample_raw = rawdatas.head(10)"
   ]
  },
  {
   "attachments": {},
   "cell_type": "markdown",
   "metadata": {},
   "source": [
    "### 타임라인에 필요한 데이터:\n",
    "* 챔피언 스킬 빌드\n",
    "* 챔피언 시작 아이템\n",
    "* 챔피언 아이템 빌드"
   ]
  },
  {
   "attachments": {},
   "cell_type": "markdown",
   "metadata": {},
   "source": [
    "#### 챔피언 스킬 빌드"
   ]
  },
  {
   "cell_type": "code",
   "execution_count": 67,
   "metadata": {},
   "outputs": [],
   "source": [
    "skill1 = mu.eventExtractor(sample.iloc[0], 'SKILL_LEVEL_UP', 1)"
   ]
  },
  {
   "cell_type": "code",
   "execution_count": 68,
   "metadata": {},
   "outputs": [
    {
     "data": {
      "text/plain": [
       "[1, 3, 2, 3, 3, 4, 3, 1, 3, 1, 4, 1, 1, 2, 2]"
      ]
     },
     "execution_count": 68,
     "metadata": {},
     "output_type": "execute_result"
    }
   ],
   "source": [
    "build1 = [a['skillSlot'] for a in skill1]\n",
    "build1"
   ]
  },
  {
   "attachments": {},
   "cell_type": "markdown",
   "metadata": {},
   "source": [
    "#### 챔피언 시작 아이템"
   ]
  },
  {
   "cell_type": "code",
   "execution_count": 70,
   "metadata": {},
   "outputs": [],
   "source": [
    "with open('D:\\\\7_LOL Project\\\\dragontail-13.8.1\\\\13.8.1\\\\data\\\\ko_KR\\\\item.json', 'rt', encoding='utf8') as f:\n",
    "    items = json.loads(f.read())"
   ]
  },
  {
   "cell_type": "code",
   "execution_count": 8,
   "metadata": {},
   "outputs": [],
   "source": [
    "trinket = [3340,3363,3364]"
   ]
  },
  {
   "cell_type": "code",
   "execution_count": 57,
   "metadata": {},
   "outputs": [],
   "source": [
    "def getStartItem(rawdata_series: pd.Series, participant_number: int):\n",
    "    parts = [a['teamPosition'] for a in rawdata_series['matches']['info']['participants']]\n",
    "\n",
    "    item_pur = mu.eventExtractor(rawdata_series, 'ITEM_PURCHASED', participant_number)\n",
    "    purchased = [a['itemId'] for a in filter(lambda x: x['timestamp']<=120000, item_pur)]\n",
    "\n",
    "    item_undo = mu.eventExtractor(rawdata_series, 'ITEM_UNDO', participant_number)\n",
    "    undo = [a['beforeId'] for a in filter(lambda x: x['timestamp']<=120000, item_undo)]\n",
    "    for remo in undo:\n",
    "        purchased.remove(remo)\n",
    "\n",
    "    return {'teamPosition': parts[participant_number-1], 'purchasedItems': purchased}"
   ]
  },
  {
   "cell_type": "code",
   "execution_count": 58,
   "metadata": {},
   "outputs": [],
   "source": [
    "def itemId2Name(item_dict: dict):\n",
    "    with open('D:\\\\7_LOL Project\\\\dragontail-13.8.1\\\\13.8.1\\\\data\\\\ko_KR\\\\item.json', 'rt', encoding='utf8') as f:\n",
    "        items = json.loads(f.read())\n",
    "    item_dict['purchasedItems'] = [items['data'][str(a)]['name'] for a in item_dict['purchasedItems']]\n",
    "    return item_dict"
   ]
  },
  {
   "cell_type": "code",
   "execution_count": 280,
   "metadata": {},
   "outputs": [
    {
     "data": {
      "text/plain": [
       "{'teamPosition': 'TOP', 'purchasedItems': [1054, 3340, 2003]}"
      ]
     },
     "execution_count": 280,
     "metadata": {},
     "output_type": "execute_result"
    }
   ],
   "source": [
    "ids = [getStartItem(sample.iloc[0], i) for i in range(1, 11)]\n",
    "ids[0]"
   ]
  },
  {
   "cell_type": "code",
   "execution_count": 281,
   "metadata": {},
   "outputs": [
    {
     "data": {
      "text/plain": [
       "{'teamPosition': 'TOP', 'purchasedItems': ['도란의 방패', '투명 와드', '체력 물약']}"
      ]
     },
     "execution_count": 281,
     "metadata": {},
     "output_type": "execute_result"
    }
   ],
   "source": [
    "t = [itemId2Name(getStartItem(sample.iloc[0], i)) for i in range(1, 11)]\n",
    "t[0]"
   ]
  },
  {
   "attachments": {},
   "cell_type": "markdown",
   "metadata": {},
   "source": [
    "#### 아이템 빌드"
   ]
  },
  {
   "cell_type": "code",
   "execution_count": null,
   "metadata": {},
   "outputs": [],
   "source": []
  },
  {
   "attachments": {},
   "cell_type": "markdown",
   "metadata": {},
   "source": [
    "#### 밴률"
   ]
  },
  {
   "cell_type": "code",
   "execution_count": 272,
   "metadata": {},
   "outputs": [],
   "source": [
    "def rawdataLoader(datas: str):\n",
    "    return json.loads(datas.replace(\"'\", '\"').replace('True', '\"True\"').replace('False', '\"False\"'))"
   ]
  },
  {
   "cell_type": "code",
   "execution_count": 273,
   "metadata": {},
   "outputs": [],
   "source": [
    "ban_list = []\n",
    "for loc in range(0, len(rawdatas), 10):\n",
    "    matches = rawdataLoader(rawdatas.iloc[loc]['MATCHES'])\n",
    "    bans = [a['championId'] for a in matches['game']['bans']]\n",
    "    ban_list.append({'game_id':rawdatas.iloc[loc]['GAME_ID'], 'bans':bans})"
   ]
  },
  {
   "cell_type": "code",
   "execution_count": 252,
   "metadata": {},
   "outputs": [
    {
     "name": "stdout",
     "output_type": "stream",
     "text": [
      "oracle open!\n",
      "oracle close!\n"
     ]
    }
   ],
   "source": [
    "champs = mu.oracle_totalExecute('SELECT CHAMP_ID, CHAMP_NAME FROM CHAMPDATA')"
   ]
  },
  {
   "cell_type": "code",
   "execution_count": null,
   "metadata": {},
   "outputs": [],
   "source": [
    "champs.sort_values('CHAMP_ID', ignore_index=True, inplace=True)\n",
    "champs"
   ]
  },
  {
   "cell_type": "code",
   "execution_count": 261,
   "metadata": {},
   "outputs": [],
   "source": [
    "champs['BAN_TIME'] = champs.apply(lambda x: 0, axis=1)"
   ]
  },
  {
   "cell_type": "code",
   "execution_count": 275,
   "metadata": {},
   "outputs": [],
   "source": [
    "champ_id_list = [a for a in champs['CHAMP_ID']]"
   ]
  },
  {
   "cell_type": "code",
   "execution_count": 276,
   "metadata": {},
   "outputs": [],
   "source": [
    "ban_time = {a:0 for a in champ_id_list}\n",
    "for lst in ban_list:\n",
    "    for ban in lst['bans']:\n",
    "        if ban == -1: continue\n",
    "        ban_time[ban] += 1\n",
    "ban_time"
   ]
  },
  {
   "cell_type": "code",
   "execution_count": 278,
   "metadata": {},
   "outputs": [],
   "source": [
    "ban_rate = {a:round((ban_time[a] / len(ban_list) * 100), 2) for a in ban_time}\n",
    "ban_rate"
   ]
  }
 ],
 "metadata": {
  "kernelspec": {
   "display_name": "base",
   "language": "python",
   "name": "python3"
  },
  "language_info": {
   "codemirror_mode": {
    "name": "ipython",
    "version": 3
   },
   "file_extension": ".py",
   "mimetype": "text/x-python",
   "name": "python",
   "nbconvert_exporter": "python",
   "pygments_lexer": "ipython3",
   "version": "3.9.13"
  },
  "orig_nbformat": 4
 },
 "nbformat": 4,
 "nbformat_minor": 2
}
