{
 "cells": [
  {
   "cell_type": "code",
   "execution_count": 2,
   "metadata": {},
   "outputs": [],
   "source": [
    "import requests as req\n",
    "import pandas as pd\n",
    "import json\n",
    "from PIL import Image\n",
    "from io import BytesIO\n",
    "import random\n",
    "from tqdm import tqdm\n",
    "from oracle_test import OracleTools\n",
    "import my_utils as mu\n",
    "import time"
   ]
  },
  {
   "cell_type": "code",
   "execution_count": 58,
   "metadata": {},
   "outputs": [],
   "source": [
    "### ERROR가 아닌 타입의 로그가 있는 경우 제대로 분리해내지 못하는 상태임. << 수정 필요\n",
    "def openLogAsJsonList(path: str, log_level: str='ERROR'):\n",
    "    log_level = log_level.upper()\n",
    "    tmp = open(path, 'rt', encoding='UTF8').read()\n",
    "    tmp = tmp.replace('\\n', '')\n",
    "    tmp = tmp.split(f\"{log_level}:root:\")\n",
    "    tmp.remove('')\n",
    "    tmp = list(filter(lambda x: x[0] == '{', tmp))\n",
    "    return [json.loads(a.replace('\\'', '\"')) for a in tmp]"
   ]
  }
 ],
 "metadata": {
  "kernelspec": {
   "display_name": "base",
   "language": "python",
   "name": "python3"
  },
  "language_info": {
   "codemirror_mode": {
    "name": "ipython",
    "version": 3
   },
   "file_extension": ".py",
   "mimetype": "text/x-python",
   "name": "python",
   "nbconvert_exporter": "python",
   "pygments_lexer": "ipython3",
   "version": "3.9.13"
  },
  "orig_nbformat": 4
 },
 "nbformat": 4,
 "nbformat_minor": 2
}
