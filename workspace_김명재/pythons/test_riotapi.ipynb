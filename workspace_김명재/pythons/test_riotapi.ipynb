{
 "cells": [
  {
   "cell_type": "code",
   "execution_count": 1,
   "metadata": {},
   "outputs": [],
   "source": [
    "import requests as req\n",
    "import my_utils as mu\n",
    "import pandas as pd\n",
    "from tqdm import tqdm\n",
    "from PIL import Image"
   ]
  },
  {
   "cell_type": "code",
   "execution_count": 2,
   "metadata": {},
   "outputs": [],
   "source": [
    "riot_api_key = ''"
   ]
  },
  {
   "cell_type": "code",
   "execution_count": null,
   "metadata": {},
   "outputs": [],
   "source": [
    "sample = mu.getSampleData('diamond', 1, 10, riot_api_key)"
   ]
  },
  {
   "cell_type": "code",
   "execution_count": 2,
   "metadata": {},
   "outputs": [],
   "source": [
    "item = req.get('http://ddragon.leagueoflegends.com/cdn/13.8.1/data/ko_KR/item.json').json()"
   ]
  },
  {
   "cell_type": "code",
   "execution_count": 2,
   "metadata": {},
   "outputs": [],
   "source": [
    "rune_data = pd.DataFrame(req.get('http://ddragon.leagueoflegends.com/cdn/13.8.1/data/ko_KR/runesReforged.json').json())"
   ]
  },
  {
   "cell_type": "code",
   "execution_count": 3,
   "metadata": {},
   "outputs": [],
   "source": [
    "rune_df = []\n",
    "colname = ['id', 'name', 'key', 'icon', 'shortDesc', 'longDesc']\n",
    "for type in rune_data.iloc:\n",
    "    for slot in type['slots']:\n",
    "        for rune in slot['runes']:\n",
    "            rune_df.append([\n",
    "                rune[colname[0]], type['id'],\n",
    "                rune[colname[1]], rune[colname[2]],\n",
    "                rune[colname[3]], rune[colname[4]], rune[colname[5]]\n",
    "            ])\n",
    "            # [rune[c] for c in colname]\n",
    "rune_df = pd.DataFrame(rune_df, columns=['RUNEID', 'RUNETYPEID', 'RUNENAME', 'RUNEKEY', 'RUNEICON', 'RUNESHORTDESC', 'RUNELONGDESC'])"
   ]
  },
  {
   "cell_type": "code",
   "execution_count": null,
   "metadata": {},
   "outputs": [],
   "source": [
    "rune_df.sort_values('RUNETYPEID', ignore_index=True)"
   ]
  },
  {
   "cell_type": "code",
   "execution_count": 5,
   "metadata": {},
   "outputs": [],
   "source": [
    "rune_type_df = []\n",
    "for type in rune_data.iloc:\n",
    "    rune_type_df.append([type[c] for c in colname[:4]])\n",
    "rune_type_df = pd.DataFrame(rune_type_df, columns=['RUNETYPEID', 'RUNETYPENAME', 'RUNETYPEKEY', 'RUNETYPEICON'])"
   ]
  },
  {
   "cell_type": "code",
   "execution_count": null,
   "metadata": {},
   "outputs": [],
   "source": [
    "rune_type_df.sort_values('RUNETYPEID', ignore_index=True)"
   ]
  },
  {
   "cell_type": "code",
   "execution_count": null,
   "metadata": {},
   "outputs": [],
   "source": [
    "mu.insertDataFrameIntoTable(rune_type_df, 'TEST_RUNE_TYPE')"
   ]
  },
  {
   "cell_type": "code",
   "execution_count": 4,
   "metadata": {},
   "outputs": [
    {
     "name": "stderr",
     "output_type": "stream",
     "text": [
      "f:\\code\\Anaconda3\\lib\\site-packages\\pandas\\io\\sql.py:762: UserWarning: pandas only support SQLAlchemy connectable(engine/connection) ordatabase string URI or sqlite3 DBAPI2 connectionother DBAPI2 objects are not tested, please consider using SQLAlchemy\n",
      "  warnings.warn(\n",
      "f:\\code\\Anaconda3\\lib\\site-packages\\pandas\\io\\sql.py:762: UserWarning: pandas only support SQLAlchemy connectable(engine/connection) ordatabase string URI or sqlite3 DBAPI2 connectionother DBAPI2 objects are not tested, please consider using SQLAlchemy\n",
      "  warnings.warn(\n"
     ]
    },
    {
     "name": "stdout",
     "output_type": "stream",
     "text": [
      ">>> 테이블의 컬럼 정보 검색 중...\n",
      ">>> 테이블의 Primary Key 정보 검색 중...\n",
      ">>> 테이블에 데이터 삽입 중...\n"
     ]
    },
    {
     "name": "stderr",
     "output_type": "stream",
     "text": [
      "100%|██████████| 63/63 [00:00<00:00, 1085.21it/s]"
     ]
    },
    {
     "name": "stdout",
     "output_type": "stream",
     "text": [
      ">>> 처리 완료!\n"
     ]
    },
    {
     "name": "stderr",
     "output_type": "stream",
     "text": [
      "\n"
     ]
    }
   ],
   "source": [
    "mu.insertDataFrameIntoTable(rune_df, 'TEST_RUNE')"
   ]
  },
  {
   "cell_type": "code",
   "execution_count": 68,
   "metadata": {},
   "outputs": [],
   "source": [
    "cdimg = 'https://raw.communitydragon.org/latest/plugins/rcp-be-lol-game-data/global/default/v1/'"
   ]
  },
  {
   "cell_type": "code",
   "execution_count": 72,
   "metadata": {},
   "outputs": [],
   "source": [
    "rune_img = rune[rune['id'] == 8200]['slots'].values[0][0]['runes'][0]['icon'].lower()"
   ]
  },
  {
   "cell_type": "code",
   "execution_count": 83,
   "metadata": {},
   "outputs": [],
   "source": [
    "img = req.get(cdimg+rune_img).content"
   ]
  }
 ],
 "metadata": {
  "kernelspec": {
   "display_name": "base",
   "language": "python",
   "name": "python3"
  },
  "language_info": {
   "codemirror_mode": {
    "name": "ipython",
    "version": 3
   },
   "file_extension": ".py",
   "mimetype": "text/x-python",
   "name": "python",
   "nbconvert_exporter": "python",
   "pygments_lexer": "ipython3",
   "version": "3.9.13"
  },
  "orig_nbformat": 4
 },
 "nbformat": 4,
 "nbformat_minor": 2
}
