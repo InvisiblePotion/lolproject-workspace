{
 "cells": [
  {
   "cell_type": "code",
   "execution_count": 1,
   "metadata": {},
   "outputs": [],
   "source": [
    "import requests as req\n",
    "import pandas as pd\n",
    "import json\n",
    "from PIL import Image\n",
    "from io import BytesIO\n",
    "import random\n",
    "from tqdm import tqdm\n",
    "from oracle_test import OracleTools\n",
    "import my_utils as mu\n",
    "import time\n",
    "import multiprocessing as mp"
   ]
  },
  {
   "cell_type": "code",
   "execution_count": 2,
   "metadata": {},
   "outputs": [],
   "source": [
    "class WrongParticipantNumber(Exception):\n",
    "    def __init__(self) -> None:\n",
    "        super().__init__(\"participant_number는 1~10 사이의 값으로 입력해주세요.\")"
   ]
  },
  {
   "cell_type": "code",
   "execution_count": 3,
   "metadata": {},
   "outputs": [],
   "source": [
    "with open('../json/legendItem.json', 'rt', encoding='utf8') as f:\n",
    "    legend_items = [int(a) for a in json.loads(f.read())]\n",
    "with open('../json/mythicItem.json', 'rt', encoding='utf8') as f:\n",
    "    mythic_itmes = [int(a) for a in json.loads(f.read())]\n",
    "with open('D:\\\\7_LOL Project\\\\dragontail-13.8.1\\\\13.8.1\\\\data\\\\ko_KR\\\\item.json', 'rt', encoding='utf8') as f:\n",
    "    items = json.loads(f.read())"
   ]
  },
  {
   "cell_type": "code",
   "execution_count": 4,
   "metadata": {},
   "outputs": [],
   "source": [
    "def rawdataLoader(datas: str):\n",
    "    return json.loads(datas.replace(\"'\", '\"').replace('True', '1').replace('False', '0'))"
   ]
  },
  {
   "cell_type": "code",
   "execution_count": 14,
   "metadata": {},
   "outputs": [],
   "source": [
    "def itemId2Name(item_id: int):\n",
    "    return items['data'][str(item_id)]['name']"
   ]
  },
  {
   "cell_type": "code",
   "execution_count": 4,
   "metadata": {},
   "outputs": [
    {
     "name": "stdout",
     "output_type": "stream",
     "text": [
      "get SummonerName.....\n"
     ]
    },
    {
     "name": "stderr",
     "output_type": "stream",
     "text": [
      "100%|██████████| 1/1 [00:00<00:00,  2.74it/s]\n"
     ]
    },
    {
     "name": "stdout",
     "output_type": "stream",
     "text": [
      "total player:  1\n",
      "get puuid......\n"
     ]
    },
    {
     "name": "stderr",
     "output_type": "stream",
     "text": [
      "100%|██████████| 1/1 [00:00<00:00,  3.59it/s]\n"
     ]
    },
    {
     "name": "stdout",
     "output_type": "stream",
     "text": [
      "passed player:  0\n",
      "get match_id...\n"
     ]
    },
    {
     "name": "stderr",
     "output_type": "stream",
     "text": [
      "100%|██████████| 1/1 [00:00<00:00,  3.39it/s]\n"
     ]
    },
    {
     "name": "stdout",
     "output_type": "stream",
     "text": [
      "get matches & timeline.....\n"
     ]
    },
    {
     "name": "stderr",
     "output_type": "stream",
     "text": [
      "100%|██████████| 1/1 [00:00<00:00,  1.16it/s]"
     ]
    },
    {
     "name": "stdout",
     "output_type": "stream",
     "text": [
      "complete!\n"
     ]
    },
    {
     "name": "stderr",
     "output_type": "stream",
     "text": [
      "\n"
     ]
    }
   ],
   "source": [
    "sample = mu.getSampleData('gold', 1, 1, '')\n",
    "mat = sample.iloc[0]['matches']\n",
    "tim = sample.iloc[0]['timeline']"
   ]
  },
  {
   "cell_type": "code",
   "execution_count": 11,
   "metadata": {},
   "outputs": [
    {
     "name": "stdout",
     "output_type": "stream",
     "text": [
      "oracle open!\n",
      "oracle close!\n"
     ]
    }
   ],
   "source": [
    "rawdatas = mu.oracle_totalExecute('SELECT * FROM RAWDATA')"
   ]
  },
  {
   "cell_type": "code",
   "execution_count": 12,
   "metadata": {},
   "outputs": [],
   "source": [
    "rawdatas.sort_values(['GAME_ID', 'PARTICIPANT_NUMBER'], ascending=[False, True], ignore_index=True, inplace=True)"
   ]
  },
  {
   "cell_type": "code",
   "execution_count": 13,
   "metadata": {},
   "outputs": [
    {
     "name": "stderr",
     "output_type": "stream",
     "text": [
      "141440it [01:18, 1795.26it/s]\n"
     ]
    }
   ],
   "source": [
    "mats = []\n",
    "for rec in tqdm(rawdatas.iloc):\n",
    "    mats.append(rawdataLoader(rec['MATCHES']))\n",
    "rawdatas['MATCHES'] = mats"
   ]
  },
  {
   "cell_type": "code",
   "execution_count": 24,
   "metadata": {},
   "outputs": [],
   "source": [
    "ver = [[a, 1] for a in rawdatas['VERSION']]"
   ]
  },
  {
   "cell_type": "code",
   "execution_count": 29,
   "metadata": {},
   "outputs": [],
   "source": [
    "ver_df = pd.DataFrame(ver, columns=['version', 'count'])"
   ]
  },
  {
   "cell_type": "code",
   "execution_count": 37,
   "metadata": {},
   "outputs": [],
   "source": [
    "ver_count = ver_df.groupby('version').sum().sort_values('version', ascending=False)"
   ]
  },
  {
   "cell_type": "code",
   "execution_count": null,
   "metadata": {},
   "outputs": [],
   "source": [
    "ver_count"
   ]
  },
  {
   "cell_type": "code",
   "execution_count": 5,
   "metadata": {},
   "outputs": [],
   "source": [
    "filterd = mu.RawdataFirstFilter(sample, '')"
   ]
  },
  {
   "cell_type": "code",
   "execution_count": 8,
   "metadata": {},
   "outputs": [
    {
     "data": {
      "text/plain": [
       "[1054, 2003, 3340]"
      ]
     },
     "execution_count": 8,
     "metadata": {},
     "output_type": "execute_result"
    }
   ],
   "source": [
    "filterd[0]['startItem']"
   ]
  },
  {
   "attachments": {},
   "cell_type": "markdown",
   "metadata": {},
   "source": [
    "## 타임라인에 필요한 데이터:\n",
    "* 챔피언 스킬 빌드\n",
    "* 챔피언 시작 아이템\n",
    "* 챔피언 아이템 빌드"
   ]
  },
  {
   "attachments": {},
   "cell_type": "markdown",
   "metadata": {},
   "source": [
    "### 챔피언 스킬 빌드 (채용!)"
   ]
  },
  {
   "cell_type": "code",
   "execution_count": 8,
   "metadata": {},
   "outputs": [],
   "source": [
    "skill1 = mu.eventExtractor(sample.iloc[0], 'SKILL_LEVEL_UP', 1)"
   ]
  },
  {
   "cell_type": "code",
   "execution_count": 10,
   "metadata": {},
   "outputs": [
    {
     "data": {
      "text/plain": [
       "[1, 3, 2, 1, 1, 4, 1, 3, 1, 3, 4, 3, 3, 2, 2]"
      ]
     },
     "execution_count": 10,
     "metadata": {},
     "output_type": "execute_result"
    }
   ],
   "source": [
    "build1 = [a['skillSlot'] for a in skill1]\n",
    "build1"
   ]
  },
  {
   "attachments": {},
   "cell_type": "markdown",
   "metadata": {},
   "source": [
    "### 챔피언 시작 아이템 (채용!)"
   ]
  },
  {
   "cell_type": "code",
   "execution_count": 50,
   "metadata": {},
   "outputs": [],
   "source": [
    "def getStartItem(rawdata_series: pd.Series, participant_number: int):\n",
    "\n",
    "    if participant_number not in range(1, 11): raise WrongParticipantNumber\n",
    "\n",
    "    item_pur = mu.eventExtractor(rawdata_series, 'ITEM_PURCHASED', participant_number)\n",
    "    purchased = [a['itemId'] for a in filter(lambda x: x['timestamp']<=120000, item_pur)]\n",
    "\n",
    "    item_sold = mu.eventExtractor(rawdata_series, 'ITEM_SOLD', participant_number)\n",
    "    sold = [a['itemId'] for a in filter(lambda x: x['timestamp']<=120000, item_sold)]\n",
    "\n",
    "    item_undo = mu.eventExtractor(rawdata_series, 'ITEM_UNDO', participant_number)\n",
    "    undo = [(a['beforeId'], a['afterId']) for a in filter(lambda x: x['timestamp']<=120000, item_undo)]\n",
    "\n",
    "    for before, after in undo:\n",
    "        if before == 0: purchased.remove(after)\n",
    "        else: purchased.remove(before)\n",
    "    for s in sold:\n",
    "        purchased.remove(s)\n",
    "\n",
    "    return purchased"
   ]
  },
  {
   "cell_type": "code",
   "execution_count": 59,
   "metadata": {},
   "outputs": [
    {
     "data": {
      "text/plain": [
       "[3858, 2003, 2003, 3340]"
      ]
     },
     "execution_count": 59,
     "metadata": {},
     "output_type": "execute_result"
    }
   ],
   "source": [
    "# participant_number는 1~10\n",
    "getStartItem(sample.iloc[0], 10)"
   ]
  },
  {
   "attachments": {},
   "cell_type": "markdown",
   "metadata": {},
   "source": [
    "### 챔피언 아이템 빌드"
   ]
  },
  {
   "attachments": {},
   "cell_type": "markdown",
   "metadata": {},
   "source": [
    "#### 깊이 3 빌드 (전설, 신화) (채용!)"
   ]
  },
  {
   "cell_type": "code",
   "execution_count": 53,
   "metadata": {},
   "outputs": [],
   "source": [
    "def itembuild(game: pd.Series, participant_number: int):\n",
    "    if participant_number not in range(1, 11):\n",
    "        raise WrongParticipantNumber\n",
    "    return list(filter(lambda x: x in legend_items + mythic_itmes,\n",
    "                        [a['itemId'] for a in mu.eventExtractor(game, 'ITEM_PURCHASED', participant_number)]))[:3]"
   ]
  },
  {
   "cell_type": "code",
   "execution_count": 58,
   "metadata": {},
   "outputs": [
    {
     "data": {
      "text/plain": [
       "[6630, 3071, 3074]"
      ]
     },
     "execution_count": 58,
     "metadata": {},
     "output_type": "execute_result"
    }
   ],
   "source": [
    "# participant_number는 1~10\n",
    "itembuild(sample.iloc[0], 1)"
   ]
  },
  {
   "attachments": {},
   "cell_type": "markdown",
   "metadata": {},
   "source": [
    "#### 깊이 무관 빌드 (미완성)"
   ]
  },
  {
   "cell_type": "code",
   "execution_count": 59,
   "metadata": {},
   "outputs": [],
   "source": [
    "def partEvent(game: pd.Series, part: int, event: str, return_value: list) -> list:\n",
    "    return [{k:v[k] for k in return_value} for v in list(filter(lambda x: x['participantId'] == part, mu.eventExtractor(game, event)))]"
   ]
  },
  {
   "cell_type": "code",
   "execution_count": 90,
   "metadata": {},
   "outputs": [],
   "source": [
    "pid = 2\n",
    "item_pur1 = partEvent(sample.iloc[0], pid, 'ITEM_PURCHASED', ['itemId','timestamp'])\n",
    "item_dest1 = partEvent(sample.iloc[0], pid, 'ITEM_DESTROYED', ['itemId','timestamp'])\n",
    "item_sold1 = partEvent(sample.iloc[0], pid, 'ITEM_SOLD', ['itemId','timestamp'])\n",
    "item_undo1 = partEvent(sample.iloc[0], pid, 'ITEM_UNDO', ['beforeId', 'timestamp'])"
   ]
  },
  {
   "cell_type": "code",
   "execution_count": 105,
   "metadata": {},
   "outputs": [],
   "source": [
    "pdf = pd.DataFrame(item_pur1)\n",
    "pdf['type'] = 'p'\n",
    "ddf = pd.DataFrame(item_dest1)\n",
    "ddf['type'] = 'd'\n",
    "sdf = pd.DataFrame(item_sold1)\n",
    "sdf['type'] = 's'\n",
    "udf = pd.DataFrame(item_undo1)\n",
    "udf['type'] = 'u'"
   ]
  },
  {
   "cell_type": "code",
   "execution_count": null,
   "metadata": {},
   "outputs": [],
   "source": [
    "item_pur1_list = [a['itemId'] for a in item_pur1]\n",
    "\n",
    "for dest in [a['itemId'] for a in item_dest1]:\n",
    "    item_pur1_list.remove(dest)\n",
    "for sold in [a['itemId'] for a in item_sold1]:\n",
    "    item_pur1_list.remove(sold)\n",
    "for undo in [a['beforeId'] for a in item_undo1]:\n",
    "    item_pur1_list.remove(undo)\n",
    "\n",
    "item_pur1_list"
   ]
  },
  {
   "cell_type": "code",
   "execution_count": 73,
   "metadata": {},
   "outputs": [],
   "source": [
    "p1 = [a['itemId'] for a in item_pur1]\n",
    "p1.sort()\n",
    "d1 = [a['itemId'] for a in item_dest1]\n",
    "d1.sort()\n",
    "s1 = [a['itemId'] for a in item_sold1]\n",
    "s1.sort()\n",
    "u1 = [a['beforeId'] for a in item_undo1]\n",
    "u1.sort()"
   ]
  },
  {
   "cell_type": "code",
   "execution_count": 76,
   "metadata": {},
   "outputs": [
    {
     "name": "stdout",
     "output_type": "stream",
     "text": [
      "[1001, 1028, 1029, 1036, 1036, 1036, 1036, 1037, 1102, 2003, 2055, 2055, 2055, 2055, 2055, 2055, 2055, 2055, 2055, 3047, 3067, 3071, 3133, 3133, 6029, 6333, 6630]\n",
      "[1001, 1029, 1036, 1036, 1036, 1036, 1037, 1102, 2003, 2055, 2055, 2055, 2055, 2055, 2055, 2055, 3067, 3133, 3133, 3340, 3513, 6029]\n",
      "[]\n",
      "[1028]\n"
     ]
    }
   ],
   "source": [
    "print(p1)\n",
    "print(d1)\n",
    "print(s1)\n",
    "print(u1)"
   ]
  },
  {
   "cell_type": "code",
   "execution_count": null,
   "metadata": {},
   "outputs": [],
   "source": [
    "3047, 6333, 6630"
   ]
  },
  {
   "cell_type": "code",
   "execution_count": 88,
   "metadata": {},
   "outputs": [
    {
     "data": {
      "text/plain": [
       "'선혈포식자'"
      ]
     },
     "execution_count": 88,
     "metadata": {},
     "output_type": "execute_result"
    }
   ],
   "source": [
    "itemId2Name(6630)"
   ]
  },
  {
   "cell_type": "code",
   "execution_count": 89,
   "metadata": {},
   "outputs": [
    {
     "name": "stdout",
     "output_type": "stream",
     "text": [
      "['새끼 바람돌이', '체력 물약', '제어 와드', '강철가시 채찍', '롱소드', '장화', '롱소드', '선혈포식자', '천 갑옷', '제어 와드', '제어 와드', '판금 장화', '콜필드의 전투 망치', '롱소드', '루비 수정', '제어 와드', '제어 와드', '점화석', '칠흑의 양날 도끼', '롱소드', '제어 와드', '제어 와드', '콜필드의 전투 망치', '제어 와드', '곡괭이', '제어 와드', '죽음의 무도']\n",
      "['체력 물약', '제어 와드', '투명 와드', '강철가시 채찍', '롱소드', '롱소드', '전령의 눈', '제어 와드', '장화', '천 갑옷', '제어 와드', '새끼 바람돌이', '제어 와드', '제어 와드', '콜필드의 전투 망치', '점화석', '롱소드', '제어 와드', '롱소드', '제어 와드', '곡괭이', '콜필드의 전투 망치']\n",
      "[]\n",
      "['루비 수정']\n"
     ]
    }
   ],
   "source": [
    "print([itemId2Name(a['itemId']) for a in item_pur1])\n",
    "print([itemId2Name(a['itemId']) for a in item_dest1])\n",
    "print([itemId2Name(a['itemId']) for a in item_sold1])\n",
    "print([itemId2Name(a['beforeId']) for a in item_undo1])"
   ]
  },
  {
   "cell_type": "code",
   "execution_count": 62,
   "metadata": {},
   "outputs": [
    {
     "data": {
      "text/plain": [
       "['선혈포식자',\n",
       " '명석함의 아이오니아 장화',\n",
       " '망원형 개조',\n",
       " '칠흑의 양날 도끼',\n",
       " '굶주린 히드라',\n",
       " '콜필드의 전투 망치',\n",
       " '쇠사슬 조끼']"
      ]
     },
     "execution_count": 62,
     "metadata": {},
     "output_type": "execute_result"
    }
   ],
   "source": [
    "item_pur1_list_kr = []\n",
    "for i in item_pur1_list:\n",
    "    item_pur1_list_kr.append(itemId2Name(i))\n",
    "item_pur1_list_kr"
   ]
  },
  {
   "attachments": {},
   "cell_type": "markdown",
   "metadata": {},
   "source": [
    "### 챔피언 밴률 (타임라인과 무관)"
   ]
  },
  {
   "cell_type": "code",
   "execution_count": null,
   "metadata": {},
   "outputs": [],
   "source": [
    "ban_list = []\n",
    "for loc in range(0, len(rawdatas), 10):\n",
    "    matches = rawdataLoader(rawdatas.iloc[loc]['MATCHES'])\n",
    "    bans = [a['championId'] for a in matches['game']['bans']]\n",
    "    ban_list.append({'game_id':rawdatas.iloc[loc]['GAME_ID'], 'bans':bans})"
   ]
  },
  {
   "cell_type": "code",
   "execution_count": null,
   "metadata": {},
   "outputs": [
    {
     "name": "stdout",
     "output_type": "stream",
     "text": [
      "oracle open!\n",
      "oracle close!\n"
     ]
    }
   ],
   "source": [
    "champs = mu.oracle_totalExecute('SELECT CHAMP_ID, CHAMP_NAME FROM CHAMPDATA')"
   ]
  },
  {
   "cell_type": "code",
   "execution_count": null,
   "metadata": {},
   "outputs": [],
   "source": [
    "champs.sort_values('CHAMP_ID', ignore_index=True, inplace=True)\n",
    "champs"
   ]
  },
  {
   "cell_type": "code",
   "execution_count": null,
   "metadata": {},
   "outputs": [],
   "source": [
    "champs['BAN_TIME'] = champs.apply(lambda x: 0, axis=1)"
   ]
  },
  {
   "cell_type": "code",
   "execution_count": null,
   "metadata": {},
   "outputs": [],
   "source": [
    "champ_id_list = [a for a in champs['CHAMP_ID']]"
   ]
  },
  {
   "cell_type": "code",
   "execution_count": null,
   "metadata": {},
   "outputs": [],
   "source": [
    "ban_time = {a:0 for a in champ_id_list}\n",
    "for lst in ban_list:\n",
    "    for ban in lst['bans']:\n",
    "        if ban == -1: continue\n",
    "        ban_time[ban] += 1\n",
    "ban_time"
   ]
  },
  {
   "cell_type": "code",
   "execution_count": null,
   "metadata": {},
   "outputs": [],
   "source": [
    "ban_rate = {a:round((ban_time[a] / len(ban_list) * 100), 2) for a in ban_time}\n",
    "ban_rate"
   ]
  }
 ],
 "metadata": {
  "kernelspec": {
   "display_name": "base",
   "language": "python",
   "name": "python3"
  },
  "language_info": {
   "codemirror_mode": {
    "name": "ipython",
    "version": 3
   },
   "file_extension": ".py",
   "mimetype": "text/x-python",
   "name": "python",
   "nbconvert_exporter": "python",
   "pygments_lexer": "ipython3",
   "version": "3.9.13"
  },
  "orig_nbformat": 4
 },
 "nbformat": 4,
 "nbformat_minor": 2
}
