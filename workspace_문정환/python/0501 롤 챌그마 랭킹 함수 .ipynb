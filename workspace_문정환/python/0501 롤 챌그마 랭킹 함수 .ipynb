{
 "cells": [
  {
   "cell_type": "code",
   "execution_count": 1,
   "id": "abe74d68",
   "metadata": {},
   "outputs": [
    {
     "name": "stderr",
     "output_type": "stream",
     "text": [
      "C:\\Users\\user\\AppData\\Local\\Temp\\ipykernel_12560\\1524683655.py:8: DeprecationWarning: the imp module is deprecated in favour of importlib; see the module's documentation for alternative uses\n",
      "  import imp\n"
     ]
    }
   ],
   "source": [
    "import pymysql\n",
    "import pandas as pd\n",
    "import requests\n",
    "from tqdm import tqdm\n",
    "import time\n",
    "import random\n",
    "import team_utils as tu\n",
    "import imp\n",
    "tqdm.pandas()"
   ]
  },
  {
   "cell_type": "code",
   "execution_count": 7,
   "id": "c6d7a359",
   "metadata": {},
   "outputs": [],
   "source": [
    "def lol_Challenger():\n",
    "    result=[]\n",
    "    columns = ['summonerId','summonerName','leaguePoints','wins',\n",
    "               'losses','veteran','inactive','freshBlood','hotStreak']\n",
    "    riot_api_key =''#lol api key\n",
    "    \n",
    "    url_ch = f'https://kr.api.riotgames.com/lol/league/v4/challengerleagues/by-queue/RANKED_SOLO_5x5?api_key={riot_api_key}'\n",
    "    res = requests.get(url_ch).json()\n",
    "    df = pd.DataFrame(res)\n",
    "    \n",
    "    for i in range(len(df)):\n",
    "        try:\n",
    "            lst=[]\n",
    "            lst.append(df.iloc[i]['entries']['summonerId'])\n",
    "            lst.append(df.iloc[i]['entries']['summonerName'])\n",
    "            lst.append(df.iloc[i]['entries']['leaguePoints'])\n",
    "            lst.append(df.iloc[i]['entries']['wins'])\n",
    "            lst.append(df.iloc[i]['entries']['losses'])\n",
    "            lst.append(df.iloc[i]['entries']['veteran'])\n",
    "            lst.append(df.iloc[i]['entries']['inactive'])\n",
    "            lst.append(df.iloc[i]['entries']['freshBlood'])\n",
    "            lst.append(df.iloc[i]['entries']['hotStreak'])\n",
    "\n",
    "            result.append(lst)\n",
    "            lol_ch_df= pd.DataFrame(result,columns=columns)\n",
    "\n",
    "        except:\n",
    "            continue\n",
    "    return lol_ch_df"
   ]
  },
  {
   "cell_type": "code",
   "execution_count": 8,
   "id": "e5a43138",
   "metadata": {},
   "outputs": [],
   "source": [
    "def lol_Grandmaster():\n",
    "    result = []\n",
    "    columns = ['summonerId', 'summonerName', 'leaguePoints', 'wins',\n",
    "               'losses', 'veteran', 'inactive', 'freshBlood', 'hotStreak']\n",
    "    riot_api_key =''#lol api key\n",
    "\n",
    "    url_ch = f'https://kr.api.riotgames.com/lol/league/v4/grandmasterleagues/by-queue/RANKED_SOLO_5x5?api_key={riot_api_key}'\n",
    "    res = requests.get(url_ch).json()\n",
    "    df = pd.DataFrame(res)\n",
    "\n",
    "    for i in range(len(df)):\n",
    "        try:\n",
    "            lst = []\n",
    "            lst.append(df.iloc[i]['entries']['summonerId'])\n",
    "            lst.append(df.iloc[i]['entries']['summonerName'])\n",
    "            lst.append(df.iloc[i]['entries']['leaguePoints'])\n",
    "            lst.append(df.iloc[i]['entries']['wins'])\n",
    "            lst.append(df.iloc[i]['entries']['losses'])\n",
    "            lst.append(df.iloc[i]['entries']['veteran'])\n",
    "            lst.append(df.iloc[i]['entries']['inactive'])\n",
    "            lst.append(df.iloc[i]['entries']['freshBlood'])\n",
    "            lst.append(df.iloc[i]['entries']['hotStreak'])\n",
    "\n",
    "            result.append(lst)\n",
    "            lol_ch_df = pd.DataFrame(result, columns=columns)\n",
    "\n",
    "        except:\n",
    "            continue\n",
    "    return lol_ch_df"
   ]
  },
  {
   "cell_type": "code",
   "execution_count": 9,
   "id": "ef09b31f",
   "metadata": {},
   "outputs": [],
   "source": [
    "def lol_Master():\n",
    "    result = []\n",
    "    columns = ['summonerId', 'summonerName', 'leaguePoints', 'wins',\n",
    "               'losses', 'veteran', 'inactive', 'freshBlood', 'hotStreak']\n",
    "    riot_api_key =''#lol api key\n",
    "\n",
    "    url_ch = f'https://kr.api.riotgames.com/lol/league/v4/masterleagues/by-queue/RANKED_SOLO_5x5?api_key={riot_api_key}'\n",
    "    res = requests.get(url_ch).json()\n",
    "    df = pd.DataFrame(res)\n",
    "\n",
    "    for i in range(len(df)):\n",
    "        try:\n",
    "            lst = []\n",
    "            lst.append(df.iloc[i]['entries']['summonerId'])\n",
    "            lst.append(df.iloc[i]['entries']['summonerName'])\n",
    "            lst.append(df.iloc[i]['entries']['leaguePoints'])\n",
    "            lst.append(df.iloc[i]['entries']['wins'])\n",
    "            lst.append(df.iloc[i]['entries']['losses'])\n",
    "            lst.append(df.iloc[i]['entries']['veteran'])\n",
    "            lst.append(df.iloc[i]['entries']['inactive'])\n",
    "            lst.append(df.iloc[i]['entries']['freshBlood'])\n",
    "            lst.append(df.iloc[i]['entries']['hotStreak'])\n",
    "\n",
    "            result.append(lst)\n",
    "            lol_ch_df = pd.DataFrame(result, columns=columns)\n",
    "\n",
    "        except:\n",
    "            continue\n",
    "    return lol_ch_df"
   ]
  },
  {
   "cell_type": "code",
   "execution_count": null,
   "id": "6a2f7e63",
   "metadata": {},
   "outputs": [],
   "source": []
  }
 ],
 "metadata": {
  "kernelspec": {
   "display_name": "Python 3 (ipykernel)",
   "language": "python",
   "name": "python3"
  },
  "language_info": {
   "codemirror_mode": {
    "name": "ipython",
    "version": 3
   },
   "file_extension": ".py",
   "mimetype": "text/x-python",
   "name": "python",
   "nbconvert_exporter": "python",
   "pygments_lexer": "ipython3",
   "version": "3.9.13"
  }
 },
 "nbformat": 4,
 "nbformat_minor": 5
}
