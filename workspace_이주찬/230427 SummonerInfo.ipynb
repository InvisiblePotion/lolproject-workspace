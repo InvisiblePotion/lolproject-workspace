{
 "cells": [
  {
   "cell_type": "code",
   "execution_count": 4,
   "id": "71ee7d66",
   "metadata": {},
   "outputs": [],
   "source": [
    "import pandas as pd \n",
    "import numpy as np \n",
    "import requests "
   ]
  },
  {
   "cell_type": "code",
   "execution_count": 62,
   "id": "f3fc8142",
   "metadata": {},
   "outputs": [],
   "source": [
    "def summonerinfo(userName):\n",
    "    result=[]\n",
    "    lst = []\n",
    "    riot_api_key = 'RGAPI-7d49d0d8-e5cb-42b8-a228-517e0990c38a'\n",
    "    \n",
    "    get_id_url = 'https://kr.api.riotgames.com/lol/summoner/v4/summoners/by-name/'+userName+'?api_key='+riot_api_key\n",
    "    id_info = requests.get(get_id_url).json()\n",
    "    get_info_url = 'https://kr.api.riotgames.com/lol/league/v4/entries/by-summoner/'+id_info['id']+'?api_key='+riot_api_key\n",
    "    user_info = requests.get(get_info_url).json()\n",
    "    \n",
    "    icon = str(id_info['profileIconId'])\n",
    "    \n",
    "    lst.append(id_info['id']) \n",
    "    lst.append(id_info['puuid'])\n",
    "    lst.append(user_info[0]['summonerName'])\n",
    "    lst.append(id_info['summonerLevel'])\n",
    "    lst.append('http://ddragon.leagueoflegends.com/cdn/13.8.1/img/profileicon/'+icon+'.png')\n",
    "    lst.append(user_info[0]['tier'])\n",
    "    lst.append(user_info[0]['rank'])\n",
    "    lst.append(user_info[0]['wins'])\n",
    "    lst.append(user_info[0]['losses'])\n",
    "    lst.append(user_info[0]['veteran'])\n",
    "    lst.append(user_info[0]['inactive'])\n",
    "    lst.append(user_info[0]['freshBlood'])\n",
    "    lst.append(user_info[0]['hotStreak'])\n",
    "    result.append(lst)\n",
    "    \n",
    "    col = ['summoner_id','summoner_puuid','summoner_name','summoner_level','summoner_profile','summoner_tier','summoner_rank','summoner_wins','summoner_losses','summoner_veteran','summoner_inactive','summoner_freshblood','summoner_hotstreak']\n",
    "    df_summoner_info = pd.DataFrame(result, columns = col)\n",
    "    \n",
    "    result=[]\n",
    "    lst = []\n",
    "    lst.append(user_info[0]['summonerName'])\n",
    "    lst.append(id_info['summonerLevel'])\n",
    "    lst.append(id_info['profileIconId'])\n",
    "    lst.append(user_info[0]['rank'])\n",
    "    result.append(lst)\n",
    "    \n",
    "    col = ['summoner_name','summoner_level','summoner_profile','summoner_rank']\n",
    "    df_summoner_game_info = pd.DataFrame(result, columns = col)\n",
    "    \n",
    "    return df_summoner_info, df_summoner_game_info"
   ]
  },
  {
   "cell_type": "code",
   "execution_count": 63,
   "id": "ccf9e5f7",
   "metadata": {},
   "outputs": [
    {
     "name": "stdout",
     "output_type": "stream",
     "text": [
      "hideonbush\n"
     ]
    }
   ],
   "source": [
    "x = input()\n",
    "a,b = summonerinfo(x)"
   ]
  },
  {
   "cell_type": "code",
   "execution_count": 64,
   "id": "8d8a9366",
   "metadata": {},
   "outputs": [
    {
     "data": {
      "text/html": [
       "<div>\n",
       "<style scoped>\n",
       "    .dataframe tbody tr th:only-of-type {\n",
       "        vertical-align: middle;\n",
       "    }\n",
       "\n",
       "    .dataframe tbody tr th {\n",
       "        vertical-align: top;\n",
       "    }\n",
       "\n",
       "    .dataframe thead th {\n",
       "        text-align: right;\n",
       "    }\n",
       "</style>\n",
       "<table border=\"1\" class=\"dataframe\">\n",
       "  <thead>\n",
       "    <tr style=\"text-align: right;\">\n",
       "      <th></th>\n",
       "      <th>summoner_id</th>\n",
       "      <th>summoner_puuid</th>\n",
       "      <th>summoner_name</th>\n",
       "      <th>summoner_level</th>\n",
       "      <th>summoner_profile</th>\n",
       "      <th>summoner_tier</th>\n",
       "      <th>summoner_rank</th>\n",
       "      <th>summoner_wins</th>\n",
       "      <th>summoner_losses</th>\n",
       "      <th>summoner_veteran</th>\n",
       "      <th>summoner_inactive</th>\n",
       "      <th>summoner_freshblood</th>\n",
       "      <th>summoner_hotstreak</th>\n",
       "    </tr>\n",
       "  </thead>\n",
       "  <tbody>\n",
       "    <tr>\n",
       "      <th>0</th>\n",
       "      <td>Uv__qD0g5yQ7Il7bi4dgclxWPV5uc-sDOgbB_aRFpCRZlw</td>\n",
       "      <td>tqNDZptQ8nTaqKhkVLTVK7Nils41npJINrR2aWJE98vioy...</td>\n",
       "      <td>Hide on bush</td>\n",
       "      <td>657</td>\n",
       "      <td>http://ddragon.leagueoflegends.com/cdn/13.8.1/...</td>\n",
       "      <td>CHALLENGER</td>\n",
       "      <td>I</td>\n",
       "      <td>249</td>\n",
       "      <td>220</td>\n",
       "      <td>True</td>\n",
       "      <td>False</td>\n",
       "      <td>False</td>\n",
       "      <td>False</td>\n",
       "    </tr>\n",
       "  </tbody>\n",
       "</table>\n",
       "</div>"
      ],
      "text/plain": [
       "                                      summoner_id  \\\n",
       "0  Uv__qD0g5yQ7Il7bi4dgclxWPV5uc-sDOgbB_aRFpCRZlw   \n",
       "\n",
       "                                      summoner_puuid summoner_name  \\\n",
       "0  tqNDZptQ8nTaqKhkVLTVK7Nils41npJINrR2aWJE98vioy...  Hide on bush   \n",
       "\n",
       "   summoner_level                                   summoner_profile  \\\n",
       "0             657  http://ddragon.leagueoflegends.com/cdn/13.8.1/...   \n",
       "\n",
       "  summoner_tier summoner_rank  summoner_wins  summoner_losses  \\\n",
       "0    CHALLENGER             I            249              220   \n",
       "\n",
       "   summoner_veteran  summoner_inactive  summoner_freshblood  \\\n",
       "0              True              False                False   \n",
       "\n",
       "   summoner_hotstreak  \n",
       "0               False  "
      ]
     },
     "execution_count": 64,
     "metadata": {},
     "output_type": "execute_result"
    }
   ],
   "source": [
    "a"
   ]
  },
  {
   "cell_type": "code",
   "execution_count": 65,
   "id": "c6258725",
   "metadata": {},
   "outputs": [
    {
     "data": {
      "text/html": [
       "<div>\n",
       "<style scoped>\n",
       "    .dataframe tbody tr th:only-of-type {\n",
       "        vertical-align: middle;\n",
       "    }\n",
       "\n",
       "    .dataframe tbody tr th {\n",
       "        vertical-align: top;\n",
       "    }\n",
       "\n",
       "    .dataframe thead th {\n",
       "        text-align: right;\n",
       "    }\n",
       "</style>\n",
       "<table border=\"1\" class=\"dataframe\">\n",
       "  <thead>\n",
       "    <tr style=\"text-align: right;\">\n",
       "      <th></th>\n",
       "      <th>summoner_name</th>\n",
       "      <th>summoner_level</th>\n",
       "      <th>summoner_profile</th>\n",
       "      <th>summoner_rank</th>\n",
       "    </tr>\n",
       "  </thead>\n",
       "  <tbody>\n",
       "    <tr>\n",
       "      <th>0</th>\n",
       "      <td>Hide on bush</td>\n",
       "      <td>657</td>\n",
       "      <td>6</td>\n",
       "      <td>I</td>\n",
       "    </tr>\n",
       "  </tbody>\n",
       "</table>\n",
       "</div>"
      ],
      "text/plain": [
       "  summoner_name  summoner_level  summoner_profile summoner_rank\n",
       "0  Hide on bush             657                 6             I"
      ]
     },
     "execution_count": 65,
     "metadata": {},
     "output_type": "execute_result"
    }
   ],
   "source": [
    "b"
   ]
  },
  {
   "cell_type": "code",
   "execution_count": null,
   "id": "525118eb",
   "metadata": {},
   "outputs": [],
   "source": []
  }
 ],
 "metadata": {
  "kernelspec": {
   "display_name": "Python 3 (ipykernel)",
   "language": "python",
   "name": "python3"
  },
  "language_info": {
   "codemirror_mode": {
    "name": "ipython",
    "version": 3
   },
   "file_extension": ".py",
   "mimetype": "text/x-python",
   "name": "python",
   "nbconvert_exporter": "python",
   "pygments_lexer": "ipython3",
   "version": "3.9.13"
  }
 },
 "nbformat": 4,
 "nbformat_minor": 5
}
