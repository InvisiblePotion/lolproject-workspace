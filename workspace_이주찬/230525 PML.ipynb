{
 "cells": [
  {
   "cell_type": "markdown",
   "id": "19014fc3",
   "metadata": {},
   "source": [
    "project merchine learning"
   ]
  },
  {
   "cell_type": "code",
   "execution_count": 2,
   "id": "febe1a70",
   "metadata": {},
   "outputs": [],
   "source": [
    "import p_utils as pu\n",
    "import pandas as pd\n",
    "import json\n",
    "from tqdm import tqdm \n",
    "import my_utils as mu"
   ]
  },
  {
   "cell_type": "code",
   "execution_count": 3,
   "id": "a7b1e48d",
   "metadata": {},
   "outputs": [
    {
     "name": "stdout",
     "output_type": "stream",
     "text": [
      "oracle open!\n",
      "oracle close!\n"
     ]
    }
   ],
   "source": [
    "query = 'select * from rawdata'\n",
    "df_s = pu.oracle_totalExecute(query)"
   ]
  },
  {
   "cell_type": "code",
   "execution_count": 7,
   "id": "1c047e19",
   "metadata": {
    "scrolled": false
   },
   "outputs": [
    {
     "data": {
      "text/plain": [
       "'나영주니'"
      ]
     },
     "execution_count": 7,
     "metadata": {},
     "output_type": "execute_result"
    }
   ],
   "source": [
    "df_s['PARTICIPANT_NAME'][0]"
   ]
  },
  {
   "cell_type": "code",
   "execution_count": 4,
   "id": "d6b377d5",
   "metadata": {},
   "outputs": [
    {
     "name": "stdout",
     "output_type": "stream",
     "text": [
      "oracle open!\n",
      "oracle close!\n"
     ]
    }
   ],
   "source": [
    "query = 'select * from summoner'\n",
    "df2 = pu.oracle_totalExecute(query)"
   ]
  },
  {
   "cell_type": "code",
   "execution_count": 5,
   "id": "6a62a65c",
   "metadata": {},
   "outputs": [],
   "source": [
    "df3 = df2.drop(columns=['SUMMONER_ID',\n",
    " 'SUMMONER_PUUID',\n",
    " 'API_KEY',\n",
    " 'SUMMONER_LEVEL',\n",
    " 'SUMMONER_PROFILE',\n",
    " 'SUMMONER_WINS',\n",
    " 'SUMMONER_LOSSES',\n",
    " 'SUMMONER_VETERAN',\n",
    " 'SUMMONER_INACTIVE',\n",
    " 'SUMMONER_FRESHBLOOD',\n",
    " 'SUMMONER_HOTSTREAK'])"
   ]
  },
  {
   "cell_type": "code",
   "execution_count": 6,
   "id": "5c4f2cd3",
   "metadata": {},
   "outputs": [
    {
     "data": {
      "text/html": [
       "<div>\n",
       "<style scoped>\n",
       "    .dataframe tbody tr th:only-of-type {\n",
       "        vertical-align: middle;\n",
       "    }\n",
       "\n",
       "    .dataframe tbody tr th {\n",
       "        vertical-align: top;\n",
       "    }\n",
       "\n",
       "    .dataframe thead th {\n",
       "        text-align: right;\n",
       "    }\n",
       "</style>\n",
       "<table border=\"1\" class=\"dataframe\">\n",
       "  <thead>\n",
       "    <tr style=\"text-align: right;\">\n",
       "      <th></th>\n",
       "      <th>PARTICIPANT_NAME</th>\n",
       "      <th>SUMMONER_TIER</th>\n",
       "    </tr>\n",
       "  </thead>\n",
       "  <tbody>\n",
       "    <tr>\n",
       "      <th>0</th>\n",
       "      <td>OI용</td>\n",
       "      <td>DIAMOND</td>\n",
       "    </tr>\n",
       "    <tr>\n",
       "      <th>1</th>\n",
       "      <td>또 레</td>\n",
       "      <td>PLATINUM</td>\n",
       "    </tr>\n",
       "  </tbody>\n",
       "</table>\n",
       "</div>"
      ],
      "text/plain": [
       "  PARTICIPANT_NAME SUMMONER_TIER\n",
       "0              OI용       DIAMOND\n",
       "1              또 레      PLATINUM"
      ]
     },
     "execution_count": 6,
     "metadata": {},
     "output_type": "execute_result"
    }
   ],
   "source": [
    "df3 = df3.rename(columns={'SUMMONER_NAME':'PARTICIPANT_NAME'})\n",
    "df3[:2]"
   ]
  },
  {
   "cell_type": "code",
   "execution_count": 73,
   "id": "0f2e9da9",
   "metadata": {
    "scrolled": true
   },
   "outputs": [
    {
     "data": {
      "text/plain": [
       "'나영주니'"
      ]
     },
     "execution_count": 73,
     "metadata": {},
     "output_type": "execute_result"
    }
   ],
   "source": [
    "df['PARTICIPANT_NAME'][0]"
   ]
  },
  {
   "cell_type": "code",
   "execution_count": 7,
   "id": "7d68308e",
   "metadata": {},
   "outputs": [],
   "source": [
    "df=df.drop(columns=['Unnamed: 0'])"
   ]
  },
  {
   "cell_type": "code",
   "execution_count": 8,
   "id": "c9d94618",
   "metadata": {},
   "outputs": [],
   "source": [
    "def transfrom(df):\n",
    "    df_1 = []\n",
    "    df_k = list(df.keys())\n",
    "    for i in tqdm(range(len(df))):\n",
    "        lst = []\n",
    "        for j in range(len(df_k)):\n",
    "            if j < 10 :\n",
    "                lst.append(df[df_k[j]][i])\n",
    "            else :\n",
    "                data = df[df_k[j]][i]\n",
    "                data = data.replace(\"'\", \"\\\"\")\n",
    "                json_data = json.loads(data)\n",
    "                lst.append(json_data)\n",
    "        df_1.append(lst)\n",
    "            \n",
    "    df_2 = pd.DataFrame(df_1, columns = df_k )\n",
    "    \n",
    "    return df_2"
   ]
  },
  {
   "cell_type": "code",
   "execution_count": 9,
   "id": "fb69cff9",
   "metadata": {
    "scrolled": false
   },
   "outputs": [
    {
     "name": "stderr",
     "output_type": "stream",
     "text": [
      "100%|████████████████████████████████████████████████████████████████████████| 364900/364900 [02:32<00:00, 2392.60it/s]\n"
     ]
    }
   ],
   "source": [
    "cat = transfrom(df_s)"
   ]
  },
  {
   "cell_type": "code",
   "execution_count": 12,
   "id": "d2f453d6",
   "metadata": {},
   "outputs": [
    {
     "data": {
      "text/html": [
       "<div>\n",
       "<style scoped>\n",
       "    .dataframe tbody tr th:only-of-type {\n",
       "        vertical-align: middle;\n",
       "    }\n",
       "\n",
       "    .dataframe tbody tr th {\n",
       "        vertical-align: top;\n",
       "    }\n",
       "\n",
       "    .dataframe thead th {\n",
       "        text-align: right;\n",
       "    }\n",
       "</style>\n",
       "<table border=\"1\" class=\"dataframe\">\n",
       "  <thead>\n",
       "    <tr style=\"text-align: right;\">\n",
       "      <th></th>\n",
       "      <th>VERSION</th>\n",
       "      <th>GAME_CREATE_TIME</th>\n",
       "      <th>GAME_DURATION</th>\n",
       "      <th>GAME_ID</th>\n",
       "      <th>PARTICIPANT_NUMBER</th>\n",
       "      <th>PARTICIPANT_NAME</th>\n",
       "      <th>CHAMPION_ID</th>\n",
       "      <th>LANE</th>\n",
       "      <th>PARTICIPANT_PUUID</th>\n",
       "      <th>API_KEY</th>\n",
       "      <th>...</th>\n",
       "      <th>ITEM</th>\n",
       "      <th>STARTITEM</th>\n",
       "      <th>ITEMTREE</th>\n",
       "      <th>KDA</th>\n",
       "      <th>GOLD</th>\n",
       "      <th>CS</th>\n",
       "      <th>TURRET</th>\n",
       "      <th>DAMAGE</th>\n",
       "      <th>VISION</th>\n",
       "      <th>SUMMONER_TIER</th>\n",
       "    </tr>\n",
       "  </thead>\n",
       "  <tbody>\n",
       "    <tr>\n",
       "      <th>0</th>\n",
       "      <td>13.7.501.1316</td>\n",
       "      <td>1680696090680</td>\n",
       "      <td>1944</td>\n",
       "      <td>KR_6437691335</td>\n",
       "      <td>7</td>\n",
       "      <td>나영주니</td>\n",
       "      <td>517</td>\n",
       "      <td>JUNGLE</td>\n",
       "      <td>JLKd2cbNmiSSXjs0mLM0KuN5j5vKhGZZ-R8oUdzpOjgnml...</td>\n",
       "      <td>RGAPI-baa753a4-a532-4640-9886-d8f05d8f2b39</td>\n",
       "      <td>...</td>\n",
       "      <td>{'item0': 3157, 'item1': 1058, 'item2': 3020, ...</td>\n",
       "      <td>[1103, 2003, 3340]</td>\n",
       "      <td>[4636, 4645, 3157]</td>\n",
       "      <td>{'kills': 9, 'deaths': 5, 'assists': 10, 'kda'...</td>\n",
       "      <td>{'bountyLevel': 0, 'bountyGold': 675, 'goldEar...</td>\n",
       "      <td>{'totalMinionsKilled': 39, 'laneMinionsFirst10...</td>\n",
       "      <td>{'turretTakedowns': 1, 'turretPlatesTaken': 3}</td>\n",
       "      <td>{'teamDamagePercentage': 0.261132630640222, 't...</td>\n",
       "      <td>{'visionScore': 38, 'wardsPlaced': 9, 'control...</td>\n",
       "      <td>PLATINUM</td>\n",
       "    </tr>\n",
       "    <tr>\n",
       "      <th>1</th>\n",
       "      <td>13.7.501.1316</td>\n",
       "      <td>1680696090680</td>\n",
       "      <td>1944</td>\n",
       "      <td>KR_6437691335</td>\n",
       "      <td>8</td>\n",
       "      <td>유콩순</td>\n",
       "      <td>157</td>\n",
       "      <td>MIDDLE</td>\n",
       "      <td>ee_P3fFZgovCxlsMEe0Poqii_RJ5SfnnYPidb73FKKKwbn...</td>\n",
       "      <td>RGAPI-baa753a4-a532-4640-9886-d8f05d8f2b39</td>\n",
       "      <td>...</td>\n",
       "      <td>{'item0': 3082, 'item1': 3006, 'item2': 6673, ...</td>\n",
       "      <td>[1054, 2003]</td>\n",
       "      <td>[6673, 3031, 3046]</td>\n",
       "      <td>{'kills': 6, 'deaths': 8, 'assists': 6, 'kda':...</td>\n",
       "      <td>{'bountyLevel': 0, 'bountyGold': 0, 'goldEarne...</td>\n",
       "      <td>{'totalMinionsKilled': 217, 'laneMinionsFirst1...</td>\n",
       "      <td>{'turretTakedowns': 3, 'turretPlatesTaken': 2}</td>\n",
       "      <td>{'teamDamagePercentage': 0.1590381226791062, '...</td>\n",
       "      <td>{'visionScore': 8, 'wardsPlaced': 5, 'controlW...</td>\n",
       "      <td>PLATINUM</td>\n",
       "    </tr>\n",
       "  </tbody>\n",
       "</table>\n",
       "<p>2 rows × 27 columns</p>\n",
       "</div>"
      ],
      "text/plain": [
       "         VERSION  GAME_CREATE_TIME  GAME_DURATION        GAME_ID   \n",
       "0  13.7.501.1316     1680696090680           1944  KR_6437691335  \\\n",
       "1  13.7.501.1316     1680696090680           1944  KR_6437691335   \n",
       "\n",
       "   PARTICIPANT_NUMBER PARTICIPANT_NAME  CHAMPION_ID    LANE   \n",
       "0                   7             나영주니          517  JUNGLE  \\\n",
       "1                   8              유콩순          157  MIDDLE   \n",
       "\n",
       "                                   PARTICIPANT_PUUID   \n",
       "0  JLKd2cbNmiSSXjs0mLM0KuN5j5vKhGZZ-R8oUdzpOjgnml...  \\\n",
       "1  ee_P3fFZgovCxlsMEe0Poqii_RJ5SfnnYPidb73FKKKwbn...   \n",
       "\n",
       "                                      API_KEY  ...   \n",
       "0  RGAPI-baa753a4-a532-4640-9886-d8f05d8f2b39  ...  \\\n",
       "1  RGAPI-baa753a4-a532-4640-9886-d8f05d8f2b39  ...   \n",
       "\n",
       "                                                ITEM           STARTITEM   \n",
       "0  {'item0': 3157, 'item1': 1058, 'item2': 3020, ...  [1103, 2003, 3340]  \\\n",
       "1  {'item0': 3082, 'item1': 3006, 'item2': 6673, ...        [1054, 2003]   \n",
       "\n",
       "             ITEMTREE                                                KDA   \n",
       "0  [4636, 4645, 3157]  {'kills': 9, 'deaths': 5, 'assists': 10, 'kda'...  \\\n",
       "1  [6673, 3031, 3046]  {'kills': 6, 'deaths': 8, 'assists': 6, 'kda':...   \n",
       "\n",
       "                                                GOLD   \n",
       "0  {'bountyLevel': 0, 'bountyGold': 675, 'goldEar...  \\\n",
       "1  {'bountyLevel': 0, 'bountyGold': 0, 'goldEarne...   \n",
       "\n",
       "                                                  CS   \n",
       "0  {'totalMinionsKilled': 39, 'laneMinionsFirst10...  \\\n",
       "1  {'totalMinionsKilled': 217, 'laneMinionsFirst1...   \n",
       "\n",
       "                                           TURRET   \n",
       "0  {'turretTakedowns': 1, 'turretPlatesTaken': 3}  \\\n",
       "1  {'turretTakedowns': 3, 'turretPlatesTaken': 2}   \n",
       "\n",
       "                                              DAMAGE   \n",
       "0  {'teamDamagePercentage': 0.261132630640222, 't...  \\\n",
       "1  {'teamDamagePercentage': 0.1590381226791062, '...   \n",
       "\n",
       "                                              VISION SUMMONER_TIER  \n",
       "0  {'visionScore': 38, 'wardsPlaced': 9, 'control...      PLATINUM  \n",
       "1  {'visionScore': 8, 'wardsPlaced': 5, 'controlW...      PLATINUM  \n",
       "\n",
       "[2 rows x 27 columns]"
      ]
     },
     "execution_count": 12,
     "metadata": {},
     "output_type": "execute_result"
    }
   ],
   "source": [
    "cat2 = pd.merge(cat,df3)\n",
    "cat2[:2]"
   ]
  },
  {
   "cell_type": "code",
   "execution_count": 8,
   "id": "e07a88ec",
   "metadata": {},
   "outputs": [],
   "source": [
    "cat.to_csv('matchData.csv')"
   ]
  },
  {
   "cell_type": "code",
   "execution_count": 26,
   "id": "57e828f9",
   "metadata": {},
   "outputs": [
    {
     "data": {
      "text/plain": [
       "'0'"
      ]
     },
     "execution_count": 26,
     "metadata": {},
     "output_type": "execute_result"
    }
   ],
   "source": [
    "cat['CHAMPION'][0]['win']"
   ]
  },
  {
   "cell_type": "code",
   "execution_count": 65,
   "id": "0e850e0e",
   "metadata": {},
   "outputs": [
    {
     "data": {
      "text/plain": [
       "{'championId': 517,\n",
       " 'championName': 'Sylas',\n",
       " 'champLevel': 16,\n",
       " 'lane': 'JUNGLE',\n",
       " 'individualPosition': 'JUNGLE',\n",
       " 'teamPosition': 'JUNGLE',\n",
       " 'teamId': 200,\n",
       " 'win': '0'}"
      ]
     },
     "execution_count": 65,
     "metadata": {},
     "output_type": "execute_result"
    }
   ],
   "source": [
    "cat['CHAMPION'][0]['championId']"
   ]
  },
  {
   "cell_type": "code",
   "execution_count": 79,
   "id": "4416a07b",
   "metadata": {},
   "outputs": [
    {
     "data": {
      "text/plain": [
       "['SUMMONER_ID',\n",
       " 'SUMMONER_PUUID',\n",
       " 'API_KEY',\n",
       " 'SUMMONER_NAME',\n",
       " 'SUMMONER_LEVEL',\n",
       " 'SUMMONER_PROFILE',\n",
       " 'SUMMONER_TIER',\n",
       " 'SUMMONER_WINS',\n",
       " 'SUMMONER_LOSSES',\n",
       " 'SUMMONER_VETERAN',\n",
       " 'SUMMONER_INACTIVE',\n",
       " 'SUMMONER_FRESHBLOOD',\n",
       " 'SUMMONER_HOTSTREAK']"
      ]
     },
     "execution_count": 79,
     "metadata": {},
     "output_type": "execute_result"
    }
   ],
   "source": [
    "list(df2.keys())"
   ]
  },
  {
   "cell_type": "code",
   "execution_count": 30,
   "id": "a014e91f",
   "metadata": {},
   "outputs": [
    {
     "data": {
      "text/plain": [
       "'OI용'"
      ]
     },
     "execution_count": 30,
     "metadata": {},
     "output_type": "execute_result"
    }
   ],
   "source": [
    "df2['SUMMONER_NAME'][0]"
   ]
  },
  {
   "cell_type": "code",
   "execution_count": 6,
   "id": "099dfd76",
   "metadata": {},
   "outputs": [],
   "source": [
    "df3 = df2.drop(columns=['SUMMONER_ID',\n",
    " 'SUMMONER_PUUID',\n",
    " 'API_KEY',\n",
    " 'SUMMONER_LEVEL',\n",
    " 'SUMMONER_PROFILE',\n",
    " 'SUMMONER_WINS',\n",
    " 'SUMMONER_LOSSES',\n",
    " 'SUMMONER_VETERAN',\n",
    " 'SUMMONER_INACTIVE',\n",
    " 'SUMMONER_FRESHBLOOD',\n",
    " 'SUMMONER_HOTSTREAK'])"
   ]
  },
  {
   "cell_type": "code",
   "execution_count": 7,
   "id": "1ab4feb3",
   "metadata": {},
   "outputs": [],
   "source": [
    "df3 = df3.rename(columns={'SUMMONER_NAME':'PARTICIPANT_NAME'})\n"
   ]
  },
  {
   "cell_type": "code",
   "execution_count": 8,
   "id": "38d81c3f",
   "metadata": {},
   "outputs": [
    {
     "data": {
      "text/html": [
       "<div>\n",
       "<style scoped>\n",
       "    .dataframe tbody tr th:only-of-type {\n",
       "        vertical-align: middle;\n",
       "    }\n",
       "\n",
       "    .dataframe tbody tr th {\n",
       "        vertical-align: top;\n",
       "    }\n",
       "\n",
       "    .dataframe thead th {\n",
       "        text-align: right;\n",
       "    }\n",
       "</style>\n",
       "<table border=\"1\" class=\"dataframe\">\n",
       "  <thead>\n",
       "    <tr style=\"text-align: right;\">\n",
       "      <th></th>\n",
       "      <th>PARTICIPANT_NAME</th>\n",
       "      <th>SUMMONER_TIER</th>\n",
       "    </tr>\n",
       "  </thead>\n",
       "  <tbody>\n",
       "    <tr>\n",
       "      <th>0</th>\n",
       "      <td>OI용</td>\n",
       "      <td>DIAMOND</td>\n",
       "    </tr>\n",
       "    <tr>\n",
       "      <th>1</th>\n",
       "      <td>또 레</td>\n",
       "      <td>PLATINUM</td>\n",
       "    </tr>\n",
       "    <tr>\n",
       "      <th>2</th>\n",
       "      <td>열심히해보아오</td>\n",
       "      <td>DIAMOND</td>\n",
       "    </tr>\n",
       "    <tr>\n",
       "      <th>3</th>\n",
       "      <td>럭스야사랑한다</td>\n",
       "      <td>MASTER</td>\n",
       "    </tr>\n",
       "    <tr>\n",
       "      <th>4</th>\n",
       "      <td>괴수 탑</td>\n",
       "      <td>DIAMOND</td>\n",
       "    </tr>\n",
       "    <tr>\n",
       "      <th>5</th>\n",
       "      <td>밥음볶우새</td>\n",
       "      <td>DIAMOND</td>\n",
       "    </tr>\n",
       "    <tr>\n",
       "      <th>6</th>\n",
       "      <td>우울해</td>\n",
       "      <td>MASTER</td>\n",
       "    </tr>\n",
       "    <tr>\n",
       "      <th>7</th>\n",
       "      <td>직 쏘</td>\n",
       "      <td>MASTER</td>\n",
       "    </tr>\n",
       "    <tr>\n",
       "      <th>8</th>\n",
       "      <td>괴물쥐코빨고싶다</td>\n",
       "      <td>MASTER</td>\n",
       "    </tr>\n",
       "    <tr>\n",
       "      <th>9</th>\n",
       "      <td>Umbridge</td>\n",
       "      <td>DIAMOND</td>\n",
       "    </tr>\n",
       "  </tbody>\n",
       "</table>\n",
       "</div>"
      ],
      "text/plain": [
       "  PARTICIPANT_NAME SUMMONER_TIER\n",
       "0              OI용       DIAMOND\n",
       "1              또 레      PLATINUM\n",
       "2          열심히해보아오       DIAMOND\n",
       "3          럭스야사랑한다        MASTER\n",
       "4             괴수 탑       DIAMOND\n",
       "5            밥음볶우새       DIAMOND\n",
       "6              우울해        MASTER\n",
       "7              직 쏘        MASTER\n",
       "8         괴물쥐코빨고싶다        MASTER\n",
       "9         Umbridge       DIAMOND"
      ]
     },
     "execution_count": 8,
     "metadata": {},
     "output_type": "execute_result"
    }
   ],
   "source": [
    "df3[:10]"
   ]
  },
  {
   "cell_type": "code",
   "execution_count": 33,
   "id": "461d41e4",
   "metadata": {},
   "outputs": [],
   "source": [
    "df4 = pd.merge(cat,df3)"
   ]
  },
  {
   "cell_type": "code",
   "execution_count": 34,
   "id": "a8027b58",
   "metadata": {},
   "outputs": [
    {
     "data": {
      "text/plain": [
       "0"
      ]
     },
     "execution_count": 34,
     "metadata": {},
     "output_type": "execute_result"
    }
   ],
   "source": [
    "int(df4['CHAMPION'][0]['win'])"
   ]
  },
  {
   "cell_type": "code",
   "execution_count": 35,
   "id": "8047fcc1",
   "metadata": {},
   "outputs": [],
   "source": [
    "df4.to_csv('mldata.csv')"
   ]
  },
  {
   "cell_type": "code",
   "execution_count": 34,
   "id": "ef4291a0",
   "metadata": {},
   "outputs": [
    {
     "data": {
      "text/plain": [
       "'PLATINUM'"
      ]
     },
     "execution_count": 34,
     "metadata": {},
     "output_type": "execute_result"
    }
   ],
   "source": [
    "df4['SUMMONER_TIER'][0]"
   ]
  },
  {
   "cell_type": "code",
   "execution_count": 9,
   "id": "025a3724",
   "metadata": {},
   "outputs": [
    {
     "data": {
      "text/plain": [
       "1944"
      ]
     },
     "execution_count": 9,
     "metadata": {},
     "output_type": "execute_result"
    }
   ],
   "source": [
    "df_s['GAME_DURATION'][0]"
   ]
  },
  {
   "cell_type": "code",
   "execution_count": 4,
   "id": "17145687",
   "metadata": {},
   "outputs": [
    {
     "data": {
      "text/plain": [
       "0.3125"
      ]
     },
     "execution_count": 4,
     "metadata": {},
     "output_type": "execute_result"
    }
   ],
   "source": [
    "10/round(1944/60)"
   ]
  },
  {
   "cell_type": "code",
   "execution_count": 46,
   "id": "c88b0d29",
   "metadata": {},
   "outputs": [
    {
     "data": {
      "text/plain": [
       "Index(['VERSION', 'GAME_CREATE_TIME', 'GAME_DURATION', 'GAME_ID',\n",
       "       'PARTICIPANT_NUMBER', 'PARTICIPANT_NAME', 'CHAMPION_ID', 'LANE',\n",
       "       'PARTICIPANT_PUUID', 'API_KEY', 'GAME', 'SUMMONER', 'CHAMPION', 'SPELL',\n",
       "       'SKILL', 'SKILLTREE', 'RUNE', 'ITEM', 'STARTITEM', 'ITEMTREE', 'KDA',\n",
       "       'GOLD', 'CS', 'TURRET', 'DAMAGE', 'VISION', 'SUMMONER_TIER'],\n",
       "      dtype='object')"
      ]
     },
     "execution_count": 46,
     "metadata": {},
     "output_type": "execute_result"
    }
   ],
   "source": [
    "df4.keys()"
   ]
  },
  {
   "cell_type": "code",
   "execution_count": 16,
   "id": "e6b49ac4",
   "metadata": {},
   "outputs": [],
   "source": [
    "def getData():\n",
    "    import p_utils as pu\n",
    "    import pandas as pd\n",
    "    import json\n",
    "    from tqdm import tqdm \n",
    "    \n",
    "    print(\"rawdata 불러오기 시작\")\n",
    "    query1 = 'select * from rawdata'\n",
    "    df1 = pu.oracle_totalExecute(query1)\n",
    "    \n",
    "    print(\"summoner 불러오기 시작\")\n",
    "    query2 = 'select * from summoner'\n",
    "    df2 = pu.oracle_totalExecute(query2)\n",
    "    \n",
    "    df3 = df2.drop(columns=['SUMMONER_ID',\n",
    "     'SUMMONER_PUUID',\n",
    "     'API_KEY',\n",
    "     'SUMMONER_LEVEL',\n",
    "     'SUMMONER_PROFILE',\n",
    "     'SUMMONER_WINS',\n",
    "     'SUMMONER_LOSSES',\n",
    "     'SUMMONER_VETERAN',\n",
    "     'SUMMONER_INACTIVE',\n",
    "     'SUMMONER_FRESHBLOOD',\n",
    "     'SUMMONER_HOTSTREAK'])\n",
    "    df3 = df3.rename(columns={'SUMMONER_NAME':'PARTICIPANT_NAME'})\n",
    "    \n",
    "    df_1 = []\n",
    "    df_k = list(df1.keys())\n",
    "    print(\"데이터 변환 시작\")\n",
    "    for i in tqdm(range(len(df1))):\n",
    "        lst = []\n",
    "        for j in range(len(df_k)):\n",
    "            if j < 10 :\n",
    "                lst.append(df1[df_k[j]][i])\n",
    "            else :\n",
    "                data = df1[df_k[j]][i]\n",
    "                data = data.replace(\"'\", \"\\\"\")\n",
    "                json_data = json.loads(data)\n",
    "                lst.append(json_data)\n",
    "        df_1.append(lst)\n",
    "            \n",
    "    df_2 = pd.DataFrame(df_1, columns = df_k)\n",
    "    \n",
    "    df_4 = []\n",
    "    print(\"train 데이터로 변환\")\n",
    "    df_4 = []\n",
    "    for i in tqdm(range(len(df_2))):\n",
    "        lst=[]\n",
    "        \n",
    "        lst.append(df_2['GAME_ID'][i])\n",
    "        lst.append(df_2['PARTICIPANT_NAME'][i])\n",
    "        lst.append(df_2['PARTICIPANT_NUMBER'][i])\n",
    "        lst.append(df_2['CHAMPION'][i]['win'])\n",
    "        \n",
    "        wp = df_2['VISION'][i]['wardsPlaced']\n",
    "        cwp = df_2['VISION'][i]['controlWardsPlaced']\n",
    "        wk = df_2['VISION'][i]['wardsKilled']\n",
    "        vision = wp+cwp+wk \n",
    "        lst.append(vision)\n",
    "        \n",
    "        cs = df_2['CS'][i]['totalMinionsKilled']\n",
    "        time = round(df_2['GAME_DURATION'][i]/60)\n",
    "        cpm = cs/time\n",
    "        lst.append(cpm)\n",
    "        \n",
    "        lst.append(df_3['GAME_DURATION'][i])\n",
    "        \n",
    "        kda = df_3['KDA'][i]['kda']\n",
    "        \n",
    "        t = df_3['SUMMONER_TIER'][i]\n",
    "        \n",
    "        df_4.append(lst)\n",
    "        \n",
    "    df_5 = pd.DataFrame(df_4)\n",
    "    df_5 = df_5.astype({'WIN':int})\n",
    "    \n",
    "    \n",
    "            \n",
    "    return df_5"
   ]
  },
  {
   "cell_type": "code",
   "execution_count": 3,
   "id": "a3ba22e6",
   "metadata": {
    "scrolled": true
   },
   "outputs": [
    {
     "name": "stdout",
     "output_type": "stream",
     "text": [
      "rawdata 불러오기 시작\n",
      "oracle open!\n",
      "oracle close!\n",
      "summoner 불러오기 시작\n",
      "oracle open!\n",
      "oracle close!\n",
      "데이터 변환 시작\n"
     ]
    },
    {
     "name": "stderr",
     "output_type": "stream",
     "text": [
      "100%|████████████████████████████████████████████████████████████████████████| 364900/364900 [02:48<00:00, 2162.81it/s]\n"
     ]
    },
    {
     "name": "stdout",
     "output_type": "stream",
     "text": [
      "train 데이터로 변환\n"
     ]
    },
    {
     "name": "stderr",
     "output_type": "stream",
     "text": [
      "100%|████████████████████████████████████████████████████████████████████████| 325201/325201 [01:26<00:00, 3750.48it/s]\n"
     ]
    },
    {
     "ename": "KeyError",
     "evalue": "\"Only a column name can be used for the key in a dtype mappings argument. 'WIN' not found in columns.\"",
     "output_type": "error",
     "traceback": [
      "\u001b[1;31m---------------------------------------------------------------------------\u001b[0m",
      "\u001b[1;31mKeyError\u001b[0m                                  Traceback (most recent call last)",
      "\u001b[1;32m~\\AppData\\Local\\Temp\\ipykernel_6364\\743798274.py\u001b[0m in \u001b[0;36m<module>\u001b[1;34m\u001b[0m\n\u001b[1;32m----> 1\u001b[1;33m \u001b[0mdf\u001b[0m \u001b[1;33m=\u001b[0m \u001b[0mgetData\u001b[0m\u001b[1;33m(\u001b[0m\u001b[1;33m)\u001b[0m\u001b[1;33m\u001b[0m\u001b[1;33m\u001b[0m\u001b[0m\n\u001b[0m",
      "\u001b[1;32m~\\AppData\\Local\\Temp\\ipykernel_6364\\4287914058.py\u001b[0m in \u001b[0;36mgetData\u001b[1;34m()\u001b[0m\n\u001b[0;32m    104\u001b[0m \u001b[1;33m\u001b[0m\u001b[0m\n\u001b[0;32m    105\u001b[0m     \u001b[0mdf_5\u001b[0m \u001b[1;33m=\u001b[0m \u001b[0mpd\u001b[0m\u001b[1;33m.\u001b[0m\u001b[0mDataFrame\u001b[0m\u001b[1;33m(\u001b[0m\u001b[0mdf_4\u001b[0m\u001b[1;33m)\u001b[0m\u001b[1;33m\u001b[0m\u001b[1;33m\u001b[0m\u001b[0m\n\u001b[1;32m--> 106\u001b[1;33m     \u001b[0mdf_5\u001b[0m \u001b[1;33m=\u001b[0m \u001b[0mdf_5\u001b[0m\u001b[1;33m.\u001b[0m\u001b[0mastype\u001b[0m\u001b[1;33m(\u001b[0m\u001b[1;33m{\u001b[0m\u001b[1;34m'WIN'\u001b[0m\u001b[1;33m:\u001b[0m\u001b[0mint\u001b[0m\u001b[1;33m}\u001b[0m\u001b[1;33m)\u001b[0m\u001b[1;33m\u001b[0m\u001b[1;33m\u001b[0m\u001b[0m\n\u001b[0m\u001b[0;32m    107\u001b[0m \u001b[1;33m\u001b[0m\u001b[0m\n\u001b[0;32m    108\u001b[0m \u001b[1;33m\u001b[0m\u001b[0m\n",
      "\u001b[1;32m~\\anaconda3\\lib\\site-packages\\pandas\\core\\generic.py\u001b[0m in \u001b[0;36mastype\u001b[1;34m(self, dtype, copy, errors)\u001b[0m\n\u001b[0;32m   6288\u001b[0m             \u001b[1;32mfor\u001b[0m \u001b[0mcol_name\u001b[0m \u001b[1;32min\u001b[0m \u001b[0mdtype_ser\u001b[0m\u001b[1;33m.\u001b[0m\u001b[0mindex\u001b[0m\u001b[1;33m:\u001b[0m\u001b[1;33m\u001b[0m\u001b[1;33m\u001b[0m\u001b[0m\n\u001b[0;32m   6289\u001b[0m                 \u001b[1;32mif\u001b[0m \u001b[0mcol_name\u001b[0m \u001b[1;32mnot\u001b[0m \u001b[1;32min\u001b[0m \u001b[0mself\u001b[0m\u001b[1;33m:\u001b[0m\u001b[1;33m\u001b[0m\u001b[1;33m\u001b[0m\u001b[0m\n\u001b[1;32m-> 6290\u001b[1;33m                     raise KeyError(\n\u001b[0m\u001b[0;32m   6291\u001b[0m                         \u001b[1;34m\"Only a column name can be used for the \"\u001b[0m\u001b[1;33m\u001b[0m\u001b[1;33m\u001b[0m\u001b[0m\n\u001b[0;32m   6292\u001b[0m                         \u001b[1;34m\"key in a dtype mappings argument. \"\u001b[0m\u001b[1;33m\u001b[0m\u001b[1;33m\u001b[0m\u001b[0m\n",
      "\u001b[1;31mKeyError\u001b[0m: \"Only a column name can be used for the key in a dtype mappings argument. 'WIN' not found in columns.\""
     ]
    }
   ],
   "source": [
    "df = getData()"
   ]
  },
  {
   "cell_type": "code",
   "execution_count": 57,
   "id": "8e86deb6",
   "metadata": {},
   "outputs": [],
   "source": [
    "df.to_csv('plData.csv')"
   ]
  },
  {
   "cell_type": "code",
   "execution_count": 26,
   "id": "a2baf9f6",
   "metadata": {
    "scrolled": true
   },
   "outputs": [],
   "source": [
    "def ml(df_5):\n",
    "    df_6=[]\n",
    "    for i in tqdm(range(len(df_5))):\n",
    "        lst = []\n",
    "        \n",
    "        kda = df_5['KDA'][i]['kda']\n",
    "        w = df_5['CHAMPION'][i]['win']*1\n",
    "        t = df_5['SUMMONER_TIER'][i]\n",
    "        \n",
    "        if t == 'BRONZE' or t == 'Unranked':\n",
    "            lst.append(kda)\n",
    "            lst.append(w)\n",
    "            lst.append(t)\n",
    "        elif t == 'SILVER':\n",
    "            lst.append(kda+1)\n",
    "            lst.append(w)\n",
    "            lst.append(t)\n",
    "        elif t == 'GOLD':\n",
    "            lst.append(kda+2)\n",
    "            lst.append(w)\n",
    "            lst.append(t)\n",
    "        elif t == 'PLATINUM':\n",
    "            lst.append(kda+3)\n",
    "            lst.append(w)\n",
    "            lst.append(t)\n",
    "        elif t == 'DIAMOND':\n",
    "            lst.append(kda+4)\n",
    "            lst.append(w)\n",
    "            lst.append(t)\n",
    "        elif t == 'GRANDMASTER':\n",
    "            lst.append(kda+5)\n",
    "            lst.append(w)\n",
    "            lst.append(t)\n",
    "        elif t == 'CHALLENGER':\n",
    "            lst.append(kda+6)\n",
    "            lst.append(w)\n",
    "            lst.append(t)\n",
    "                \n",
    "        df_6.append(lst)\n",
    "    df_7 = pd.DataFrame(df_6, columns=['KDA','WIN','TIER'])\n",
    "    df_7 = df_7.dropna(subset=['KDA'], how='any',axis=0)\n",
    "    remove = df_7[df_7['TIER']=='Unranked'].index\n",
    "    df_7 = df_7.drop(remove)\n",
    "\n",
    "    return df_7"
   ]
  },
  {
   "cell_type": "code",
   "execution_count": 27,
   "id": "dd72c656",
   "metadata": {
    "scrolled": false
   },
   "outputs": [
    {
     "name": "stderr",
     "output_type": "stream",
     "text": [
      "100%|███████████████████████████████████████████████████████████████████████| 325201/325201 [00:16<00:00, 19574.69it/s]\n"
     ]
    }
   ],
   "source": [
    "df_ml = ml(cat2)"
   ]
  },
  {
   "cell_type": "code",
   "execution_count": 30,
   "id": "9659310c",
   "metadata": {},
   "outputs": [
    {
     "data": {
      "text/plain": [
       "KDA     float64\n",
       "WIN      object\n",
       "TIER     object\n",
       "dtype: object"
      ]
     },
     "execution_count": 30,
     "metadata": {},
     "output_type": "execute_result"
    }
   ],
   "source": [
    "df_ml.dtypes"
   ]
  },
  {
   "cell_type": "code",
   "execution_count": 20,
   "id": "71ef755a",
   "metadata": {},
   "outputs": [],
   "source": [
    "import numpy as np\n",
    "import matplotlib.pylab as plt\n",
    "import pandas as pd\n",
    "import requests\n",
    "from PIL import Image\n",
    "from io import BytesIO \n",
    "import cv2\n",
    "from sklearn.neighbors import KNeighborsClassifier\n",
    "from sklearn.linear_model import LogisticRegression #로지스틱스 함수(모델생성)\n",
    "from sklearn.preprocessing import StandardScaler #정규화\n",
    "from sklearn.model_selection import train_test_split #학습세트/평가세트 분리"
   ]
  },
  {
   "cell_type": "code",
   "execution_count": 63,
   "id": "5a73981d",
   "metadata": {
    "scrolled": false
   },
   "outputs": [
    {
     "data": {
      "image/png": "[encoded data removed]",
      "text/plain": [
       "<Figure size 640x480 with 1 Axes>"
      ]
     },
     "metadata": {},
     "output_type": "display_data"
    }
   ],
   "source": [
    "plt.scatter(df2[df2['TIER']=='PLATINUM']['KDA'], df2[df2['TIER']=='PLATINUM']['WIN']) \n",
    "plt.scatter(df2[df2['TIER']=='BRONZE']['KDA'], df2[df2['TIER']=='BRONZE']['WIN'])\n",
    "plt.xlabel('KDA')\n",
    "plt.ylabel('WIN')\n",
    "plt.show()"
   ]
  },
  {
   "cell_type": "code",
   "execution_count": 51,
   "id": "5704333f",
   "metadata": {},
   "outputs": [
    {
     "data": {
      "text/html": [
       "<div>\n",
       "<style scoped>\n",
       "    .dataframe tbody tr th:only-of-type {\n",
       "        vertical-align: middle;\n",
       "    }\n",
       "\n",
       "    .dataframe tbody tr th {\n",
       "        vertical-align: top;\n",
       "    }\n",
       "\n",
       "    .dataframe thead th {\n",
       "        text-align: right;\n",
       "    }\n",
       "</style>\n",
       "<table border=\"1\" class=\"dataframe\">\n",
       "  <thead>\n",
       "    <tr style=\"text-align: right;\">\n",
       "      <th></th>\n",
       "      <th>KDA</th>\n",
       "      <th>WIN</th>\n",
       "      <th>TIER</th>\n",
       "    </tr>\n",
       "  </thead>\n",
       "  <tbody>\n",
       "    <tr>\n",
       "      <th>0</th>\n",
       "      <td>11.000000</td>\n",
       "      <td>0</td>\n",
       "      <td>PLATINUM</td>\n",
       "    </tr>\n",
       "    <tr>\n",
       "      <th>1</th>\n",
       "      <td>6.750000</td>\n",
       "      <td>0</td>\n",
       "      <td>PLATINUM</td>\n",
       "    </tr>\n",
       "    <tr>\n",
       "      <th>2</th>\n",
       "      <td>3.800000</td>\n",
       "      <td>0</td>\n",
       "      <td>PLATINUM</td>\n",
       "    </tr>\n",
       "    <tr>\n",
       "      <th>3</th>\n",
       "      <td>6.000000</td>\n",
       "      <td>0</td>\n",
       "      <td>PLATINUM</td>\n",
       "    </tr>\n",
       "    <tr>\n",
       "      <th>4</th>\n",
       "      <td>4.500000</td>\n",
       "      <td>0</td>\n",
       "      <td>PLATINUM</td>\n",
       "    </tr>\n",
       "    <tr>\n",
       "      <th>...</th>\n",
       "      <td>...</td>\n",
       "      <td>...</td>\n",
       "      <td>...</td>\n",
       "    </tr>\n",
       "    <tr>\n",
       "      <th>325196</th>\n",
       "      <td>3.875000</td>\n",
       "      <td>0</td>\n",
       "      <td>PLATINUM</td>\n",
       "    </tr>\n",
       "    <tr>\n",
       "      <th>325197</th>\n",
       "      <td>7.857143</td>\n",
       "      <td>0</td>\n",
       "      <td>PLATINUM</td>\n",
       "    </tr>\n",
       "    <tr>\n",
       "      <th>325198</th>\n",
       "      <td>21.000000</td>\n",
       "      <td>1</td>\n",
       "      <td>PLATINUM</td>\n",
       "    </tr>\n",
       "    <tr>\n",
       "      <th>325199</th>\n",
       "      <td>2.142857</td>\n",
       "      <td>0</td>\n",
       "      <td>PLATINUM</td>\n",
       "    </tr>\n",
       "    <tr>\n",
       "      <th>325200</th>\n",
       "      <td>4.666667</td>\n",
       "      <td>0</td>\n",
       "      <td>PLATINUM</td>\n",
       "    </tr>\n",
       "  </tbody>\n",
       "</table>\n",
       "<p>321358 rows × 3 columns</p>\n",
       "</div>"
      ],
      "text/plain": [
       "              KDA  WIN      TIER\n",
       "0       11.000000    0  PLATINUM\n",
       "1        6.750000    0  PLATINUM\n",
       "2        3.800000    0  PLATINUM\n",
       "3        6.000000    0  PLATINUM\n",
       "4        4.500000    0  PLATINUM\n",
       "...           ...  ...       ...\n",
       "325196   3.875000    0  PLATINUM\n",
       "325197   7.857143    0  PLATINUM\n",
       "325198  21.000000    1  PLATINUM\n",
       "325199   2.142857    0  PLATINUM\n",
       "325200   4.666667    0  PLATINUM\n",
       "\n",
       "[321358 rows x 3 columns]"
      ]
     },
     "execution_count": 51,
     "metadata": {},
     "output_type": "execute_result"
    }
   ],
   "source": [
    "df3 = df2.dropna(subset=['KDA'], how='any',axis=0)\n",
    "df3"
   ]
  },
  {
   "cell_type": "code",
   "execution_count": 61,
   "id": "f651e793",
   "metadata": {},
   "outputs": [],
   "source": [
    "df4 = round(df3['KDA'],6)"
   ]
  },
  {
   "cell_type": "code",
   "execution_count": 63,
   "id": "fdfe8225",
   "metadata": {},
   "outputs": [
    {
     "data": {
      "text/plain": [
       "0         11.000000\n",
       "1          6.750000\n",
       "2          3.800000\n",
       "3          6.000000\n",
       "4          4.500000\n",
       "            ...    \n",
       "325196     3.875000\n",
       "325197     7.857143\n",
       "325198    21.000000\n",
       "325199     2.142857\n",
       "325200     4.666667\n",
       "Name: KDA, Length: 321358, dtype: float64"
      ]
     },
     "execution_count": 63,
     "metadata": {},
     "output_type": "execute_result"
    }
   ],
   "source": [
    "df4"
   ]
  },
  {
   "cell_type": "code",
   "execution_count": 76,
   "id": "1be35904",
   "metadata": {},
   "outputs": [
    {
     "ename": "KeyError",
     "evalue": "0",
     "output_type": "error",
     "traceback": [
      "\u001b[1;31m---------------------------------------------------------------------------\u001b[0m",
      "\u001b[1;31mKeyError\u001b[0m                                  Traceback (most recent call last)",
      "\u001b[1;32m~\\anaconda3\\lib\\site-packages\\pandas\\core\\indexes\\base.py\u001b[0m in \u001b[0;36mget_loc\u001b[1;34m(self, key)\u001b[0m\n\u001b[0;32m   3651\u001b[0m         \u001b[1;32mtry\u001b[0m\u001b[1;33m:\u001b[0m\u001b[1;33m\u001b[0m\u001b[1;33m\u001b[0m\u001b[0m\n\u001b[1;32m-> 3652\u001b[1;33m             \u001b[1;32mreturn\u001b[0m \u001b[0mself\u001b[0m\u001b[1;33m.\u001b[0m\u001b[0m_engine\u001b[0m\u001b[1;33m.\u001b[0m\u001b[0mget_loc\u001b[0m\u001b[1;33m(\u001b[0m\u001b[0mcasted_key\u001b[0m\u001b[1;33m)\u001b[0m\u001b[1;33m\u001b[0m\u001b[1;33m\u001b[0m\u001b[0m\n\u001b[0m\u001b[0;32m   3653\u001b[0m         \u001b[1;32mexcept\u001b[0m \u001b[0mKeyError\u001b[0m \u001b[1;32mas\u001b[0m \u001b[0merr\u001b[0m\u001b[1;33m:\u001b[0m\u001b[1;33m\u001b[0m\u001b[1;33m\u001b[0m\u001b[0m\n",
      "\u001b[1;32m~\\anaconda3\\lib\\site-packages\\pandas\\_libs\\index.pyx\u001b[0m in \u001b[0;36mpandas._libs.index.IndexEngine.get_loc\u001b[1;34m()\u001b[0m\n",
      "\u001b[1;32m~\\anaconda3\\lib\\site-packages\\pandas\\_libs\\index.pyx\u001b[0m in \u001b[0;36mpandas._libs.index.IndexEngine.get_loc\u001b[1;34m()\u001b[0m\n",
      "\u001b[1;32mpandas\\_libs\\hashtable_class_helper.pxi\u001b[0m in \u001b[0;36mpandas._libs.hashtable.PyObjectHashTable.get_item\u001b[1;34m()\u001b[0m\n",
      "\u001b[1;32mpandas\\_libs\\hashtable_class_helper.pxi\u001b[0m in \u001b[0;36mpandas._libs.hashtable.PyObjectHashTable.get_item\u001b[1;34m()\u001b[0m\n",
      "\u001b[1;31mKeyError\u001b[0m: 0",
      "\nThe above exception was the direct cause of the following exception:\n",
      "\u001b[1;31mKeyError\u001b[0m                                  Traceback (most recent call last)",
      "\u001b[1;32m~\\AppData\\Local\\Temp\\ipykernel_9168\\2680116315.py\u001b[0m in \u001b[0;36m<module>\u001b[1;34m\u001b[0m\n\u001b[1;32m----> 1\u001b[1;33m \u001b[0mdf\u001b[0m\u001b[1;33m[\u001b[0m\u001b[1;36m0\u001b[0m\u001b[1;33m]\u001b[0m\u001b[1;33m\u001b[0m\u001b[1;33m\u001b[0m\u001b[0m\n\u001b[0m",
      "\u001b[1;32m~\\anaconda3\\lib\\site-packages\\pandas\\core\\frame.py\u001b[0m in \u001b[0;36m__getitem__\u001b[1;34m(self, key)\u001b[0m\n\u001b[0;32m   3759\u001b[0m             \u001b[1;32mif\u001b[0m \u001b[0mself\u001b[0m\u001b[1;33m.\u001b[0m\u001b[0mcolumns\u001b[0m\u001b[1;33m.\u001b[0m\u001b[0mnlevels\u001b[0m \u001b[1;33m>\u001b[0m \u001b[1;36m1\u001b[0m\u001b[1;33m:\u001b[0m\u001b[1;33m\u001b[0m\u001b[1;33m\u001b[0m\u001b[0m\n\u001b[0;32m   3760\u001b[0m                 \u001b[1;32mreturn\u001b[0m \u001b[0mself\u001b[0m\u001b[1;33m.\u001b[0m\u001b[0m_getitem_multilevel\u001b[0m\u001b[1;33m(\u001b[0m\u001b[0mkey\u001b[0m\u001b[1;33m)\u001b[0m\u001b[1;33m\u001b[0m\u001b[1;33m\u001b[0m\u001b[0m\n\u001b[1;32m-> 3761\u001b[1;33m             \u001b[0mindexer\u001b[0m \u001b[1;33m=\u001b[0m \u001b[0mself\u001b[0m\u001b[1;33m.\u001b[0m\u001b[0mcolumns\u001b[0m\u001b[1;33m.\u001b[0m\u001b[0mget_loc\u001b[0m\u001b[1;33m(\u001b[0m\u001b[0mkey\u001b[0m\u001b[1;33m)\u001b[0m\u001b[1;33m\u001b[0m\u001b[1;33m\u001b[0m\u001b[0m\n\u001b[0m\u001b[0;32m   3762\u001b[0m             \u001b[1;32mif\u001b[0m \u001b[0mis_integer\u001b[0m\u001b[1;33m(\u001b[0m\u001b[0mindexer\u001b[0m\u001b[1;33m)\u001b[0m\u001b[1;33m:\u001b[0m\u001b[1;33m\u001b[0m\u001b[1;33m\u001b[0m\u001b[0m\n\u001b[0;32m   3763\u001b[0m                 \u001b[0mindexer\u001b[0m \u001b[1;33m=\u001b[0m \u001b[1;33m[\u001b[0m\u001b[0mindexer\u001b[0m\u001b[1;33m]\u001b[0m\u001b[1;33m\u001b[0m\u001b[1;33m\u001b[0m\u001b[0m\n",
      "\u001b[1;32m~\\anaconda3\\lib\\site-packages\\pandas\\core\\indexes\\base.py\u001b[0m in \u001b[0;36mget_loc\u001b[1;34m(self, key)\u001b[0m\n\u001b[0;32m   3652\u001b[0m             \u001b[1;32mreturn\u001b[0m \u001b[0mself\u001b[0m\u001b[1;33m.\u001b[0m\u001b[0m_engine\u001b[0m\u001b[1;33m.\u001b[0m\u001b[0mget_loc\u001b[0m\u001b[1;33m(\u001b[0m\u001b[0mcasted_key\u001b[0m\u001b[1;33m)\u001b[0m\u001b[1;33m\u001b[0m\u001b[1;33m\u001b[0m\u001b[0m\n\u001b[0;32m   3653\u001b[0m         \u001b[1;32mexcept\u001b[0m \u001b[0mKeyError\u001b[0m \u001b[1;32mas\u001b[0m \u001b[0merr\u001b[0m\u001b[1;33m:\u001b[0m\u001b[1;33m\u001b[0m\u001b[1;33m\u001b[0m\u001b[0m\n\u001b[1;32m-> 3654\u001b[1;33m             \u001b[1;32mraise\u001b[0m \u001b[0mKeyError\u001b[0m\u001b[1;33m(\u001b[0m\u001b[0mkey\u001b[0m\u001b[1;33m)\u001b[0m \u001b[1;32mfrom\u001b[0m \u001b[0merr\u001b[0m\u001b[1;33m\u001b[0m\u001b[1;33m\u001b[0m\u001b[0m\n\u001b[0m\u001b[0;32m   3655\u001b[0m         \u001b[1;32mexcept\u001b[0m \u001b[0mTypeError\u001b[0m\u001b[1;33m:\u001b[0m\u001b[1;33m\u001b[0m\u001b[1;33m\u001b[0m\u001b[0m\n\u001b[0;32m   3656\u001b[0m             \u001b[1;31m# If we have a listlike key, _check_indexing_error will raise\u001b[0m\u001b[1;33m\u001b[0m\u001b[1;33m\u001b[0m\u001b[0m\n",
      "\u001b[1;31mKeyError\u001b[0m: 0"
     ]
    }
   ],
   "source": [
    "df[0]"
   ]
  },
  {
   "cell_type": "code",
   "execution_count": 59,
   "id": "5df6a523",
   "metadata": {},
   "outputs": [
    {
     "data": {
      "text/plain": [
       "array(['PLATINUM', 'Unranked', 'GOLD', 'DIAMOND', 'SILVER', 'BRONZE',\n",
       "       'GRANDMASTER', 'CHALLENGER'], dtype=object)"
      ]
     },
     "execution_count": 59,
     "metadata": {},
     "output_type": "execute_result"
    }
   ],
   "source": [
    "df2['TIER'].unique()"
   ]
  },
  {
   "cell_type": "code",
   "execution_count": 82,
   "id": "48ce22e0",
   "metadata": {},
   "outputs": [
    {
     "data": {
      "text/plain": [
       "('GAME_ID',\n",
       " 'CHAMP_ID',\n",
       " 'SUMMONER',\n",
       " 'KDA',\n",
       " 'WIN',\n",
       " 'wardsPlaced',\n",
       " 'controlWardsPlaced',\n",
       " 'wardsKilled',\n",
       " 'totalMinionsKilled',\n",
       " 'GAME_DURATION')"
      ]
     },
     "execution_count": 82,
     "metadata": {},
     "output_type": "execute_result"
    }
   ],
   "source": [
    "'GAME_ID','CHAMP_ID','SUMMONER','KDA','WIN','wardsPlaced','controlWardsPlaced','wardsKilled','totalMinionsKilled','GAME_DURATION'"
   ]
  },
  {
   "cell_type": "code",
   "execution_count": 84,
   "id": "7c59eb0e",
   "metadata": {},
   "outputs": [
    {
     "data": {
      "text/plain": [
       "Index(['CHAMP_ID', 'KDA', 'WIN', 'wardsPlaced', 'controlWardsPlaced',\n",
       "       'wardsKilled', 'totalMinionsKilled', 'GAME_DURATION'],\n",
       "      dtype='object')"
      ]
     },
     "execution_count": 84,
     "metadata": {},
     "output_type": "execute_result"
    }
   ],
   "source": [
    "df2.keys()"
   ]
  },
  {
   "cell_type": "code",
   "execution_count": 85,
   "id": "f5cb63d2",
   "metadata": {},
   "outputs": [
    {
     "ename": "SyntaxError",
     "evalue": "unexpected EOF while parsing (4260379766.py, line 1)",
     "output_type": "error",
     "traceback": [
      "\u001b[1;36m  File \u001b[1;32m\"C:\\Users\\user\\AppData\\Local\\Temp\\ipykernel_9168\\4260379766.py\"\u001b[1;36m, line \u001b[1;32m1\u001b[0m\n\u001b[1;33m    tier_input = df2[df2['CHAMP_ID','KDA','WIN','wardsPlaced','controlWardsPlaced','wardsKilled','totalMinionsKilled','GAME_DURATION'].to_numpy()\u001b[0m\n\u001b[1;37m                                                                                                                                                 ^\u001b[0m\n\u001b[1;31mSyntaxError\u001b[0m\u001b[1;31m:\u001b[0m unexpected EOF while parsing\n"
     ]
    }
   ],
   "source": [
    "tier_input = df2[['CHAMP_ID','KDA','WIN','wardsPlaced','controlWardsPlaced','wardsKilled','totalMinionsKilled','GAME_DURATION'].to_numpy()"
   ]
  },
  {
   "cell_type": "code",
   "execution_count": 71,
   "id": "f8142441",
   "metadata": {},
   "outputs": [],
   "source": [
    "tier_target = df2['SUMMONER_TIER'].to_numpy()"
   ]
  },
  {
   "cell_type": "code",
   "execution_count": 72,
   "id": "8ebfbdd0",
   "metadata": {},
   "outputs": [],
   "source": [
    "train_input, test_input, train_target, test_target = train_test_split(tier_input, tier_target, random_state=42)"
   ]
  },
  {
   "cell_type": "code",
   "execution_count": 73,
   "id": "6253fcbf",
   "metadata": {},
   "outputs": [],
   "source": [
    "ss = StandardScaler()\n",
    "ss.fit(train_input)\n",
    "train_scaled = ss.transform(train_input)\n",
    "test_scaled = ss.transform(test_input)"
   ]
  },
  {
   "cell_type": "code",
   "execution_count": 74,
   "id": "3525e224",
   "metadata": {},
   "outputs": [
    {
     "name": "stdout",
     "output_type": "stream",
     "text": [
      "0.6111070110701107\n",
      "0.36337806423045227\n"
     ]
    }
   ],
   "source": [
    "kn = KNeighborsClassifier(n_neighbors=3)\n",
    "kn.fit(train_scaled, train_target)\n",
    "\n",
    "print(kn.score(train_scaled, train_target))\n",
    "print(kn.score(test_scaled, test_target))"
   ]
  },
  {
   "cell_type": "code",
   "execution_count": 40,
   "id": "91584033",
   "metadata": {},
   "outputs": [],
   "source": [
    "X_train, X_test, y_train, y_test = train_test_split(tier_input, tier_target, random_state=42)"
   ]
  },
  {
   "cell_type": "code",
   "execution_count": 54,
   "id": "129fb5d7",
   "metadata": {},
   "outputs": [
    {
     "ename": "ValueError",
     "evalue": "setting an array element with a sequence.",
     "output_type": "error",
     "traceback": [
      "\u001b[1;31m---------------------------------------------------------------------------\u001b[0m",
      "\u001b[1;31mTypeError\u001b[0m                                 Traceback (most recent call last)",
      "\u001b[1;32m~\\anaconda3\\lib\\site-packages\\pandas\\core\\series.py\u001b[0m in \u001b[0;36mwrapper\u001b[1;34m(self)\u001b[0m\n\u001b[0;32m    229\u001b[0m             \u001b[1;32mreturn\u001b[0m \u001b[0mconverter\u001b[0m\u001b[1;33m(\u001b[0m\u001b[0mself\u001b[0m\u001b[1;33m.\u001b[0m\u001b[0miloc\u001b[0m\u001b[1;33m[\u001b[0m\u001b[1;36m0\u001b[0m\u001b[1;33m]\u001b[0m\u001b[1;33m)\u001b[0m\u001b[1;33m\u001b[0m\u001b[1;33m\u001b[0m\u001b[0m\n\u001b[1;32m--> 230\u001b[1;33m         \u001b[1;32mraise\u001b[0m \u001b[0mTypeError\u001b[0m\u001b[1;33m(\u001b[0m\u001b[1;34mf\"cannot convert the series to {converter}\"\u001b[0m\u001b[1;33m)\u001b[0m\u001b[1;33m\u001b[0m\u001b[1;33m\u001b[0m\u001b[0m\n\u001b[0m\u001b[0;32m    231\u001b[0m \u001b[1;33m\u001b[0m\u001b[0m\n",
      "\u001b[1;31mTypeError\u001b[0m: cannot convert the series to <class 'float'>",
      "\nThe above exception was the direct cause of the following exception:\n",
      "\u001b[1;31mValueError\u001b[0m                                Traceback (most recent call last)",
      "\u001b[1;32m~\\AppData\\Local\\Temp\\ipykernel_9168\\1446674315.py\u001b[0m in \u001b[0;36m<module>\u001b[1;34m\u001b[0m\n\u001b[0;32m      4\u001b[0m \u001b[1;33m\u001b[0m\u001b[0m\n\u001b[0;32m      5\u001b[0m \u001b[0mlogreg\u001b[0m \u001b[1;33m=\u001b[0m \u001b[0mLogisticRegression\u001b[0m\u001b[1;33m(\u001b[0m\u001b[1;33m)\u001b[0m\u001b[1;33m\u001b[0m\u001b[1;33m\u001b[0m\u001b[0m\n\u001b[1;32m----> 6\u001b[1;33m \u001b[0mlogreg\u001b[0m\u001b[1;33m.\u001b[0m\u001b[0mfit\u001b[0m\u001b[1;33m(\u001b[0m\u001b[0mX_train\u001b[0m\u001b[1;33m,\u001b[0m \u001b[0my_train\u001b[0m\u001b[1;33m)\u001b[0m\u001b[1;33m\u001b[0m\u001b[1;33m\u001b[0m\u001b[0m\n\u001b[0m\u001b[0;32m      7\u001b[0m \u001b[0my_pred\u001b[0m \u001b[1;33m=\u001b[0m \u001b[0mlogreg\u001b[0m\u001b[1;33m.\u001b[0m\u001b[0mpredict\u001b[0m\u001b[1;33m(\u001b[0m\u001b[0mX_test\u001b[0m\u001b[1;33m)\u001b[0m\u001b[1;33m\u001b[0m\u001b[1;33m\u001b[0m\u001b[0m\n",
      "\u001b[1;32m~\\anaconda3\\lib\\site-packages\\sklearn\\linear_model\\_logistic.py\u001b[0m in \u001b[0;36mfit\u001b[1;34m(self, X, y, sample_weight)\u001b[0m\n\u001b[0;32m   1506\u001b[0m             \u001b[0m_dtype\u001b[0m \u001b[1;33m=\u001b[0m \u001b[1;33m[\u001b[0m\u001b[0mnp\u001b[0m\u001b[1;33m.\u001b[0m\u001b[0mfloat64\u001b[0m\u001b[1;33m,\u001b[0m \u001b[0mnp\u001b[0m\u001b[1;33m.\u001b[0m\u001b[0mfloat32\u001b[0m\u001b[1;33m]\u001b[0m\u001b[1;33m\u001b[0m\u001b[1;33m\u001b[0m\u001b[0m\n\u001b[0;32m   1507\u001b[0m \u001b[1;33m\u001b[0m\u001b[0m\n\u001b[1;32m-> 1508\u001b[1;33m         X, y = self._validate_data(\n\u001b[0m\u001b[0;32m   1509\u001b[0m             \u001b[0mX\u001b[0m\u001b[1;33m,\u001b[0m\u001b[1;33m\u001b[0m\u001b[1;33m\u001b[0m\u001b[0m\n\u001b[0;32m   1510\u001b[0m             \u001b[0my\u001b[0m\u001b[1;33m,\u001b[0m\u001b[1;33m\u001b[0m\u001b[1;33m\u001b[0m\u001b[0m\n",
      "\u001b[1;32m~\\anaconda3\\lib\\site-packages\\sklearn\\base.py\u001b[0m in \u001b[0;36m_validate_data\u001b[1;34m(self, X, y, reset, validate_separately, **check_params)\u001b[0m\n\u001b[0;32m    579\u001b[0m                 \u001b[0my\u001b[0m \u001b[1;33m=\u001b[0m \u001b[0mcheck_array\u001b[0m\u001b[1;33m(\u001b[0m\u001b[0my\u001b[0m\u001b[1;33m,\u001b[0m \u001b[1;33m**\u001b[0m\u001b[0mcheck_y_params\u001b[0m\u001b[1;33m)\u001b[0m\u001b[1;33m\u001b[0m\u001b[1;33m\u001b[0m\u001b[0m\n\u001b[0;32m    580\u001b[0m             \u001b[1;32melse\u001b[0m\u001b[1;33m:\u001b[0m\u001b[1;33m\u001b[0m\u001b[1;33m\u001b[0m\u001b[0m\n\u001b[1;32m--> 581\u001b[1;33m                 \u001b[0mX\u001b[0m\u001b[1;33m,\u001b[0m \u001b[0my\u001b[0m \u001b[1;33m=\u001b[0m \u001b[0mcheck_X_y\u001b[0m\u001b[1;33m(\u001b[0m\u001b[0mX\u001b[0m\u001b[1;33m,\u001b[0m \u001b[0my\u001b[0m\u001b[1;33m,\u001b[0m \u001b[1;33m**\u001b[0m\u001b[0mcheck_params\u001b[0m\u001b[1;33m)\u001b[0m\u001b[1;33m\u001b[0m\u001b[1;33m\u001b[0m\u001b[0m\n\u001b[0m\u001b[0;32m    582\u001b[0m             \u001b[0mout\u001b[0m \u001b[1;33m=\u001b[0m \u001b[0mX\u001b[0m\u001b[1;33m,\u001b[0m \u001b[0my\u001b[0m\u001b[1;33m\u001b[0m\u001b[1;33m\u001b[0m\u001b[0m\n\u001b[0;32m    583\u001b[0m \u001b[1;33m\u001b[0m\u001b[0m\n",
      "\u001b[1;32m~\\anaconda3\\lib\\site-packages\\sklearn\\utils\\validation.py\u001b[0m in \u001b[0;36mcheck_X_y\u001b[1;34m(X, y, accept_sparse, accept_large_sparse, dtype, order, copy, force_all_finite, ensure_2d, allow_nd, multi_output, ensure_min_samples, ensure_min_features, y_numeric, estimator)\u001b[0m\n\u001b[0;32m    962\u001b[0m         \u001b[1;32mraise\u001b[0m \u001b[0mValueError\u001b[0m\u001b[1;33m(\u001b[0m\u001b[1;34m\"y cannot be None\"\u001b[0m\u001b[1;33m)\u001b[0m\u001b[1;33m\u001b[0m\u001b[1;33m\u001b[0m\u001b[0m\n\u001b[0;32m    963\u001b[0m \u001b[1;33m\u001b[0m\u001b[0m\n\u001b[1;32m--> 964\u001b[1;33m     X = check_array(\n\u001b[0m\u001b[0;32m    965\u001b[0m         \u001b[0mX\u001b[0m\u001b[1;33m,\u001b[0m\u001b[1;33m\u001b[0m\u001b[1;33m\u001b[0m\u001b[0m\n\u001b[0;32m    966\u001b[0m         \u001b[0maccept_sparse\u001b[0m\u001b[1;33m=\u001b[0m\u001b[0maccept_sparse\u001b[0m\u001b[1;33m,\u001b[0m\u001b[1;33m\u001b[0m\u001b[1;33m\u001b[0m\u001b[0m\n",
      "\u001b[1;32m~\\anaconda3\\lib\\site-packages\\sklearn\\utils\\validation.py\u001b[0m in \u001b[0;36mcheck_array\u001b[1;34m(array, accept_sparse, accept_large_sparse, dtype, order, copy, force_all_finite, ensure_2d, allow_nd, ensure_min_samples, ensure_min_features, estimator)\u001b[0m\n\u001b[0;32m    744\u001b[0m                     \u001b[0marray\u001b[0m \u001b[1;33m=\u001b[0m \u001b[0marray\u001b[0m\u001b[1;33m.\u001b[0m\u001b[0mastype\u001b[0m\u001b[1;33m(\u001b[0m\u001b[0mdtype\u001b[0m\u001b[1;33m,\u001b[0m \u001b[0mcasting\u001b[0m\u001b[1;33m=\u001b[0m\u001b[1;34m\"unsafe\"\u001b[0m\u001b[1;33m,\u001b[0m \u001b[0mcopy\u001b[0m\u001b[1;33m=\u001b[0m\u001b[1;32mFalse\u001b[0m\u001b[1;33m)\u001b[0m\u001b[1;33m\u001b[0m\u001b[1;33m\u001b[0m\u001b[0m\n\u001b[0;32m    745\u001b[0m                 \u001b[1;32melse\u001b[0m\u001b[1;33m:\u001b[0m\u001b[1;33m\u001b[0m\u001b[1;33m\u001b[0m\u001b[0m\n\u001b[1;32m--> 746\u001b[1;33m                     \u001b[0marray\u001b[0m \u001b[1;33m=\u001b[0m \u001b[0mnp\u001b[0m\u001b[1;33m.\u001b[0m\u001b[0masarray\u001b[0m\u001b[1;33m(\u001b[0m\u001b[0marray\u001b[0m\u001b[1;33m,\u001b[0m \u001b[0morder\u001b[0m\u001b[1;33m=\u001b[0m\u001b[0morder\u001b[0m\u001b[1;33m,\u001b[0m \u001b[0mdtype\u001b[0m\u001b[1;33m=\u001b[0m\u001b[0mdtype\u001b[0m\u001b[1;33m)\u001b[0m\u001b[1;33m\u001b[0m\u001b[1;33m\u001b[0m\u001b[0m\n\u001b[0m\u001b[0;32m    747\u001b[0m             \u001b[1;32mexcept\u001b[0m \u001b[0mComplexWarning\u001b[0m \u001b[1;32mas\u001b[0m \u001b[0mcomplex_warning\u001b[0m\u001b[1;33m:\u001b[0m\u001b[1;33m\u001b[0m\u001b[1;33m\u001b[0m\u001b[0m\n\u001b[0;32m    748\u001b[0m                 raise ValueError(\n",
      "\u001b[1;31mValueError\u001b[0m: setting an array element with a sequence."
     ]
    }
   ],
   "source": [
    "test_arr=list(df2.iloc[0])\n",
    "test_input = np.asarray([test_arr])\n",
    "X_test = test_input.reshape(-1, len(test_arr))\n",
    "\n",
    "logreg = LogisticRegression()\n",
    "logreg.fit(X_train, y_train)\n",
    "y_pred = logreg.predict(X_test)"
   ]
  },
  {
   "cell_type": "code",
   "execution_count": 48,
   "id": "5c9c0f52",
   "metadata": {},
   "outputs": [
    {
     "ename": "AttributeError",
     "evalue": "'list' object has no attribute 'type'",
     "output_type": "error",
     "traceback": [
      "\u001b[1;31m---------------------------------------------------------------------------\u001b[0m",
      "\u001b[1;31mAttributeError\u001b[0m                            Traceback (most recent call last)",
      "\u001b[1;32m~\\AppData\\Local\\Temp\\ipykernel_9168\\223750295.py\u001b[0m in \u001b[0;36m<module>\u001b[1;34m\u001b[0m\n\u001b[1;32m----> 1\u001b[1;33m \u001b[0mtest_arr\u001b[0m\u001b[1;33m.\u001b[0m\u001b[0mtype\u001b[0m\u001b[1;33m(\u001b[0m\u001b[1;33m)\u001b[0m\u001b[1;33m\u001b[0m\u001b[1;33m\u001b[0m\u001b[0m\n\u001b[0m",
      "\u001b[1;31mAttributeError\u001b[0m: 'list' object has no attribute 'type'"
     ]
    }
   ],
   "source": [
    "test_arr.type()"
   ]
  },
  {
   "cell_type": "code",
   "execution_count": 91,
   "id": "f8a5c096",
   "metadata": {},
   "outputs": [
    {
     "data": {
      "text/plain": [
       "array(['PLATINUM'], dtype=object)"
      ]
     },
     "execution_count": 91,
     "metadata": {},
     "output_type": "execute_result"
    }
   ],
   "source": [
    "y_pred"
   ]
  },
  {
   "cell_type": "code",
   "execution_count": 80,
   "id": "d0367761",
   "metadata": {},
   "outputs": [],
   "source": [
    "df2 = df.drop(columns=['GAME_ID','SUMMONER','LANE','SUMMONER_TIER'])"
   ]
  },
  {
   "cell_type": "code",
   "execution_count": 29,
   "id": "46dcc992",
   "metadata": {},
   "outputs": [],
   "source": [
    "lst50 = list(df2.iloc[0])"
   ]
  },
  {
   "cell_type": "code",
   "execution_count": 34,
   "id": "18a34dcb",
   "metadata": {},
   "outputs": [
    {
     "data": {
      "text/plain": [
       "Index(['GAME_ID', 'CHAMP_ID', 'SUMMONER', 'KDA', 'WIN', 'LANE', 'wardsPlaced',\n",
       "       'controlWardsPlaced', 'wardsKilled', 'totalMinionsKilled',\n",
       "       'GAME_DURATION', 'SUMMONER_TIER'],\n",
       "      dtype='object')"
      ]
     },
     "execution_count": 34,
     "metadata": {},
     "output_type": "execute_result"
    }
   ],
   "source": [
    "df.keys()"
   ]
  },
  {
   "cell_type": "code",
   "execution_count": null,
   "id": "8cefc6d3",
   "metadata": {},
   "outputs": [],
   "source": []
  }
 ],
 "metadata": {
  "kernelspec": {
   "display_name": "Python 3 (ipykernel)",
   "language": "python",
   "name": "python3"
  },
  "language_info": {
   "codemirror_mode": {
    "name": "ipython",
    "version": 3
   },
   "file_extension": ".py",
   "mimetype": "text/x-python",
   "name": "python",
   "nbconvert_exporter": "python",
   "pygments_lexer": "ipython3",
   "version": "3.9.13"
  }
 },
 "nbformat": 4,
 "nbformat_minor": 5
}
