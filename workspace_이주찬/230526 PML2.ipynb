{
 "cells": [
  {
   "cell_type": "code",
   "execution_count": 1,
   "id": "2e846589",
   "metadata": {},
   "outputs": [],
   "source": [
    "import p_utils as pu\n",
    "import pandas as pd\n",
    "import json\n",
    "from tqdm import tqdm \n",
    "import my_utils as mu\n",
    "import numpy as np\n",
    "import matplotlib.pylab as plt\n",
    "import pandas as pd\n",
    "import requests\n",
    "from PIL import Image\n",
    "from io import BytesIO \n",
    "import cv2\n",
    "from sklearn.neighbors import KNeighborsClassifier\n",
    "from sklearn.linear_model import LogisticRegression #로지스틱스 함수(모델생성)\n",
    "from sklearn.preprocessing import StandardScaler #정규화\n",
    "from sklearn.model_selection import train_test_split #학습세트/평가세트 분리\n",
    "import traceback\n",
    "import random"
   ]
  },
  {
   "cell_type": "code",
   "execution_count": 2,
   "id": "edbfbe97",
   "metadata": {
    "scrolled": false
   },
   "outputs": [],
   "source": [
    "def getData():\n",
    "    import p_utils as pu\n",
    "    import pandas as pd\n",
    "    import json\n",
    "    from tqdm import tqdm \n",
    "    \n",
    "    print(\"--1/6-- rawdata 불러오기 시작\")\n",
    "    query1 = 'select * from rawdata'\n",
    "    df1 = pu.oracle_totalExecute(query1)\n",
    "    \n",
    "    print(\"--2/6-- summoner 불러오기 시작\")\n",
    "    query2 = 'select * from summoner'\n",
    "    df2 = pu.oracle_totalExecute(query2)\n",
    "    \n",
    "    #아이디/티어 df 생성 \n",
    "    df3 = df2.drop(columns=['SUMMONER_ID',\n",
    "     'SUMMONER_PUUID',\n",
    "     'API_KEY',\n",
    "     'SUMMONER_LEVEL',\n",
    "     'SUMMONER_PROFILE',\n",
    "     'SUMMONER_WINS',\n",
    "     'SUMMONER_LOSSES',\n",
    "     'SUMMONER_VETERAN',\n",
    "     'SUMMONER_INACTIVE',\n",
    "     'SUMMONER_FRESHBLOOD',\n",
    "     'SUMMONER_HOTSTREAK'])\n",
    "    df3 = df3.rename(columns={'SUMMONER_NAME':'PARTICIPANT_NAME'})\n",
    "    \n",
    "    df_1 = []\n",
    "    df_k = list(df1.keys())\n",
    "    print(\"--3/6-- 데이터 변환 시작\")\n",
    "    for i in tqdm(range(len(df1))):\n",
    "        lst = []\n",
    "        for j in range(len(df_k)):\n",
    "            if j < 10 :\n",
    "                lst.append(df1[df_k[j]][i])\n",
    "            else :\n",
    "                data = df1[df_k[j]][i]\n",
    "                data = data.replace(\"'\", \"\\\"\")\n",
    "                json_data = json.loads(data)\n",
    "                lst.append(json_data)\n",
    "        df_1.append(lst)\n",
    "            \n",
    "    df_t = pd.DataFrame(df_1, columns = df_k)\n",
    "    \n",
    "    df_2 = pd.merge(df_t,df3)\n",
    "    \n",
    "\n",
    "    print(\"--4/6-- train 데이터로 변환\")\n",
    "    df_3 = []\n",
    "    for i in tqdm(range(len(df_2))):\n",
    "        lst=[]\n",
    "        \n",
    "        lst.append(df_2['GAME_ID'][i])\n",
    "        lst.append(df_2['PARTICIPANT_NAME'][i])\n",
    "        lst.append(df_2['PARTICIPANT_NUMBER'][i])\n",
    "        lst.append(df_2['CHAMPION'][i]['win'])\n",
    "        \n",
    "        wp = df_2['VISION'][i]['wardsPlaced']\n",
    "        cwp = df_2['VISION'][i]['controlWardsPlaced']\n",
    "        wk = df_2['VISION'][i]['wardsKilled']\n",
    "        vision = wp+cwp+wk \n",
    "        lst.append(vision)\n",
    "        \n",
    "        cs = df_2['CS'][i]['totalMinionsKilled']\n",
    "        time = round(df_2['GAME_DURATION'][i]/60)\n",
    "        cpm = cs/time\n",
    "        lst.append(cpm)\n",
    "        \n",
    "        lst.append(df_2['GAME_DURATION'][i])\n",
    "        \n",
    "        lst.append(df_2['KDA'][i]['kda'])\n",
    "        \n",
    "        lst.append(df_2['SUMMONER_TIER'][i])\n",
    "        \n",
    "        df_3.append(lst)\n",
    "        \n",
    "    df_4 = pd.DataFrame(df_3, columns = ['GAME_ID','PARTICIPANT_NAME','PARTICIPANT_NUMBER','WIN','VISION','CPM','GAME_DURATINO','KDA','SUMMONER_TIER'])\n",
    "    \n",
    "    # WIN int로 타입 변환\n",
    "    df_4 = df_4.astype({'WIN':int})\n",
    "    \n",
    "    # kda null값 제거 \n",
    "    df_4 = df_4.dropna(subset=['KDA'], how='any',axis=0)\n",
    "    \n",
    "    # unranked 티어 제거 \n",
    "    remove = df_4[df_4['SUMMONER_TIER']=='Unranked'].index\n",
    "    df_4 = df_4.drop(remove)\n",
    "    \n",
    "#     # 머신런닝-로지스틱스 회귀 \n",
    "#     print(\"--5/6-- 머신런닝-로지스틱스 회귀 시작 \")\n",
    "\n",
    "#     dft_k= list(df['SUMMONER_TIER'].unique())\n",
    "#     dft_k\n",
    "#     j=0\n",
    "#     for i in dft_k:\n",
    "#         if j==0:\n",
    "#             df_input = df_4[df_4['SUMMONER_TIER']==i][0:250].reset_index().drop(columns=['index'])\n",
    "#         else:\n",
    "#             df_con = df_4[df_4['SUMMONER_TIER']==i][0:250].reset_index().drop(columns=['index'])\n",
    "#             df_input = pd.concat([df_input,df_con])\n",
    "#         j+=1\n",
    "\n",
    "#     tier_input = df_4[['PARTICIPANT_NUMBER','WIN','VISION','CPM','GAME_DURATINO','KDA']].to_numpy()\n",
    "#     tier_target = df_4['SUMMONER_TIER'].to_numpy()\n",
    "#     train_input, test_input, train_target, test_target = train_test_split(tier_input, tier_target, random_state=42)\n",
    "    \n",
    "#     print(\"--5/6-- 머신런닝에 데이터 입력 \")\n",
    "#     X_train, X_test, y_train, y_test = train_test_split(tier_input, tier_target, random_state=42)\n",
    "#     dft_1=[]\n",
    "#     df_4['SCORE'] = 1 \n",
    "#     logreg = LogisticRegression()\n",
    "#     logreg.fit(X_train, y_train)\n",
    "#     for i in tqdm(range(5)):\n",
    "#         test_arr=list(df_4[['PARTICIPANT_NUMBER','WIN','VISION','CPM','GAME_DURATINO','KDA']].iloc[0])\n",
    "#         test_input = np.asarray([test_arr])\n",
    "#         X_test = test_input.reshape(-1, len(test_arr))\n",
    "#         y_pred = logreg.predict(X_test)\n",
    "        \n",
    "#         string = y_pred[0]\n",
    "#         df_4['SCORE'][i] = string\n",
    "\n",
    "#     df_4[:10]\n",
    "            \n",
    "    return df_4"
   ]
  },
  {
   "cell_type": "code",
   "execution_count": 3,
   "id": "909d07fb",
   "metadata": {},
   "outputs": [
    {
     "name": "stdout",
     "output_type": "stream",
     "text": [
      "--1/6-- rawdata 불러오기 시작\n",
      "oracle open!\n",
      "oracle close!\n",
      "--2/6-- summoner 불러오기 시작\n",
      "oracle open!\n",
      "oracle close!\n",
      "--3/6-- 데이터 변환 시작\n"
     ]
    },
    {
     "name": "stderr",
     "output_type": "stream",
     "text": [
      "100%|████████████████████████████████████████████████████████████████████████| 364900/364900 [02:38<00:00, 2298.30it/s]\n"
     ]
    },
    {
     "name": "stdout",
     "output_type": "stream",
     "text": [
      "--4/6-- train 데이터로 변환\n"
     ]
    },
    {
     "name": "stderr",
     "output_type": "stream",
     "text": [
      "100%|████████████████████████████████████████████████████████████████████████| 325201/325201 [01:08<00:00, 4770.69it/s]\n"
     ]
    }
   ],
   "source": [
    "df = getData()"
   ]
  },
  {
   "cell_type": "code",
   "execution_count": 4,
   "id": "df1f6dc2",
   "metadata": {},
   "outputs": [
    {
     "data": {
      "text/html": [
       "<div>\n",
       "<style scoped>\n",
       "    .dataframe tbody tr th:only-of-type {\n",
       "        vertical-align: middle;\n",
       "    }\n",
       "\n",
       "    .dataframe tbody tr th {\n",
       "        vertical-align: top;\n",
       "    }\n",
       "\n",
       "    .dataframe thead th {\n",
       "        text-align: right;\n",
       "    }\n",
       "</style>\n",
       "<table border=\"1\" class=\"dataframe\">\n",
       "  <thead>\n",
       "    <tr style=\"text-align: right;\">\n",
       "      <th></th>\n",
       "      <th>GAME_ID</th>\n",
       "      <th>PARTICIPANT_NAME</th>\n",
       "      <th>PARTICIPANT_NUMBER</th>\n",
       "      <th>WIN</th>\n",
       "      <th>VISION</th>\n",
       "      <th>CPM</th>\n",
       "      <th>GAME_DURATINO</th>\n",
       "      <th>KDA</th>\n",
       "      <th>SUMMONER_TIER</th>\n",
       "    </tr>\n",
       "  </thead>\n",
       "  <tbody>\n",
       "    <tr>\n",
       "      <th>0</th>\n",
       "      <td>KR_6437691335</td>\n",
       "      <td>나영주니</td>\n",
       "      <td>7</td>\n",
       "      <td>0</td>\n",
       "      <td>15</td>\n",
       "      <td>1.21875</td>\n",
       "      <td>1944</td>\n",
       "      <td>3.8</td>\n",
       "      <td>PLATINUM</td>\n",
       "    </tr>\n",
       "  </tbody>\n",
       "</table>\n",
       "</div>"
      ],
      "text/plain": [
       "         GAME_ID PARTICIPANT_NAME  PARTICIPANT_NUMBER  WIN  VISION      CPM   \n",
       "0  KR_6437691335             나영주니                   7    0      15  1.21875  \\\n",
       "\n",
       "   GAME_DURATINO  KDA SUMMONER_TIER  \n",
       "0           1944  3.8      PLATINUM  "
      ]
     },
     "execution_count": 4,
     "metadata": {},
     "output_type": "execute_result"
    }
   ],
   "source": [
    "df[:1]"
   ]
  },
  {
   "cell_type": "code",
   "execution_count": 5,
   "id": "73912a79",
   "metadata": {},
   "outputs": [],
   "source": [
    "dft_k= list(df['SUMMONER_TIER'].unique())\n",
    "j=0\n",
    "for i in dft_k:\n",
    "    if j==0:\n",
    "        df_input = df[df['SUMMONER_TIER']==i][0:250].reset_index().drop(columns=['index'])\n",
    "    else:\n",
    "        df_con = df[df['SUMMONER_TIER']==i][0:250].reset_index().drop(columns=['index'])\n",
    "        df_input = pd.concat([df_input,df_con])\n",
    "    j+=1"
   ]
  },
  {
   "cell_type": "code",
   "execution_count": 6,
   "id": "98a37873",
   "metadata": {},
   "outputs": [],
   "source": [
    "tier_input = df_input[['PARTICIPANT_NUMBER','WIN','VISION','CPM','GAME_DURATINO']].to_numpy()"
   ]
  },
  {
   "cell_type": "code",
   "execution_count": 7,
   "id": "b553f1ee",
   "metadata": {},
   "outputs": [],
   "source": [
    "tier_target = df_input['SUMMONER_TIER'].to_numpy()"
   ]
  },
  {
   "cell_type": "code",
   "execution_count": 8,
   "id": "d3100fb2",
   "metadata": {},
   "outputs": [],
   "source": [
    "train_input, test_input, train_target, test_target = train_test_split(tier_input, tier_target, random_state=42)"
   ]
  },
  {
   "cell_type": "code",
   "execution_count": 9,
   "id": "fc875a47",
   "metadata": {},
   "outputs": [],
   "source": [
    "ss = StandardScaler()\n",
    "ss.fit(train_input)\n",
    "train_scaled = ss.transform(train_input)\n",
    "test_scaled = ss.transform(test_input)"
   ]
  },
  {
   "cell_type": "code",
   "execution_count": 10,
   "id": "95ddc8af",
   "metadata": {
    "scrolled": false
   },
   "outputs": [
    {
     "name": "stdout",
     "output_type": "stream",
     "text": [
      "0.4889896373056995\n",
      "0.1883495145631068\n"
     ]
    }
   ],
   "source": [
    "kn = KNeighborsClassifier(n_neighbors=3)\n",
    "kn.fit(train_scaled, train_target)\n",
    "\n",
    "print(kn.score(train_scaled, train_target))\n",
    "print(kn.score(test_scaled, test_target))"
   ]
  },
  {
   "cell_type": "code",
   "execution_count": 53,
   "id": "7f9fd112",
   "metadata": {},
   "outputs": [],
   "source": [
    "X_train, X_test, y_train, y_test = train_test_split(tier_input, tier_target, random_state=42)"
   ]
  },
  {
   "cell_type": "code",
   "execution_count": null,
   "id": "2072f438",
   "metadata": {},
   "outputs": [],
   "source": []
  },
  {
   "cell_type": "code",
   "execution_count": 102,
   "id": "5dc50610",
   "metadata": {},
   "outputs": [],
   "source": [
    "import random"
   ]
  },
  {
   "cell_type": "code",
   "execution_count": 110,
   "id": "fef8edc3",
   "metadata": {},
   "outputs": [
    {
     "data": {
      "text/plain": [
       "0"
      ]
     },
     "execution_count": 110,
     "metadata": {},
     "output_type": "execute_result"
    }
   ],
   "source": [
    "test_df['PARTICIPANT_NUMBER'].isnull().sum()"
   ]
  },
  {
   "cell_type": "code",
   "execution_count": 113,
   "id": "319c75de",
   "metadata": {},
   "outputs": [
    {
     "data": {
      "text/plain": [
       "PARTICIPANT_NUMBER    10.000000\n",
       "WIN                    1.000000\n",
       "VC                    53.085714\n",
       "KDA                    9.500000\n",
       "Name: 36, dtype: float64"
      ]
     },
     "execution_count": 113,
     "metadata": {},
     "output_type": "execute_result"
    }
   ],
   "source": [
    "test_df.iloc[35]"
   ]
  },
  {
   "cell_type": "code",
   "execution_count": 119,
   "id": "67dba99c",
   "metadata": {},
   "outputs": [],
   "source": [
    "import traceback\n",
    "import random"
   ]
  },
  {
   "cell_type": "code",
   "execution_count": 144,
   "id": "9a7632e1",
   "metadata": {},
   "outputs": [
    {
     "data": {
      "text/plain": [
       "Index(['PARTICIPANT_NUMBER', 'WIN', 'VC', 'KDA'], dtype='object')"
      ]
     },
     "execution_count": 144,
     "metadata": {},
     "output_type": "execute_result"
    }
   ],
   "source": [
    "test_df.keys()"
   ]
  },
  {
   "cell_type": "code",
   "execution_count": 149,
   "id": "5f0197b3",
   "metadata": {},
   "outputs": [],
   "source": [
    "df2['SCORE'] = 'GOLD'"
   ]
  },
  {
   "cell_type": "code",
   "execution_count": 11,
   "id": "62f25dbd",
   "metadata": {
    "scrolled": true
   },
   "outputs": [
    {
     "name": "stderr",
     "output_type": "stream",
     "text": [
      "100%|█████████████████████████████████████████████████████████████████████████| 316130/316130 [51:22<00:00, 102.57it/s]\n"
     ]
    },
    {
     "ename": "NameError",
     "evalue": "name 'df_test' is not defined",
     "output_type": "error",
     "traceback": [
      "\u001b[1;31m---------------------------------------------------------------------------\u001b[0m",
      "\u001b[1;31mNameError\u001b[0m                                 Traceback (most recent call last)",
      "\u001b[1;32m~\\AppData\\Local\\Temp\\ipykernel_6480\\1931775454.py\u001b[0m in \u001b[0;36m<module>\u001b[1;34m\u001b[0m\n\u001b[0;32m     14\u001b[0m     \u001b[0mdf\u001b[0m\u001b[1;33m.\u001b[0m\u001b[0mat\u001b[0m\u001b[1;33m[\u001b[0m\u001b[0mi\u001b[0m\u001b[1;33m,\u001b[0m \u001b[1;34m'SCORE'\u001b[0m\u001b[1;33m]\u001b[0m \u001b[1;33m=\u001b[0m \u001b[0mstring\u001b[0m\u001b[1;33m\u001b[0m\u001b[1;33m\u001b[0m\u001b[0m\n\u001b[0;32m     15\u001b[0m \u001b[1;33m\u001b[0m\u001b[0m\n\u001b[1;32m---> 16\u001b[1;33m \u001b[0mdf_test\u001b[0m\u001b[1;33m[\u001b[0m\u001b[1;33m:\u001b[0m\u001b[1;36m10\u001b[0m\u001b[1;33m]\u001b[0m\u001b[1;33m\u001b[0m\u001b[1;33m\u001b[0m\u001b[0m\n\u001b[0m",
      "\u001b[1;31mNameError\u001b[0m: name 'df_test' is not defined"
     ]
    }
   ],
   "source": [
    "logreg = LogisticRegression()\n",
    "X_train = tier_input\n",
    "y_train = tier_target\n",
    "logreg.fit(X_train, y_train)\n",
    "\n",
    "df['SCORE'] = None\n",
    "for i in tqdm(range(len(df))):\n",
    "    test_arr=list(df[['PARTICIPANT_NUMBER','WIN','VISION','CPM','GAME_DURATINO']].iloc[i])\n",
    "    test_input = np.asarray([test_arr])\n",
    "    X_test = test_input.reshape(-1, len(test_arr))\n",
    "    y_pred = logreg.predict(X_test)\n",
    "    \n",
    "    string = y_pred[0]\n",
    "    df.at[i, 'SCORE'] = string\n",
    "    \n",
    "df_test[:10]"
   ]
  },
  {
   "cell_type": "code",
   "execution_count": 12,
   "id": "defe8c15",
   "metadata": {},
   "outputs": [
    {
     "data": {
      "text/html": [
       "<div>\n",
       "<style scoped>\n",
       "    .dataframe tbody tr th:only-of-type {\n",
       "        vertical-align: middle;\n",
       "    }\n",
       "\n",
       "    .dataframe tbody tr th {\n",
       "        vertical-align: top;\n",
       "    }\n",
       "\n",
       "    .dataframe thead th {\n",
       "        text-align: right;\n",
       "    }\n",
       "</style>\n",
       "<table border=\"1\" class=\"dataframe\">\n",
       "  <thead>\n",
       "    <tr style=\"text-align: right;\">\n",
       "      <th></th>\n",
       "      <th>GAME_ID</th>\n",
       "      <th>PARTICIPANT_NAME</th>\n",
       "      <th>PARTICIPANT_NUMBER</th>\n",
       "      <th>WIN</th>\n",
       "      <th>VISION</th>\n",
       "      <th>CPM</th>\n",
       "      <th>GAME_DURATINO</th>\n",
       "      <th>KDA</th>\n",
       "      <th>SUMMONER_TIER</th>\n",
       "      <th>SCORE</th>\n",
       "    </tr>\n",
       "  </thead>\n",
       "  <tbody>\n",
       "    <tr>\n",
       "      <th>0</th>\n",
       "      <td>KR_6437691335</td>\n",
       "      <td>나영주니</td>\n",
       "      <td>7.0</td>\n",
       "      <td>0.0</td>\n",
       "      <td>15.0</td>\n",
       "      <td>1.218750</td>\n",
       "      <td>1944.0</td>\n",
       "      <td>3.800000</td>\n",
       "      <td>PLATINUM</td>\n",
       "      <td>IRON</td>\n",
       "    </tr>\n",
       "    <tr>\n",
       "      <th>1</th>\n",
       "      <td>KR_6437691335</td>\n",
       "      <td>유콩순</td>\n",
       "      <td>8.0</td>\n",
       "      <td>0.0</td>\n",
       "      <td>7.0</td>\n",
       "      <td>6.781250</td>\n",
       "      <td>1944.0</td>\n",
       "      <td>1.500000</td>\n",
       "      <td>PLATINUM</td>\n",
       "      <td>IRON</td>\n",
       "    </tr>\n",
       "    <tr>\n",
       "      <th>2</th>\n",
       "      <td>KR_6376915251</td>\n",
       "      <td>유콩순</td>\n",
       "      <td>8.0</td>\n",
       "      <td>0.0</td>\n",
       "      <td>11.0</td>\n",
       "      <td>7.068966</td>\n",
       "      <td>1730.0</td>\n",
       "      <td>2.200000</td>\n",
       "      <td>PLATINUM</td>\n",
       "      <td>GRANDMASTER</td>\n",
       "    </tr>\n",
       "    <tr>\n",
       "      <th>3</th>\n",
       "      <td>KR_6437691335</td>\n",
       "      <td>pastell</td>\n",
       "      <td>9.0</td>\n",
       "      <td>0.0</td>\n",
       "      <td>13.0</td>\n",
       "      <td>7.093750</td>\n",
       "      <td>1944.0</td>\n",
       "      <td>1.833333</td>\n",
       "      <td>PLATINUM</td>\n",
       "      <td>PLATINUM</td>\n",
       "    </tr>\n",
       "    <tr>\n",
       "      <th>4</th>\n",
       "      <td>KR_6479378528</td>\n",
       "      <td>pastell</td>\n",
       "      <td>9.0</td>\n",
       "      <td>0.0</td>\n",
       "      <td>6.0</td>\n",
       "      <td>6.655172</td>\n",
       "      <td>1760.0</td>\n",
       "      <td>2.000000</td>\n",
       "      <td>PLATINUM</td>\n",
       "      <td>IRON</td>\n",
       "    </tr>\n",
       "    <tr>\n",
       "      <th>5</th>\n",
       "      <td>KR_6437691335</td>\n",
       "      <td>막죽어도되는계정</td>\n",
       "      <td>10.0</td>\n",
       "      <td>0.0</td>\n",
       "      <td>40.0</td>\n",
       "      <td>2.625000</td>\n",
       "      <td>1944.0</td>\n",
       "      <td>2.200000</td>\n",
       "      <td>PLATINUM</td>\n",
       "      <td>MASTER</td>\n",
       "    </tr>\n",
       "    <tr>\n",
       "      <th>6</th>\n",
       "      <td>KR_6488080797</td>\n",
       "      <td>막죽어도되는계정</td>\n",
       "      <td>5.0</td>\n",
       "      <td>0.0</td>\n",
       "      <td>24.0</td>\n",
       "      <td>3.291667</td>\n",
       "      <td>1466.0</td>\n",
       "      <td>2.000000</td>\n",
       "      <td>PLATINUM</td>\n",
       "      <td>GOLD</td>\n",
       "    </tr>\n",
       "    <tr>\n",
       "      <th>7</th>\n",
       "      <td>KR_6437691335</td>\n",
       "      <td>똥싸는마린</td>\n",
       "      <td>3.0</td>\n",
       "      <td>1.0</td>\n",
       "      <td>18.0</td>\n",
       "      <td>6.843750</td>\n",
       "      <td>1944.0</td>\n",
       "      <td>1.666667</td>\n",
       "      <td>PLATINUM</td>\n",
       "      <td>PLATINUM</td>\n",
       "    </tr>\n",
       "    <tr>\n",
       "      <th>8</th>\n",
       "      <td>KR_6437691335</td>\n",
       "      <td>strip show</td>\n",
       "      <td>4.0</td>\n",
       "      <td>1.0</td>\n",
       "      <td>11.0</td>\n",
       "      <td>7.093750</td>\n",
       "      <td>1944.0</td>\n",
       "      <td>2.000000</td>\n",
       "      <td>PLATINUM</td>\n",
       "      <td>PLATINUM</td>\n",
       "    </tr>\n",
       "    <tr>\n",
       "      <th>9</th>\n",
       "      <td>KR_6437691335</td>\n",
       "      <td>쿨감폿</td>\n",
       "      <td>5.0</td>\n",
       "      <td>1.0</td>\n",
       "      <td>23.0</td>\n",
       "      <td>1.218750</td>\n",
       "      <td>1944.0</td>\n",
       "      <td>3.400000</td>\n",
       "      <td>PLATINUM</td>\n",
       "      <td>BRONZE</td>\n",
       "    </tr>\n",
       "  </tbody>\n",
       "</table>\n",
       "</div>"
      ],
      "text/plain": [
       "         GAME_ID PARTICIPANT_NAME  PARTICIPANT_NUMBER  WIN  VISION       CPM   \n",
       "0  KR_6437691335             나영주니                 7.0  0.0    15.0  1.218750  \\\n",
       "1  KR_6437691335              유콩순                 8.0  0.0     7.0  6.781250   \n",
       "2  KR_6376915251              유콩순                 8.0  0.0    11.0  7.068966   \n",
       "3  KR_6437691335          pastell                 9.0  0.0    13.0  7.093750   \n",
       "4  KR_6479378528          pastell                 9.0  0.0     6.0  6.655172   \n",
       "5  KR_6437691335         막죽어도되는계정                10.0  0.0    40.0  2.625000   \n",
       "6  KR_6488080797         막죽어도되는계정                 5.0  0.0    24.0  3.291667   \n",
       "7  KR_6437691335            똥싸는마린                 3.0  1.0    18.0  6.843750   \n",
       "8  KR_6437691335       strip show                 4.0  1.0    11.0  7.093750   \n",
       "9  KR_6437691335              쿨감폿                 5.0  1.0    23.0  1.218750   \n",
       "\n",
       "   GAME_DURATINO       KDA SUMMONER_TIER        SCORE  \n",
       "0         1944.0  3.800000      PLATINUM         IRON  \n",
       "1         1944.0  1.500000      PLATINUM         IRON  \n",
       "2         1730.0  2.200000      PLATINUM  GRANDMASTER  \n",
       "3         1944.0  1.833333      PLATINUM     PLATINUM  \n",
       "4         1760.0  2.000000      PLATINUM         IRON  \n",
       "5         1944.0  2.200000      PLATINUM       MASTER  \n",
       "6         1466.0  2.000000      PLATINUM         GOLD  \n",
       "7         1944.0  1.666667      PLATINUM     PLATINUM  \n",
       "8         1944.0  2.000000      PLATINUM     PLATINUM  \n",
       "9         1944.0  3.400000      PLATINUM       BRONZE  "
      ]
     },
     "execution_count": 12,
     "metadata": {},
     "output_type": "execute_result"
    }
   ],
   "source": [
    "df[:10]"
   ]
  },
  {
   "cell_type": "code",
   "execution_count": 13,
   "id": "6303d902",
   "metadata": {},
   "outputs": [],
   "source": [
    "df.to_csv('mlResult.csv')"
   ]
  },
  {
   "cell_type": "code",
   "execution_count": 138,
   "id": "fda7132b",
   "metadata": {
    "scrolled": true
   },
   "outputs": [],
   "source": [
    "df_test = df_test.drop(columns=['SCORE'])"
   ]
  },
  {
   "cell_type": "code",
   "execution_count": 148,
   "id": "de5927a2",
   "metadata": {},
   "outputs": [
    {
     "data": {
      "text/plain": [
       "array(['SILVER'], dtype=object)"
      ]
     },
     "execution_count": 148,
     "metadata": {},
     "output_type": "execute_result"
    }
   ],
   "source": [
    "df_test['SCORE'].unique()"
   ]
  },
  {
   "cell_type": "code",
   "execution_count": 28,
   "id": "17165a2d",
   "metadata": {},
   "outputs": [
    {
     "data": {
      "text/plain": [
       "'PLATINUM'"
      ]
     },
     "execution_count": 28,
     "metadata": {},
     "output_type": "execute_result"
    }
   ],
   "source": [
    "df['SCORE'].iloc[0][0]"
   ]
  },
  {
   "cell_type": "code",
   "execution_count": 128,
   "id": "8a473d7a",
   "metadata": {
    "scrolled": false
   },
   "outputs": [
    {
     "data": {
      "text/plain": [
       "PARTICIPANT_NUMBER     2.000000\n",
       "WIN                    1.000000\n",
       "VC                    32.868421\n",
       "KDA                   10.800000\n",
       "Name: 325188, dtype: float64"
      ]
     },
     "execution_count": 128,
     "metadata": {},
     "output_type": "execute_result"
    }
   ],
   "source": [
    "test_df.iloc[295670]"
   ]
  },
  {
   "cell_type": "code",
   "execution_count": 146,
   "id": "7b7bfa8f",
   "metadata": {},
   "outputs": [
    {
     "data": {
      "text/plain": [
       "PARTICIPANT_NUMBER     7.00000\n",
       "WIN                    0.00000\n",
       "VC                    16.21875\n",
       "KDA                    7.80000\n",
       "Name: 0, dtype: float64"
      ]
     },
     "execution_count": 146,
     "metadata": {},
     "output_type": "execute_result"
    }
   ],
   "source": [
    "df2[['PARTICIPANT_NUMBER','WIN','VC','KDA']].iloc[0]"
   ]
  },
  {
   "cell_type": "code",
   "execution_count": 99,
   "id": "33d0e245",
   "metadata": {},
   "outputs": [],
   "source": [
    "test_arr=list(df2[['PARTICIPANT_NUMBER','WIN','VC','KDA']].iloc[0])\n",
    "test_input = np.asarray([test_arr])\n",
    "X_test = test_input.reshape(-1, len(test_arr))\n",
    "\n",
    "logreg = LogisticRegression()\n",
    "logreg.fit(X_train, y_train)\n",
    "y_pred = logreg.predict(X_test)"
   ]
  },
  {
   "cell_type": "code",
   "execution_count": 100,
   "id": "5a834caa",
   "metadata": {},
   "outputs": [
    {
     "data": {
      "text/plain": [
       "array(['GOLD'], dtype=object)"
      ]
     },
     "execution_count": 100,
     "metadata": {},
     "output_type": "execute_result"
    }
   ],
   "source": [
    "y_pred"
   ]
  },
  {
   "cell_type": "code",
   "execution_count": 149,
   "id": "b3794686",
   "metadata": {},
   "outputs": [
    {
     "data": {
      "text/html": [
       "<div>\n",
       "<style scoped>\n",
       "    .dataframe tbody tr th:only-of-type {\n",
       "        vertical-align: middle;\n",
       "    }\n",
       "\n",
       "    .dataframe tbody tr th {\n",
       "        vertical-align: top;\n",
       "    }\n",
       "\n",
       "    .dataframe thead th {\n",
       "        text-align: right;\n",
       "    }\n",
       "</style>\n",
       "<table border=\"1\" class=\"dataframe\">\n",
       "  <thead>\n",
       "    <tr style=\"text-align: right;\">\n",
       "      <th></th>\n",
       "      <th>GAME_ID</th>\n",
       "      <th>PARTICIPANT_NAME</th>\n",
       "      <th>PARTICIPANT_NUMBER</th>\n",
       "      <th>WIN</th>\n",
       "      <th>VISION</th>\n",
       "      <th>CPM</th>\n",
       "      <th>GAME_DURATINO</th>\n",
       "      <th>KDA</th>\n",
       "      <th>SUMMONER_TIER</th>\n",
       "    </tr>\n",
       "  </thead>\n",
       "  <tbody>\n",
       "    <tr>\n",
       "      <th>0</th>\n",
       "      <td>KR_6437691335</td>\n",
       "      <td>나영주니</td>\n",
       "      <td>7</td>\n",
       "      <td>0</td>\n",
       "      <td>15</td>\n",
       "      <td>1.21875</td>\n",
       "      <td>32</td>\n",
       "      <td>3.8</td>\n",
       "      <td>PLATINUM</td>\n",
       "    </tr>\n",
       "  </tbody>\n",
       "</table>\n",
       "</div>"
      ],
      "text/plain": [
       "         GAME_ID PARTICIPANT_NAME  PARTICIPANT_NUMBER  WIN  VISION      CPM   \n",
       "0  KR_6437691335             나영주니                   7    0      15  1.21875  \\\n",
       "\n",
       "   GAME_DURATINO  KDA SUMMONER_TIER  \n",
       "0             32  3.8      PLATINUM  "
      ]
     },
     "execution_count": 149,
     "metadata": {},
     "output_type": "execute_result"
    }
   ],
   "source": [
    "df_test = df.drop(columns = ['SCORE'])\n",
    "df_test[:1]"
   ]
  },
  {
   "cell_type": "code",
   "execution_count": 66,
   "id": "a8046f99",
   "metadata": {},
   "outputs": [
    {
     "data": {
      "text/plain": [
       "['PLATINUM',\n",
       " 'GOLD',\n",
       " 'DIAMOND',\n",
       " 'SILVER',\n",
       " 'MASTER',\n",
       " 'BRONZE',\n",
       " 'IRON',\n",
       " 'GRANDMASTER',\n",
       " 'CHALLENGER']"
      ]
     },
     "execution_count": 66,
     "metadata": {},
     "output_type": "execute_result"
    }
   ],
   "source": [
    "dft_k= list(df_test['SUMMONER_TIER'].unique())\n",
    "dft_k"
   ]
  },
  {
   "cell_type": "code",
   "execution_count": 71,
   "id": "416c0de7",
   "metadata": {},
   "outputs": [],
   "source": [
    "a = df_test[df_test['SUMMONER_TIER']=='PLATINUM'][0:500].reset_index().drop(columns=['index']) "
   ]
  },
  {
   "cell_type": "code",
   "execution_count": 101,
   "id": "d5c67e0a",
   "metadata": {},
   "outputs": [],
   "source": [
    "b = df_test[df_test['SUMMONER_TIER']=='GOLD'][0:500].reset_index().drop(columns=['index']) "
   ]
  },
  {
   "cell_type": "code",
   "execution_count": 102,
   "id": "fcfdefa9",
   "metadata": {
    "scrolled": true
   },
   "outputs": [
    {
     "data": {
      "text/html": [
       "<div>\n",
       "<style scoped>\n",
       "    .dataframe tbody tr th:only-of-type {\n",
       "        vertical-align: middle;\n",
       "    }\n",
       "\n",
       "    .dataframe tbody tr th {\n",
       "        vertical-align: top;\n",
       "    }\n",
       "\n",
       "    .dataframe thead th {\n",
       "        text-align: right;\n",
       "    }\n",
       "</style>\n",
       "<table border=\"1\" class=\"dataframe\">\n",
       "  <thead>\n",
       "    <tr style=\"text-align: right;\">\n",
       "      <th></th>\n",
       "      <th>GAME_ID</th>\n",
       "      <th>PARTICIPANT_NAME</th>\n",
       "      <th>PARTICIPANT_NUMBER</th>\n",
       "      <th>WIN</th>\n",
       "      <th>VISION</th>\n",
       "      <th>CPM</th>\n",
       "      <th>GAME_DURATINO</th>\n",
       "      <th>KDA</th>\n",
       "      <th>SUMMONER_TIER</th>\n",
       "    </tr>\n",
       "  </thead>\n",
       "  <tbody>\n",
       "    <tr>\n",
       "      <th>0</th>\n",
       "      <td>KR_6437691335</td>\n",
       "      <td>나영주니</td>\n",
       "      <td>7</td>\n",
       "      <td>0</td>\n",
       "      <td>15</td>\n",
       "      <td>1.218750</td>\n",
       "      <td>32</td>\n",
       "      <td>3.800000</td>\n",
       "      <td>PLATINUM</td>\n",
       "    </tr>\n",
       "    <tr>\n",
       "      <th>1</th>\n",
       "      <td>KR_6437691335</td>\n",
       "      <td>유콩순</td>\n",
       "      <td>8</td>\n",
       "      <td>0</td>\n",
       "      <td>7</td>\n",
       "      <td>6.781250</td>\n",
       "      <td>32</td>\n",
       "      <td>1.500000</td>\n",
       "      <td>PLATINUM</td>\n",
       "    </tr>\n",
       "    <tr>\n",
       "      <th>2</th>\n",
       "      <td>KR_6376915251</td>\n",
       "      <td>유콩순</td>\n",
       "      <td>8</td>\n",
       "      <td>0</td>\n",
       "      <td>11</td>\n",
       "      <td>7.068966</td>\n",
       "      <td>29</td>\n",
       "      <td>2.200000</td>\n",
       "      <td>PLATINUM</td>\n",
       "    </tr>\n",
       "    <tr>\n",
       "      <th>3</th>\n",
       "      <td>KR_6437691335</td>\n",
       "      <td>pastell</td>\n",
       "      <td>9</td>\n",
       "      <td>0</td>\n",
       "      <td>13</td>\n",
       "      <td>7.093750</td>\n",
       "      <td>32</td>\n",
       "      <td>1.833333</td>\n",
       "      <td>PLATINUM</td>\n",
       "    </tr>\n",
       "    <tr>\n",
       "      <th>4</th>\n",
       "      <td>KR_6479378528</td>\n",
       "      <td>pastell</td>\n",
       "      <td>9</td>\n",
       "      <td>0</td>\n",
       "      <td>6</td>\n",
       "      <td>6.655172</td>\n",
       "      <td>29</td>\n",
       "      <td>2.000000</td>\n",
       "      <td>PLATINUM</td>\n",
       "    </tr>\n",
       "    <tr>\n",
       "      <th>...</th>\n",
       "      <td>...</td>\n",
       "      <td>...</td>\n",
       "      <td>...</td>\n",
       "      <td>...</td>\n",
       "      <td>...</td>\n",
       "      <td>...</td>\n",
       "      <td>...</td>\n",
       "      <td>...</td>\n",
       "      <td>...</td>\n",
       "    </tr>\n",
       "    <tr>\n",
       "      <th>495</th>\n",
       "      <td>KR_6462999384</td>\n",
       "      <td>1561651651561</td>\n",
       "      <td>3</td>\n",
       "      <td>0</td>\n",
       "      <td>9</td>\n",
       "      <td>6.700000</td>\n",
       "      <td>30</td>\n",
       "      <td>1.571429</td>\n",
       "      <td>GOLD</td>\n",
       "    </tr>\n",
       "    <tr>\n",
       "      <th>496</th>\n",
       "      <td>KR_6419594608</td>\n",
       "      <td>지민이는 공주야</td>\n",
       "      <td>3</td>\n",
       "      <td>0</td>\n",
       "      <td>6</td>\n",
       "      <td>5.750000</td>\n",
       "      <td>16</td>\n",
       "      <td>0.200000</td>\n",
       "      <td>GOLD</td>\n",
       "    </tr>\n",
       "    <tr>\n",
       "      <th>497</th>\n",
       "      <td>KR_6463319461</td>\n",
       "      <td>죽기시작</td>\n",
       "      <td>4</td>\n",
       "      <td>1</td>\n",
       "      <td>7</td>\n",
       "      <td>6.750000</td>\n",
       "      <td>16</td>\n",
       "      <td>8.000000</td>\n",
       "      <td>GOLD</td>\n",
       "    </tr>\n",
       "    <tr>\n",
       "      <th>498</th>\n",
       "      <td>KR_6476350238</td>\n",
       "      <td>죽기시작</td>\n",
       "      <td>10</td>\n",
       "      <td>0</td>\n",
       "      <td>39</td>\n",
       "      <td>0.222222</td>\n",
       "      <td>27</td>\n",
       "      <td>1.555556</td>\n",
       "      <td>GOLD</td>\n",
       "    </tr>\n",
       "    <tr>\n",
       "      <th>499</th>\n",
       "      <td>KR_6463363052</td>\n",
       "      <td>냠냠꿀꺼억</td>\n",
       "      <td>3</td>\n",
       "      <td>1</td>\n",
       "      <td>7</td>\n",
       "      <td>8.000000</td>\n",
       "      <td>25</td>\n",
       "      <td>2.200000</td>\n",
       "      <td>GOLD</td>\n",
       "    </tr>\n",
       "  </tbody>\n",
       "</table>\n",
       "<p>1000 rows × 9 columns</p>\n",
       "</div>"
      ],
      "text/plain": [
       "           GAME_ID PARTICIPANT_NAME  PARTICIPANT_NUMBER  WIN  VISION   \n",
       "0    KR_6437691335             나영주니                   7    0      15  \\\n",
       "1    KR_6437691335              유콩순                   8    0       7   \n",
       "2    KR_6376915251              유콩순                   8    0      11   \n",
       "3    KR_6437691335          pastell                   9    0      13   \n",
       "4    KR_6479378528          pastell                   9    0       6   \n",
       "..             ...              ...                 ...  ...     ...   \n",
       "495  KR_6462999384    1561651651561                   3    0       9   \n",
       "496  KR_6419594608         지민이는 공주야                   3    0       6   \n",
       "497  KR_6463319461             죽기시작                   4    1       7   \n",
       "498  KR_6476350238             죽기시작                  10    0      39   \n",
       "499  KR_6463363052            냠냠꿀꺼억                   3    1       7   \n",
       "\n",
       "          CPM  GAME_DURATINO       KDA SUMMONER_TIER  \n",
       "0    1.218750             32  3.800000      PLATINUM  \n",
       "1    6.781250             32  1.500000      PLATINUM  \n",
       "2    7.068966             29  2.200000      PLATINUM  \n",
       "3    7.093750             32  1.833333      PLATINUM  \n",
       "4    6.655172             29  2.000000      PLATINUM  \n",
       "..        ...            ...       ...           ...  \n",
       "495  6.700000             30  1.571429          GOLD  \n",
       "496  5.750000             16  0.200000          GOLD  \n",
       "497  6.750000             16  8.000000          GOLD  \n",
       "498  0.222222             27  1.555556          GOLD  \n",
       "499  8.000000             25  2.200000          GOLD  \n",
       "\n",
       "[1000 rows x 9 columns]"
      ]
     },
     "execution_count": 102,
     "metadata": {},
     "output_type": "execute_result"
    }
   ],
   "source": [
    "result = pd.concat([a,b])\n",
    "result"
   ]
  },
  {
   "cell_type": "code",
   "execution_count": 75,
   "id": "8a8a3cc0",
   "metadata": {},
   "outputs": [
    {
     "data": {
      "text/plain": [
       "4500"
      ]
     },
     "execution_count": 75,
     "metadata": {},
     "output_type": "execute_result"
    }
   ],
   "source": [
    "len(dft_k) *500"
   ]
  },
  {
   "cell_type": "code",
   "execution_count": null,
   "id": "0959c302",
   "metadata": {},
   "outputs": [],
   "source": []
  },
  {
   "cell_type": "code",
   "execution_count": 114,
   "id": "cc8e9bbe",
   "metadata": {},
   "outputs": [],
   "source": [
    "dft_k= list(df_test['SUMMONER_TIER'].unique())\n",
    "dft_k\n",
    "j=0\n",
    "for i in dft_k:\n",
    "    if j==0:\n",
    "        df_input = df_test[df_test['SUMMONER_TIER']==i][0:250].reset_index().drop(columns=['index'])\n",
    "    else:\n",
    "        df_con = df_test[df_test['SUMMONER_TIER']==i][0:250].reset_index().drop(columns=['index'])\n",
    "        df_input = pd.concat([df_input,df_con])\n",
    "    j+=1"
   ]
  },
  {
   "cell_type": "code",
   "execution_count": 115,
   "id": "4c31ebfc",
   "metadata": {},
   "outputs": [
    {
     "data": {
      "text/html": [
       "<div>\n",
       "<style scoped>\n",
       "    .dataframe tbody tr th:only-of-type {\n",
       "        vertical-align: middle;\n",
       "    }\n",
       "\n",
       "    .dataframe tbody tr th {\n",
       "        vertical-align: top;\n",
       "    }\n",
       "\n",
       "    .dataframe thead th {\n",
       "        text-align: right;\n",
       "    }\n",
       "</style>\n",
       "<table border=\"1\" class=\"dataframe\">\n",
       "  <thead>\n",
       "    <tr style=\"text-align: right;\">\n",
       "      <th></th>\n",
       "      <th>GAME_ID</th>\n",
       "      <th>PARTICIPANT_NAME</th>\n",
       "      <th>PARTICIPANT_NUMBER</th>\n",
       "      <th>WIN</th>\n",
       "      <th>VISION</th>\n",
       "      <th>CPM</th>\n",
       "      <th>GAME_DURATINO</th>\n",
       "      <th>KDA</th>\n",
       "      <th>SUMMONER_TIER</th>\n",
       "    </tr>\n",
       "  </thead>\n",
       "  <tbody>\n",
       "    <tr>\n",
       "      <th>0</th>\n",
       "      <td>KR_6437691335</td>\n",
       "      <td>나영주니</td>\n",
       "      <td>7</td>\n",
       "      <td>0</td>\n",
       "      <td>15</td>\n",
       "      <td>1.218750</td>\n",
       "      <td>32</td>\n",
       "      <td>3.800000</td>\n",
       "      <td>PLATINUM</td>\n",
       "    </tr>\n",
       "    <tr>\n",
       "      <th>1</th>\n",
       "      <td>KR_6437691335</td>\n",
       "      <td>유콩순</td>\n",
       "      <td>8</td>\n",
       "      <td>0</td>\n",
       "      <td>7</td>\n",
       "      <td>6.781250</td>\n",
       "      <td>32</td>\n",
       "      <td>1.500000</td>\n",
       "      <td>PLATINUM</td>\n",
       "    </tr>\n",
       "    <tr>\n",
       "      <th>2</th>\n",
       "      <td>KR_6376915251</td>\n",
       "      <td>유콩순</td>\n",
       "      <td>8</td>\n",
       "      <td>0</td>\n",
       "      <td>11</td>\n",
       "      <td>7.068966</td>\n",
       "      <td>29</td>\n",
       "      <td>2.200000</td>\n",
       "      <td>PLATINUM</td>\n",
       "    </tr>\n",
       "    <tr>\n",
       "      <th>3</th>\n",
       "      <td>KR_6437691335</td>\n",
       "      <td>pastell</td>\n",
       "      <td>9</td>\n",
       "      <td>0</td>\n",
       "      <td>13</td>\n",
       "      <td>7.093750</td>\n",
       "      <td>32</td>\n",
       "      <td>1.833333</td>\n",
       "      <td>PLATINUM</td>\n",
       "    </tr>\n",
       "    <tr>\n",
       "      <th>4</th>\n",
       "      <td>KR_6479378528</td>\n",
       "      <td>pastell</td>\n",
       "      <td>9</td>\n",
       "      <td>0</td>\n",
       "      <td>6</td>\n",
       "      <td>6.655172</td>\n",
       "      <td>29</td>\n",
       "      <td>2.000000</td>\n",
       "      <td>PLATINUM</td>\n",
       "    </tr>\n",
       "    <tr>\n",
       "      <th>...</th>\n",
       "      <td>...</td>\n",
       "      <td>...</td>\n",
       "      <td>...</td>\n",
       "      <td>...</td>\n",
       "      <td>...</td>\n",
       "      <td>...</td>\n",
       "      <td>...</td>\n",
       "      <td>...</td>\n",
       "      <td>...</td>\n",
       "    </tr>\n",
       "    <tr>\n",
       "      <th>54</th>\n",
       "      <td>KR_6420041586</td>\n",
       "      <td>카시는작고소중해</td>\n",
       "      <td>1</td>\n",
       "      <td>1</td>\n",
       "      <td>19</td>\n",
       "      <td>7.375000</td>\n",
       "      <td>24</td>\n",
       "      <td>5.000000</td>\n",
       "      <td>CHALLENGER</td>\n",
       "    </tr>\n",
       "    <tr>\n",
       "      <th>55</th>\n",
       "      <td>KR_6450088131</td>\n",
       "      <td>쿨탱이</td>\n",
       "      <td>9</td>\n",
       "      <td>1</td>\n",
       "      <td>8</td>\n",
       "      <td>8.062500</td>\n",
       "      <td>16</td>\n",
       "      <td>18.000000</td>\n",
       "      <td>CHALLENGER</td>\n",
       "    </tr>\n",
       "    <tr>\n",
       "      <th>56</th>\n",
       "      <td>KR_6408132887</td>\n",
       "      <td>At1anta</td>\n",
       "      <td>4</td>\n",
       "      <td>1</td>\n",
       "      <td>16</td>\n",
       "      <td>7.818182</td>\n",
       "      <td>22</td>\n",
       "      <td>12.000000</td>\n",
       "      <td>CHALLENGER</td>\n",
       "    </tr>\n",
       "    <tr>\n",
       "      <th>57</th>\n",
       "      <td>KR_6408814074</td>\n",
       "      <td>헤어지기 싫어</td>\n",
       "      <td>3</td>\n",
       "      <td>1</td>\n",
       "      <td>24</td>\n",
       "      <td>5.000000</td>\n",
       "      <td>29</td>\n",
       "      <td>8.000000</td>\n",
       "      <td>CHALLENGER</td>\n",
       "    </tr>\n",
       "    <tr>\n",
       "      <th>58</th>\n",
       "      <td>KR_6408763247</td>\n",
       "      <td>뇌 녹 사</td>\n",
       "      <td>6</td>\n",
       "      <td>0</td>\n",
       "      <td>7</td>\n",
       "      <td>5.695652</td>\n",
       "      <td>23</td>\n",
       "      <td>0.300000</td>\n",
       "      <td>CHALLENGER</td>\n",
       "    </tr>\n",
       "  </tbody>\n",
       "</table>\n",
       "<p>2059 rows × 9 columns</p>\n",
       "</div>"
      ],
      "text/plain": [
       "          GAME_ID PARTICIPANT_NAME  PARTICIPANT_NUMBER  WIN  VISION       CPM   \n",
       "0   KR_6437691335             나영주니                   7    0      15  1.218750  \\\n",
       "1   KR_6437691335              유콩순                   8    0       7  6.781250   \n",
       "2   KR_6376915251              유콩순                   8    0      11  7.068966   \n",
       "3   KR_6437691335          pastell                   9    0      13  7.093750   \n",
       "4   KR_6479378528          pastell                   9    0       6  6.655172   \n",
       "..            ...              ...                 ...  ...     ...       ...   \n",
       "54  KR_6420041586         카시는작고소중해                   1    1      19  7.375000   \n",
       "55  KR_6450088131              쿨탱이                   9    1       8  8.062500   \n",
       "56  KR_6408132887          At1anta                   4    1      16  7.818182   \n",
       "57  KR_6408814074          헤어지기 싫어                   3    1      24  5.000000   \n",
       "58  KR_6408763247            뇌 녹 사                   6    0       7  5.695652   \n",
       "\n",
       "    GAME_DURATINO        KDA SUMMONER_TIER  \n",
       "0              32   3.800000      PLATINUM  \n",
       "1              32   1.500000      PLATINUM  \n",
       "2              29   2.200000      PLATINUM  \n",
       "3              32   1.833333      PLATINUM  \n",
       "4              29   2.000000      PLATINUM  \n",
       "..            ...        ...           ...  \n",
       "54             24   5.000000    CHALLENGER  \n",
       "55             16  18.000000    CHALLENGER  \n",
       "56             22  12.000000    CHALLENGER  \n",
       "57             29   8.000000    CHALLENGER  \n",
       "58             23   0.300000    CHALLENGER  \n",
       "\n",
       "[2059 rows x 9 columns]"
      ]
     },
     "execution_count": 115,
     "metadata": {},
     "output_type": "execute_result"
    }
   ],
   "source": [
    "df_input"
   ]
  },
  {
   "cell_type": "code",
   "execution_count": 84,
   "id": "c1cbc5c7",
   "metadata": {},
   "outputs": [
    {
     "data": {
      "text/plain": [
       "59"
      ]
     },
     "execution_count": 84,
     "metadata": {},
     "output_type": "execute_result"
    }
   ],
   "source": [
    "len(df_input)"
   ]
  },
  {
   "cell_type": "code",
   "execution_count": null,
   "id": "7a915244",
   "metadata": {},
   "outputs": [],
   "source": []
  }
 ],
 "metadata": {
  "kernelspec": {
   "display_name": "Python 3 (ipykernel)",
   "language": "python",
   "name": "python3"
  },
  "language_info": {
   "codemirror_mode": {
    "name": "ipython",
    "version": 3
   },
   "file_extension": ".py",
   "mimetype": "text/x-python",
   "name": "python",
   "nbconvert_exporter": "python",
   "pygments_lexer": "ipython3",
   "version": "3.9.13"
  }
 },
 "nbformat": 4,
 "nbformat_minor": 5
}
